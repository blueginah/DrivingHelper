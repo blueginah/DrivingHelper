{
  "nbformat": 4,
  "nbformat_minor": 5,
  "metadata": {
    "kernelspec": {
      "display_name": "Python 3",
      "language": "python",
      "name": "python3"
    },
    "language_info": {
      "codemirror_mode": {
        "name": "ipython",
        "version": 3
      },
      "file_extension": ".py",
      "mimetype": "text/x-python",
      "name": "python",
      "nbconvert_exporter": "python",
      "pygments_lexer": "ipython3",
      "version": "3.8.10"
    },
    "colab": {
      "name": "lstm_exp.ipynb",
      "provenance": [],
      "collapsed_sections": []
    },
    "accelerator": "GPU"
  },
  "cells": [
    {
      "cell_type": "code",
      "metadata": {
        "colab": {
          "base_uri": "https://localhost:8080/"
        },
        "id": "UM_pooVKlWY5",
        "outputId": "3604b6ca-94fc-446e-dce9-9d843602cae6"
      },
      "source": [
        "from google.colab import drive \n",
        "drive.mount('/content/gdrive')"
      ],
      "id": "UM_pooVKlWY5",
      "execution_count": 1,
      "outputs": [
        {
          "output_type": "stream",
          "text": [
            "Mounted at /content/gdrive\n"
          ],
          "name": "stdout"
        }
      ]
    },
    {
      "cell_type": "code",
      "metadata": {
        "colab": {
          "base_uri": "https://localhost:8080/"
        },
        "id": "1B9QQqxDljoY",
        "outputId": "d58f4b8d-f060-492c-8404-e8758813d0ef"
      },
      "source": [
        "cd gdrive/MyDrive/AI/experiment/DrivingHelper/"
      ],
      "id": "1B9QQqxDljoY",
      "execution_count": 2,
      "outputs": [
        {
          "output_type": "stream",
          "text": [
            "/content/gdrive/MyDrive/AI/experiment/DrivingHelper\n"
          ],
          "name": "stdout"
        }
      ]
    },
    {
      "cell_type": "code",
      "metadata": {
        "id": "93d24e5e"
      },
      "source": [
        "import pandas as pd\n",
        "import numpy as np\n",
        "%matplotlib inline\n",
        "import matplotlib.pyplot as plt\n",
        "from os import listdir\n",
        "\n",
        "import tensorflow as tf\n",
        "\n",
        "from keras.preprocessing import sequence\n",
        "from keras.models import Sequential\n",
        "from keras.layers import Dense\n",
        "from keras.layers import LSTM\n",
        "from keras.layers import Dropout\n",
        "\n",
        "from keras.optimizers import Adam\n",
        "from keras.models import load_model\n",
        "from keras.callbacks import ModelCheckpoint"
      ],
      "id": "93d24e5e",
      "execution_count": 3,
      "outputs": []
    },
    {
      "cell_type": "code",
      "metadata": {
        "id": "bZlF3u6tBrzv"
      },
      "source": [
        "#### NORMALIZING DATA\n",
        "\n",
        "from sklearn import preprocessing\n",
        "\n",
        "beginner_path = 'beginner_expert_processedData/beginner/beginner_'\n",
        "expert_path = 'beginner_expert_processedData/expert/expert_'\n",
        "left_column = [\n",
        "#'Time',\n",
        "    'Distance','GPS Latitude','GPS Longitude','Damper Velocity (Calc) FL','Damper Velocity (Calc) FR','Damper Velocity (Calc) RL',\n",
        "'Damper Velocity (Calc) RR','Corr Dist','Corr Dist (Unstretched)','Corr Speed','Brake Pos',\n",
        "'CG Accel Lateral','CG Accel Longitudinal','CG Accel Vertical','CG Height','Camber FL','Camber FR','Camber RL','Camber RR','Car Coord X',\n",
        "'Car Coord Y','Car Coord Z','Car Pos Norm','Chassis Pitch Angle','Chassis Pitch Rate','Chassis Roll Angle','Chassis Roll Rate',\n",
        "'Chassis Velocity X','Chassis Velocity Y','Chassis Velocity Z','Chassis Yaw Rate','Drive Train Speed','Engine RPM','Ground Speed',\n",
        "'Ride Height FL','Ride Height FR','Ride Height RL','Ride Height RR','Road Temp','Self Align Torque FL','Self Align Torque FR',\n",
        "'Self Align Torque RL','Self Align Torque RR','Session Time Left','Steering Angle','Suspension Travel FL','Suspension Travel FR',\n",
        "'Suspension Travel RL','Suspension Travel RR','Tire Load FL','Tire Load FR','Tire Load RL','Tire Load RR','Tire Loaded Radius FL',\n",
        "'Tire Loaded Radius FR','Tire Loaded Radius RL','Tire Loaded Radius RR','Tire Pressure FL','Tire Pressure FR','Tire Pressure RL','Tire Pressure RR',\n",
        "'Tire Rubber Grip FL','Tire Rubber Grip FR','Tire Rubber Grip RL','Tire Rubber Grip RR','Tire Slip Angle FL','Tire Slip Angle FR',\n",
        "'Tire Slip Angle RL','Tire Slip Angle RR','Tire Slip Ratio FL','Tire Slip Ratio FR','Tire Slip Ratio RL','Tire Slip Ratio RR',\n",
        "'Tire Temp Core FL','Tire Temp Core FR','Tire Temp Core RL','Tire Temp Core RR','Tire Temp Inner FL','Tire Temp Inner FR',\n",
        "'Tire Temp Inner RL','Tire Temp Inner RR','Tire Temp Middle FL','Tire Temp Middle FR','Tire Temp Middle RL',\n",
        "'Tire Temp Middle RR','Tire Temp Outer FL','Tire Temp Outer FR','Tire Temp Outer RL','Tire Temp Outer RR','Toe In FL',\n",
        "'Toe In FR','Toe In RL','Toe In RR','Wheel Angular Speed FL','Wheel Angular Speed FR','Wheel Angular Speed RL','Wheel Angular Speed RR',\n",
        "'CG Distance','Lateral Velocity','Longitudinal Velocity','Lateral Acceleration','Longitudinal Acceleration']\n",
        "\n",
        "curveList = [[103.9, 209.3], [316.6, 399.6], [425.3, 517.9], [590.5, 756.9], [1048.7, 1110.5], [1212.3, 1437.1]]\n",
        "curve_num = 0\n",
        "sequences = list()\n",
        "final_df = pd.DataFrame()\n",
        "scaler = preprocessing.StandardScaler()\n",
        "\n",
        "for i in range(1,36):\n",
        "    file_path = beginner_path + str(i) + '_new2.csv'\n",
        "    #print(file_path)\n",
        "    df = pd.read_csv(file_path, header=0)\n",
        "    df = df.dropna()\n",
        "    df = df.astype(float)\n",
        "    for j in range(0, 6):\n",
        "      tmp_df = df[(df['Distance'] >= curveList[j][0]) & (df['Distance'] <= curveList[j][1])]\n",
        "      #print(tmp_df)\n",
        "      tmp_df = tmp_df.loc[:,left_column]\n",
        "      tmp_df['curve_num'] = j\n",
        "      final_df = final_df.append(tmp_df, ignore_index=True)\n",
        "    values = tmp_df.values\n",
        "    #val_scaled = scaler.fit_transform(values)\n",
        "    sequences.append(values)\n",
        "\n",
        "\n",
        "    \n",
        "for i in range(1,20):\n",
        "    file_path = expert_path + str(i) + '_new2.csv'\n",
        "    #print(file_path)\n",
        "    df = pd.read_csv(file_path, header=0)\n",
        "    df = df.dropna()\n",
        "    df = df.astype(float)\n",
        "    for j in range(0, 6):\n",
        "      tmp_df = df[(df['Distance'] >= curveList[j][0]) & (df['Distance'] <= curveList[j][1])]\n",
        "      tmp_df = tmp_df.loc[:,left_column]\n",
        "      tmp_df['curve_num'] = j\n",
        "      final_df = final_df.append(tmp_df, ignore_index=True)\n",
        "    values = tmp_df.values\n",
        "    #val_scaled = scaler.fit_transform(values)\n",
        "    sequences.append(values)\n",
        "    "
      ],
      "id": "bZlF3u6tBrzv",
      "execution_count": 40,
      "outputs": []
    },
    {
      "cell_type": "code",
      "metadata": {
        "id": "v837Lm4Zypbd"
      },
      "source": [
        "#### modified!!!\n",
        "\n",
        "beginner_path = 'beginner_expert_processedData/beginner/beginner_'\n",
        "expert_path = 'beginner_expert_processedData/expert/expert_'\n",
        "left_column = [\n",
        "#'Time',\n",
        "    'Distance','GPS Latitude','GPS Longitude','Damper Velocity (Calc) FL','Damper Velocity (Calc) FR','Damper Velocity (Calc) RL',\n",
        "'Damper Velocity (Calc) RR','Corr Dist','Corr Dist (Unstretched)','Corr Speed','Brake Pos',\n",
        "'CG Accel Lateral','CG Accel Longitudinal','CG Accel Vertical','CG Height','Camber FL','Camber FR','Camber RL','Camber RR','Car Coord X',\n",
        "'Car Coord Y','Car Coord Z','Car Pos Norm','Chassis Pitch Angle','Chassis Pitch Rate','Chassis Roll Angle','Chassis Roll Rate',\n",
        "'Chassis Velocity X','Chassis Velocity Y','Chassis Velocity Z','Chassis Yaw Rate','Drive Train Speed','Engine RPM','Ground Speed',\n",
        "'Ride Height FL','Ride Height FR','Ride Height RL','Ride Height RR','Road Temp','Self Align Torque FL','Self Align Torque FR',\n",
        "'Self Align Torque RL','Self Align Torque RR','Session Time Left','Steering Angle','Suspension Travel FL','Suspension Travel FR',\n",
        "'Suspension Travel RL','Suspension Travel RR','Tire Load FL','Tire Load FR','Tire Load RL','Tire Load RR','Tire Loaded Radius FL',\n",
        "'Tire Loaded Radius FR','Tire Loaded Radius RL','Tire Loaded Radius RR','Tire Pressure FL','Tire Pressure FR','Tire Pressure RL','Tire Pressure RR',\n",
        "'Tire Rubber Grip FL','Tire Rubber Grip FR','Tire Rubber Grip RL','Tire Rubber Grip RR','Tire Slip Angle FL','Tire Slip Angle FR',\n",
        "'Tire Slip Angle RL','Tire Slip Angle RR','Tire Slip Ratio FL','Tire Slip Ratio FR','Tire Slip Ratio RL','Tire Slip Ratio RR',\n",
        "'Tire Temp Core FL','Tire Temp Core FR','Tire Temp Core RL','Tire Temp Core RR','Tire Temp Inner FL','Tire Temp Inner FR',\n",
        "'Tire Temp Inner RL','Tire Temp Inner RR','Tire Temp Middle FL','Tire Temp Middle FR','Tire Temp Middle RL',\n",
        "'Tire Temp Middle RR','Tire Temp Outer FL','Tire Temp Outer FR','Tire Temp Outer RL','Tire Temp Outer RR','Toe In FL',\n",
        "'Toe In FR','Toe In RL','Toe In RR','Wheel Angular Speed FL','Wheel Angular Speed FR','Wheel Angular Speed RL','Wheel Angular Speed RR',\n",
        "'CG Distance','Lateral Velocity','Longitudinal Velocity','Lateral Acceleration','Longitudinal Acceleration']\n",
        "\n",
        "curveList = [[103.9, 209.3], [316.6, 399.6], [425.3, 517.9], [590.5, 756.9], [1048.7, 1110.5], [1212.3, 1437.1]]\n",
        "curve_num = 0\n",
        "sequences = list()\n",
        "final_df = pd.DataFrame()\n",
        "for i in range(1,36):\n",
        "    file_path = beginner_path + str(i) + '_new2.csv'\n",
        "    #print(file_path)\n",
        "    df = pd.read_csv(file_path, header=0)\n",
        "    df = df.dropna()\n",
        "    df = df.astype(float)\n",
        "    for j in range(0, 6):\n",
        "      tmp_df = df[(df['Distance'] >= curveList[j][0]) & (df['Distance'] <= curveList[j][1])]\n",
        "      #print(tmp_df)\n",
        "      tmp_df = tmp_df.loc[:,left_column]\n",
        "      tmp_df['curve_num'] = j\n",
        "      final_df = final_df.append(tmp_df, ignore_index=True)\n",
        "    values = tmp_df.values\n",
        "    sequences.append(values)\n",
        "\n",
        "    \n",
        "for i in range(1,20):\n",
        "    file_path = expert_path + str(i) + '_new2.csv'\n",
        "    #print(file_path)\n",
        "    df = pd.read_csv(file_path, header=0)\n",
        "    df = df.dropna()\n",
        "    df = df.astype(float)\n",
        "    for j in range(0, 6):\n",
        "      tmp_df = df[(df['Distance'] >= curveList[j][0]) & (df['Distance'] <= curveList[j][1])]\n",
        "      tmp_df = tmp_df.loc[:,left_column]\n",
        "      tmp_df['curve_num'] = j\n",
        "      final_df = final_df.append(tmp_df, ignore_index=True)\n",
        "    values = tmp_df.values\n",
        "    sequences.append(values)\n",
        "    "
      ],
      "id": "v837Lm4Zypbd",
      "execution_count": 9,
      "outputs": []
    },
    {
      "cell_type": "code",
      "metadata": {
        "colab": {
          "base_uri": "https://localhost:8080/"
        },
        "id": "Ysc2zAQA0z9r",
        "outputId": "fdd18af1-df4c-41d2-f5ab-1e72990b6eae"
      },
      "source": [
        "print(len(sequences))"
      ],
      "id": "Ysc2zAQA0z9r",
      "execution_count": 41,
      "outputs": [
        {
          "output_type": "stream",
          "text": [
            "54\n"
          ],
          "name": "stdout"
        }
      ]
    },
    {
      "cell_type": "code",
      "metadata": {
        "colab": {
          "base_uri": "https://localhost:8080/"
        },
        "id": "dfdb91bb",
        "outputId": "42904f00-fcf0-425c-b256-9de855e520d7"
      },
      "source": [
        "print(len(sequences))\n",
        "print(sequences[1].shape)"
      ],
      "id": "dfdb91bb",
      "execution_count": 42,
      "outputs": [
        {
          "output_type": "stream",
          "text": [
            "54\n",
            "(148, 103)\n"
          ],
          "name": "stdout"
        }
      ]
    },
    {
      "cell_type": "code",
      "metadata": {
        "id": "8a955ce4"
      },
      "source": [
        "targets = pd.read_csv('target.csv')\n",
        "targets = targets.values[:,1]"
      ],
      "id": "8a955ce4",
      "execution_count": 43,
      "outputs": []
    },
    {
      "cell_type": "code",
      "metadata": {
        "colab": {
          "base_uri": "https://localhost:8080/"
        },
        "id": "BIPgBmWov2SE",
        "outputId": "207e1379-3730-45a5-9f10-1977a6e67888"
      },
      "source": [
        "targets"
      ],
      "id": "BIPgBmWov2SE",
      "execution_count": 17,
      "outputs": [
        {
          "output_type": "execute_result",
          "data": {
            "text/plain": [
              "array([0, 0, 0, 0, 0, 0, 0, 0, 0, 0, 0, 0, 0, 0, 0, 0, 0, 0, 0, 0, 0, 0,\n",
              "       0, 0, 0, 0, 0, 0, 0, 0, 0, 0, 0, 0, 1, 1, 1, 1, 1, 1, 1, 1, 1, 1,\n",
              "       1, 1, 1, 1, 1, 1, 1, 1, 1, 1])"
            ]
          },
          "metadata": {
            "tags": []
          },
          "execution_count": 17
        }
      ]
    },
    {
      "cell_type": "code",
      "metadata": {
        "colab": {
          "base_uri": "https://localhost:8080/"
        },
        "id": "UruTI97bv4BR",
        "outputId": "6da15f1f-bdb3-448f-814b-f9a8d746cd8d"
      },
      "source": [
        "groups"
      ],
      "id": "UruTI97bv4BR",
      "execution_count": 20,
      "outputs": [
        {
          "output_type": "execute_result",
          "data": {
            "text/plain": [
              "array([1, 1, 1, 1, 1, 1, 1, 1, 1, 1, 1, 1, 1, 1, 1, 1, 1, 1, 1, 1, 1, 1,\n",
              "       2, 2, 2, 2, 2, 2, 3, 3, 3, 3, 3, 3, 1, 1, 1, 1, 1, 1, 1, 1, 1, 1,\n",
              "       1, 1, 2, 2, 2, 2, 3, 3, 3, 3])"
            ]
          },
          "metadata": {
            "tags": []
          },
          "execution_count": 20
        }
      ]
    },
    {
      "cell_type": "code",
      "metadata": {
        "colab": {
          "base_uri": "https://localhost:8080/"
        },
        "id": "6eee5c8b",
        "outputId": "b5e52945-1280-4b28-e945-1365355500fd"
      },
      "source": [
        "len_sequences = []\n",
        "for one_seq in sequences:\n",
        "    len_sequences.append(len(one_seq))\n",
        "    \n",
        "print(len_sequences)\n",
        "pd.Series(len_sequences).describe()"
      ],
      "id": "6eee5c8b",
      "execution_count": 44,
      "outputs": [
        {
          "output_type": "stream",
          "text": [
            "[125, 148, 151, 146, 129, 147, 145, 131, 145, 146, 154, 150, 194, 156, 183, 136, 142, 121, 494, 139, 141, 130, 148, 149, 133, 141, 138, 157, 115, 119, 171, 147, 184, 167, 237, 123, 132, 124, 125, 117, 126, 129, 119, 126, 122, 133, 126, 128, 125, 138, 117, 127, 133, 131]\n"
          ],
          "name": "stdout"
        },
        {
          "output_type": "execute_result",
          "data": {
            "text/plain": [
              "count     54.000000\n",
              "mean     147.407407\n",
              "std       52.783116\n",
              "min      115.000000\n",
              "25%      126.000000\n",
              "50%      137.000000\n",
              "75%      148.000000\n",
              "max      494.000000\n",
              "dtype: float64"
            ]
          },
          "metadata": {
            "tags": []
          },
          "execution_count": 44
        }
      ]
    },
    {
      "cell_type": "code",
      "metadata": {
        "id": "8eb17bd2"
      },
      "source": [
        "#Padding the sequence with the values in last row to max length\n",
        "to_pad = 494\n",
        "new_seq = []\n",
        "for one_seq in sequences:\n",
        "    len_one_seq = len(one_seq)\n",
        "    last_val = one_seq[-1]\n",
        "    n = to_pad - len_one_seq\n",
        "   \n",
        "    to_concat = np.repeat(one_seq[-1], n).reshape(103, n).transpose()\n",
        "    new_one_seq = np.concatenate([one_seq, to_concat])\n",
        "    new_seq.append(new_one_seq)\n",
        "final_seq = np.stack(new_seq)\n",
        "\n",
        "#truncate the sequence to length 60\n",
        "from keras.preprocessing import sequence\n",
        "seq_len = 115\n",
        "final_seq=sequence.pad_sequences(final_seq, maxlen=seq_len, padding='post', dtype='float', truncating='post')"
      ],
      "id": "8eb17bd2",
      "execution_count": 45,
      "outputs": []
    },
    {
      "cell_type": "code",
      "metadata": {
        "id": "3b2c57e7"
      },
      "source": [
        "groups = pd.read_csv('group.csv', header=0)\n",
        "groups = groups.values[:,1]"
      ],
      "id": "3b2c57e7",
      "execution_count": 46,
      "outputs": []
    },
    {
      "cell_type": "code",
      "metadata": {
        "colab": {
          "base_uri": "https://localhost:8080/"
        },
        "id": "48f10629",
        "outputId": "0aa737fc-a653-49d9-99df-652b0707a213"
      },
      "source": [
        "train = [final_seq[i] for i in range(len(groups)) if (groups[i]==1)]\n",
        "validation = [final_seq[i] for i in range(len(groups)) if groups[i]==2]\n",
        "test = [final_seq[i] for i in range(len(groups)) if groups[i]==3]\n",
        "\n",
        "train_target = [targets[i] for i in range(len(groups)) if (groups[i]==1)]\n",
        "validation_target = [targets[i] for i in range(len(groups)) if groups[i]==2]\n",
        "test_target = [targets[i] for i in range(len(groups)) if groups[i]==3]\n",
        "\n",
        "train"
      ],
      "id": "48f10629",
      "execution_count": 47,
      "outputs": [
        {
          "output_type": "execute_result",
          "data": {
            "text/plain": [
              "[array([[1212.7       ,   44.05425462,  -78.68331907, ...,  -10.80305127,\n",
              "          -14.40406911,    5.        ],\n",
              "        [1214.7       ,   44.05426388,  -78.68333499, ...,   -7.20203456,\n",
              "          -21.6061031 ,    5.        ],\n",
              "        [1216.6       ,   44.05427305,  -78.68335045, ...,  -32.40915408,\n",
              "          -61.2172906 ,    5.        ],\n",
              "        ...,\n",
              "        [1412.        ,   44.05574569,  -78.68386963, ...,  -10.80305127,\n",
              "           25.20712009,    5.        ],\n",
              "        [1414.        ,   44.0557635 ,  -78.68386559, ...,  -18.00508525,\n",
              "           28.80813766,    5.        ],\n",
              "        [1416.        ,   44.05578014,  -78.68386163, ...,   25.20711981,\n",
              "           43.21220563,    5.        ]]),\n",
              " array([[ 1.21380000e+03,  4.40544472e+01, -7.86836110e+01, ...,\n",
              "          1.08030513e+01, -3.60101716e+01,  5.00000000e+00],\n",
              "        [ 1.21530000e+03,  4.40544553e+01, -7.86836224e+01, ...,\n",
              "         -7.20203427e+00, -6.12172906e+01,  5.00000000e+00],\n",
              "        [ 1.21680000e+03,  4.40544636e+01, -7.86836334e+01, ...,\n",
              "         -1.44040685e+01, -6.48183076e+01,  5.00000000e+00],\n",
              "        ...,\n",
              "        [ 1.38770000e+03,  4.40559065e+01, -7.86838164e+01, ...,\n",
              "         -1.08030513e+01,  7.20203399e+00,  5.00000000e+00],\n",
              "        [ 1.38890000e+03,  4.40559167e+01, -7.86838127e+01, ...,\n",
              "         -2.88081368e+01,  5.69023690e-07,  5.00000000e+00],\n",
              "        [ 1.39010000e+03,  4.40559265e+01, -7.86838092e+01, ...,\n",
              "          2.16061025e+01,  1.80050855e+01,  5.00000000e+00]]),\n",
              " array([[1214.        ,   44.05436739,  -78.68347537, ..., -115.2325475 ,\n",
              "         -162.04576984,    5.        ],\n",
              "        [1216.        ,   44.05437602,  -78.68348922, ...,  -18.00508525,\n",
              "           -7.20203399,    5.        ],\n",
              "        [1218.        ,   44.05438565,  -78.68350469, ...,   -3.60101728,\n",
              "           28.80813652,    5.        ],\n",
              "        ...,\n",
              "        [1390.2       ,   44.05574569,  -78.68386037, ...,  -32.4091538 ,\n",
              "           -7.20203399,    5.        ],\n",
              "        [1391.8       ,   44.0557608 ,  -78.68385614, ...,  -64.8183076 ,\n",
              "          -14.40406854,    5.        ],\n",
              "        [1393.5       ,   44.05577546,  -78.68385201, ...,  -97.22746196,\n",
              "          -21.60610253,    5.        ]]),\n",
              " array([[1214.1       ,   44.05432863,  -78.68344938, ...,  -43.21220563,\n",
              "          -57.61627418,    5.        ],\n",
              "        [1216.        ,   44.05433681,  -78.68346404, ...,    3.60101728,\n",
              "           21.60610367,    5.        ],\n",
              "        [1217.9       ,   44.05434572,  -78.68348032, ...,  -64.8183076 ,\n",
              "         -129.63661576,    5.        ],\n",
              "        ...,\n",
              "        [1391.9       ,   44.05571934,  -78.68384023, ...,   21.60610282,\n",
              "           10.80305155,    5.        ],\n",
              "        [1393.8       ,   44.05573724,  -78.683836  , ...,  -36.01017079,\n",
              "          -10.80305155,    5.        ],\n",
              "        [1395.8       ,   44.05575486,  -78.68383177, ...,  -97.22746225,\n",
              "          -25.20711953,    5.        ]]),\n",
              " array([[1213.9       ,   44.05430956,  -78.68340441, ...,  -39.61118807,\n",
              "          -43.21220563,    5.        ],\n",
              "        [1215.8       ,   44.05431829,  -78.68341853, ...,    7.20203399,\n",
              "           25.20712009,    5.        ],\n",
              "        [1217.7       ,   44.05432755,  -78.68343346, ...,  -14.40406854,\n",
              "          -10.80305155,    5.        ],\n",
              "        ...,\n",
              "        [1408.5       ,   44.05581143,  -78.68379229, ...,   32.4091538 ,\n",
              "           14.40406854,    5.        ],\n",
              "        [1410.4       ,   44.05582843,  -78.68378744, ...,  -14.40406826,\n",
              "            0.        ,    5.        ],\n",
              "        [1412.3       ,   44.05584534,  -78.68378258, ...,  -57.61627361,\n",
              "          -18.00508554,    5.        ]]),\n",
              " array([[1212.3       ,   44.05447675,  -78.68365443, ...,    0.        ,\n",
              "          -39.61118807,    5.        ],\n",
              "        [1213.9       ,   44.05448511,  -78.68366585, ...,    3.60101671,\n",
              "          -39.61118807,    5.        ],\n",
              "        [1215.4       ,   44.05449303,  -78.68367646, ...,   21.60610282,\n",
              "          -14.40406911,    5.        ],\n",
              "        ...,\n",
              "        [1401.8       ,   44.05605479,  -78.6837288 , ...,  -82.82339313,\n",
              "            0.        ,    5.        ],\n",
              "        [1403.1       ,   44.05606504,  -78.68372439, ...,  -36.01017079,\n",
              "           28.80813652,    5.        ],\n",
              "        [1404.3       ,   44.05607556,  -78.68371954, ...,  -57.61627418,\n",
              "           21.60610253,    5.        ]]),\n",
              " array([[1213.4       ,   44.05448673,  -78.68367502, ...,   36.01017108,\n",
              "          -18.00508497,    5.        ],\n",
              "        [1215.1       ,   44.05449662,  -78.68368707, ...,   18.00508582,\n",
              "          -43.2122062 ,    5.        ],\n",
              "        [1216.8       ,   44.0545067 ,  -78.68369885, ...,   -3.60101728,\n",
              "          -68.41932516,    5.        ],\n",
              "        ...,\n",
              "        [1402.6       ,   44.05607763,  -78.6837172 , ...,  -36.01017108,\n",
              "           25.20711953,    5.        ],\n",
              "        [1403.6       ,   44.05608635,  -78.68371297, ...,  -61.21729089,\n",
              "           21.60610253,    5.        ],\n",
              "        [1404.6       ,   44.05609427,  -78.68370874, ...,  -18.00508582,\n",
              "           46.81322206,    5.        ]]),\n",
              " array([[1213.        ,   44.0545013 ,  -78.68368599, ...,   54.01525661,\n",
              "          -21.60610253,    5.        ],\n",
              "        [1214.8       ,   44.05451245,  -78.68369876, ...,   25.20712009,\n",
              "          -54.01525718,    5.        ],\n",
              "        [1216.7       ,   44.05452378,  -78.68371117, ...,    0.        ,\n",
              "          -82.8233937 ,    5.        ],\n",
              "        ...,\n",
              "        [1413.8       ,   44.05619202,  -78.68364184, ...,  -39.61118835,\n",
              "           32.40915408,    5.        ],\n",
              "        [1415.1       ,   44.05620165,  -78.68363383, ..., -104.42949623,\n",
              "          -21.60610253,    5.        ],\n",
              "        [1416.4       ,   44.05620938,  -78.683627  , ...,  -21.60610282,\n",
              "           54.01525718,    5.        ]]),\n",
              " array([[1213.6       ,   44.05446955,  -78.68364219, ...,  -50.41423962,\n",
              "         -115.23254779,    5.        ],\n",
              "        [1215.1       ,   44.05447702,  -78.68365227, ...,   28.80813709,\n",
              "           -7.20203399,    5.        ],\n",
              "        [1216.6       ,   44.05448556,  -78.68366351, ...,   25.20711953,\n",
              "          -10.80305155,    5.        ],\n",
              "        ...,\n",
              "        [1398.9       ,   44.05600928,  -78.68373761, ...,   10.80305098,\n",
              "           28.80813652,    5.        ],\n",
              "        [1400.1       ,   44.05601998,  -78.68373402, ...,   14.40406826,\n",
              "           32.40915408,    5.        ],\n",
              "        [1401.3       ,   44.0560306 ,  -78.68373024, ...,  -32.40915351,\n",
              "           10.80305212,    5.        ]]),\n",
              " array([[1213.5       ,   44.05455022,  -78.68375083, ...,   46.81322263,\n",
              "          -28.80813709,    5.        ],\n",
              "        [1215.1       ,   44.05456137,  -78.68376136, ...,   25.20711981,\n",
              "          -54.01525605,    5.        ],\n",
              "        [1216.8       ,   44.0545728 ,  -78.68377143, ...,   -7.20203456,\n",
              "          -75.62135915,    5.        ],\n",
              "        ...,\n",
              "        [1400.6       ,   44.05614724,  -78.68366639, ...,  -28.80813709,\n",
              "           25.20711953,    5.        ],\n",
              "        [1401.7       ,   44.05615551,  -78.68366018, ...,  -46.81322234,\n",
              "           10.80305098,    5.        ],\n",
              "        [1402.9       ,   44.05616316,  -78.68365416, ...,  -10.80305127,\n",
              "           39.61118864,    5.        ]]),\n",
              " array([[1212.7       ,   44.05454501,  -78.68375614, ...,   61.2172906 ,\n",
              "           10.80305098,    5.        ],\n",
              "        [1214.3       ,   44.05455589,  -78.68376765, ...,   -7.20203456,\n",
              "          -68.41932573,    5.        ],\n",
              "        [1215.9       ,   44.05456578,  -78.68377781, ...,   21.60610282,\n",
              "          -54.01525605,    5.        ],\n",
              "        ...,\n",
              "        [1389.3       ,   44.05603276,  -78.68374508, ...,  -36.01017079,\n",
              "           46.81322263,    5.        ],\n",
              "        [1390.8       ,   44.0560458 ,  -78.68373896, ...,  -72.02034215,\n",
              "           25.20711953,    5.        ],\n",
              "        [1392.4       ,   44.05605776,  -78.68373294, ...,  -14.40406883,\n",
              "           54.01525718,    5.        ]]),\n",
              " array([[1213.7       ,   44.05412538,  -78.68312284, ...,  -50.41423934,\n",
              "           -7.20203399,    5.        ],\n",
              "        [1215.4       ,   44.05413366,  -78.68313516, ...,  -57.61627389,\n",
              "          -10.80305212,    5.        ],\n",
              "        [1217.1       ,   44.05414166,  -78.68314757, ...,    7.20203427,\n",
              "           75.62135858,    5.        ],\n",
              "        ...,\n",
              "        [1402.5       ,   44.05534936,  -78.68389769, ...,  -46.81322234,\n",
              "          -86.42441013,    5.        ],\n",
              "        [1403.9       ,   44.05535817,  -78.68389059, ...,   36.01017108,\n",
              "         -154.84373529,    5.        ],\n",
              "        [1405.2       ,   44.05536825,  -78.68388285, ...,  -21.60610282,\n",
              "         -331.29357481,    5.        ]]),\n",
              " array([[1213.4       ,   44.05400236,  -78.68298992, ...,  -14.40406854,\n",
              "           25.20712009,    5.        ],\n",
              "        [1215.5       ,   44.05401333,  -78.68300485, ...,   72.02034215,\n",
              "          126.03559877,    5.        ],\n",
              "        [1217.7       ,   44.05402556,  -78.68302166, ...,  -57.61627361,\n",
              "          -68.41932573,    5.        ],\n",
              "        ...,\n",
              "        [1364.1       ,   44.05492407,  -78.68388204, ...,  -14.40406854,\n",
              "            7.20203342,    5.        ],\n",
              "        [1364.7       ,   44.05492884,  -78.68388285, ...,   -3.60101671,\n",
              "            3.60101756,    5.        ],\n",
              "        [1365.2       ,   44.05493378,  -78.68388366, ...,   -3.60101671,\n",
              "            7.20203456,    5.        ]]),\n",
              " array([[1212.6       ,   44.05432036,  -78.68343049, ...,  -64.8183076 ,\n",
              "          -14.40406798,    5.        ],\n",
              "        [1214.8       ,   44.05433133,  -78.68344749, ...,  -64.81830816,\n",
              "          -18.00508554,    5.        ],\n",
              "        [1217.        ,   44.0543414 ,  -78.68346368, ...,  -10.80305155,\n",
              "           61.2172906 ,    5.        ],\n",
              "        ...,\n",
              "        [1385.1       ,   44.05555432,  -78.68385102, ...,   39.61118807,\n",
              "           10.80305155,    5.        ],\n",
              "        [1386.        ,   44.05556304,  -78.68384967, ...,   18.00508554,\n",
              "            7.20203399,    5.        ],\n",
              "        [1387.        ,   44.05557194,  -78.68384823, ...,   18.00508554,\n",
              "            3.60101756,    5.        ]]),\n",
              " array([[1212.3       ,   44.05444042,  -78.68363743, ...,   50.41423962,\n",
              "           43.21220506,    5.        ],\n",
              "        [1214.        ,   44.05444896,  -78.6836502 , ...,   10.80305127,\n",
              "          -10.80305155,    5.        ],\n",
              "        [1215.6       ,   44.0544575 ,  -78.68366297, ...,   -7.20203427,\n",
              "          -43.21220506,    5.        ],\n",
              "        ...,\n",
              "        [1333.5       ,   44.05541546,  -78.6838726 , ...,  -14.40406854,\n",
              "          -46.81322263,    5.        ],\n",
              "        [1334.9       ,   44.05542778,  -78.68387062, ...,  -18.00508554,\n",
              "          -36.01017108,    5.        ],\n",
              "        [1336.3       ,   44.05543938,  -78.683869  , ...,   18.00508582,\n",
              "          -10.80305155,    5.        ]]),\n",
              " array([[1212.6       ,   44.05445633,  -78.68365353, ...,   14.40406854,\n",
              "          -18.00508554,    5.        ],\n",
              "        [1214.4       ,   44.05446632,  -78.68366783, ...,  -39.61118807,\n",
              "         -104.42949567,    5.        ],\n",
              "        [1216.1       ,   44.05447522,  -78.68368024, ...,   -7.20203427,\n",
              "          -61.2172906 ,    5.        ],\n",
              "        ...,\n",
              "        [1408.        ,   44.05607215,  -78.68374112, ...,  -21.60610253,\n",
              "           43.21220563,    5.        ],\n",
              "        [1409.2       ,   44.05608132,  -78.68373635, ...,  -39.61118807,\n",
              "           36.01017108,    5.        ],\n",
              "        [1410.3       ,   44.05608986,  -78.6837315 , ...,    7.20203399,\n",
              "           61.2172906 ,    5.        ]]),\n",
              " array([[1212.3       ,   44.05449132,  -78.68367952, ...,   14.40406854,\n",
              "          -28.80813709,    5.        ],\n",
              "        [1214.        ,   44.05450049,  -78.68369247, ...,    3.60101699,\n",
              "          -54.01525718,    5.        ],\n",
              "        [1215.7       ,   44.05450975,  -78.68370506, ...,  -10.80305127,\n",
              "          -79.22237614,    5.        ],\n",
              "        ...,\n",
              "        [1408.3       ,   44.05612134,  -78.68372475, ...,  -28.80813652,\n",
              "           32.40915351,    5.        ],\n",
              "        [1409.3       ,   44.05612871,  -78.68371972, ...,  -54.01525661,\n",
              "           21.6061031 ,    5.        ],\n",
              "        [1410.2       ,   44.05613546,  -78.68371477, ...,  -25.20712009,\n",
              "           50.41423962,    5.        ]]),\n",
              " array([[1212.9       ,   44.05417781,  -78.68318741, ...,  -18.00508554,\n",
              "           10.80305155,    5.        ],\n",
              "        [1215.3       ,   44.05419013,  -78.68320575, ...,  -50.41423934,\n",
              "          -36.01017108,    5.        ],\n",
              "        [1217.7       ,   44.05420165,  -78.68322302, ...,    7.20203427,\n",
              "           50.41423962,    5.        ],\n",
              "        ...,\n",
              "        [1421.3       ,   44.0556768 ,  -78.68386783, ..., -180.05085567,\n",
              "          -39.6111875 ,    5.        ],\n",
              "        [1423.3       ,   44.05569254,  -78.6838637 , ...,  -18.00508582,\n",
              "           -3.60101756,    5.        ],\n",
              "        [1425.3       ,   44.05571008,  -78.6838592 , ...,  -21.60610253,\n",
              "            3.60101642,    5.        ]]),\n",
              " array([[1213.4       ,   44.0544915 ,  -78.68368905, ...,  -18.00508554,\n",
              "          -97.22746225,    5.        ],\n",
              "        [1215.3       ,   44.05450103,  -78.68370245, ...,   46.81322234,\n",
              "          -18.00508554,    5.        ],\n",
              "        [1217.2       ,   44.05451128,  -78.68371639, ...,   36.01017108,\n",
              "          -43.21220506,    5.        ],\n",
              "        ...,\n",
              "        [1330.5       ,   44.05538479,  -78.68388501, ...,    0.        ,\n",
              "            0.        ,    5.        ],\n",
              "        [1330.5       ,   44.05538479,  -78.68388501, ...,    0.        ,\n",
              "            0.        ,    5.        ],\n",
              "        [1330.5       ,   44.05538479,  -78.68388501, ...,    0.        ,\n",
              "            0.        ,    5.        ]]),\n",
              " array([[1212.3       ,   44.054512  ,  -78.68368563, ...,  -25.20711953,\n",
              "          -97.22746168,    5.        ],\n",
              "        [1214.3       ,   44.05452198,  -78.68369957, ...,  -25.20711953,\n",
              "         -100.82847981,    5.        ],\n",
              "        [1216.2       ,   44.05453206,  -78.68371315, ...,   46.81322206,\n",
              "            0.        ,    5.        ],\n",
              "        ...,\n",
              "        [1402.7       ,   44.05605902,  -78.68374903, ...,  -68.41932487,\n",
              "           43.21220563,    5.        ],\n",
              "        [1404.3       ,   44.05607215,  -78.68374589, ...,   -7.20203427,\n",
              "           57.61627418,    5.        ],\n",
              "        [1405.8       ,   44.0560859 ,  -78.6837422 , ...,  -39.61118835,\n",
              "           43.21220449,    5.        ]]),\n",
              " array([[1213.6       ,   44.05451506,  -78.68371477, ...,  -10.80305127,\n",
              "          -64.81830816,    5.        ],\n",
              "        [1215.6       ,   44.05452603,  -78.68372907, ...,  -10.80305098,\n",
              "          -68.41932516,    5.        ],\n",
              "        [1217.5       ,   44.05453619,  -78.68374211, ...,   18.00508554,\n",
              "          -36.01017051,    5.        ],\n",
              "        ...,\n",
              "        [1403.        ,   44.05607152,  -78.68372484, ...,  -90.02542741,\n",
              "           -7.20203456,    5.        ],\n",
              "        [1404.4       ,   44.05608213,  -78.68372053, ...,  -32.40915408,\n",
              "           14.40406854,    5.        ],\n",
              "        [1405.6       ,   44.05609301,  -78.68371594, ...,  -50.41423962,\n",
              "           10.80305098,    5.        ]]),\n",
              " array([[1213.        ,   44.05446263,  -78.68361998, ...,  -54.0152569 ,\n",
              "         -108.0305138 ,    5.        ],\n",
              "        [1214.7       ,   44.05447135,  -78.6836314 , ...,   36.01017108,\n",
              "           10.80305212,    5.        ],\n",
              "        [1216.5       ,   44.05448125,  -78.68364417, ...,   57.61627389,\n",
              "           46.81322263,    5.        ],\n",
              "        ...,\n",
              "        [1413.8       ,   44.05611037,  -78.68370668, ...,   14.40406826,\n",
              "           72.02034272,    5.        ],\n",
              "        [1415.1       ,   44.05612053,  -78.68369939, ...,  -10.80305155,\n",
              "           54.01525605,    5.        ],\n",
              "        [1416.5       ,   44.05613114,  -78.68369139, ..., -111.63153022,\n",
              "          -18.00508611,    5.        ]]),\n",
              " array([[ 1.21330000e+03,  4.40545245e+01, -7.86836855e+01, ...,\n",
              "          2.52071195e+01, -3.96111881e+01,  5.00000000e+00],\n",
              "        [ 1.21480000e+03,  4.40545339e+01, -7.86836945e+01, ...,\n",
              "          2.88081371e+01, -3.60101711e+01,  5.00000000e+00],\n",
              "        [ 1.21620000e+03,  4.40545430e+01, -7.86837027e+01, ...,\n",
              "          5.04142396e+01, -5.69023797e-07,  5.00000000e+00],\n",
              "        ...,\n",
              "        [ 1.32510000e+03,  4.40553411e+01, -7.86838881e+01, ...,\n",
              "          3.60101699e+00,  1.80050855e+01,  5.00000000e+00],\n",
              "        [ 1.32540000e+03,  4.40553440e+01, -7.86838883e+01, ...,\n",
              "          3.60101728e+00,  1.44040680e+01,  5.00000000e+00],\n",
              "        [ 1.32570000e+03,  4.40553471e+01, -7.86838886e+01, ...,\n",
              "         -2.16061028e+01,  1.44040685e+01,  5.00000000e+00]]),\n",
              " array([[1212.6       ,   44.05450256,  -78.68367709, ...,   86.42441041,\n",
              "           32.40915408,    5.        ],\n",
              "        [1214.6       ,   44.0545156 ,  -78.68369004, ...,   14.40406798,\n",
              "          -21.60610253,    5.        ],\n",
              "        [1216.6       ,   44.05452954,  -78.68370362, ...,  -86.42441041,\n",
              "         -111.63153079,    5.        ],\n",
              "        ...,\n",
              "        [1422.1       ,   44.05622215,  -78.68362628, ...,  -46.81322234,\n",
              "           25.20712009,    5.        ],\n",
              "        [1423.6       ,   44.05623133,  -78.68361638, ...,  -68.41932487,\n",
              "            7.20203456,    5.        ],\n",
              "        [1425.        ,   44.05623969,  -78.68360676, ...,  -32.40915408,\n",
              "           50.41423962,    5.        ]]),\n",
              " array([[1213.3       ,   44.05446919,  -78.68365658, ...,   -7.20203427,\n",
              "          -57.61627361,    5.        ],\n",
              "        [1215.        ,   44.05447819,  -78.68367007, ...,  -21.60610253,\n",
              "          -97.22746168,    5.        ],\n",
              "        [1216.7       ,   44.05448673,  -78.6836823 , ...,   18.00508554,\n",
              "          -32.40915408,    5.        ],\n",
              "        ...,\n",
              "        [1409.9       ,   44.05610533,  -78.6837297 , ...,  -79.22237614,\n",
              "           14.40406798,    5.        ],\n",
              "        [1411.5       ,   44.05611648,  -78.68372295, ...,  -14.40406826,\n",
              "           46.81322206,    5.        ],\n",
              "        [1413.        ,   44.05612817,  -78.68371558, ...,  -46.81322263,\n",
              "           28.80813766,    5.        ]]),\n",
              " array([[1213.6       ,   44.05446803,  -78.68367484, ...,  -18.00508554,\n",
              "          -93.62644525,    5.        ],\n",
              "        [1215.5       ,   44.05447864,  -78.68368743, ...,   32.4091538 ,\n",
              "          -32.40915351,    5.        ],\n",
              "        [1217.4       ,   44.05449006,  -78.68370038, ...,   -3.60101728,\n",
              "          -61.2172906 ,    5.        ],\n",
              "        ...,\n",
              "        [1419.8       ,   44.05618042,  -78.68366225, ...,  -14.40406854,\n",
              "           57.61627418,    5.        ],\n",
              "        [1421.4       ,   44.05619113,  -78.68365191, ...,  -14.40406883,\n",
              "           54.01525718,    5.        ],\n",
              "        [1423.        ,   44.05620156,  -78.68364139, ...,  -68.41932516,\n",
              "           -3.60101699,    5.        ]]),\n",
              " array([[1213.7       ,   44.054479  ,  -78.68368042, ...,  -21.60610253,\n",
              "          -93.62644525,    5.        ],\n",
              "        [1215.7       ,   44.0544906 ,  -78.68369346, ...,    7.20203456,\n",
              "          -64.81830816,    5.        ],\n",
              "        [1217.7       ,   44.05450301,  -78.68370677, ...,    7.20203427,\n",
              "          -61.2172906 ,    5.        ],\n",
              "        ...,\n",
              "        [1421.6       ,   44.05619607,  -78.68363032, ...,  -36.01017108,\n",
              "           25.20711953,    5.        ],\n",
              "        [1423.        ,   44.05620453,  -78.68362124, ...,  -72.02034244,\n",
              "          -18.00508497,    5.        ],\n",
              "        [1424.3       ,   44.05621262,  -78.68361207, ...,  -72.02034187,\n",
              "          -21.60610253,    5.        ]]),\n",
              " array([[ 1.21270000e+03,  4.40544733e+01, -7.86836649e+01, ...,\n",
              "         -7.20203424e+01, -1.47641701e+02,  5.00000000e+00],\n",
              "        [ 1.21460000e+03,  4.40544840e+01, -7.86836759e+01, ...,\n",
              "          7.56213591e+01,  5.69023513e-07,  5.00000000e+00],\n",
              "        [ 1.21640000e+03,  4.40544964e+01, -7.86836880e+01, ...,\n",
              "          5.04142396e+01, -1.44040691e+01,  5.00000000e+00],\n",
              "        ...,\n",
              "        [ 1.43040000e+03,  4.40562508e+01, -7.86835684e+01, ...,\n",
              "         -2.52071201e+01,  4.32122051e+01,  5.00000000e+00],\n",
              "        [ 1.43190000e+03,  4.40562586e+01, -7.86835577e+01, ...,\n",
              "         -3.60101711e+01,  1.80050861e+01,  5.00000000e+00],\n",
              "        [ 1.43330000e+03,  4.40562660e+01, -7.86835470e+01, ...,\n",
              "         -7.20203419e+01, -3.60101711e+01,  5.00000000e+00]]),\n",
              " array([[1213.        ,   44.054487  ,  -78.68367403, ...,   57.61627361,\n",
              "          -25.20711953,    5.        ],\n",
              "        [1215.3       ,   44.05450103,  -78.68368905, ...,   57.61627389,\n",
              "          -25.20711953,    5.        ],\n",
              "        [1217.5       ,   44.05451533,  -78.6837038 , ...,  -14.40406826,\n",
              "          -97.22746168,    5.        ],\n",
              "        ...,\n",
              "        [1420.3       ,   44.05620471,  -78.68365739, ...,  -32.40915408,\n",
              "           32.40915408,    5.        ],\n",
              "        [1421.7       ,   44.05621379,  -78.68364831, ...,  -75.62135972,\n",
              "          -10.80305155,    5.        ],\n",
              "        [1423.1       ,   44.05622251,  -78.68363914, ...,  -72.02034215,\n",
              "          -14.40406854,    5.        ]]),\n",
              " array([[1213.1       ,   44.05448403,  -78.68367646, ...,   10.80305127,\n",
              "          -57.61627418,    5.        ],\n",
              "        [1215.        ,   44.0544959 ,  -78.6836886 , ...,  -28.8081368 ,\n",
              "          -86.4244107 ,    5.        ],\n",
              "        [1216.8       ,   44.05450706,  -78.68369975, ...,   25.20711981,\n",
              "          -36.01017108,    5.        ],\n",
              "        ...,\n",
              "        [1414.8       ,   44.05617701,  -78.68365748, ...,  -68.41932487,\n",
              "            3.60101756,    5.        ],\n",
              "        [1416.2       ,   44.05618564,  -78.68364876, ...,  -25.20711981,\n",
              "           43.21220506,    5.        ],\n",
              "        [1417.6       ,   44.05619454,  -78.68363941, ...,  -46.81322234,\n",
              "           21.60610196,    5.        ]]),\n",
              " array([[1213.9       ,   44.05449366,  -78.68367961, ...,   -7.20203427,\n",
              "          -90.02542826,    5.        ],\n",
              "        [1216.        ,   44.05450679,  -78.68369355, ...,   -3.60101699,\n",
              "          -82.8233937 ,    5.        ],\n",
              "        [1218.1       ,   44.05451929,  -78.6837065 , ...,   28.80813709,\n",
              "          -54.01525605,    5.        ],\n",
              "        ...,\n",
              "        [1428.2       ,   44.05623771,  -78.68356629, ...,  -39.61118835,\n",
              "           32.40915351,    5.        ],\n",
              "        [1429.7       ,   44.05624589,  -78.68355487, ...,  -54.01525661,\n",
              "            3.60101756,    5.        ],\n",
              "        [1431.2       ,   44.05625381,  -78.68354345, ...,  -75.62135915,\n",
              "          -21.60610253,    5.        ]]),\n",
              " array([[1213.9       ,   44.05447909,  -78.68366459, ...,   43.21220506,\n",
              "          -18.00508554,    5.        ],\n",
              "        [1215.5       ,   44.0544897 ,  -78.68367529, ...,   75.62135943,\n",
              "           10.80305098,    5.        ],\n",
              "        [1217.2       ,   44.05450049,  -78.68368563, ...,    0.        ,\n",
              "          -54.01525605,    5.        ],\n",
              "        ...,\n",
              "        [1419.4       ,   44.05617988,  -78.68364372, ...,  -50.41423934,\n",
              "            0.        ,    5.        ],\n",
              "        [1420.8       ,   44.05619005,  -78.68363509, ...,  -61.21729089,\n",
              "            0.        ,    5.        ],\n",
              "        [1422.3       ,   44.05619922,  -78.68362691, ...,  -36.01017108,\n",
              "           21.60610253,    5.        ]]),\n",
              " array([[1213.2       ,   44.05445229,  -78.6836529 , ...,   36.01017108,\n",
              "          -32.40915408,    5.        ],\n",
              "        [1215.4       ,   44.05446506,  -78.68366863, ...,    3.60101756,\n",
              "          -64.81830816,    5.        ],\n",
              "        [1217.6       ,   44.05447774,  -78.68368401, ...,  -21.60610253,\n",
              "         -100.82847924,    5.        ],\n",
              "        ...,\n",
              "        [1423.1       ,   44.05617296,  -78.68369067, ...,  -25.20711981,\n",
              "           36.01017165,    5.        ],\n",
              "        [1424.7       ,   44.05618483,  -78.68368132, ...,  -86.42441041,\n",
              "          -10.80305098,    5.        ],\n",
              "        [1426.3       ,   44.05619562,  -78.6836725 , ...,  -28.8081368 ,\n",
              "           28.80813709,    5.        ]]),\n",
              " array([[ 1.21360000e+03,  4.40544942e+01, -7.86837183e+01, ...,\n",
              "          3.60101714e+01, -2.88081377e+01,  5.00000000e+00],\n",
              "        [ 1.21550000e+03,  4.40545051e+01, -7.86837316e+01, ...,\n",
              "          1.44040685e+01, -6.12172912e+01,  5.00000000e+00],\n",
              "        [ 1.21730000e+03,  4.40545161e+01, -7.86837444e+01, ...,\n",
              "         -1.80050855e+01, -9.00254271e+01,  5.00000000e+00],\n",
              "        ...,\n",
              "        [ 1.41170000e+03,  4.40561404e+01, -7.86836851e+01, ...,\n",
              "         -5.76162739e+01, -5.69023797e-07,  5.00000000e+00],\n",
              "        [ 1.41300000e+03,  4.40561496e+01, -7.86836767e+01, ...,\n",
              "         -8.28233934e+01, -1.80050861e+01,  5.00000000e+00],\n",
              "        [ 1.41430000e+03,  4.40561579e+01, -7.86836688e+01, ...,\n",
              "         -2.52071195e+01,  3.60101716e+01,  5.00000000e+00]])]"
            ]
          },
          "metadata": {
            "tags": []
          },
          "execution_count": 47
        }
      ]
    },
    {
      "cell_type": "code",
      "metadata": {
        "colab": {
          "base_uri": "https://localhost:8080/"
        },
        "id": "JZWrKWh9ITT2",
        "outputId": "94563ce6-43ff-4a1b-906c-d91ccb39c9b7"
      },
      "source": [
        "train = np.array(train)\n",
        "validation = np.array(validation)\n",
        "test = np.array(test)\n",
        "\n",
        "train_target = np.array(train_target)\n",
        "validation_target = np.array(validation_target)\n",
        "test_target = np.array(test_target)\n",
        "\n",
        "print(train.shape)\n",
        "print(train_target.shape)"
      ],
      "id": "JZWrKWh9ITT2",
      "execution_count": 48,
      "outputs": [
        {
          "output_type": "stream",
          "text": [
            "(34, 115, 103)\n",
            "(34,)\n"
          ],
          "name": "stdout"
        }
      ]
    },
    {
      "cell_type": "code",
      "metadata": {
        "colab": {
          "base_uri": "https://localhost:8080/"
        },
        "id": "44iIS72eRKrS",
        "outputId": "385da1a4-a84a-4bd2-c5d7-13b232d193b8"
      },
      "source": [
        "!pip install keras-tuner\n",
        "from kerastuner import HyperModel\n",
        "from kerastuner.tuners import RandomSearch\n",
        "from tensorflow import keras"
      ],
      "id": "44iIS72eRKrS",
      "execution_count": 18,
      "outputs": [
        {
          "output_type": "stream",
          "text": [
            "Collecting keras-tuner\n",
            "\u001b[?25l  Downloading https://files.pythonhosted.org/packages/20/ec/1ef246787174b1e2bb591c95f29d3c1310070cad877824f907faba3dade9/keras-tuner-1.0.2.tar.gz (62kB)\n",
            "\r\u001b[K     |█████▏                          | 10kB 24.4MB/s eta 0:00:01\r\u001b[K     |██████████▍                     | 20kB 16.9MB/s eta 0:00:01\r\u001b[K     |███████████████▋                | 30kB 14.8MB/s eta 0:00:01\r\u001b[K     |████████████████████▉           | 40kB 13.7MB/s eta 0:00:01\r\u001b[K     |██████████████████████████      | 51kB 7.6MB/s eta 0:00:01\r\u001b[K     |███████████████████████████████▎| 61kB 8.9MB/s eta 0:00:01\r\u001b[K     |████████████████████████████████| 71kB 5.9MB/s \n",
            "\u001b[?25hRequirement already satisfied: packaging in /usr/local/lib/python3.7/dist-packages (from keras-tuner) (20.9)\n",
            "Requirement already satisfied: future in /usr/local/lib/python3.7/dist-packages (from keras-tuner) (0.16.0)\n",
            "Requirement already satisfied: numpy in /usr/local/lib/python3.7/dist-packages (from keras-tuner) (1.19.5)\n",
            "Requirement already satisfied: tabulate in /usr/local/lib/python3.7/dist-packages (from keras-tuner) (0.8.9)\n",
            "Collecting terminaltables\n",
            "  Downloading https://files.pythonhosted.org/packages/9b/c4/4a21174f32f8a7e1104798c445dacdc1d4df86f2f26722767034e4de4bff/terminaltables-3.1.0.tar.gz\n",
            "Collecting colorama\n",
            "  Downloading https://files.pythonhosted.org/packages/44/98/5b86278fbbf250d239ae0ecb724f8572af1c91f4a11edf4d36a206189440/colorama-0.4.4-py2.py3-none-any.whl\n",
            "Requirement already satisfied: tqdm in /usr/local/lib/python3.7/dist-packages (from keras-tuner) (4.41.1)\n",
            "Requirement already satisfied: requests in /usr/local/lib/python3.7/dist-packages (from keras-tuner) (2.23.0)\n",
            "Requirement already satisfied: scipy in /usr/local/lib/python3.7/dist-packages (from keras-tuner) (1.4.1)\n",
            "Requirement already satisfied: scikit-learn in /usr/local/lib/python3.7/dist-packages (from keras-tuner) (0.22.2.post1)\n",
            "Requirement already satisfied: pyparsing>=2.0.2 in /usr/local/lib/python3.7/dist-packages (from packaging->keras-tuner) (2.4.7)\n",
            "Requirement already satisfied: idna<3,>=2.5 in /usr/local/lib/python3.7/dist-packages (from requests->keras-tuner) (2.10)\n",
            "Requirement already satisfied: urllib3!=1.25.0,!=1.25.1,<1.26,>=1.21.1 in /usr/local/lib/python3.7/dist-packages (from requests->keras-tuner) (1.24.3)\n",
            "Requirement already satisfied: certifi>=2017.4.17 in /usr/local/lib/python3.7/dist-packages (from requests->keras-tuner) (2020.12.5)\n",
            "Requirement already satisfied: chardet<4,>=3.0.2 in /usr/local/lib/python3.7/dist-packages (from requests->keras-tuner) (3.0.4)\n",
            "Requirement already satisfied: joblib>=0.11 in /usr/local/lib/python3.7/dist-packages (from scikit-learn->keras-tuner) (1.0.1)\n",
            "Building wheels for collected packages: keras-tuner, terminaltables\n",
            "  Building wheel for keras-tuner (setup.py) ... \u001b[?25l\u001b[?25hdone\n",
            "  Created wheel for keras-tuner: filename=keras_tuner-1.0.2-cp37-none-any.whl size=78938 sha256=80719778d3d585d75dd617c71fce1a7f16a89b16f92ba060ecb3fccfd9afea45\n",
            "  Stored in directory: /root/.cache/pip/wheels/bb/a1/8a/7c3de0efb3707a1701b36ebbfdbc4e67aedf6d4943a1f463d6\n",
            "  Building wheel for terminaltables (setup.py) ... \u001b[?25l\u001b[?25hdone\n",
            "  Created wheel for terminaltables: filename=terminaltables-3.1.0-cp37-none-any.whl size=15356 sha256=7e2b92334fa64963787f9008218e120b5bf7deb7be2152b82800290fa4c526f1\n",
            "  Stored in directory: /root/.cache/pip/wheels/30/6b/50/6c75775b681fb36cdfac7f19799888ef9d8813aff9e379663e\n",
            "Successfully built keras-tuner terminaltables\n",
            "Installing collected packages: terminaltables, colorama, keras-tuner\n",
            "Successfully installed colorama-0.4.4 keras-tuner-1.0.2 terminaltables-3.1.0\n"
          ],
          "name": "stdout"
        }
      ]
    },
    {
      "cell_type": "code",
      "metadata": {
        "colab": {
          "base_uri": "https://localhost:8080/"
        },
        "id": "3jAktnMjRSrh",
        "outputId": "f1ca2d1c-4155-429e-ad0d-3c22d94abe05"
      },
      "source": [
        "from tensorflow.keras.models import Sequential\n",
        "#alpha?\n",
        "def build_model(hp):\n",
        "  model = Sequential()\n",
        "  model.add(LSTM(units=hp.Int('units', min_value=32, max_value=1024, default=256, step=2), input_shape=(seq_len, 103)))\n",
        "  model.add(Dropout(rate=hp.Float('dropout', min_value=0.0, max_value=0.5, default=0.25, step=0.05)))\n",
        "  model.add(Dense(1, activation='sigmoid'))\n",
        "  model.compile(loss='binary_crossentropy', optimizer=Adam(\n",
        "      hp.Choice('learning_rate', values=[1e-2, 1e-3, 1e-4])\n",
        "  ), metrics=['accuracy'])\n",
        "  return model\n",
        "\n",
        "tuner=RandomSearch(\n",
        "    build_model,\n",
        "    objective='val_accuracy',\n",
        "    max_trials=30,\n",
        "    executions_per_trial=2,\n",
        "    directory='my_dir',\n",
        "    project_name='driverLSTM!'\n",
        ")\n",
        "\n",
        "callback= tf.keras.callbacks.EarlyStopping(monitor='val_loss', patience=3)\n",
        "tuner.search(train, train_target, epochs=100, validation_data=(validation,validation_target), callbacks=[callback])\n",
        "tuner.results_summary()"
      ],
      "id": "3jAktnMjRSrh",
      "execution_count": 49,
      "outputs": [
        {
          "output_type": "stream",
          "text": [
            "Trial 30 Complete [00h 00m 07s]\n",
            "val_accuracy: 0.800000011920929\n",
            "\n",
            "Best val_accuracy So Far: 0.800000011920929\n",
            "Total elapsed time: 00h 03m 29s\n",
            "INFO:tensorflow:Oracle triggered exit\n"
          ],
          "name": "stdout"
        },
        {
          "output_type": "stream",
          "text": [
            "INFO:tensorflow:Oracle triggered exit\n"
          ],
          "name": "stderr"
        },
        {
          "output_type": "stream",
          "text": [
            "Results summary\n",
            "Results in my_dir/driverLSTM!\n",
            "Showing 10 best trials\n",
            "Objective(name='val_accuracy', direction='max')\n",
            "Trial summary\n",
            "Hyperparameters:\n",
            "units: 354\n",
            "dropout: 0.4\n",
            "learning_rate: 0.001\n",
            "Score: 0.800000011920929\n",
            "Trial summary\n",
            "Hyperparameters:\n",
            "units: 654\n",
            "dropout: 0.2\n",
            "learning_rate: 0.001\n",
            "Score: 0.800000011920929\n",
            "Trial summary\n",
            "Hyperparameters:\n",
            "units: 796\n",
            "dropout: 0.1\n",
            "learning_rate: 0.0001\n",
            "Score: 0.75\n",
            "Trial summary\n",
            "Hyperparameters:\n",
            "units: 390\n",
            "dropout: 0.05\n",
            "learning_rate: 0.0001\n",
            "Score: 0.75\n",
            "Trial summary\n",
            "Hyperparameters:\n",
            "units: 344\n",
            "dropout: 0.05\n",
            "learning_rate: 0.0001\n",
            "Score: 0.75\n",
            "Trial summary\n",
            "Hyperparameters:\n",
            "units: 846\n",
            "dropout: 0.0\n",
            "learning_rate: 0.0001\n",
            "Score: 0.75\n",
            "Trial summary\n",
            "Hyperparameters:\n",
            "units: 870\n",
            "dropout: 0.1\n",
            "learning_rate: 0.0001\n",
            "Score: 0.75\n",
            "Trial summary\n",
            "Hyperparameters:\n",
            "units: 744\n",
            "dropout: 0.25\n",
            "learning_rate: 0.0001\n",
            "Score: 0.7000000178813934\n",
            "Trial summary\n",
            "Hyperparameters:\n",
            "units: 152\n",
            "dropout: 0.1\n",
            "learning_rate: 0.001\n",
            "Score: 0.7000000178813934\n",
            "Trial summary\n",
            "Hyperparameters:\n",
            "units: 998\n",
            "dropout: 0.1\n",
            "learning_rate: 0.001\n",
            "Score: 0.7000000178813934\n"
          ],
          "name": "stdout"
        }
      ]
    },
    {
      "cell_type": "code",
      "metadata": {
        "id": "_l39F4ZHRSiw"
      },
      "source": [
        ""
      ],
      "id": "_l39F4ZHRSiw",
      "execution_count": null,
      "outputs": []
    },
    {
      "cell_type": "code",
      "metadata": {
        "id": "IH3Vbj8aRSVe"
      },
      "source": [
        ""
      ],
      "id": "IH3Vbj8aRSVe",
      "execution_count": null,
      "outputs": []
    },
    {
      "cell_type": "code",
      "metadata": {
        "id": "182c53c0"
      },
      "source": [
        "model = Sequential()\n",
        "model.add(LSTM(354, input_shape=(seq_len, 103)))\n",
        "model.add(Dropout(0.4))\n",
        "model.add(Dense(1, activation='sigmoid'))"
      ],
      "id": "182c53c0",
      "execution_count": 50,
      "outputs": []
    },
    {
      "cell_type": "code",
      "metadata": {
        "colab": {
          "base_uri": "https://localhost:8080/"
        },
        "id": "yspiyjUZfBYD",
        "outputId": "a12ad9ac-823e-4b12-85c5-b5c5f41420c8"
      },
      "source": [
        "adam = Adam(learning_rate=0.001)\n",
        "chk = ModelCheckpoint('best_model.pkl', monitor='val_acc', save_best_only=True, mode='max', verbose=1)\n",
        "model.compile(loss='binary_crossentropy', optimizer=adam, metrics=['accuracy'])\n",
        "model.fit(train, train_target, epochs=200, batch_size=128, callbacks=[chk], validation_data=(validation,validation_target))"
      ],
      "id": "yspiyjUZfBYD",
      "execution_count": 51,
      "outputs": [
        {
          "output_type": "stream",
          "text": [
            "Epoch 1/200\n",
            "1/1 [==============================] - 2s 2s/step - loss: 0.7766 - accuracy: 0.5294 - val_loss: 0.6634 - val_accuracy: 0.7000\n",
            "WARNING:tensorflow:Can save best model only with val_acc available, skipping.\n"
          ],
          "name": "stdout"
        },
        {
          "output_type": "stream",
          "text": [
            "WARNING:tensorflow:Can save best model only with val_acc available, skipping.\n"
          ],
          "name": "stderr"
        },
        {
          "output_type": "stream",
          "text": [
            "Epoch 2/200\n",
            "1/1 [==============================] - 0s 48ms/step - loss: 0.5980 - accuracy: 0.7059 - val_loss: 0.6630 - val_accuracy: 0.6000\n",
            "WARNING:tensorflow:Can save best model only with val_acc available, skipping.\n"
          ],
          "name": "stdout"
        },
        {
          "output_type": "stream",
          "text": [
            "WARNING:tensorflow:Can save best model only with val_acc available, skipping.\n"
          ],
          "name": "stderr"
        },
        {
          "output_type": "stream",
          "text": [
            "Epoch 3/200\n",
            "1/1 [==============================] - 0s 51ms/step - loss: 0.5888 - accuracy: 0.5882 - val_loss: 0.6252 - val_accuracy: 0.6000\n",
            "WARNING:tensorflow:Can save best model only with val_acc available, skipping.\n"
          ],
          "name": "stdout"
        },
        {
          "output_type": "stream",
          "text": [
            "WARNING:tensorflow:Can save best model only with val_acc available, skipping.\n"
          ],
          "name": "stderr"
        },
        {
          "output_type": "stream",
          "text": [
            "Epoch 4/200\n",
            "1/1 [==============================] - 0s 48ms/step - loss: 0.5953 - accuracy: 0.7059 - val_loss: 0.6558 - val_accuracy: 0.6000\n",
            "WARNING:tensorflow:Can save best model only with val_acc available, skipping.\n"
          ],
          "name": "stdout"
        },
        {
          "output_type": "stream",
          "text": [
            "WARNING:tensorflow:Can save best model only with val_acc available, skipping.\n"
          ],
          "name": "stderr"
        },
        {
          "output_type": "stream",
          "text": [
            "Epoch 5/200\n",
            "1/1 [==============================] - 0s 58ms/step - loss: 0.5435 - accuracy: 0.7647 - val_loss: 0.6584 - val_accuracy: 0.6000\n",
            "WARNING:tensorflow:Can save best model only with val_acc available, skipping.\n"
          ],
          "name": "stdout"
        },
        {
          "output_type": "stream",
          "text": [
            "WARNING:tensorflow:Can save best model only with val_acc available, skipping.\n"
          ],
          "name": "stderr"
        },
        {
          "output_type": "stream",
          "text": [
            "Epoch 6/200\n",
            "1/1 [==============================] - 0s 47ms/step - loss: 0.6112 - accuracy: 0.6765 - val_loss: 0.6436 - val_accuracy: 0.6000\n",
            "WARNING:tensorflow:Can save best model only with val_acc available, skipping.\n"
          ],
          "name": "stdout"
        },
        {
          "output_type": "stream",
          "text": [
            "WARNING:tensorflow:Can save best model only with val_acc available, skipping.\n"
          ],
          "name": "stderr"
        },
        {
          "output_type": "stream",
          "text": [
            "Epoch 7/200\n",
            "1/1 [==============================] - 0s 44ms/step - loss: 0.5149 - accuracy: 0.7647 - val_loss: 0.6261 - val_accuracy: 0.6000\n",
            "WARNING:tensorflow:Can save best model only with val_acc available, skipping.\n"
          ],
          "name": "stdout"
        },
        {
          "output_type": "stream",
          "text": [
            "WARNING:tensorflow:Can save best model only with val_acc available, skipping.\n"
          ],
          "name": "stderr"
        },
        {
          "output_type": "stream",
          "text": [
            "Epoch 8/200\n",
            "1/1 [==============================] - 0s 47ms/step - loss: 0.5385 - accuracy: 0.6765 - val_loss: 0.6415 - val_accuracy: 0.6000\n",
            "WARNING:tensorflow:Can save best model only with val_acc available, skipping.\n"
          ],
          "name": "stdout"
        },
        {
          "output_type": "stream",
          "text": [
            "WARNING:tensorflow:Can save best model only with val_acc available, skipping.\n"
          ],
          "name": "stderr"
        },
        {
          "output_type": "stream",
          "text": [
            "Epoch 9/200\n",
            "1/1 [==============================] - 0s 45ms/step - loss: 0.5444 - accuracy: 0.7059 - val_loss: 0.6369 - val_accuracy: 0.6000\n",
            "WARNING:tensorflow:Can save best model only with val_acc available, skipping.\n"
          ],
          "name": "stdout"
        },
        {
          "output_type": "stream",
          "text": [
            "WARNING:tensorflow:Can save best model only with val_acc available, skipping.\n"
          ],
          "name": "stderr"
        },
        {
          "output_type": "stream",
          "text": [
            "Epoch 10/200\n",
            "1/1 [==============================] - 0s 48ms/step - loss: 0.4943 - accuracy: 0.7059 - val_loss: 0.6306 - val_accuracy: 0.6000\n",
            "WARNING:tensorflow:Can save best model only with val_acc available, skipping.\n"
          ],
          "name": "stdout"
        },
        {
          "output_type": "stream",
          "text": [
            "WARNING:tensorflow:Can save best model only with val_acc available, skipping.\n"
          ],
          "name": "stderr"
        },
        {
          "output_type": "stream",
          "text": [
            "Epoch 11/200\n",
            "1/1 [==============================] - 0s 45ms/step - loss: 0.5333 - accuracy: 0.6765 - val_loss: 0.5593 - val_accuracy: 0.6000\n",
            "WARNING:tensorflow:Can save best model only with val_acc available, skipping.\n"
          ],
          "name": "stdout"
        },
        {
          "output_type": "stream",
          "text": [
            "WARNING:tensorflow:Can save best model only with val_acc available, skipping.\n"
          ],
          "name": "stderr"
        },
        {
          "output_type": "stream",
          "text": [
            "Epoch 12/200\n",
            "1/1 [==============================] - 0s 43ms/step - loss: 0.5451 - accuracy: 0.7353 - val_loss: 0.5715 - val_accuracy: 0.6000\n",
            "WARNING:tensorflow:Can save best model only with val_acc available, skipping.\n"
          ],
          "name": "stdout"
        },
        {
          "output_type": "stream",
          "text": [
            "WARNING:tensorflow:Can save best model only with val_acc available, skipping.\n"
          ],
          "name": "stderr"
        },
        {
          "output_type": "stream",
          "text": [
            "Epoch 13/200\n",
            "1/1 [==============================] - 0s 43ms/step - loss: 0.5856 - accuracy: 0.7059 - val_loss: 0.5279 - val_accuracy: 0.6000\n",
            "WARNING:tensorflow:Can save best model only with val_acc available, skipping.\n"
          ],
          "name": "stdout"
        },
        {
          "output_type": "stream",
          "text": [
            "WARNING:tensorflow:Can save best model only with val_acc available, skipping.\n"
          ],
          "name": "stderr"
        },
        {
          "output_type": "stream",
          "text": [
            "Epoch 14/200\n",
            "1/1 [==============================] - 0s 42ms/step - loss: 0.5325 - accuracy: 0.7059 - val_loss: 0.5302 - val_accuracy: 0.6000\n",
            "WARNING:tensorflow:Can save best model only with val_acc available, skipping.\n"
          ],
          "name": "stdout"
        },
        {
          "output_type": "stream",
          "text": [
            "WARNING:tensorflow:Can save best model only with val_acc available, skipping.\n"
          ],
          "name": "stderr"
        },
        {
          "output_type": "stream",
          "text": [
            "Epoch 15/200\n",
            "1/1 [==============================] - 0s 43ms/step - loss: 0.5608 - accuracy: 0.6471 - val_loss: 0.4922 - val_accuracy: 0.7000\n",
            "WARNING:tensorflow:Can save best model only with val_acc available, skipping.\n"
          ],
          "name": "stdout"
        },
        {
          "output_type": "stream",
          "text": [
            "WARNING:tensorflow:Can save best model only with val_acc available, skipping.\n"
          ],
          "name": "stderr"
        },
        {
          "output_type": "stream",
          "text": [
            "Epoch 16/200\n",
            "1/1 [==============================] - 0s 44ms/step - loss: 0.4707 - accuracy: 0.7941 - val_loss: 0.4976 - val_accuracy: 0.6000\n",
            "WARNING:tensorflow:Can save best model only with val_acc available, skipping.\n"
          ],
          "name": "stdout"
        },
        {
          "output_type": "stream",
          "text": [
            "WARNING:tensorflow:Can save best model only with val_acc available, skipping.\n"
          ],
          "name": "stderr"
        },
        {
          "output_type": "stream",
          "text": [
            "Epoch 17/200\n",
            "1/1 [==============================] - 0s 41ms/step - loss: 0.6038 - accuracy: 0.6765 - val_loss: 0.5119 - val_accuracy: 0.6000\n",
            "WARNING:tensorflow:Can save best model only with val_acc available, skipping.\n"
          ],
          "name": "stdout"
        },
        {
          "output_type": "stream",
          "text": [
            "WARNING:tensorflow:Can save best model only with val_acc available, skipping.\n"
          ],
          "name": "stderr"
        },
        {
          "output_type": "stream",
          "text": [
            "Epoch 18/200\n",
            "1/1 [==============================] - 0s 42ms/step - loss: 0.5373 - accuracy: 0.7647 - val_loss: 0.5097 - val_accuracy: 0.8000\n",
            "WARNING:tensorflow:Can save best model only with val_acc available, skipping.\n"
          ],
          "name": "stdout"
        },
        {
          "output_type": "stream",
          "text": [
            "WARNING:tensorflow:Can save best model only with val_acc available, skipping.\n"
          ],
          "name": "stderr"
        },
        {
          "output_type": "stream",
          "text": [
            "Epoch 19/200\n",
            "1/1 [==============================] - 0s 41ms/step - loss: 0.5251 - accuracy: 0.6471 - val_loss: 0.5432 - val_accuracy: 0.5000\n",
            "WARNING:tensorflow:Can save best model only with val_acc available, skipping.\n"
          ],
          "name": "stdout"
        },
        {
          "output_type": "stream",
          "text": [
            "WARNING:tensorflow:Can save best model only with val_acc available, skipping.\n"
          ],
          "name": "stderr"
        },
        {
          "output_type": "stream",
          "text": [
            "Epoch 20/200\n",
            "1/1 [==============================] - 0s 45ms/step - loss: 0.4731 - accuracy: 0.7941 - val_loss: 0.5360 - val_accuracy: 0.6000\n",
            "WARNING:tensorflow:Can save best model only with val_acc available, skipping.\n"
          ],
          "name": "stdout"
        },
        {
          "output_type": "stream",
          "text": [
            "WARNING:tensorflow:Can save best model only with val_acc available, skipping.\n"
          ],
          "name": "stderr"
        },
        {
          "output_type": "stream",
          "text": [
            "Epoch 21/200\n",
            "1/1 [==============================] - 0s 41ms/step - loss: 0.5256 - accuracy: 0.6765 - val_loss: 0.5066 - val_accuracy: 0.5000\n",
            "WARNING:tensorflow:Can save best model only with val_acc available, skipping.\n"
          ],
          "name": "stdout"
        },
        {
          "output_type": "stream",
          "text": [
            "WARNING:tensorflow:Can save best model only with val_acc available, skipping.\n"
          ],
          "name": "stderr"
        },
        {
          "output_type": "stream",
          "text": [
            "Epoch 22/200\n",
            "1/1 [==============================] - 0s 42ms/step - loss: 0.6085 - accuracy: 0.5882 - val_loss: 0.5104 - val_accuracy: 0.6000\n",
            "WARNING:tensorflow:Can save best model only with val_acc available, skipping.\n"
          ],
          "name": "stdout"
        },
        {
          "output_type": "stream",
          "text": [
            "WARNING:tensorflow:Can save best model only with val_acc available, skipping.\n"
          ],
          "name": "stderr"
        },
        {
          "output_type": "stream",
          "text": [
            "Epoch 23/200\n",
            "1/1 [==============================] - 0s 44ms/step - loss: 0.4625 - accuracy: 0.7647 - val_loss: 0.5107 - val_accuracy: 0.6000\n",
            "WARNING:tensorflow:Can save best model only with val_acc available, skipping.\n"
          ],
          "name": "stdout"
        },
        {
          "output_type": "stream",
          "text": [
            "WARNING:tensorflow:Can save best model only with val_acc available, skipping.\n"
          ],
          "name": "stderr"
        },
        {
          "output_type": "stream",
          "text": [
            "Epoch 24/200\n",
            "1/1 [==============================] - 0s 43ms/step - loss: 0.5122 - accuracy: 0.7059 - val_loss: 0.5083 - val_accuracy: 0.7000\n",
            "WARNING:tensorflow:Can save best model only with val_acc available, skipping.\n"
          ],
          "name": "stdout"
        },
        {
          "output_type": "stream",
          "text": [
            "WARNING:tensorflow:Can save best model only with val_acc available, skipping.\n"
          ],
          "name": "stderr"
        },
        {
          "output_type": "stream",
          "text": [
            "Epoch 25/200\n",
            "1/1 [==============================] - 0s 42ms/step - loss: 0.5347 - accuracy: 0.7647 - val_loss: 0.5230 - val_accuracy: 0.7000\n",
            "WARNING:tensorflow:Can save best model only with val_acc available, skipping.\n"
          ],
          "name": "stdout"
        },
        {
          "output_type": "stream",
          "text": [
            "WARNING:tensorflow:Can save best model only with val_acc available, skipping.\n"
          ],
          "name": "stderr"
        },
        {
          "output_type": "stream",
          "text": [
            "Epoch 26/200\n",
            "1/1 [==============================] - 0s 43ms/step - loss: 0.5513 - accuracy: 0.7059 - val_loss: 0.5291 - val_accuracy: 0.7000\n",
            "WARNING:tensorflow:Can save best model only with val_acc available, skipping.\n"
          ],
          "name": "stdout"
        },
        {
          "output_type": "stream",
          "text": [
            "WARNING:tensorflow:Can save best model only with val_acc available, skipping.\n"
          ],
          "name": "stderr"
        },
        {
          "output_type": "stream",
          "text": [
            "Epoch 27/200\n",
            "1/1 [==============================] - 0s 42ms/step - loss: 0.5242 - accuracy: 0.6765 - val_loss: 0.5173 - val_accuracy: 0.7000\n",
            "WARNING:tensorflow:Can save best model only with val_acc available, skipping.\n"
          ],
          "name": "stdout"
        },
        {
          "output_type": "stream",
          "text": [
            "WARNING:tensorflow:Can save best model only with val_acc available, skipping.\n"
          ],
          "name": "stderr"
        },
        {
          "output_type": "stream",
          "text": [
            "Epoch 28/200\n",
            "1/1 [==============================] - 0s 44ms/step - loss: 0.5278 - accuracy: 0.7353 - val_loss: 0.5077 - val_accuracy: 0.7000\n",
            "WARNING:tensorflow:Can save best model only with val_acc available, skipping.\n"
          ],
          "name": "stdout"
        },
        {
          "output_type": "stream",
          "text": [
            "WARNING:tensorflow:Can save best model only with val_acc available, skipping.\n"
          ],
          "name": "stderr"
        },
        {
          "output_type": "stream",
          "text": [
            "Epoch 29/200\n",
            "1/1 [==============================] - 0s 41ms/step - loss: 0.4430 - accuracy: 0.7647 - val_loss: 0.4819 - val_accuracy: 0.7000\n",
            "WARNING:tensorflow:Can save best model only with val_acc available, skipping.\n"
          ],
          "name": "stdout"
        },
        {
          "output_type": "stream",
          "text": [
            "WARNING:tensorflow:Can save best model only with val_acc available, skipping.\n"
          ],
          "name": "stderr"
        },
        {
          "output_type": "stream",
          "text": [
            "Epoch 30/200\n",
            "1/1 [==============================] - 0s 44ms/step - loss: 0.5152 - accuracy: 0.7059 - val_loss: 0.5146 - val_accuracy: 0.6000\n",
            "WARNING:tensorflow:Can save best model only with val_acc available, skipping.\n"
          ],
          "name": "stdout"
        },
        {
          "output_type": "stream",
          "text": [
            "WARNING:tensorflow:Can save best model only with val_acc available, skipping.\n"
          ],
          "name": "stderr"
        },
        {
          "output_type": "stream",
          "text": [
            "Epoch 31/200\n",
            "1/1 [==============================] - 0s 42ms/step - loss: 0.4622 - accuracy: 0.7941 - val_loss: 0.4909 - val_accuracy: 0.7000\n",
            "WARNING:tensorflow:Can save best model only with val_acc available, skipping.\n"
          ],
          "name": "stdout"
        },
        {
          "output_type": "stream",
          "text": [
            "WARNING:tensorflow:Can save best model only with val_acc available, skipping.\n"
          ],
          "name": "stderr"
        },
        {
          "output_type": "stream",
          "text": [
            "Epoch 32/200\n",
            "1/1 [==============================] - 0s 46ms/step - loss: 0.5577 - accuracy: 0.7353 - val_loss: 0.4856 - val_accuracy: 0.6000\n",
            "WARNING:tensorflow:Can save best model only with val_acc available, skipping.\n"
          ],
          "name": "stdout"
        },
        {
          "output_type": "stream",
          "text": [
            "WARNING:tensorflow:Can save best model only with val_acc available, skipping.\n"
          ],
          "name": "stderr"
        },
        {
          "output_type": "stream",
          "text": [
            "Epoch 33/200\n",
            "1/1 [==============================] - 0s 42ms/step - loss: 0.5028 - accuracy: 0.7353 - val_loss: 0.4995 - val_accuracy: 0.7000\n",
            "WARNING:tensorflow:Can save best model only with val_acc available, skipping.\n"
          ],
          "name": "stdout"
        },
        {
          "output_type": "stream",
          "text": [
            "WARNING:tensorflow:Can save best model only with val_acc available, skipping.\n"
          ],
          "name": "stderr"
        },
        {
          "output_type": "stream",
          "text": [
            "Epoch 34/200\n",
            "1/1 [==============================] - 0s 42ms/step - loss: 0.4547 - accuracy: 0.7647 - val_loss: 0.4978 - val_accuracy: 0.6000\n",
            "WARNING:tensorflow:Can save best model only with val_acc available, skipping.\n"
          ],
          "name": "stdout"
        },
        {
          "output_type": "stream",
          "text": [
            "WARNING:tensorflow:Can save best model only with val_acc available, skipping.\n"
          ],
          "name": "stderr"
        },
        {
          "output_type": "stream",
          "text": [
            "Epoch 35/200\n",
            "1/1 [==============================] - 0s 42ms/step - loss: 0.5363 - accuracy: 0.6471 - val_loss: 0.4945 - val_accuracy: 0.6000\n",
            "WARNING:tensorflow:Can save best model only with val_acc available, skipping.\n"
          ],
          "name": "stdout"
        },
        {
          "output_type": "stream",
          "text": [
            "WARNING:tensorflow:Can save best model only with val_acc available, skipping.\n"
          ],
          "name": "stderr"
        },
        {
          "output_type": "stream",
          "text": [
            "Epoch 36/200\n",
            "1/1 [==============================] - 0s 41ms/step - loss: 0.4200 - accuracy: 0.7647 - val_loss: 0.5150 - val_accuracy: 0.6000\n",
            "WARNING:tensorflow:Can save best model only with val_acc available, skipping.\n"
          ],
          "name": "stdout"
        },
        {
          "output_type": "stream",
          "text": [
            "WARNING:tensorflow:Can save best model only with val_acc available, skipping.\n"
          ],
          "name": "stderr"
        },
        {
          "output_type": "stream",
          "text": [
            "Epoch 37/200\n",
            "1/1 [==============================] - 0s 41ms/step - loss: 0.4667 - accuracy: 0.7059 - val_loss: 0.5167 - val_accuracy: 0.6000\n",
            "WARNING:tensorflow:Can save best model only with val_acc available, skipping.\n"
          ],
          "name": "stdout"
        },
        {
          "output_type": "stream",
          "text": [
            "WARNING:tensorflow:Can save best model only with val_acc available, skipping.\n"
          ],
          "name": "stderr"
        },
        {
          "output_type": "stream",
          "text": [
            "Epoch 38/200\n",
            "1/1 [==============================] - 0s 43ms/step - loss: 0.5034 - accuracy: 0.7647 - val_loss: 0.5036 - val_accuracy: 0.6000\n",
            "WARNING:tensorflow:Can save best model only with val_acc available, skipping.\n"
          ],
          "name": "stdout"
        },
        {
          "output_type": "stream",
          "text": [
            "WARNING:tensorflow:Can save best model only with val_acc available, skipping.\n"
          ],
          "name": "stderr"
        },
        {
          "output_type": "stream",
          "text": [
            "Epoch 39/200\n",
            "1/1 [==============================] - 0s 41ms/step - loss: 0.4723 - accuracy: 0.7353 - val_loss: 0.5028 - val_accuracy: 0.7000\n",
            "WARNING:tensorflow:Can save best model only with val_acc available, skipping.\n"
          ],
          "name": "stdout"
        },
        {
          "output_type": "stream",
          "text": [
            "WARNING:tensorflow:Can save best model only with val_acc available, skipping.\n"
          ],
          "name": "stderr"
        },
        {
          "output_type": "stream",
          "text": [
            "Epoch 40/200\n",
            "1/1 [==============================] - 0s 47ms/step - loss: 0.4837 - accuracy: 0.8235 - val_loss: 0.5003 - val_accuracy: 0.7000\n",
            "WARNING:tensorflow:Can save best model only with val_acc available, skipping.\n"
          ],
          "name": "stdout"
        },
        {
          "output_type": "stream",
          "text": [
            "WARNING:tensorflow:Can save best model only with val_acc available, skipping.\n"
          ],
          "name": "stderr"
        },
        {
          "output_type": "stream",
          "text": [
            "Epoch 41/200\n",
            "1/1 [==============================] - 0s 46ms/step - loss: 0.5106 - accuracy: 0.7059 - val_loss: 0.5080 - val_accuracy: 0.6000\n",
            "WARNING:tensorflow:Can save best model only with val_acc available, skipping.\n"
          ],
          "name": "stdout"
        },
        {
          "output_type": "stream",
          "text": [
            "WARNING:tensorflow:Can save best model only with val_acc available, skipping.\n"
          ],
          "name": "stderr"
        },
        {
          "output_type": "stream",
          "text": [
            "Epoch 42/200\n",
            "1/1 [==============================] - 0s 54ms/step - loss: 0.4927 - accuracy: 0.8235 - val_loss: 0.5315 - val_accuracy: 0.6000\n",
            "WARNING:tensorflow:Can save best model only with val_acc available, skipping.\n"
          ],
          "name": "stdout"
        },
        {
          "output_type": "stream",
          "text": [
            "WARNING:tensorflow:Can save best model only with val_acc available, skipping.\n"
          ],
          "name": "stderr"
        },
        {
          "output_type": "stream",
          "text": [
            "Epoch 43/200\n",
            "1/1 [==============================] - 0s 43ms/step - loss: 0.4563 - accuracy: 0.7647 - val_loss: 0.5171 - val_accuracy: 0.7000\n",
            "WARNING:tensorflow:Can save best model only with val_acc available, skipping.\n"
          ],
          "name": "stdout"
        },
        {
          "output_type": "stream",
          "text": [
            "WARNING:tensorflow:Can save best model only with val_acc available, skipping.\n"
          ],
          "name": "stderr"
        },
        {
          "output_type": "stream",
          "text": [
            "Epoch 44/200\n",
            "1/1 [==============================] - 0s 51ms/step - loss: 0.4547 - accuracy: 0.7353 - val_loss: 0.5114 - val_accuracy: 0.6000\n",
            "WARNING:tensorflow:Can save best model only with val_acc available, skipping.\n"
          ],
          "name": "stdout"
        },
        {
          "output_type": "stream",
          "text": [
            "WARNING:tensorflow:Can save best model only with val_acc available, skipping.\n"
          ],
          "name": "stderr"
        },
        {
          "output_type": "stream",
          "text": [
            "Epoch 45/200\n",
            "1/1 [==============================] - 0s 44ms/step - loss: 0.4558 - accuracy: 0.7647 - val_loss: 0.4893 - val_accuracy: 0.8000\n",
            "WARNING:tensorflow:Can save best model only with val_acc available, skipping.\n"
          ],
          "name": "stdout"
        },
        {
          "output_type": "stream",
          "text": [
            "WARNING:tensorflow:Can save best model only with val_acc available, skipping.\n"
          ],
          "name": "stderr"
        },
        {
          "output_type": "stream",
          "text": [
            "Epoch 46/200\n",
            "1/1 [==============================] - 0s 42ms/step - loss: 0.4778 - accuracy: 0.7647 - val_loss: 0.4871 - val_accuracy: 0.8000\n",
            "WARNING:tensorflow:Can save best model only with val_acc available, skipping.\n"
          ],
          "name": "stdout"
        },
        {
          "output_type": "stream",
          "text": [
            "WARNING:tensorflow:Can save best model only with val_acc available, skipping.\n"
          ],
          "name": "stderr"
        },
        {
          "output_type": "stream",
          "text": [
            "Epoch 47/200\n",
            "1/1 [==============================] - 0s 42ms/step - loss: 0.4364 - accuracy: 0.8235 - val_loss: 0.4912 - val_accuracy: 0.8000\n",
            "WARNING:tensorflow:Can save best model only with val_acc available, skipping.\n"
          ],
          "name": "stdout"
        },
        {
          "output_type": "stream",
          "text": [
            "WARNING:tensorflow:Can save best model only with val_acc available, skipping.\n"
          ],
          "name": "stderr"
        },
        {
          "output_type": "stream",
          "text": [
            "Epoch 48/200\n",
            "1/1 [==============================] - 0s 46ms/step - loss: 0.4788 - accuracy: 0.8235 - val_loss: 0.4991 - val_accuracy: 0.8000\n",
            "WARNING:tensorflow:Can save best model only with val_acc available, skipping.\n"
          ],
          "name": "stdout"
        },
        {
          "output_type": "stream",
          "text": [
            "WARNING:tensorflow:Can save best model only with val_acc available, skipping.\n"
          ],
          "name": "stderr"
        },
        {
          "output_type": "stream",
          "text": [
            "Epoch 49/200\n",
            "1/1 [==============================] - 0s 42ms/step - loss: 0.4539 - accuracy: 0.8235 - val_loss: 0.4765 - val_accuracy: 0.8000\n",
            "WARNING:tensorflow:Can save best model only with val_acc available, skipping.\n"
          ],
          "name": "stdout"
        },
        {
          "output_type": "stream",
          "text": [
            "WARNING:tensorflow:Can save best model only with val_acc available, skipping.\n"
          ],
          "name": "stderr"
        },
        {
          "output_type": "stream",
          "text": [
            "Epoch 50/200\n",
            "1/1 [==============================] - 0s 42ms/step - loss: 0.4192 - accuracy: 0.8235 - val_loss: 0.4673 - val_accuracy: 0.8000\n",
            "WARNING:tensorflow:Can save best model only with val_acc available, skipping.\n"
          ],
          "name": "stdout"
        },
        {
          "output_type": "stream",
          "text": [
            "WARNING:tensorflow:Can save best model only with val_acc available, skipping.\n"
          ],
          "name": "stderr"
        },
        {
          "output_type": "stream",
          "text": [
            "Epoch 51/200\n",
            "1/1 [==============================] - 0s 42ms/step - loss: 0.4137 - accuracy: 0.8235 - val_loss: 0.4894 - val_accuracy: 0.8000\n",
            "WARNING:tensorflow:Can save best model only with val_acc available, skipping.\n"
          ],
          "name": "stdout"
        },
        {
          "output_type": "stream",
          "text": [
            "WARNING:tensorflow:Can save best model only with val_acc available, skipping.\n"
          ],
          "name": "stderr"
        },
        {
          "output_type": "stream",
          "text": [
            "Epoch 52/200\n",
            "1/1 [==============================] - 0s 52ms/step - loss: 0.4647 - accuracy: 0.8235 - val_loss: 0.4962 - val_accuracy: 0.8000\n",
            "WARNING:tensorflow:Can save best model only with val_acc available, skipping.\n"
          ],
          "name": "stdout"
        },
        {
          "output_type": "stream",
          "text": [
            "WARNING:tensorflow:Can save best model only with val_acc available, skipping.\n"
          ],
          "name": "stderr"
        },
        {
          "output_type": "stream",
          "text": [
            "Epoch 53/200\n",
            "1/1 [==============================] - 0s 41ms/step - loss: 0.4184 - accuracy: 0.8529 - val_loss: 0.4949 - val_accuracy: 0.8000\n",
            "WARNING:tensorflow:Can save best model only with val_acc available, skipping.\n"
          ],
          "name": "stdout"
        },
        {
          "output_type": "stream",
          "text": [
            "WARNING:tensorflow:Can save best model only with val_acc available, skipping.\n"
          ],
          "name": "stderr"
        },
        {
          "output_type": "stream",
          "text": [
            "Epoch 54/200\n",
            "1/1 [==============================] - 0s 45ms/step - loss: 0.4687 - accuracy: 0.7647 - val_loss: 0.4973 - val_accuracy: 0.8000\n",
            "WARNING:tensorflow:Can save best model only with val_acc available, skipping.\n"
          ],
          "name": "stdout"
        },
        {
          "output_type": "stream",
          "text": [
            "WARNING:tensorflow:Can save best model only with val_acc available, skipping.\n"
          ],
          "name": "stderr"
        },
        {
          "output_type": "stream",
          "text": [
            "Epoch 55/200\n",
            "1/1 [==============================] - 0s 41ms/step - loss: 0.4485 - accuracy: 0.7941 - val_loss: 0.5002 - val_accuracy: 0.8000\n",
            "WARNING:tensorflow:Can save best model only with val_acc available, skipping.\n"
          ],
          "name": "stdout"
        },
        {
          "output_type": "stream",
          "text": [
            "WARNING:tensorflow:Can save best model only with val_acc available, skipping.\n"
          ],
          "name": "stderr"
        },
        {
          "output_type": "stream",
          "text": [
            "Epoch 56/200\n",
            "1/1 [==============================] - 0s 42ms/step - loss: 0.4532 - accuracy: 0.8235 - val_loss: 0.5045 - val_accuracy: 0.8000\n",
            "WARNING:tensorflow:Can save best model only with val_acc available, skipping.\n"
          ],
          "name": "stdout"
        },
        {
          "output_type": "stream",
          "text": [
            "WARNING:tensorflow:Can save best model only with val_acc available, skipping.\n"
          ],
          "name": "stderr"
        },
        {
          "output_type": "stream",
          "text": [
            "Epoch 57/200\n",
            "1/1 [==============================] - 0s 40ms/step - loss: 0.4422 - accuracy: 0.8235 - val_loss: 0.5034 - val_accuracy: 0.8000\n",
            "WARNING:tensorflow:Can save best model only with val_acc available, skipping.\n"
          ],
          "name": "stdout"
        },
        {
          "output_type": "stream",
          "text": [
            "WARNING:tensorflow:Can save best model only with val_acc available, skipping.\n"
          ],
          "name": "stderr"
        },
        {
          "output_type": "stream",
          "text": [
            "Epoch 58/200\n",
            "1/1 [==============================] - 0s 57ms/step - loss: 0.4811 - accuracy: 0.7353 - val_loss: 0.4771 - val_accuracy: 0.8000\n",
            "WARNING:tensorflow:Can save best model only with val_acc available, skipping.\n"
          ],
          "name": "stdout"
        },
        {
          "output_type": "stream",
          "text": [
            "WARNING:tensorflow:Can save best model only with val_acc available, skipping.\n"
          ],
          "name": "stderr"
        },
        {
          "output_type": "stream",
          "text": [
            "Epoch 59/200\n",
            "1/1 [==============================] - 0s 41ms/step - loss: 0.3951 - accuracy: 0.8235 - val_loss: 0.4743 - val_accuracy: 0.8000\n",
            "WARNING:tensorflow:Can save best model only with val_acc available, skipping.\n"
          ],
          "name": "stdout"
        },
        {
          "output_type": "stream",
          "text": [
            "WARNING:tensorflow:Can save best model only with val_acc available, skipping.\n"
          ],
          "name": "stderr"
        },
        {
          "output_type": "stream",
          "text": [
            "Epoch 60/200\n",
            "1/1 [==============================] - 0s 45ms/step - loss: 0.4379 - accuracy: 0.7353 - val_loss: 0.4908 - val_accuracy: 0.8000\n",
            "WARNING:tensorflow:Can save best model only with val_acc available, skipping.\n"
          ],
          "name": "stdout"
        },
        {
          "output_type": "stream",
          "text": [
            "WARNING:tensorflow:Can save best model only with val_acc available, skipping.\n"
          ],
          "name": "stderr"
        },
        {
          "output_type": "stream",
          "text": [
            "Epoch 61/200\n",
            "1/1 [==============================] - 0s 43ms/step - loss: 0.3988 - accuracy: 0.8529 - val_loss: 0.5085 - val_accuracy: 0.8000\n",
            "WARNING:tensorflow:Can save best model only with val_acc available, skipping.\n"
          ],
          "name": "stdout"
        },
        {
          "output_type": "stream",
          "text": [
            "WARNING:tensorflow:Can save best model only with val_acc available, skipping.\n"
          ],
          "name": "stderr"
        },
        {
          "output_type": "stream",
          "text": [
            "Epoch 62/200\n",
            "1/1 [==============================] - 0s 42ms/step - loss: 0.3936 - accuracy: 0.8824 - val_loss: 0.4900 - val_accuracy: 0.7000\n",
            "WARNING:tensorflow:Can save best model only with val_acc available, skipping.\n"
          ],
          "name": "stdout"
        },
        {
          "output_type": "stream",
          "text": [
            "WARNING:tensorflow:Can save best model only with val_acc available, skipping.\n"
          ],
          "name": "stderr"
        },
        {
          "output_type": "stream",
          "text": [
            "Epoch 63/200\n",
            "1/1 [==============================] - 0s 43ms/step - loss: 0.4455 - accuracy: 0.7941 - val_loss: 0.4732 - val_accuracy: 0.8000\n",
            "WARNING:tensorflow:Can save best model only with val_acc available, skipping.\n"
          ],
          "name": "stdout"
        },
        {
          "output_type": "stream",
          "text": [
            "WARNING:tensorflow:Can save best model only with val_acc available, skipping.\n"
          ],
          "name": "stderr"
        },
        {
          "output_type": "stream",
          "text": [
            "Epoch 64/200\n",
            "1/1 [==============================] - 0s 42ms/step - loss: 0.4331 - accuracy: 0.8235 - val_loss: 0.4824 - val_accuracy: 0.8000\n",
            "WARNING:tensorflow:Can save best model only with val_acc available, skipping.\n"
          ],
          "name": "stdout"
        },
        {
          "output_type": "stream",
          "text": [
            "WARNING:tensorflow:Can save best model only with val_acc available, skipping.\n"
          ],
          "name": "stderr"
        },
        {
          "output_type": "stream",
          "text": [
            "Epoch 65/200\n",
            "1/1 [==============================] - 0s 42ms/step - loss: 0.4951 - accuracy: 0.6765 - val_loss: 0.4806 - val_accuracy: 0.8000\n",
            "WARNING:tensorflow:Can save best model only with val_acc available, skipping.\n"
          ],
          "name": "stdout"
        },
        {
          "output_type": "stream",
          "text": [
            "WARNING:tensorflow:Can save best model only with val_acc available, skipping.\n"
          ],
          "name": "stderr"
        },
        {
          "output_type": "stream",
          "text": [
            "Epoch 66/200\n",
            "1/1 [==============================] - 0s 52ms/step - loss: 0.4123 - accuracy: 0.7647 - val_loss: 0.4746 - val_accuracy: 0.8000\n",
            "WARNING:tensorflow:Can save best model only with val_acc available, skipping.\n"
          ],
          "name": "stdout"
        },
        {
          "output_type": "stream",
          "text": [
            "WARNING:tensorflow:Can save best model only with val_acc available, skipping.\n"
          ],
          "name": "stderr"
        },
        {
          "output_type": "stream",
          "text": [
            "Epoch 67/200\n",
            "1/1 [==============================] - 0s 45ms/step - loss: 0.4019 - accuracy: 0.8235 - val_loss: 0.4662 - val_accuracy: 0.8000\n",
            "WARNING:tensorflow:Can save best model only with val_acc available, skipping.\n"
          ],
          "name": "stdout"
        },
        {
          "output_type": "stream",
          "text": [
            "WARNING:tensorflow:Can save best model only with val_acc available, skipping.\n"
          ],
          "name": "stderr"
        },
        {
          "output_type": "stream",
          "text": [
            "Epoch 68/200\n",
            "1/1 [==============================] - 0s 43ms/step - loss: 0.4388 - accuracy: 0.8235 - val_loss: 0.4679 - val_accuracy: 0.8000\n",
            "WARNING:tensorflow:Can save best model only with val_acc available, skipping.\n"
          ],
          "name": "stdout"
        },
        {
          "output_type": "stream",
          "text": [
            "WARNING:tensorflow:Can save best model only with val_acc available, skipping.\n"
          ],
          "name": "stderr"
        },
        {
          "output_type": "stream",
          "text": [
            "Epoch 69/200\n",
            "1/1 [==============================] - 0s 44ms/step - loss: 0.4554 - accuracy: 0.7059 - val_loss: 0.4772 - val_accuracy: 0.8000\n",
            "WARNING:tensorflow:Can save best model only with val_acc available, skipping.\n"
          ],
          "name": "stdout"
        },
        {
          "output_type": "stream",
          "text": [
            "WARNING:tensorflow:Can save best model only with val_acc available, skipping.\n"
          ],
          "name": "stderr"
        },
        {
          "output_type": "stream",
          "text": [
            "Epoch 70/200\n",
            "1/1 [==============================] - 0s 41ms/step - loss: 0.4180 - accuracy: 0.7941 - val_loss: 0.4863 - val_accuracy: 0.8000\n",
            "WARNING:tensorflow:Can save best model only with val_acc available, skipping.\n"
          ],
          "name": "stdout"
        },
        {
          "output_type": "stream",
          "text": [
            "WARNING:tensorflow:Can save best model only with val_acc available, skipping.\n"
          ],
          "name": "stderr"
        },
        {
          "output_type": "stream",
          "text": [
            "Epoch 71/200\n",
            "1/1 [==============================] - 0s 42ms/step - loss: 0.3881 - accuracy: 0.7941 - val_loss: 0.4796 - val_accuracy: 0.8000\n",
            "WARNING:tensorflow:Can save best model only with val_acc available, skipping.\n"
          ],
          "name": "stdout"
        },
        {
          "output_type": "stream",
          "text": [
            "WARNING:tensorflow:Can save best model only with val_acc available, skipping.\n"
          ],
          "name": "stderr"
        },
        {
          "output_type": "stream",
          "text": [
            "Epoch 72/200\n",
            "1/1 [==============================] - 0s 44ms/step - loss: 0.3839 - accuracy: 0.7941 - val_loss: 0.4978 - val_accuracy: 0.7000\n",
            "WARNING:tensorflow:Can save best model only with val_acc available, skipping.\n"
          ],
          "name": "stdout"
        },
        {
          "output_type": "stream",
          "text": [
            "WARNING:tensorflow:Can save best model only with val_acc available, skipping.\n"
          ],
          "name": "stderr"
        },
        {
          "output_type": "stream",
          "text": [
            "Epoch 73/200\n",
            "1/1 [==============================] - 0s 45ms/step - loss: 0.4117 - accuracy: 0.7941 - val_loss: 0.4974 - val_accuracy: 0.7000\n",
            "WARNING:tensorflow:Can save best model only with val_acc available, skipping.\n"
          ],
          "name": "stdout"
        },
        {
          "output_type": "stream",
          "text": [
            "WARNING:tensorflow:Can save best model only with val_acc available, skipping.\n"
          ],
          "name": "stderr"
        },
        {
          "output_type": "stream",
          "text": [
            "Epoch 74/200\n",
            "1/1 [==============================] - 0s 44ms/step - loss: 0.4409 - accuracy: 0.8235 - val_loss: 0.5039 - val_accuracy: 0.7000\n",
            "WARNING:tensorflow:Can save best model only with val_acc available, skipping.\n"
          ],
          "name": "stdout"
        },
        {
          "output_type": "stream",
          "text": [
            "WARNING:tensorflow:Can save best model only with val_acc available, skipping.\n"
          ],
          "name": "stderr"
        },
        {
          "output_type": "stream",
          "text": [
            "Epoch 75/200\n",
            "1/1 [==============================] - 0s 40ms/step - loss: 0.4427 - accuracy: 0.8235 - val_loss: 0.5103 - val_accuracy: 0.6000\n",
            "WARNING:tensorflow:Can save best model only with val_acc available, skipping.\n"
          ],
          "name": "stdout"
        },
        {
          "output_type": "stream",
          "text": [
            "WARNING:tensorflow:Can save best model only with val_acc available, skipping.\n"
          ],
          "name": "stderr"
        },
        {
          "output_type": "stream",
          "text": [
            "Epoch 76/200\n",
            "1/1 [==============================] - 0s 43ms/step - loss: 0.4587 - accuracy: 0.7059 - val_loss: 0.5191 - val_accuracy: 0.6000\n",
            "WARNING:tensorflow:Can save best model only with val_acc available, skipping.\n"
          ],
          "name": "stdout"
        },
        {
          "output_type": "stream",
          "text": [
            "WARNING:tensorflow:Can save best model only with val_acc available, skipping.\n"
          ],
          "name": "stderr"
        },
        {
          "output_type": "stream",
          "text": [
            "Epoch 77/200\n",
            "1/1 [==============================] - 0s 41ms/step - loss: 0.4154 - accuracy: 0.7941 - val_loss: 0.5127 - val_accuracy: 0.7000\n",
            "WARNING:tensorflow:Can save best model only with val_acc available, skipping.\n"
          ],
          "name": "stdout"
        },
        {
          "output_type": "stream",
          "text": [
            "WARNING:tensorflow:Can save best model only with val_acc available, skipping.\n"
          ],
          "name": "stderr"
        },
        {
          "output_type": "stream",
          "text": [
            "Epoch 78/200\n",
            "1/1 [==============================] - 0s 44ms/step - loss: 0.4760 - accuracy: 0.6765 - val_loss: 0.5074 - val_accuracy: 0.7000\n",
            "WARNING:tensorflow:Can save best model only with val_acc available, skipping.\n"
          ],
          "name": "stdout"
        },
        {
          "output_type": "stream",
          "text": [
            "WARNING:tensorflow:Can save best model only with val_acc available, skipping.\n"
          ],
          "name": "stderr"
        },
        {
          "output_type": "stream",
          "text": [
            "Epoch 79/200\n",
            "1/1 [==============================] - 0s 46ms/step - loss: 0.4722 - accuracy: 0.7941 - val_loss: 0.5079 - val_accuracy: 0.7000\n",
            "WARNING:tensorflow:Can save best model only with val_acc available, skipping.\n"
          ],
          "name": "stdout"
        },
        {
          "output_type": "stream",
          "text": [
            "WARNING:tensorflow:Can save best model only with val_acc available, skipping.\n"
          ],
          "name": "stderr"
        },
        {
          "output_type": "stream",
          "text": [
            "Epoch 80/200\n",
            "1/1 [==============================] - 0s 42ms/step - loss: 0.4014 - accuracy: 0.8235 - val_loss: 0.4984 - val_accuracy: 0.8000\n",
            "WARNING:tensorflow:Can save best model only with val_acc available, skipping.\n"
          ],
          "name": "stdout"
        },
        {
          "output_type": "stream",
          "text": [
            "WARNING:tensorflow:Can save best model only with val_acc available, skipping.\n"
          ],
          "name": "stderr"
        },
        {
          "output_type": "stream",
          "text": [
            "Epoch 81/200\n",
            "1/1 [==============================] - 0s 47ms/step - loss: 0.4369 - accuracy: 0.8235 - val_loss: 0.5042 - val_accuracy: 0.8000\n",
            "WARNING:tensorflow:Can save best model only with val_acc available, skipping.\n"
          ],
          "name": "stdout"
        },
        {
          "output_type": "stream",
          "text": [
            "WARNING:tensorflow:Can save best model only with val_acc available, skipping.\n"
          ],
          "name": "stderr"
        },
        {
          "output_type": "stream",
          "text": [
            "Epoch 82/200\n",
            "1/1 [==============================] - 0s 43ms/step - loss: 0.4159 - accuracy: 0.8235 - val_loss: 0.4973 - val_accuracy: 0.8000\n",
            "WARNING:tensorflow:Can save best model only with val_acc available, skipping.\n"
          ],
          "name": "stdout"
        },
        {
          "output_type": "stream",
          "text": [
            "WARNING:tensorflow:Can save best model only with val_acc available, skipping.\n"
          ],
          "name": "stderr"
        },
        {
          "output_type": "stream",
          "text": [
            "Epoch 83/200\n",
            "1/1 [==============================] - 0s 44ms/step - loss: 0.4945 - accuracy: 0.6765 - val_loss: 0.4851 - val_accuracy: 0.8000\n",
            "WARNING:tensorflow:Can save best model only with val_acc available, skipping.\n"
          ],
          "name": "stdout"
        },
        {
          "output_type": "stream",
          "text": [
            "WARNING:tensorflow:Can save best model only with val_acc available, skipping.\n"
          ],
          "name": "stderr"
        },
        {
          "output_type": "stream",
          "text": [
            "Epoch 84/200\n",
            "1/1 [==============================] - 0s 53ms/step - loss: 0.3702 - accuracy: 0.8529 - val_loss: 0.4823 - val_accuracy: 0.8000\n",
            "WARNING:tensorflow:Can save best model only with val_acc available, skipping.\n"
          ],
          "name": "stdout"
        },
        {
          "output_type": "stream",
          "text": [
            "WARNING:tensorflow:Can save best model only with val_acc available, skipping.\n"
          ],
          "name": "stderr"
        },
        {
          "output_type": "stream",
          "text": [
            "Epoch 85/200\n",
            "1/1 [==============================] - 0s 44ms/step - loss: 0.4049 - accuracy: 0.8529 - val_loss: 0.4910 - val_accuracy: 0.8000\n",
            "WARNING:tensorflow:Can save best model only with val_acc available, skipping.\n"
          ],
          "name": "stdout"
        },
        {
          "output_type": "stream",
          "text": [
            "WARNING:tensorflow:Can save best model only with val_acc available, skipping.\n"
          ],
          "name": "stderr"
        },
        {
          "output_type": "stream",
          "text": [
            "Epoch 86/200\n",
            "1/1 [==============================] - 0s 43ms/step - loss: 0.3519 - accuracy: 0.8529 - val_loss: 0.4890 - val_accuracy: 0.8000\n",
            "WARNING:tensorflow:Can save best model only with val_acc available, skipping.\n"
          ],
          "name": "stdout"
        },
        {
          "output_type": "stream",
          "text": [
            "WARNING:tensorflow:Can save best model only with val_acc available, skipping.\n"
          ],
          "name": "stderr"
        },
        {
          "output_type": "stream",
          "text": [
            "Epoch 87/200\n",
            "1/1 [==============================] - 0s 44ms/step - loss: 0.4059 - accuracy: 0.8529 - val_loss: 0.4934 - val_accuracy: 0.8000\n",
            "WARNING:tensorflow:Can save best model only with val_acc available, skipping.\n"
          ],
          "name": "stdout"
        },
        {
          "output_type": "stream",
          "text": [
            "WARNING:tensorflow:Can save best model only with val_acc available, skipping.\n"
          ],
          "name": "stderr"
        },
        {
          "output_type": "stream",
          "text": [
            "Epoch 88/200\n",
            "1/1 [==============================] - 0s 48ms/step - loss: 0.4377 - accuracy: 0.7941 - val_loss: 0.5022 - val_accuracy: 0.8000\n",
            "WARNING:tensorflow:Can save best model only with val_acc available, skipping.\n"
          ],
          "name": "stdout"
        },
        {
          "output_type": "stream",
          "text": [
            "WARNING:tensorflow:Can save best model only with val_acc available, skipping.\n"
          ],
          "name": "stderr"
        },
        {
          "output_type": "stream",
          "text": [
            "Epoch 89/200\n",
            "1/1 [==============================] - 0s 47ms/step - loss: 0.4408 - accuracy: 0.7941 - val_loss: 0.5018 - val_accuracy: 0.8000\n",
            "WARNING:tensorflow:Can save best model only with val_acc available, skipping.\n"
          ],
          "name": "stdout"
        },
        {
          "output_type": "stream",
          "text": [
            "WARNING:tensorflow:Can save best model only with val_acc available, skipping.\n"
          ],
          "name": "stderr"
        },
        {
          "output_type": "stream",
          "text": [
            "Epoch 90/200\n",
            "1/1 [==============================] - 0s 46ms/step - loss: 0.4135 - accuracy: 0.8235 - val_loss: 0.4953 - val_accuracy: 0.8000\n",
            "WARNING:tensorflow:Can save best model only with val_acc available, skipping.\n"
          ],
          "name": "stdout"
        },
        {
          "output_type": "stream",
          "text": [
            "WARNING:tensorflow:Can save best model only with val_acc available, skipping.\n"
          ],
          "name": "stderr"
        },
        {
          "output_type": "stream",
          "text": [
            "Epoch 91/200\n",
            "1/1 [==============================] - 0s 46ms/step - loss: 0.3898 - accuracy: 0.8529 - val_loss: 0.4909 - val_accuracy: 0.8000\n",
            "WARNING:tensorflow:Can save best model only with val_acc available, skipping.\n"
          ],
          "name": "stdout"
        },
        {
          "output_type": "stream",
          "text": [
            "WARNING:tensorflow:Can save best model only with val_acc available, skipping.\n"
          ],
          "name": "stderr"
        },
        {
          "output_type": "stream",
          "text": [
            "Epoch 92/200\n",
            "1/1 [==============================] - 0s 43ms/step - loss: 0.3922 - accuracy: 0.8235 - val_loss: 0.4836 - val_accuracy: 0.8000\n",
            "WARNING:tensorflow:Can save best model only with val_acc available, skipping.\n"
          ],
          "name": "stdout"
        },
        {
          "output_type": "stream",
          "text": [
            "WARNING:tensorflow:Can save best model only with val_acc available, skipping.\n"
          ],
          "name": "stderr"
        },
        {
          "output_type": "stream",
          "text": [
            "Epoch 93/200\n",
            "1/1 [==============================] - 0s 43ms/step - loss: 0.4218 - accuracy: 0.7941 - val_loss: 0.4858 - val_accuracy: 0.8000\n",
            "WARNING:tensorflow:Can save best model only with val_acc available, skipping.\n"
          ],
          "name": "stdout"
        },
        {
          "output_type": "stream",
          "text": [
            "WARNING:tensorflow:Can save best model only with val_acc available, skipping.\n"
          ],
          "name": "stderr"
        },
        {
          "output_type": "stream",
          "text": [
            "Epoch 94/200\n",
            "1/1 [==============================] - 0s 43ms/step - loss: 0.4159 - accuracy: 0.7941 - val_loss: 0.4761 - val_accuracy: 0.8000\n",
            "WARNING:tensorflow:Can save best model only with val_acc available, skipping.\n"
          ],
          "name": "stdout"
        },
        {
          "output_type": "stream",
          "text": [
            "WARNING:tensorflow:Can save best model only with val_acc available, skipping.\n"
          ],
          "name": "stderr"
        },
        {
          "output_type": "stream",
          "text": [
            "Epoch 95/200\n",
            "1/1 [==============================] - 0s 46ms/step - loss: 0.4439 - accuracy: 0.7941 - val_loss: 0.4737 - val_accuracy: 0.8000\n",
            "WARNING:tensorflow:Can save best model only with val_acc available, skipping.\n"
          ],
          "name": "stdout"
        },
        {
          "output_type": "stream",
          "text": [
            "WARNING:tensorflow:Can save best model only with val_acc available, skipping.\n"
          ],
          "name": "stderr"
        },
        {
          "output_type": "stream",
          "text": [
            "Epoch 96/200\n",
            "1/1 [==============================] - 0s 47ms/step - loss: 0.4089 - accuracy: 0.7941 - val_loss: 0.4718 - val_accuracy: 0.8000\n",
            "WARNING:tensorflow:Can save best model only with val_acc available, skipping.\n"
          ],
          "name": "stdout"
        },
        {
          "output_type": "stream",
          "text": [
            "WARNING:tensorflow:Can save best model only with val_acc available, skipping.\n"
          ],
          "name": "stderr"
        },
        {
          "output_type": "stream",
          "text": [
            "Epoch 97/200\n",
            "1/1 [==============================] - 0s 44ms/step - loss: 0.4041 - accuracy: 0.8824 - val_loss: 0.4803 - val_accuracy: 0.8000\n",
            "WARNING:tensorflow:Can save best model only with val_acc available, skipping.\n"
          ],
          "name": "stdout"
        },
        {
          "output_type": "stream",
          "text": [
            "WARNING:tensorflow:Can save best model only with val_acc available, skipping.\n"
          ],
          "name": "stderr"
        },
        {
          "output_type": "stream",
          "text": [
            "Epoch 98/200\n",
            "1/1 [==============================] - 0s 45ms/step - loss: 0.4094 - accuracy: 0.7941 - val_loss: 0.4839 - val_accuracy: 0.8000\n",
            "WARNING:tensorflow:Can save best model only with val_acc available, skipping.\n"
          ],
          "name": "stdout"
        },
        {
          "output_type": "stream",
          "text": [
            "WARNING:tensorflow:Can save best model only with val_acc available, skipping.\n"
          ],
          "name": "stderr"
        },
        {
          "output_type": "stream",
          "text": [
            "Epoch 99/200\n",
            "1/1 [==============================] - 0s 42ms/step - loss: 0.4014 - accuracy: 0.8235 - val_loss: 0.4783 - val_accuracy: 0.8000\n",
            "WARNING:tensorflow:Can save best model only with val_acc available, skipping.\n"
          ],
          "name": "stdout"
        },
        {
          "output_type": "stream",
          "text": [
            "WARNING:tensorflow:Can save best model only with val_acc available, skipping.\n"
          ],
          "name": "stderr"
        },
        {
          "output_type": "stream",
          "text": [
            "Epoch 100/200\n",
            "1/1 [==============================] - 0s 43ms/step - loss: 0.3638 - accuracy: 0.8529 - val_loss: 0.4732 - val_accuracy: 0.8000\n",
            "WARNING:tensorflow:Can save best model only with val_acc available, skipping.\n"
          ],
          "name": "stdout"
        },
        {
          "output_type": "stream",
          "text": [
            "WARNING:tensorflow:Can save best model only with val_acc available, skipping.\n"
          ],
          "name": "stderr"
        },
        {
          "output_type": "stream",
          "text": [
            "Epoch 101/200\n",
            "1/1 [==============================] - 0s 42ms/step - loss: 0.4038 - accuracy: 0.8235 - val_loss: 0.4650 - val_accuracy: 0.8000\n",
            "WARNING:tensorflow:Can save best model only with val_acc available, skipping.\n"
          ],
          "name": "stdout"
        },
        {
          "output_type": "stream",
          "text": [
            "WARNING:tensorflow:Can save best model only with val_acc available, skipping.\n"
          ],
          "name": "stderr"
        },
        {
          "output_type": "stream",
          "text": [
            "Epoch 102/200\n",
            "1/1 [==============================] - 0s 47ms/step - loss: 0.3962 - accuracy: 0.8529 - val_loss: 0.4690 - val_accuracy: 0.8000\n",
            "WARNING:tensorflow:Can save best model only with val_acc available, skipping.\n"
          ],
          "name": "stdout"
        },
        {
          "output_type": "stream",
          "text": [
            "WARNING:tensorflow:Can save best model only with val_acc available, skipping.\n"
          ],
          "name": "stderr"
        },
        {
          "output_type": "stream",
          "text": [
            "Epoch 103/200\n",
            "1/1 [==============================] - 0s 43ms/step - loss: 0.3670 - accuracy: 0.8235 - val_loss: 0.4799 - val_accuracy: 0.8000\n",
            "WARNING:tensorflow:Can save best model only with val_acc available, skipping.\n"
          ],
          "name": "stdout"
        },
        {
          "output_type": "stream",
          "text": [
            "WARNING:tensorflow:Can save best model only with val_acc available, skipping.\n"
          ],
          "name": "stderr"
        },
        {
          "output_type": "stream",
          "text": [
            "Epoch 104/200\n",
            "1/1 [==============================] - 0s 43ms/step - loss: 0.4555 - accuracy: 0.7941 - val_loss: 0.4870 - val_accuracy: 0.8000\n",
            "WARNING:tensorflow:Can save best model only with val_acc available, skipping.\n"
          ],
          "name": "stdout"
        },
        {
          "output_type": "stream",
          "text": [
            "WARNING:tensorflow:Can save best model only with val_acc available, skipping.\n"
          ],
          "name": "stderr"
        },
        {
          "output_type": "stream",
          "text": [
            "Epoch 105/200\n",
            "1/1 [==============================] - 0s 45ms/step - loss: 0.4168 - accuracy: 0.7647 - val_loss: 0.4883 - val_accuracy: 0.8000\n",
            "WARNING:tensorflow:Can save best model only with val_acc available, skipping.\n"
          ],
          "name": "stdout"
        },
        {
          "output_type": "stream",
          "text": [
            "WARNING:tensorflow:Can save best model only with val_acc available, skipping.\n"
          ],
          "name": "stderr"
        },
        {
          "output_type": "stream",
          "text": [
            "Epoch 106/200\n",
            "1/1 [==============================] - 0s 46ms/step - loss: 0.3978 - accuracy: 0.8529 - val_loss: 0.4848 - val_accuracy: 0.8000\n",
            "WARNING:tensorflow:Can save best model only with val_acc available, skipping.\n"
          ],
          "name": "stdout"
        },
        {
          "output_type": "stream",
          "text": [
            "WARNING:tensorflow:Can save best model only with val_acc available, skipping.\n"
          ],
          "name": "stderr"
        },
        {
          "output_type": "stream",
          "text": [
            "Epoch 107/200\n",
            "1/1 [==============================] - 0s 45ms/step - loss: 0.4266 - accuracy: 0.8529 - val_loss: 0.4825 - val_accuracy: 0.8000\n",
            "WARNING:tensorflow:Can save best model only with val_acc available, skipping.\n"
          ],
          "name": "stdout"
        },
        {
          "output_type": "stream",
          "text": [
            "WARNING:tensorflow:Can save best model only with val_acc available, skipping.\n"
          ],
          "name": "stderr"
        },
        {
          "output_type": "stream",
          "text": [
            "Epoch 108/200\n",
            "1/1 [==============================] - 0s 43ms/step - loss: 0.4315 - accuracy: 0.7941 - val_loss: 0.4877 - val_accuracy: 0.8000\n",
            "WARNING:tensorflow:Can save best model only with val_acc available, skipping.\n"
          ],
          "name": "stdout"
        },
        {
          "output_type": "stream",
          "text": [
            "WARNING:tensorflow:Can save best model only with val_acc available, skipping.\n"
          ],
          "name": "stderr"
        },
        {
          "output_type": "stream",
          "text": [
            "Epoch 109/200\n",
            "1/1 [==============================] - 0s 44ms/step - loss: 0.4039 - accuracy: 0.7353 - val_loss: 0.5043 - val_accuracy: 0.8000\n",
            "WARNING:tensorflow:Can save best model only with val_acc available, skipping.\n"
          ],
          "name": "stdout"
        },
        {
          "output_type": "stream",
          "text": [
            "WARNING:tensorflow:Can save best model only with val_acc available, skipping.\n"
          ],
          "name": "stderr"
        },
        {
          "output_type": "stream",
          "text": [
            "Epoch 110/200\n",
            "1/1 [==============================] - 0s 43ms/step - loss: 0.3715 - accuracy: 0.8235 - val_loss: 0.4951 - val_accuracy: 0.8000\n",
            "WARNING:tensorflow:Can save best model only with val_acc available, skipping.\n"
          ],
          "name": "stdout"
        },
        {
          "output_type": "stream",
          "text": [
            "WARNING:tensorflow:Can save best model only with val_acc available, skipping.\n"
          ],
          "name": "stderr"
        },
        {
          "output_type": "stream",
          "text": [
            "Epoch 111/200\n",
            "1/1 [==============================] - 0s 44ms/step - loss: 0.3362 - accuracy: 0.9118 - val_loss: 0.5004 - val_accuracy: 0.8000\n",
            "WARNING:tensorflow:Can save best model only with val_acc available, skipping.\n"
          ],
          "name": "stdout"
        },
        {
          "output_type": "stream",
          "text": [
            "WARNING:tensorflow:Can save best model only with val_acc available, skipping.\n"
          ],
          "name": "stderr"
        },
        {
          "output_type": "stream",
          "text": [
            "Epoch 112/200\n",
            "1/1 [==============================] - 0s 44ms/step - loss: 0.4482 - accuracy: 0.7941 - val_loss: 0.5087 - val_accuracy: 0.7000\n",
            "WARNING:tensorflow:Can save best model only with val_acc available, skipping.\n"
          ],
          "name": "stdout"
        },
        {
          "output_type": "stream",
          "text": [
            "WARNING:tensorflow:Can save best model only with val_acc available, skipping.\n"
          ],
          "name": "stderr"
        },
        {
          "output_type": "stream",
          "text": [
            "Epoch 113/200\n",
            "1/1 [==============================] - 0s 44ms/step - loss: 0.4005 - accuracy: 0.7647 - val_loss: 0.5031 - val_accuracy: 0.8000\n",
            "WARNING:tensorflow:Can save best model only with val_acc available, skipping.\n"
          ],
          "name": "stdout"
        },
        {
          "output_type": "stream",
          "text": [
            "WARNING:tensorflow:Can save best model only with val_acc available, skipping.\n"
          ],
          "name": "stderr"
        },
        {
          "output_type": "stream",
          "text": [
            "Epoch 114/200\n",
            "1/1 [==============================] - 0s 43ms/step - loss: 0.3862 - accuracy: 0.8529 - val_loss: 0.4985 - val_accuracy: 0.8000\n",
            "WARNING:tensorflow:Can save best model only with val_acc available, skipping.\n"
          ],
          "name": "stdout"
        },
        {
          "output_type": "stream",
          "text": [
            "WARNING:tensorflow:Can save best model only with val_acc available, skipping.\n"
          ],
          "name": "stderr"
        },
        {
          "output_type": "stream",
          "text": [
            "Epoch 115/200\n",
            "1/1 [==============================] - 0s 48ms/step - loss: 0.4051 - accuracy: 0.7941 - val_loss: 0.4922 - val_accuracy: 0.8000\n",
            "WARNING:tensorflow:Can save best model only with val_acc available, skipping.\n"
          ],
          "name": "stdout"
        },
        {
          "output_type": "stream",
          "text": [
            "WARNING:tensorflow:Can save best model only with val_acc available, skipping.\n"
          ],
          "name": "stderr"
        },
        {
          "output_type": "stream",
          "text": [
            "Epoch 116/200\n",
            "1/1 [==============================] - 0s 41ms/step - loss: 0.3836 - accuracy: 0.8824 - val_loss: 0.4912 - val_accuracy: 0.8000\n",
            "WARNING:tensorflow:Can save best model only with val_acc available, skipping.\n"
          ],
          "name": "stdout"
        },
        {
          "output_type": "stream",
          "text": [
            "WARNING:tensorflow:Can save best model only with val_acc available, skipping.\n"
          ],
          "name": "stderr"
        },
        {
          "output_type": "stream",
          "text": [
            "Epoch 117/200\n",
            "1/1 [==============================] - 0s 47ms/step - loss: 0.3713 - accuracy: 0.7941 - val_loss: 0.4890 - val_accuracy: 0.8000\n",
            "WARNING:tensorflow:Can save best model only with val_acc available, skipping.\n"
          ],
          "name": "stdout"
        },
        {
          "output_type": "stream",
          "text": [
            "WARNING:tensorflow:Can save best model only with val_acc available, skipping.\n"
          ],
          "name": "stderr"
        },
        {
          "output_type": "stream",
          "text": [
            "Epoch 118/200\n",
            "1/1 [==============================] - 0s 42ms/step - loss: 0.4091 - accuracy: 0.8529 - val_loss: 0.4820 - val_accuracy: 0.8000\n",
            "WARNING:tensorflow:Can save best model only with val_acc available, skipping.\n"
          ],
          "name": "stdout"
        },
        {
          "output_type": "stream",
          "text": [
            "WARNING:tensorflow:Can save best model only with val_acc available, skipping.\n"
          ],
          "name": "stderr"
        },
        {
          "output_type": "stream",
          "text": [
            "Epoch 119/200\n",
            "1/1 [==============================] - 0s 46ms/step - loss: 0.3914 - accuracy: 0.8235 - val_loss: 0.4759 - val_accuracy: 0.8000\n",
            "WARNING:tensorflow:Can save best model only with val_acc available, skipping.\n"
          ],
          "name": "stdout"
        },
        {
          "output_type": "stream",
          "text": [
            "WARNING:tensorflow:Can save best model only with val_acc available, skipping.\n"
          ],
          "name": "stderr"
        },
        {
          "output_type": "stream",
          "text": [
            "Epoch 120/200\n",
            "1/1 [==============================] - 0s 50ms/step - loss: 0.4159 - accuracy: 0.7647 - val_loss: 0.4732 - val_accuracy: 0.8000\n",
            "WARNING:tensorflow:Can save best model only with val_acc available, skipping.\n"
          ],
          "name": "stdout"
        },
        {
          "output_type": "stream",
          "text": [
            "WARNING:tensorflow:Can save best model only with val_acc available, skipping.\n"
          ],
          "name": "stderr"
        },
        {
          "output_type": "stream",
          "text": [
            "Epoch 121/200\n",
            "1/1 [==============================] - 0s 43ms/step - loss: 0.3967 - accuracy: 0.7941 - val_loss: 0.4756 - val_accuracy: 0.7000\n",
            "WARNING:tensorflow:Can save best model only with val_acc available, skipping.\n"
          ],
          "name": "stdout"
        },
        {
          "output_type": "stream",
          "text": [
            "WARNING:tensorflow:Can save best model only with val_acc available, skipping.\n"
          ],
          "name": "stderr"
        },
        {
          "output_type": "stream",
          "text": [
            "Epoch 122/200\n",
            "1/1 [==============================] - 0s 42ms/step - loss: 0.4458 - accuracy: 0.8235 - val_loss: 0.4823 - val_accuracy: 0.7000\n",
            "WARNING:tensorflow:Can save best model only with val_acc available, skipping.\n"
          ],
          "name": "stdout"
        },
        {
          "output_type": "stream",
          "text": [
            "WARNING:tensorflow:Can save best model only with val_acc available, skipping.\n"
          ],
          "name": "stderr"
        },
        {
          "output_type": "stream",
          "text": [
            "Epoch 123/200\n",
            "1/1 [==============================] - 0s 43ms/step - loss: 0.3861 - accuracy: 0.8235 - val_loss: 0.4647 - val_accuracy: 0.8000\n",
            "WARNING:tensorflow:Can save best model only with val_acc available, skipping.\n"
          ],
          "name": "stdout"
        },
        {
          "output_type": "stream",
          "text": [
            "WARNING:tensorflow:Can save best model only with val_acc available, skipping.\n"
          ],
          "name": "stderr"
        },
        {
          "output_type": "stream",
          "text": [
            "Epoch 124/200\n",
            "1/1 [==============================] - 0s 42ms/step - loss: 0.3592 - accuracy: 0.8824 - val_loss: 0.4693 - val_accuracy: 0.8000\n",
            "WARNING:tensorflow:Can save best model only with val_acc available, skipping.\n"
          ],
          "name": "stdout"
        },
        {
          "output_type": "stream",
          "text": [
            "WARNING:tensorflow:Can save best model only with val_acc available, skipping.\n"
          ],
          "name": "stderr"
        },
        {
          "output_type": "stream",
          "text": [
            "Epoch 125/200\n",
            "1/1 [==============================] - 0s 46ms/step - loss: 0.3738 - accuracy: 0.8529 - val_loss: 0.4759 - val_accuracy: 0.7000\n",
            "WARNING:tensorflow:Can save best model only with val_acc available, skipping.\n"
          ],
          "name": "stdout"
        },
        {
          "output_type": "stream",
          "text": [
            "WARNING:tensorflow:Can save best model only with val_acc available, skipping.\n"
          ],
          "name": "stderr"
        },
        {
          "output_type": "stream",
          "text": [
            "Epoch 126/200\n",
            "1/1 [==============================] - 0s 46ms/step - loss: 0.3927 - accuracy: 0.8235 - val_loss: 0.4861 - val_accuracy: 0.7000\n",
            "WARNING:tensorflow:Can save best model only with val_acc available, skipping.\n"
          ],
          "name": "stdout"
        },
        {
          "output_type": "stream",
          "text": [
            "WARNING:tensorflow:Can save best model only with val_acc available, skipping.\n"
          ],
          "name": "stderr"
        },
        {
          "output_type": "stream",
          "text": [
            "Epoch 127/200\n",
            "1/1 [==============================] - 0s 45ms/step - loss: 0.3816 - accuracy: 0.8824 - val_loss: 0.4919 - val_accuracy: 0.6000\n",
            "WARNING:tensorflow:Can save best model only with val_acc available, skipping.\n"
          ],
          "name": "stdout"
        },
        {
          "output_type": "stream",
          "text": [
            "WARNING:tensorflow:Can save best model only with val_acc available, skipping.\n"
          ],
          "name": "stderr"
        },
        {
          "output_type": "stream",
          "text": [
            "Epoch 128/200\n",
            "1/1 [==============================] - 0s 44ms/step - loss: 0.4292 - accuracy: 0.7941 - val_loss: 0.4889 - val_accuracy: 0.6000\n",
            "WARNING:tensorflow:Can save best model only with val_acc available, skipping.\n"
          ],
          "name": "stdout"
        },
        {
          "output_type": "stream",
          "text": [
            "WARNING:tensorflow:Can save best model only with val_acc available, skipping.\n"
          ],
          "name": "stderr"
        },
        {
          "output_type": "stream",
          "text": [
            "Epoch 129/200\n",
            "1/1 [==============================] - 0s 47ms/step - loss: 0.4108 - accuracy: 0.8235 - val_loss: 0.4865 - val_accuracy: 0.6000\n",
            "WARNING:tensorflow:Can save best model only with val_acc available, skipping.\n"
          ],
          "name": "stdout"
        },
        {
          "output_type": "stream",
          "text": [
            "WARNING:tensorflow:Can save best model only with val_acc available, skipping.\n"
          ],
          "name": "stderr"
        },
        {
          "output_type": "stream",
          "text": [
            "Epoch 130/200\n",
            "1/1 [==============================] - 0s 44ms/step - loss: 0.3505 - accuracy: 0.8235 - val_loss: 0.4864 - val_accuracy: 0.7000\n",
            "WARNING:tensorflow:Can save best model only with val_acc available, skipping.\n"
          ],
          "name": "stdout"
        },
        {
          "output_type": "stream",
          "text": [
            "WARNING:tensorflow:Can save best model only with val_acc available, skipping.\n"
          ],
          "name": "stderr"
        },
        {
          "output_type": "stream",
          "text": [
            "Epoch 131/200\n",
            "1/1 [==============================] - 0s 59ms/step - loss: 0.4330 - accuracy: 0.7647 - val_loss: 0.4888 - val_accuracy: 0.7000\n",
            "WARNING:tensorflow:Can save best model only with val_acc available, skipping.\n"
          ],
          "name": "stdout"
        },
        {
          "output_type": "stream",
          "text": [
            "WARNING:tensorflow:Can save best model only with val_acc available, skipping.\n"
          ],
          "name": "stderr"
        },
        {
          "output_type": "stream",
          "text": [
            "Epoch 132/200\n",
            "1/1 [==============================] - 0s 63ms/step - loss: 0.4308 - accuracy: 0.8235 - val_loss: 0.4970 - val_accuracy: 0.7000\n",
            "WARNING:tensorflow:Can save best model only with val_acc available, skipping.\n"
          ],
          "name": "stdout"
        },
        {
          "output_type": "stream",
          "text": [
            "WARNING:tensorflow:Can save best model only with val_acc available, skipping.\n"
          ],
          "name": "stderr"
        },
        {
          "output_type": "stream",
          "text": [
            "Epoch 133/200\n",
            "1/1 [==============================] - 0s 46ms/step - loss: 0.4239 - accuracy: 0.8529 - val_loss: 0.4955 - val_accuracy: 0.7000\n",
            "WARNING:tensorflow:Can save best model only with val_acc available, skipping.\n"
          ],
          "name": "stdout"
        },
        {
          "output_type": "stream",
          "text": [
            "WARNING:tensorflow:Can save best model only with val_acc available, skipping.\n"
          ],
          "name": "stderr"
        },
        {
          "output_type": "stream",
          "text": [
            "Epoch 134/200\n",
            "1/1 [==============================] - 0s 42ms/step - loss: 0.3693 - accuracy: 0.8824 - val_loss: 0.4752 - val_accuracy: 0.8000\n",
            "WARNING:tensorflow:Can save best model only with val_acc available, skipping.\n"
          ],
          "name": "stdout"
        },
        {
          "output_type": "stream",
          "text": [
            "WARNING:tensorflow:Can save best model only with val_acc available, skipping.\n"
          ],
          "name": "stderr"
        },
        {
          "output_type": "stream",
          "text": [
            "Epoch 135/200\n",
            "1/1 [==============================] - 0s 45ms/step - loss: 0.4056 - accuracy: 0.7941 - val_loss: 0.4749 - val_accuracy: 0.8000\n",
            "WARNING:tensorflow:Can save best model only with val_acc available, skipping.\n"
          ],
          "name": "stdout"
        },
        {
          "output_type": "stream",
          "text": [
            "WARNING:tensorflow:Can save best model only with val_acc available, skipping.\n"
          ],
          "name": "stderr"
        },
        {
          "output_type": "stream",
          "text": [
            "Epoch 136/200\n",
            "1/1 [==============================] - 0s 44ms/step - loss: 0.4142 - accuracy: 0.8235 - val_loss: 0.4740 - val_accuracy: 0.8000\n",
            "WARNING:tensorflow:Can save best model only with val_acc available, skipping.\n"
          ],
          "name": "stdout"
        },
        {
          "output_type": "stream",
          "text": [
            "WARNING:tensorflow:Can save best model only with val_acc available, skipping.\n"
          ],
          "name": "stderr"
        },
        {
          "output_type": "stream",
          "text": [
            "Epoch 137/200\n",
            "1/1 [==============================] - 0s 51ms/step - loss: 0.4039 - accuracy: 0.7941 - val_loss: 0.4710 - val_accuracy: 0.8000\n",
            "WARNING:tensorflow:Can save best model only with val_acc available, skipping.\n"
          ],
          "name": "stdout"
        },
        {
          "output_type": "stream",
          "text": [
            "WARNING:tensorflow:Can save best model only with val_acc available, skipping.\n"
          ],
          "name": "stderr"
        },
        {
          "output_type": "stream",
          "text": [
            "Epoch 138/200\n",
            "1/1 [==============================] - 0s 52ms/step - loss: 0.3858 - accuracy: 0.8235 - val_loss: 0.4768 - val_accuracy: 0.8000\n",
            "WARNING:tensorflow:Can save best model only with val_acc available, skipping.\n"
          ],
          "name": "stdout"
        },
        {
          "output_type": "stream",
          "text": [
            "WARNING:tensorflow:Can save best model only with val_acc available, skipping.\n"
          ],
          "name": "stderr"
        },
        {
          "output_type": "stream",
          "text": [
            "Epoch 139/200\n",
            "1/1 [==============================] - 0s 44ms/step - loss: 0.3635 - accuracy: 0.8529 - val_loss: 0.4732 - val_accuracy: 0.7000\n",
            "WARNING:tensorflow:Can save best model only with val_acc available, skipping.\n"
          ],
          "name": "stdout"
        },
        {
          "output_type": "stream",
          "text": [
            "WARNING:tensorflow:Can save best model only with val_acc available, skipping.\n"
          ],
          "name": "stderr"
        },
        {
          "output_type": "stream",
          "text": [
            "Epoch 140/200\n",
            "1/1 [==============================] - 0s 41ms/step - loss: 0.4577 - accuracy: 0.7353 - val_loss: 0.4713 - val_accuracy: 0.7000\n",
            "WARNING:tensorflow:Can save best model only with val_acc available, skipping.\n"
          ],
          "name": "stdout"
        },
        {
          "output_type": "stream",
          "text": [
            "WARNING:tensorflow:Can save best model only with val_acc available, skipping.\n"
          ],
          "name": "stderr"
        },
        {
          "output_type": "stream",
          "text": [
            "Epoch 141/200\n",
            "1/1 [==============================] - 0s 47ms/step - loss: 0.3723 - accuracy: 0.8235 - val_loss: 0.4790 - val_accuracy: 0.7000\n",
            "WARNING:tensorflow:Can save best model only with val_acc available, skipping.\n"
          ],
          "name": "stdout"
        },
        {
          "output_type": "stream",
          "text": [
            "WARNING:tensorflow:Can save best model only with val_acc available, skipping.\n"
          ],
          "name": "stderr"
        },
        {
          "output_type": "stream",
          "text": [
            "Epoch 142/200\n",
            "1/1 [==============================] - 0s 42ms/step - loss: 0.3959 - accuracy: 0.8529 - val_loss: 0.4843 - val_accuracy: 0.7000\n",
            "WARNING:tensorflow:Can save best model only with val_acc available, skipping.\n"
          ],
          "name": "stdout"
        },
        {
          "output_type": "stream",
          "text": [
            "WARNING:tensorflow:Can save best model only with val_acc available, skipping.\n"
          ],
          "name": "stderr"
        },
        {
          "output_type": "stream",
          "text": [
            "Epoch 143/200\n",
            "1/1 [==============================] - 0s 50ms/step - loss: 0.3934 - accuracy: 0.8235 - val_loss: 0.4831 - val_accuracy: 0.7000\n",
            "WARNING:tensorflow:Can save best model only with val_acc available, skipping.\n"
          ],
          "name": "stdout"
        },
        {
          "output_type": "stream",
          "text": [
            "WARNING:tensorflow:Can save best model only with val_acc available, skipping.\n"
          ],
          "name": "stderr"
        },
        {
          "output_type": "stream",
          "text": [
            "Epoch 144/200\n",
            "1/1 [==============================] - 0s 43ms/step - loss: 0.3806 - accuracy: 0.8529 - val_loss: 0.4835 - val_accuracy: 0.7000\n",
            "WARNING:tensorflow:Can save best model only with val_acc available, skipping.\n"
          ],
          "name": "stdout"
        },
        {
          "output_type": "stream",
          "text": [
            "WARNING:tensorflow:Can save best model only with val_acc available, skipping.\n"
          ],
          "name": "stderr"
        },
        {
          "output_type": "stream",
          "text": [
            "Epoch 145/200\n",
            "1/1 [==============================] - 0s 45ms/step - loss: 0.4280 - accuracy: 0.8235 - val_loss: 0.4877 - val_accuracy: 0.7000\n",
            "WARNING:tensorflow:Can save best model only with val_acc available, skipping.\n"
          ],
          "name": "stdout"
        },
        {
          "output_type": "stream",
          "text": [
            "WARNING:tensorflow:Can save best model only with val_acc available, skipping.\n"
          ],
          "name": "stderr"
        },
        {
          "output_type": "stream",
          "text": [
            "Epoch 146/200\n",
            "1/1 [==============================] - 0s 42ms/step - loss: 0.4023 - accuracy: 0.8529 - val_loss: 0.4826 - val_accuracy: 0.8000\n",
            "WARNING:tensorflow:Can save best model only with val_acc available, skipping.\n"
          ],
          "name": "stdout"
        },
        {
          "output_type": "stream",
          "text": [
            "WARNING:tensorflow:Can save best model only with val_acc available, skipping.\n"
          ],
          "name": "stderr"
        },
        {
          "output_type": "stream",
          "text": [
            "Epoch 147/200\n",
            "1/1 [==============================] - 0s 45ms/step - loss: 0.3561 - accuracy: 0.8235 - val_loss: 0.4811 - val_accuracy: 0.8000\n",
            "WARNING:tensorflow:Can save best model only with val_acc available, skipping.\n"
          ],
          "name": "stdout"
        },
        {
          "output_type": "stream",
          "text": [
            "WARNING:tensorflow:Can save best model only with val_acc available, skipping.\n"
          ],
          "name": "stderr"
        },
        {
          "output_type": "stream",
          "text": [
            "Epoch 148/200\n",
            "1/1 [==============================] - 0s 47ms/step - loss: 0.3838 - accuracy: 0.7941 - val_loss: 0.4734 - val_accuracy: 0.8000\n",
            "WARNING:tensorflow:Can save best model only with val_acc available, skipping.\n"
          ],
          "name": "stdout"
        },
        {
          "output_type": "stream",
          "text": [
            "WARNING:tensorflow:Can save best model only with val_acc available, skipping.\n"
          ],
          "name": "stderr"
        },
        {
          "output_type": "stream",
          "text": [
            "Epoch 149/200\n",
            "1/1 [==============================] - 0s 47ms/step - loss: 0.3702 - accuracy: 0.8824 - val_loss: 0.4676 - val_accuracy: 0.8000\n",
            "WARNING:tensorflow:Can save best model only with val_acc available, skipping.\n"
          ],
          "name": "stdout"
        },
        {
          "output_type": "stream",
          "text": [
            "WARNING:tensorflow:Can save best model only with val_acc available, skipping.\n"
          ],
          "name": "stderr"
        },
        {
          "output_type": "stream",
          "text": [
            "Epoch 150/200\n",
            "1/1 [==============================] - 0s 43ms/step - loss: 0.3956 - accuracy: 0.8235 - val_loss: 0.4597 - val_accuracy: 0.8000\n",
            "WARNING:tensorflow:Can save best model only with val_acc available, skipping.\n"
          ],
          "name": "stdout"
        },
        {
          "output_type": "stream",
          "text": [
            "WARNING:tensorflow:Can save best model only with val_acc available, skipping.\n"
          ],
          "name": "stderr"
        },
        {
          "output_type": "stream",
          "text": [
            "Epoch 151/200\n",
            "1/1 [==============================] - 0s 44ms/step - loss: 0.3457 - accuracy: 0.8235 - val_loss: 0.4594 - val_accuracy: 0.8000\n",
            "WARNING:tensorflow:Can save best model only with val_acc available, skipping.\n"
          ],
          "name": "stdout"
        },
        {
          "output_type": "stream",
          "text": [
            "WARNING:tensorflow:Can save best model only with val_acc available, skipping.\n"
          ],
          "name": "stderr"
        },
        {
          "output_type": "stream",
          "text": [
            "Epoch 152/200\n",
            "1/1 [==============================] - 0s 47ms/step - loss: 0.3379 - accuracy: 0.8824 - val_loss: 0.4585 - val_accuracy: 0.8000\n",
            "WARNING:tensorflow:Can save best model only with val_acc available, skipping.\n"
          ],
          "name": "stdout"
        },
        {
          "output_type": "stream",
          "text": [
            "WARNING:tensorflow:Can save best model only with val_acc available, skipping.\n"
          ],
          "name": "stderr"
        },
        {
          "output_type": "stream",
          "text": [
            "Epoch 153/200\n",
            "1/1 [==============================] - 0s 52ms/step - loss: 0.3690 - accuracy: 0.8824 - val_loss: 0.4578 - val_accuracy: 0.8000\n",
            "WARNING:tensorflow:Can save best model only with val_acc available, skipping.\n"
          ],
          "name": "stdout"
        },
        {
          "output_type": "stream",
          "text": [
            "WARNING:tensorflow:Can save best model only with val_acc available, skipping.\n"
          ],
          "name": "stderr"
        },
        {
          "output_type": "stream",
          "text": [
            "Epoch 154/200\n",
            "1/1 [==============================] - 0s 53ms/step - loss: 0.3842 - accuracy: 0.8824 - val_loss: 0.4600 - val_accuracy: 0.8000\n",
            "WARNING:tensorflow:Can save best model only with val_acc available, skipping.\n"
          ],
          "name": "stdout"
        },
        {
          "output_type": "stream",
          "text": [
            "WARNING:tensorflow:Can save best model only with val_acc available, skipping.\n"
          ],
          "name": "stderr"
        },
        {
          "output_type": "stream",
          "text": [
            "Epoch 155/200\n",
            "1/1 [==============================] - 0s 41ms/step - loss: 0.3571 - accuracy: 0.8824 - val_loss: 0.4602 - val_accuracy: 0.8000\n",
            "WARNING:tensorflow:Can save best model only with val_acc available, skipping.\n"
          ],
          "name": "stdout"
        },
        {
          "output_type": "stream",
          "text": [
            "WARNING:tensorflow:Can save best model only with val_acc available, skipping.\n"
          ],
          "name": "stderr"
        },
        {
          "output_type": "stream",
          "text": [
            "Epoch 156/200\n",
            "1/1 [==============================] - 0s 45ms/step - loss: 0.3481 - accuracy: 0.8824 - val_loss: 0.4597 - val_accuracy: 0.8000\n",
            "WARNING:tensorflow:Can save best model only with val_acc available, skipping.\n"
          ],
          "name": "stdout"
        },
        {
          "output_type": "stream",
          "text": [
            "WARNING:tensorflow:Can save best model only with val_acc available, skipping.\n"
          ],
          "name": "stderr"
        },
        {
          "output_type": "stream",
          "text": [
            "Epoch 157/200\n",
            "1/1 [==============================] - 0s 46ms/step - loss: 0.4034 - accuracy: 0.8235 - val_loss: 0.4595 - val_accuracy: 0.8000\n",
            "WARNING:tensorflow:Can save best model only with val_acc available, skipping.\n"
          ],
          "name": "stdout"
        },
        {
          "output_type": "stream",
          "text": [
            "WARNING:tensorflow:Can save best model only with val_acc available, skipping.\n"
          ],
          "name": "stderr"
        },
        {
          "output_type": "stream",
          "text": [
            "Epoch 158/200\n",
            "1/1 [==============================] - 0s 50ms/step - loss: 0.3468 - accuracy: 0.8529 - val_loss: 0.4594 - val_accuracy: 0.8000\n",
            "WARNING:tensorflow:Can save best model only with val_acc available, skipping.\n"
          ],
          "name": "stdout"
        },
        {
          "output_type": "stream",
          "text": [
            "WARNING:tensorflow:Can save best model only with val_acc available, skipping.\n"
          ],
          "name": "stderr"
        },
        {
          "output_type": "stream",
          "text": [
            "Epoch 159/200\n",
            "1/1 [==============================] - 0s 46ms/step - loss: 0.3887 - accuracy: 0.8235 - val_loss: 0.4605 - val_accuracy: 0.8000\n",
            "WARNING:tensorflow:Can save best model only with val_acc available, skipping.\n"
          ],
          "name": "stdout"
        },
        {
          "output_type": "stream",
          "text": [
            "WARNING:tensorflow:Can save best model only with val_acc available, skipping.\n"
          ],
          "name": "stderr"
        },
        {
          "output_type": "stream",
          "text": [
            "Epoch 160/200\n",
            "1/1 [==============================] - 0s 44ms/step - loss: 0.4404 - accuracy: 0.7059 - val_loss: 0.4574 - val_accuracy: 0.8000\n",
            "WARNING:tensorflow:Can save best model only with val_acc available, skipping.\n"
          ],
          "name": "stdout"
        },
        {
          "output_type": "stream",
          "text": [
            "WARNING:tensorflow:Can save best model only with val_acc available, skipping.\n"
          ],
          "name": "stderr"
        },
        {
          "output_type": "stream",
          "text": [
            "Epoch 161/200\n",
            "1/1 [==============================] - 0s 44ms/step - loss: 0.4017 - accuracy: 0.8235 - val_loss: 0.4569 - val_accuracy: 0.8000\n",
            "WARNING:tensorflow:Can save best model only with val_acc available, skipping.\n"
          ],
          "name": "stdout"
        },
        {
          "output_type": "stream",
          "text": [
            "WARNING:tensorflow:Can save best model only with val_acc available, skipping.\n"
          ],
          "name": "stderr"
        },
        {
          "output_type": "stream",
          "text": [
            "Epoch 162/200\n",
            "1/1 [==============================] - 0s 45ms/step - loss: 0.3400 - accuracy: 0.9118 - val_loss: 0.4584 - val_accuracy: 0.8000\n",
            "WARNING:tensorflow:Can save best model only with val_acc available, skipping.\n"
          ],
          "name": "stdout"
        },
        {
          "output_type": "stream",
          "text": [
            "WARNING:tensorflow:Can save best model only with val_acc available, skipping.\n"
          ],
          "name": "stderr"
        },
        {
          "output_type": "stream",
          "text": [
            "Epoch 163/200\n",
            "1/1 [==============================] - 0s 46ms/step - loss: 0.3642 - accuracy: 0.9118 - val_loss: 0.4754 - val_accuracy: 0.8000\n",
            "WARNING:tensorflow:Can save best model only with val_acc available, skipping.\n"
          ],
          "name": "stdout"
        },
        {
          "output_type": "stream",
          "text": [
            "WARNING:tensorflow:Can save best model only with val_acc available, skipping.\n"
          ],
          "name": "stderr"
        },
        {
          "output_type": "stream",
          "text": [
            "Epoch 164/200\n",
            "1/1 [==============================] - 0s 45ms/step - loss: 0.3626 - accuracy: 0.9118 - val_loss: 0.4593 - val_accuracy: 0.8000\n",
            "WARNING:tensorflow:Can save best model only with val_acc available, skipping.\n"
          ],
          "name": "stdout"
        },
        {
          "output_type": "stream",
          "text": [
            "WARNING:tensorflow:Can save best model only with val_acc available, skipping.\n"
          ],
          "name": "stderr"
        },
        {
          "output_type": "stream",
          "text": [
            "Epoch 165/200\n",
            "1/1 [==============================] - 0s 49ms/step - loss: 0.3679 - accuracy: 0.7941 - val_loss: 0.4589 - val_accuracy: 0.8000\n",
            "WARNING:tensorflow:Can save best model only with val_acc available, skipping.\n"
          ],
          "name": "stdout"
        },
        {
          "output_type": "stream",
          "text": [
            "WARNING:tensorflow:Can save best model only with val_acc available, skipping.\n"
          ],
          "name": "stderr"
        },
        {
          "output_type": "stream",
          "text": [
            "Epoch 166/200\n",
            "1/1 [==============================] - 0s 51ms/step - loss: 0.3557 - accuracy: 0.8824 - val_loss: 0.4665 - val_accuracy: 0.7000\n",
            "WARNING:tensorflow:Can save best model only with val_acc available, skipping.\n"
          ],
          "name": "stdout"
        },
        {
          "output_type": "stream",
          "text": [
            "WARNING:tensorflow:Can save best model only with val_acc available, skipping.\n"
          ],
          "name": "stderr"
        },
        {
          "output_type": "stream",
          "text": [
            "Epoch 167/200\n",
            "1/1 [==============================] - 0s 45ms/step - loss: 0.3967 - accuracy: 0.8529 - val_loss: 0.4693 - val_accuracy: 0.7000\n",
            "WARNING:tensorflow:Can save best model only with val_acc available, skipping.\n"
          ],
          "name": "stdout"
        },
        {
          "output_type": "stream",
          "text": [
            "WARNING:tensorflow:Can save best model only with val_acc available, skipping.\n"
          ],
          "name": "stderr"
        },
        {
          "output_type": "stream",
          "text": [
            "Epoch 168/200\n",
            "1/1 [==============================] - 0s 48ms/step - loss: 0.3570 - accuracy: 0.9118 - val_loss: 0.4573 - val_accuracy: 0.7000\n",
            "WARNING:tensorflow:Can save best model only with val_acc available, skipping.\n"
          ],
          "name": "stdout"
        },
        {
          "output_type": "stream",
          "text": [
            "WARNING:tensorflow:Can save best model only with val_acc available, skipping.\n"
          ],
          "name": "stderr"
        },
        {
          "output_type": "stream",
          "text": [
            "Epoch 169/200\n",
            "1/1 [==============================] - 0s 44ms/step - loss: 0.3225 - accuracy: 0.9118 - val_loss: 0.4657 - val_accuracy: 0.7000\n",
            "WARNING:tensorflow:Can save best model only with val_acc available, skipping.\n"
          ],
          "name": "stdout"
        },
        {
          "output_type": "stream",
          "text": [
            "WARNING:tensorflow:Can save best model only with val_acc available, skipping.\n"
          ],
          "name": "stderr"
        },
        {
          "output_type": "stream",
          "text": [
            "Epoch 170/200\n",
            "1/1 [==============================] - 0s 48ms/step - loss: 0.4014 - accuracy: 0.7941 - val_loss: 0.4560 - val_accuracy: 0.7000\n",
            "WARNING:tensorflow:Can save best model only with val_acc available, skipping.\n"
          ],
          "name": "stdout"
        },
        {
          "output_type": "stream",
          "text": [
            "WARNING:tensorflow:Can save best model only with val_acc available, skipping.\n"
          ],
          "name": "stderr"
        },
        {
          "output_type": "stream",
          "text": [
            "Epoch 171/200\n",
            "1/1 [==============================] - 0s 65ms/step - loss: 0.3492 - accuracy: 0.8824 - val_loss: 0.4566 - val_accuracy: 0.7000\n",
            "WARNING:tensorflow:Can save best model only with val_acc available, skipping.\n"
          ],
          "name": "stdout"
        },
        {
          "output_type": "stream",
          "text": [
            "WARNING:tensorflow:Can save best model only with val_acc available, skipping.\n"
          ],
          "name": "stderr"
        },
        {
          "output_type": "stream",
          "text": [
            "Epoch 172/200\n",
            "1/1 [==============================] - 0s 44ms/step - loss: 0.4083 - accuracy: 0.8824 - val_loss: 0.4573 - val_accuracy: 0.7000\n",
            "WARNING:tensorflow:Can save best model only with val_acc available, skipping.\n"
          ],
          "name": "stdout"
        },
        {
          "output_type": "stream",
          "text": [
            "WARNING:tensorflow:Can save best model only with val_acc available, skipping.\n"
          ],
          "name": "stderr"
        },
        {
          "output_type": "stream",
          "text": [
            "Epoch 173/200\n",
            "1/1 [==============================] - 0s 45ms/step - loss: 0.3974 - accuracy: 0.8235 - val_loss: 0.4523 - val_accuracy: 0.8000\n",
            "WARNING:tensorflow:Can save best model only with val_acc available, skipping.\n"
          ],
          "name": "stdout"
        },
        {
          "output_type": "stream",
          "text": [
            "WARNING:tensorflow:Can save best model only with val_acc available, skipping.\n"
          ],
          "name": "stderr"
        },
        {
          "output_type": "stream",
          "text": [
            "Epoch 174/200\n",
            "1/1 [==============================] - 0s 43ms/step - loss: 0.3566 - accuracy: 0.8529 - val_loss: 0.4495 - val_accuracy: 0.8000\n",
            "WARNING:tensorflow:Can save best model only with val_acc available, skipping.\n"
          ],
          "name": "stdout"
        },
        {
          "output_type": "stream",
          "text": [
            "WARNING:tensorflow:Can save best model only with val_acc available, skipping.\n"
          ],
          "name": "stderr"
        },
        {
          "output_type": "stream",
          "text": [
            "Epoch 175/200\n",
            "1/1 [==============================] - 0s 48ms/step - loss: 0.4067 - accuracy: 0.8529 - val_loss: 0.4480 - val_accuracy: 0.8000\n",
            "WARNING:tensorflow:Can save best model only with val_acc available, skipping.\n"
          ],
          "name": "stdout"
        },
        {
          "output_type": "stream",
          "text": [
            "WARNING:tensorflow:Can save best model only with val_acc available, skipping.\n"
          ],
          "name": "stderr"
        },
        {
          "output_type": "stream",
          "text": [
            "Epoch 176/200\n",
            "1/1 [==============================] - 0s 50ms/step - loss: 0.4079 - accuracy: 0.7941 - val_loss: 0.4399 - val_accuracy: 0.8000\n",
            "WARNING:tensorflow:Can save best model only with val_acc available, skipping.\n"
          ],
          "name": "stdout"
        },
        {
          "output_type": "stream",
          "text": [
            "WARNING:tensorflow:Can save best model only with val_acc available, skipping.\n"
          ],
          "name": "stderr"
        },
        {
          "output_type": "stream",
          "text": [
            "Epoch 177/200\n",
            "1/1 [==============================] - 0s 46ms/step - loss: 0.3652 - accuracy: 0.8529 - val_loss: 0.4397 - val_accuracy: 0.8000\n",
            "WARNING:tensorflow:Can save best model only with val_acc available, skipping.\n"
          ],
          "name": "stdout"
        },
        {
          "output_type": "stream",
          "text": [
            "WARNING:tensorflow:Can save best model only with val_acc available, skipping.\n"
          ],
          "name": "stderr"
        },
        {
          "output_type": "stream",
          "text": [
            "Epoch 178/200\n",
            "1/1 [==============================] - 0s 47ms/step - loss: 0.3582 - accuracy: 0.8235 - val_loss: 0.4373 - val_accuracy: 0.8000\n",
            "WARNING:tensorflow:Can save best model only with val_acc available, skipping.\n"
          ],
          "name": "stdout"
        },
        {
          "output_type": "stream",
          "text": [
            "WARNING:tensorflow:Can save best model only with val_acc available, skipping.\n"
          ],
          "name": "stderr"
        },
        {
          "output_type": "stream",
          "text": [
            "Epoch 179/200\n",
            "1/1 [==============================] - 0s 46ms/step - loss: 0.3444 - accuracy: 0.9118 - val_loss: 0.4367 - val_accuracy: 0.8000\n",
            "WARNING:tensorflow:Can save best model only with val_acc available, skipping.\n"
          ],
          "name": "stdout"
        },
        {
          "output_type": "stream",
          "text": [
            "WARNING:tensorflow:Can save best model only with val_acc available, skipping.\n"
          ],
          "name": "stderr"
        },
        {
          "output_type": "stream",
          "text": [
            "Epoch 180/200\n",
            "1/1 [==============================] - 0s 45ms/step - loss: 0.4076 - accuracy: 0.8235 - val_loss: 0.4386 - val_accuracy: 0.8000\n",
            "WARNING:tensorflow:Can save best model only with val_acc available, skipping.\n"
          ],
          "name": "stdout"
        },
        {
          "output_type": "stream",
          "text": [
            "WARNING:tensorflow:Can save best model only with val_acc available, skipping.\n"
          ],
          "name": "stderr"
        },
        {
          "output_type": "stream",
          "text": [
            "Epoch 181/200\n",
            "1/1 [==============================] - 0s 49ms/step - loss: 0.3384 - accuracy: 0.9412 - val_loss: 0.4474 - val_accuracy: 0.7000\n",
            "WARNING:tensorflow:Can save best model only with val_acc available, skipping.\n"
          ],
          "name": "stdout"
        },
        {
          "output_type": "stream",
          "text": [
            "WARNING:tensorflow:Can save best model only with val_acc available, skipping.\n"
          ],
          "name": "stderr"
        },
        {
          "output_type": "stream",
          "text": [
            "Epoch 182/200\n",
            "1/1 [==============================] - 0s 53ms/step - loss: 0.3457 - accuracy: 0.8529 - val_loss: 0.4364 - val_accuracy: 0.8000\n",
            "WARNING:tensorflow:Can save best model only with val_acc available, skipping.\n"
          ],
          "name": "stdout"
        },
        {
          "output_type": "stream",
          "text": [
            "WARNING:tensorflow:Can save best model only with val_acc available, skipping.\n"
          ],
          "name": "stderr"
        },
        {
          "output_type": "stream",
          "text": [
            "Epoch 183/200\n",
            "1/1 [==============================] - 0s 45ms/step - loss: 0.4156 - accuracy: 0.7647 - val_loss: 0.4365 - val_accuracy: 0.8000\n",
            "WARNING:tensorflow:Can save best model only with val_acc available, skipping.\n"
          ],
          "name": "stdout"
        },
        {
          "output_type": "stream",
          "text": [
            "WARNING:tensorflow:Can save best model only with val_acc available, skipping.\n"
          ],
          "name": "stderr"
        },
        {
          "output_type": "stream",
          "text": [
            "Epoch 184/200\n",
            "1/1 [==============================] - 0s 46ms/step - loss: 0.3421 - accuracy: 0.8529 - val_loss: 0.4469 - val_accuracy: 0.8000\n",
            "WARNING:tensorflow:Can save best model only with val_acc available, skipping.\n"
          ],
          "name": "stdout"
        },
        {
          "output_type": "stream",
          "text": [
            "WARNING:tensorflow:Can save best model only with val_acc available, skipping.\n"
          ],
          "name": "stderr"
        },
        {
          "output_type": "stream",
          "text": [
            "Epoch 185/200\n",
            "1/1 [==============================] - 0s 46ms/step - loss: 0.4113 - accuracy: 0.7941 - val_loss: 0.4467 - val_accuracy: 0.8000\n",
            "WARNING:tensorflow:Can save best model only with val_acc available, skipping.\n"
          ],
          "name": "stdout"
        },
        {
          "output_type": "stream",
          "text": [
            "WARNING:tensorflow:Can save best model only with val_acc available, skipping.\n"
          ],
          "name": "stderr"
        },
        {
          "output_type": "stream",
          "text": [
            "Epoch 186/200\n",
            "1/1 [==============================] - 0s 40ms/step - loss: 0.3380 - accuracy: 0.8824 - val_loss: 0.4622 - val_accuracy: 0.8000\n",
            "WARNING:tensorflow:Can save best model only with val_acc available, skipping.\n"
          ],
          "name": "stdout"
        },
        {
          "output_type": "stream",
          "text": [
            "WARNING:tensorflow:Can save best model only with val_acc available, skipping.\n"
          ],
          "name": "stderr"
        },
        {
          "output_type": "stream",
          "text": [
            "Epoch 187/200\n",
            "1/1 [==============================] - 0s 48ms/step - loss: 0.3398 - accuracy: 0.8235 - val_loss: 0.4622 - val_accuracy: 0.8000\n",
            "WARNING:tensorflow:Can save best model only with val_acc available, skipping.\n"
          ],
          "name": "stdout"
        },
        {
          "output_type": "stream",
          "text": [
            "WARNING:tensorflow:Can save best model only with val_acc available, skipping.\n"
          ],
          "name": "stderr"
        },
        {
          "output_type": "stream",
          "text": [
            "Epoch 188/200\n",
            "1/1 [==============================] - 0s 46ms/step - loss: 0.3744 - accuracy: 0.9118 - val_loss: 0.4767 - val_accuracy: 0.7000\n",
            "WARNING:tensorflow:Can save best model only with val_acc available, skipping.\n"
          ],
          "name": "stdout"
        },
        {
          "output_type": "stream",
          "text": [
            "WARNING:tensorflow:Can save best model only with val_acc available, skipping.\n"
          ],
          "name": "stderr"
        },
        {
          "output_type": "stream",
          "text": [
            "Epoch 189/200\n",
            "1/1 [==============================] - 0s 47ms/step - loss: 0.3883 - accuracy: 0.8235 - val_loss: 0.4754 - val_accuracy: 0.7000\n",
            "WARNING:tensorflow:Can save best model only with val_acc available, skipping.\n"
          ],
          "name": "stdout"
        },
        {
          "output_type": "stream",
          "text": [
            "WARNING:tensorflow:Can save best model only with val_acc available, skipping.\n"
          ],
          "name": "stderr"
        },
        {
          "output_type": "stream",
          "text": [
            "Epoch 190/200\n",
            "1/1 [==============================] - 0s 43ms/step - loss: 0.3596 - accuracy: 0.8235 - val_loss: 0.4666 - val_accuracy: 0.7000\n",
            "WARNING:tensorflow:Can save best model only with val_acc available, skipping.\n"
          ],
          "name": "stdout"
        },
        {
          "output_type": "stream",
          "text": [
            "WARNING:tensorflow:Can save best model only with val_acc available, skipping.\n"
          ],
          "name": "stderr"
        },
        {
          "output_type": "stream",
          "text": [
            "Epoch 191/200\n",
            "1/1 [==============================] - 0s 45ms/step - loss: 0.3849 - accuracy: 0.7647 - val_loss: 0.4644 - val_accuracy: 0.7000\n",
            "WARNING:tensorflow:Can save best model only with val_acc available, skipping.\n"
          ],
          "name": "stdout"
        },
        {
          "output_type": "stream",
          "text": [
            "WARNING:tensorflow:Can save best model only with val_acc available, skipping.\n"
          ],
          "name": "stderr"
        },
        {
          "output_type": "stream",
          "text": [
            "Epoch 192/200\n",
            "1/1 [==============================] - 0s 44ms/step - loss: 0.3568 - accuracy: 0.8529 - val_loss: 0.4711 - val_accuracy: 0.7000\n",
            "WARNING:tensorflow:Can save best model only with val_acc available, skipping.\n"
          ],
          "name": "stdout"
        },
        {
          "output_type": "stream",
          "text": [
            "WARNING:tensorflow:Can save best model only with val_acc available, skipping.\n"
          ],
          "name": "stderr"
        },
        {
          "output_type": "stream",
          "text": [
            "Epoch 193/200\n",
            "1/1 [==============================] - 0s 45ms/step - loss: 0.3875 - accuracy: 0.8529 - val_loss: 0.4707 - val_accuracy: 0.7000\n",
            "WARNING:tensorflow:Can save best model only with val_acc available, skipping.\n"
          ],
          "name": "stdout"
        },
        {
          "output_type": "stream",
          "text": [
            "WARNING:tensorflow:Can save best model only with val_acc available, skipping.\n"
          ],
          "name": "stderr"
        },
        {
          "output_type": "stream",
          "text": [
            "Epoch 194/200\n",
            "1/1 [==============================] - 0s 44ms/step - loss: 0.4248 - accuracy: 0.8529 - val_loss: 0.4699 - val_accuracy: 0.7000\n",
            "WARNING:tensorflow:Can save best model only with val_acc available, skipping.\n"
          ],
          "name": "stdout"
        },
        {
          "output_type": "stream",
          "text": [
            "WARNING:tensorflow:Can save best model only with val_acc available, skipping.\n"
          ],
          "name": "stderr"
        },
        {
          "output_type": "stream",
          "text": [
            "Epoch 195/200\n",
            "1/1 [==============================] - 0s 48ms/step - loss: 0.3337 - accuracy: 0.8529 - val_loss: 0.4604 - val_accuracy: 0.7000\n",
            "WARNING:tensorflow:Can save best model only with val_acc available, skipping.\n"
          ],
          "name": "stdout"
        },
        {
          "output_type": "stream",
          "text": [
            "WARNING:tensorflow:Can save best model only with val_acc available, skipping.\n"
          ],
          "name": "stderr"
        },
        {
          "output_type": "stream",
          "text": [
            "Epoch 196/200\n",
            "1/1 [==============================] - 0s 45ms/step - loss: 0.3881 - accuracy: 0.7647 - val_loss: 0.4552 - val_accuracy: 0.8000\n",
            "WARNING:tensorflow:Can save best model only with val_acc available, skipping.\n"
          ],
          "name": "stdout"
        },
        {
          "output_type": "stream",
          "text": [
            "WARNING:tensorflow:Can save best model only with val_acc available, skipping.\n"
          ],
          "name": "stderr"
        },
        {
          "output_type": "stream",
          "text": [
            "Epoch 197/200\n",
            "1/1 [==============================] - 0s 47ms/step - loss: 0.3448 - accuracy: 0.8235 - val_loss: 0.4535 - val_accuracy: 0.8000\n",
            "WARNING:tensorflow:Can save best model only with val_acc available, skipping.\n"
          ],
          "name": "stdout"
        },
        {
          "output_type": "stream",
          "text": [
            "WARNING:tensorflow:Can save best model only with val_acc available, skipping.\n"
          ],
          "name": "stderr"
        },
        {
          "output_type": "stream",
          "text": [
            "Epoch 198/200\n",
            "1/1 [==============================] - 0s 52ms/step - loss: 0.3700 - accuracy: 0.8235 - val_loss: 0.4495 - val_accuracy: 0.8000\n",
            "WARNING:tensorflow:Can save best model only with val_acc available, skipping.\n"
          ],
          "name": "stdout"
        },
        {
          "output_type": "stream",
          "text": [
            "WARNING:tensorflow:Can save best model only with val_acc available, skipping.\n"
          ],
          "name": "stderr"
        },
        {
          "output_type": "stream",
          "text": [
            "Epoch 199/200\n",
            "1/1 [==============================] - 0s 45ms/step - loss: 0.3655 - accuracy: 0.8529 - val_loss: 0.4506 - val_accuracy: 0.8000\n",
            "WARNING:tensorflow:Can save best model only with val_acc available, skipping.\n"
          ],
          "name": "stdout"
        },
        {
          "output_type": "stream",
          "text": [
            "WARNING:tensorflow:Can save best model only with val_acc available, skipping.\n"
          ],
          "name": "stderr"
        },
        {
          "output_type": "stream",
          "text": [
            "Epoch 200/200\n",
            "1/1 [==============================] - 0s 46ms/step - loss: 0.4007 - accuracy: 0.8235 - val_loss: 0.4500 - val_accuracy: 0.8000\n",
            "WARNING:tensorflow:Can save best model only with val_acc available, skipping.\n"
          ],
          "name": "stdout"
        },
        {
          "output_type": "stream",
          "text": [
            "WARNING:tensorflow:Can save best model only with val_acc available, skipping.\n"
          ],
          "name": "stderr"
        },
        {
          "output_type": "execute_result",
          "data": {
            "text/plain": [
              "<tensorflow.python.keras.callbacks.History at 0x7f07dca8f350>"
            ]
          },
          "metadata": {
            "tags": []
          },
          "execution_count": 51
        }
      ]
    },
    {
      "cell_type": "code",
      "metadata": {
        "colab": {
          "base_uri": "https://localhost:8080/"
        },
        "id": "Ue4QwAute3lR",
        "outputId": "bb215e48-aff1-483f-98b1-4009cfe99ad9"
      },
      "source": [
        "model.evaluate(test,test_target)"
      ],
      "id": "Ue4QwAute3lR",
      "execution_count": 52,
      "outputs": [
        {
          "output_type": "stream",
          "text": [
            "1/1 [==============================] - 0s 25ms/step - loss: 0.3017 - accuracy: 0.9000\n"
          ],
          "name": "stdout"
        },
        {
          "output_type": "execute_result",
          "data": {
            "text/plain": [
              "[0.3016512989997864, 0.8999999761581421]"
            ]
          },
          "metadata": {
            "tags": []
          },
          "execution_count": 52
        }
      ]
    },
    {
      "cell_type": "code",
      "metadata": {
        "id": "SqlH9wO5e3iS"
      },
      "source": [
        ""
      ],
      "id": "SqlH9wO5e3iS",
      "execution_count": null,
      "outputs": []
    },
    {
      "cell_type": "code",
      "metadata": {
        "id": "75ccc449"
      },
      "source": [
        "adam = Adam(learning_rate=0.001)\n",
        "chk = ModelCheckpoint('best_model.pkl', monitor='val_acc', save_best_only=True, mode='max', verbose=1)\n",
        "model.compile(loss='binary_crossentropy', optimizer=adam, metrics=['accuracy'])\n",
        "model.fit(train, train_target, epochs=200, batch_size=128, callbacks=[chk], validation_data=(validation,validation_target))"
      ],
      "id": "75ccc449",
      "execution_count": null,
      "outputs": []
    },
    {
      "cell_type": "code",
      "metadata": {
        "colab": {
          "base_uri": "https://localhost:8080/"
        },
        "id": "2355d39e",
        "outputId": "7b37651e-dc5a-48f7-dd5b-b54e0db0e67a"
      },
      "source": [
        "model.evaluate(test,test_target)"
      ],
      "id": "2355d39e",
      "execution_count": 67,
      "outputs": [
        {
          "output_type": "stream",
          "text": [
            "1/1 [==============================] - 0s 18ms/step - loss: 0.3332 - accuracy: 0.9000\n"
          ],
          "name": "stdout"
        },
        {
          "output_type": "execute_result",
          "data": {
            "text/plain": [
              "[0.33322328329086304, 0.8999999761581421]"
            ]
          },
          "metadata": {
            "tags": []
          },
          "execution_count": 67
        }
      ]
    },
    {
      "cell_type": "code",
      "metadata": {
        "id": "2yW4yHaRlRR-"
      },
      "source": [
        ""
      ],
      "id": "2yW4yHaRlRR-",
      "execution_count": null,
      "outputs": []
    },
    {
      "cell_type": "code",
      "metadata": {
        "id": "yvOexLN6HHuE"
      },
      "source": [
        ""
      ],
      "id": "yvOexLN6HHuE",
      "execution_count": null,
      "outputs": []
    }
  ]
}