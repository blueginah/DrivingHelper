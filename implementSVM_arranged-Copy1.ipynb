{
 "cells": [
  {
   "cell_type": "code",
   "execution_count": 252,
   "metadata": {},
   "outputs": [],
   "source": [
    "import pandas as pd\n",
    "import matplotlib.pyplot as plt\n",
    "import numpy as np\n",
    "import sklearn.metrics as mt\n",
    "\n",
    "from sklearn.preprocessing import StandardScaler\n",
    "from sklearn.svm import SVC\n",
    "from sklearn.model_selection import cross_val_score\n",
    "from sklearn.model_selection import GridSearchCV\n",
    "from sklearn.model_selection import train_test_split\n",
    "from sklearn.metrics import roc_curve\n",
    "from sklearn.ensemble import RandomForestClassifier\n",
    "from boruta import BorutaPy\n",
    "from sklearn.metrics import roc_auc_score\n"
   ]
  },
  {
   "cell_type": "code",
   "execution_count": 253,
   "metadata": {},
   "outputs": [],
   "source": [
    "curveList = [[103.9, 209.3], [316.6, 399.6], [425.3, 517.9], [590.5, 756.9], [1048.7, 1110.5], [1212.3, 1437.1]]\n",
    "def generate_data():\n",
    "    df_label = []\n",
    "    f_1 = 'beginner_expert_processedData/beginner/beginner_'\n",
    "    f_2 = 'beginner_expert_processedData/expert/expert_'\n",
    "    f_3 = '.csv'\n",
    "    df_concat = pd.DataFrame()\n",
    "\n",
    "    for curve_num in range(0,6):\n",
    "        for idx in range(1,20):\n",
    "            tmp_file = f_1+str(idx)+'_new2'+f_3\n",
    "            df = pd.read_csv(tmp_file)\n",
    "            df = df.dropna()\n",
    "            tmp = df.astype(float)\n",
    "            tmp['level'] = 0\n",
    "            tmp['curve_num'] = curve_num+1\n",
    "            tmpcorner = tmp[(tmp['Distance'] >= curveList[curve_num][0]) & (tmp['Distance'] <= curveList[curve_num][1])]\n",
    "           # print('beginner: ', idx,tmpcorner.shape)\n",
    "\n",
    "            df_label.append(tmpcorner)\n",
    "            df_concat = pd.concat([df_concat,df_label[idx-1]])\n",
    "        df_label = []\n",
    "        for idx in range(1,20):\n",
    "            tmp_file = f_2+str(idx)+'_new2'+f_3\n",
    "            df = pd.read_csv(tmp_file)\n",
    "            df = df.dropna()\n",
    "            tmp = df.astype(float)\n",
    "            tmp['level'] = 1\n",
    "            tmp['curve_num'] = curve_num+1\n",
    "            tmpcorner = tmp[(tmp['Distance'] >= curveList[curve_num][0]) & (tmp['Distance'] <= curveList[curve_num][1])]\n",
    "            df_label.append(tmpcorner)\n",
    "            df_concat = pd.concat([df_concat,df_label[idx-1]])\n",
    "        df_label = []\n",
    "    df_concat.to_csv('cornerData/data.csv')\n",
    "\n",
    "    \n",
    "generate_data()"
   ]
  },
  {
   "cell_type": "code",
   "execution_count": 254,
   "metadata": {},
   "outputs": [],
   "source": [
    "def load_data(left_column,curve_number):\n",
    "    if curve_number=='all':\n",
    "        tmp = pd.read_csv('cornerData/data.csv')\n",
    "        tmp= tmp.loc[:,left_column]\n",
    "        y = tmp.pop('level')\n",
    "        X = tmp   \n",
    "    else:\n",
    "        tmp = pd.read_csv('cornerData/data.csv')\n",
    "        tmp = tmp[(tmp['curve_num']==curve_number)]\n",
    "        tmp= tmp.loc[:,left_column]\n",
    "\n",
    "        y = tmp.pop('level')\n",
    "        X = tmp\n",
    "\n",
    "    return X,y"
   ]
  },
  {
   "cell_type": "code",
   "execution_count": 255,
   "metadata": {},
   "outputs": [],
   "source": [
    "def processing_data(X,y):\n",
    "    y = np.array(y)\n",
    "    X = np.array(X)\n",
    "    X_train, X_test, y_train, y_test = train_test_split(X, y, test_size = 0.2, stratify = y)\n",
    "\n",
    "    sc = StandardScaler()\n",
    "    sc.fit(X_train)\n",
    "\n",
    "    X_train = sc.transform(X_train)\n",
    "    X_test = sc.transform(X_test)\n",
    "    \n",
    "    return X_train, X_test, y_train, y_test"
   ]
  },
  {
   "cell_type": "code",
   "execution_count": 283,
   "metadata": {},
   "outputs": [],
   "source": [
    "def evaluate_model(X_train, X_test, y_train, y_test,kernel='rbf', C=1, gamma=0.01):\n",
    "    svm_model = SVC(kernel=kernel, C=C, gamma=gamma)\n",
    "    svm_model.fit(X_train, y_train)\n",
    "    y_pred = svm_model.predict(X_test)\n",
    "    print(svm_model.score(X_train,y_train))\n",
    "    print(svm_model.score(X_test,y_test))\n",
    "\n",
    "    scoreSet = cross_val_score(svm_model, X_test, y_test, cv=5)\n",
    "    print(\"\\n\\rUsing model_selection library    \")\n",
    "    print(\"score set : \",end=\"\")\n",
    "    print(scoreSet)\n",
    "    print('Average cross-validation score:{:.4f}'.format(scoreSet.mean()))\n",
    "    \n",
    "    return y_test,y_pred,svm_model"
   ]
  },
  {
   "cell_type": "code",
   "execution_count": 257,
   "metadata": {},
   "outputs": [],
   "source": [
    "def confusion_matrix(y_test,y_pred):\n",
    "    actual_result = y_test\n",
    "    predicted_result = y_pred\n",
    "    # 정확도\n",
    "    accuracy = mt.accuracy_score(actual_result, predicted_result)\n",
    "    # 오차행렬\n",
    "    matrix = mt.confusion_matrix(actual_result, predicted_result)\n",
    "    # 정밀도\n",
    "    precision = mt.precision_score(actual_result, predicted_result)\n",
    "    # 재현율\n",
    "    recall = mt.recall_score(actual_result, predicted_result)\n",
    "    # f1 score\n",
    "    f1score = mt.f1_score(actual_result, predicted_result)\n",
    "    # 전체보고서\n",
    "    scores = mt.classification_report(actual_result, predicted_result)\n",
    "    # 모두 출력\n",
    "    print(\"정확도: \", accuracy, \"\\n\")\n",
    "    print(\"오차행렬\\n\", matrix, \"\\n\")\n",
    "    print(\"정밀도: \", precision, \"\\n\")\n",
    "    print(\"재현율: \", round(recall, 3), \"\\n\")\n",
    "    print(\"F1스코어: \", f1score, \"\\n\")\n",
    "    print(\"결과\\n\", scores)"
   ]
  },
  {
   "cell_type": "code",
   "execution_count": 258,
   "metadata": {},
   "outputs": [],
   "source": [
    "def draw_ROC(y_test,y_pred):\n",
    "    fpr, tpr, thresholds = roc_curve(y_test, y_pred)\n",
    "    plt.figure(figsize=(6,4))\n",
    "    plt.plot(fpr, tpr, linewidth=2)\n",
    "    plt.plot([0,1], [0,1], 'k--' )\n",
    "    plt.rcParams['font.size'] = 12\n",
    "    plt.title('ROC curve for Predicting a Pulsar Star classifier')\n",
    "    plt.xlabel('False Positive Rate (1 - Specificity)')\n",
    "    plt.ylabel('True Positive Rate (Sensitivity)')\n",
    "    plt.show()\n",
    "\n",
    "    # compute ROC AUC\n",
    "    ROC_AUC = roc_auc_score(y_test, y_pred)\n",
    "    print('ROC AUC : {:.4f}'.format(ROC_AUC))"
   ]
  },
  {
   "cell_type": "code",
   "execution_count": 301,
   "metadata": {},
   "outputs": [],
   "source": [
    "def grid_searching(X_train,y_train):\n",
    "    svc=SVC() \n",
    "    # declare parameters for hyperparameter tuning\n",
    "    parameters = [ {'C':[0.01,0.1,1, 10, 100], 'kernel':['linear']},\n",
    "                   {'C':[0.01,0.1,1, 10, 100], 'kernel':['rbf'], 'gamma':[0.001,0.01,0.1, 0.3,0.4,0.5,0.6,0.8, 1,10]},\n",
    "                  # {'C':[0.01,0.1,1, 10, 100], 'kernel':['poly'], 'degree': [2,3,4] ,'gamma':[0.01,0.1,1,10]} \n",
    "                  ]\n",
    "    grid_search = GridSearchCV(estimator = svc,  \n",
    "                               param_grid = parameters,\n",
    "                               scoring = 'accuracy',\n",
    "                               cv = 5,\n",
    "                               verbose=0)\n",
    "    grid_search.fit(X_train, y_train)\n",
    "    # best score achieved during the GridSearchCV\n",
    "    print('GridSearch CV best score : {:.4f}\\n\\n'.format(grid_search.best_score_))\n",
    "    # print parameters that give the best results\n",
    "    print('Parameters that give the best results :','\\n\\n', (grid_search.best_params_))\n",
    "    # print estimator that was chosen by the GridSearch\n",
    "    print('\\n\\nEstimator that was chosen by the search :','\\n\\n', (grid_search.best_estimator_))"
   ]
  },
  {
   "cell_type": "code",
   "execution_count": 334,
   "metadata": {},
   "outputs": [],
   "source": [
    "all_column = [\n",
    "#'Time',\n",
    "#    'Distance',,'Session Time Left' 'Corr Dist','Corr Dist (Unstretched)',\n",
    "    'GPS Latitude','GPS Longitude','Damper Velocity (Calc) FL','Damper Velocity (Calc) FR','Damper Velocity (Calc) RL',\n",
    "'Damper Velocity (Calc) RR','Corr Speed','Brake Pos',\n",
    "'CG Accel Lateral','CG Accel Longitudinal','CG Accel Vertical','CG Height','Camber FL','Camber FR','Camber RL','Camber RR','Car Coord X',\n",
    "'Car Coord Y','Car Coord Z','Car Pos Norm','Chassis Pitch Angle','Chassis Pitch Rate','Chassis Roll Angle','Chassis Roll Rate',\n",
    "'Chassis Velocity X','Chassis Velocity Y','Chassis Velocity Z','Chassis Yaw Rate','Drive Train Speed','Engine RPM','Ground Speed',\n",
    "'Ride Height FL','Ride Height FR','Ride Height RL','Ride Height RR','Road Temp','Self Align Torque FL','Self Align Torque FR',\n",
    "'Self Align Torque RL','Self Align Torque RR','Steering Angle','Suspension Travel FL','Suspension Travel FR',\n",
    "'Suspension Travel RL','Suspension Travel RR','Tire Load FL','Tire Load FR','Tire Load RL','Tire Load RR','Tire Loaded Radius FL',\n",
    "'Tire Loaded Radius FR','Tire Loaded Radius RL','Tire Loaded Radius RR','Tire Pressure FL','Tire Pressure FR','Tire Pressure RL','Tire Pressure RR',\n",
    "'Tire Rubber Grip FL','Tire Rubber Grip FR','Tire Rubber Grip RL','Tire Rubber Grip RR','Tire Slip Angle FL','Tire Slip Angle FR',\n",
    "'Tire Slip Angle RL','Tire Slip Angle RR','Tire Slip Ratio FL','Tire Slip Ratio FR','Tire Slip Ratio RL','Tire Slip Ratio RR',\n",
    "'Tire Temp Core FL','Tire Temp Core FR','Tire Temp Core RL','Tire Temp Core RR','Tire Temp Inner FL','Tire Temp Inner FR',\n",
    "'Tire Temp Inner RL','Tire Temp Inner RR','Tire Temp Middle FL','Tire Temp Middle FR','Tire Temp Middle RL',\n",
    "'Tire Temp Middle RR','Tire Temp Outer FL','Tire Temp Outer FR','Tire Temp Outer RL','Tire Temp Outer RR','Toe In FL',\n",
    "'Toe In FR','Toe In RL','Toe In RR','Wheel Angular Speed FL','Wheel Angular Speed FR','Wheel Angular Speed RL','Wheel Angular Speed RR',\n",
    "'CG Distance','Lateral Velocity','Longitudinal Velocity','Lateral Acceleration','Longitudinal Acceleration','level','curve_num']\n",
    "\n",
    "selected_column = ['Brake Pos', 'Ground Speed', 'Steering Angle', 'Throttle Pos', 'Chassis Yaw Rate', 'Chassis Velocity X',\n",
    "                   'Chassis Velocity Y','Chassis Velocity Z','Lateral Velocity','Longitudinal Velocity','Lateral Acceleration','Longitudinal Acceleration',\n",
    "                   'CG Distance','level']\n",
    "\n",
    "def run_experiment(column, corner):\n",
    "    X,y= load_data(column,corner)\n",
    "    X_train, X_test, y_train, y_test = processing_data(X,y)\n",
    "    y_test,y_pred,svm_model = evaluate_model(X_train, X_test, y_train, y_test,'linear',1,0.01)\n",
    "    confusion_matrix(y_test,y_pred)\n",
    "    draw_ROC(y_test,y_pred)\n",
    "\n",
    "def finding_hyperparameter(column,corner):\n",
    "    X,y = load_data(column,corner)\n",
    "    X_train, X_test, y_train, y_test = processing_data(X,y)\n",
    "    grid_searching(X_train,y_train)"
   ]
  },
  {
   "cell_type": "code",
   "execution_count": 335,
   "metadata": {},
   "outputs": [
    {
     "name": "stdout",
     "output_type": "stream",
     "text": [
      "1.0\n",
      "1.0\n",
      "\n",
      "\r",
      "Using model_selection library    \n",
      "score set : [0.99099099 0.9954955  0.9954955  0.99099099 0.99095023]\n",
      "Average cross-validation score:0.9928\n",
      "정확도:  1.0 \n",
      "\n",
      "오차행렬\n",
      " [[629   0]\n",
      " [  0 480]] \n",
      "\n",
      "정밀도:  1.0 \n",
      "\n",
      "재현율:  1.0 \n",
      "\n",
      "F1스코어:  1.0 \n",
      "\n",
      "결과\n",
      "               precision    recall  f1-score   support\n",
      "\n",
      "           0       1.00      1.00      1.00       629\n",
      "           1       1.00      1.00      1.00       480\n",
      "\n",
      "    accuracy                           1.00      1109\n",
      "   macro avg       1.00      1.00      1.00      1109\n",
      "weighted avg       1.00      1.00      1.00      1109\n",
      "\n"
     ]
    },
    {
     "data": {
      "image/png": "[encoded data removed]",
      "text/plain": [
       "<Figure size 432x288 with 1 Axes>"
      ]
     },
     "metadata": {
      "needs_background": "light"
     },
     "output_type": "display_data"
    },
    {
     "name": "stdout",
     "output_type": "stream",
     "text": [
      "ROC AUC : 1.0000\n"
     ]
    }
   ],
   "source": [
    "run_experiment(all_column,6)"
   ]
  },
  {
   "cell_type": "code",
   "execution_count": null,
   "metadata": {},
   "outputs": [],
   "source": [
    "finding_hyperparameter(all_column, 'all')"
   ]
  },
  {
   "cell_type": "code",
   "execution_count": 331,
   "metadata": {},
   "outputs": [
    {
     "name": "stdout",
     "output_type": "stream",
     "text": [
      "GridSearch CV best score : 1.0000\n",
      "\n",
      "\n",
      "Parameters that give the best results : \n",
      "\n",
      " {'C': 10, 'gamma': 0.01, 'kernel': 'rbf'}\n",
      "\n",
      "\n",
      "Estimator that was chosen by the search : \n",
      "\n",
      " SVC(C=10, gamma=0.01)\n",
      "GridSearch CV best score : 0.9995\n",
      "\n",
      "\n",
      "Parameters that give the best results : \n",
      "\n",
      " {'C': 1, 'kernel': 'linear'}\n",
      "\n",
      "\n",
      "Estimator that was chosen by the search : \n",
      "\n",
      " SVC(C=1, kernel='linear')\n"
     ]
    }
   ],
   "source": [
    "finding_hyperparameter(all_column,5)\n",
    "finding_hyperparameter(all_column,6)\n"
   ]
  },
  {
   "cell_type": "code",
   "execution_count": null,
   "metadata": {},
   "outputs": [],
   "source": [
    "finding_hyperparameter(selected_column, 'all')\n",
    "GridSearch CV best score : 0.9036\n",
    "Parameters that give the best results : \n",
    " {'C': 10, 'gamma': 0.8, 'kernel': 'rbf'}\n",
    "Estimator that was chosen by the search : \n",
    " SVC(C=10, gamma=0.8)\n",
    "\n",
    "\n",
    "finding_hyperparameter(all_column, 1)\n",
    "GridSearch CV best score : 0.9964\n",
    "Parameters that give the best results : \n",
    " {'C': 100, 'gamma': 0.001, 'kernel': 'rbf'}\n",
    "Estimator that was chosen by the search : \n",
    " SVC(C=100, gamma=0.001)"
   ]
  },
  {
   "cell_type": "code",
   "execution_count": 229,
   "metadata": {},
   "outputs": [],
   "source": [
    "from matplotlib import pyplot as plt\n",
    "from sklearn import svm\n",
    "\n",
    "def f_importances(coef, names,top=-1):\n",
    "    imp = coef\n",
    "    imp,names = zip(*sorted(zip(imp,names)))\n",
    "    # Show all features\n",
    "    if top == -1:\n",
    "        top = len(names)\n",
    "\n",
    "    plt.barh(range(top), imp[::-1][0:top], align='center')\n",
    "    plt.yticks(range(top), names[::-1][0:top])\n",
    "    plt.show()\n",
    "\n"
   ]
  },
  {
   "cell_type": "code",
   "execution_count": 248,
   "metadata": {},
   "outputs": [
    {
     "data": {
      "image/png": "[encoded data removed]",
      "text/plain": [
       "<Figure size 432x288 with 1 Axes>"
      ]
     },
     "metadata": {
      "needs_background": "light"
     },
     "output_type": "display_data"
    }
   ],
   "source": [
    "f_importances(abs(svm_model.coef_[0]), all_column, top=10)"
   ]
  }
 ],
 "metadata": {
  "kernelspec": {
   "display_name": "Python 3",
   "language": "python",
   "name": "python3"
  },
  "language_info": {
   "codemirror_mode": {
    "name": "ipython",
    "version": 3
   },
   "file_extension": ".py",
   "mimetype": "text/x-python",
   "name": "python",
   "nbconvert_exporter": "python",
   "pygments_lexer": "ipython3",
   "version": "3.8.5"
  }
 },
 "nbformat": 4,
 "nbformat_minor": 5
}
