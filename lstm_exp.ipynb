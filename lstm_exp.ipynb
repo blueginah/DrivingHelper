{
  "nbformat": 4,
  "nbformat_minor": 5,
  "metadata": {
    "kernelspec": {
      "display_name": "Python 3",
      "language": "python",
      "name": "python3"
    },
    "language_info": {
      "codemirror_mode": {
        "name": "ipython",
        "version": 3
      },
      "file_extension": ".py",
      "mimetype": "text/x-python",
      "name": "python",
      "nbconvert_exporter": "python",
      "pygments_lexer": "ipython3",
      "version": "3.8.10"
    },
    "colab": {
      "name": "lstm_exp.ipynb",
      "provenance": [],
      "collapsed_sections": []
    },
    "accelerator": "GPU"
  },
  "cells": [
    {
      "cell_type": "code",
      "metadata": {
        "id": "UM_pooVKlWY5",
        "colab": {
          "base_uri": "https://localhost:8080/"
        },
        "outputId": "f7c001c0-b44d-42ec-efb3-63f927eb0be9"
      },
      "source": [
        "from google.colab import drive \n",
        "drive.mount('/content/gdrive')"
      ],
      "id": "UM_pooVKlWY5",
      "execution_count": 1,
      "outputs": [
        {
          "output_type": "stream",
          "text": [
            "Mounted at /content/gdrive\n"
          ],
          "name": "stdout"
        }
      ]
    },
    {
      "cell_type": "code",
      "metadata": {
        "id": "1B9QQqxDljoY",
        "colab": {
          "base_uri": "https://localhost:8080/"
        },
        "outputId": "e24999a6-3db9-480e-9277-d5c5e25c777b"
      },
      "source": [
        "cd gdrive/MyDrive/AI/experiment/DrivingHelper/"
      ],
      "id": "1B9QQqxDljoY",
      "execution_count": 2,
      "outputs": [
        {
          "output_type": "stream",
          "text": [
            "/content/gdrive/MyDrive/AI/experiment/DrivingHelper\n"
          ],
          "name": "stdout"
        }
      ]
    },
    {
      "cell_type": "code",
      "metadata": {
        "id": "93d24e5e"
      },
      "source": [
        "import pandas as pd\n",
        "import numpy as np\n",
        "%matplotlib inline\n",
        "import matplotlib.pyplot as plt\n",
        "from os import listdir\n",
        "\n",
        "import tensorflow as tf\n",
        "\n",
        "from keras.preprocessing import sequence\n",
        "from keras.models import Sequential\n",
        "from keras.layers import Dense\n",
        "from keras.layers import LSTM\n",
        "from keras.layers import Dropout\n",
        "\n",
        "from keras.optimizers import Adam\n",
        "from keras.models import load_model\n",
        "from keras.callbacks import ModelCheckpoint"
      ],
      "id": "93d24e5e",
      "execution_count": 3,
      "outputs": []
    },
    {
      "cell_type": "code",
      "metadata": {
        "id": "eI99fZwPYhmE"
      },
      "source": [
        "#### WITTHOUT SETTING NUMBER OF EACH CORNERS ####\n",
        "#### FINALQ\n",
        "\n",
        "beginner_path = 'beginner_expert_processedData/beginner/beginner_'\n",
        "expert_path = 'beginner_expert_processedData/expert/expert_'\n",
        "left_column = [\n",
        "#'Time',\n",
        "    'Distance','GPS Latitude','GPS Longitude','Damper Velocity (Calc) FL','Damper Velocity (Calc) FR','Damper Velocity (Calc) RL',\n",
        "'Damper Velocity (Calc) RR','Corr Dist','Corr Dist (Unstretched)','Corr Speed','Brake Pos',\n",
        "'CG Accel Lateral','CG Accel Longitudinal','CG Accel Vertical','CG Height','Camber FL','Camber FR','Camber RL','Camber RR','Car Coord X',\n",
        "'Car Coord Y','Car Coord Z','Car Pos Norm','Chassis Pitch Angle','Chassis Pitch Rate','Chassis Roll Angle','Chassis Roll Rate',\n",
        "'Chassis Velocity X','Chassis Velocity Y','Chassis Velocity Z','Chassis Yaw Rate','Drive Train Speed','Engine RPM','Ground Speed',\n",
        "'Ride Height FL','Ride Height FR','Ride Height RL','Ride Height RR','Road Temp','Self Align Torque FL','Self Align Torque FR',\n",
        "'Self Align Torque RL','Self Align Torque RR','Session Time Left','Steering Angle','Suspension Travel FL','Suspension Travel FR',\n",
        "'Suspension Travel RL','Suspension Travel RR','Tire Load FL','Tire Load FR','Tire Load RL','Tire Load RR','Tire Loaded Radius FL',\n",
        "'Tire Loaded Radius FR','Tire Loaded Radius RL','Tire Loaded Radius RR','Tire Pressure FL','Tire Pressure FR','Tire Pressure RL','Tire Pressure RR',\n",
        "'Tire Rubber Grip FL','Tire Rubber Grip FR','Tire Rubber Grip RL','Tire Rubber Grip RR','Tire Slip Angle FL','Tire Slip Angle FR',\n",
        "'Tire Slip Angle RL','Tire Slip Angle RR','Tire Slip Ratio FL','Tire Slip Ratio FR','Tire Slip Ratio RL','Tire Slip Ratio RR',\n",
        "'Tire Temp Core FL','Tire Temp Core FR','Tire Temp Core RL','Tire Temp Core RR','Tire Temp Inner FL','Tire Temp Inner FR',\n",
        "'Tire Temp Inner RL','Tire Temp Inner RR','Tire Temp Middle FL','Tire Temp Middle FR','Tire Temp Middle RL',\n",
        "'Tire Temp Middle RR','Tire Temp Outer FL','Tire Temp Outer FR','Tire Temp Outer RL','Tire Temp Outer RR','Toe In FL',\n",
        "'Toe In FR','Toe In RL','Toe In RR','Wheel Angular Speed FL','Wheel Angular Speed FR','Wheel Angular Speed RL','Wheel Angular Speed RR',\n",
        "'CG Distance','Lateral Velocity','Longitudinal Velocity','Lateral Acceleration','Longitudinal Acceleration']\n",
        "\n",
        "curveList = [[103.9, 209.3], [316.6, 399.6], [425.3, 517.9], [590.5, 756.9], [1048.7, 1110.5], [1212.3, 1437.1]]\n",
        "curve_num = 0\n",
        "sequences = list()\n",
        "final_df = pd.DataFrame()\n",
        "for i in range(1,36):\n",
        "    final_df = pd.DataFrame()\n",
        "    file_path = beginner_path + str(i) + '_new2.csv'\n",
        "    #print(file_path)\n",
        "    df = pd.read_csv(file_path, header=0)\n",
        "    df = df.dropna()\n",
        "    df = df.astype(float)\n",
        "    for j in range(0, 6):\n",
        "      tmp_df = df[(df['Distance'] >= curveList[j][0]) & (df['Distance'] <= curveList[j][1])]\n",
        "      #print(tmp_df)\n",
        "      tmp_df = tmp_df.loc[:,left_column]\n",
        "      #tmp_df['curve_num'] = j\n",
        "      #final_df = final_df.append(tmp_df, ignore_index=True)\n",
        "      values = tmp_df.values\n",
        "      sequences.append(values)\n",
        "\n",
        "    \n",
        "for i in range(1,20):\n",
        "    final_df = pd.DataFrame()\n",
        "    file_path = expert_path + str(i) + '_new2.csv'\n",
        "    #print(file_path)\n",
        "    df = pd.read_csv(file_path, header=0)\n",
        "    df = df.dropna()\n",
        "    df = df.astype(float)\n",
        "    for j in range(0, 6):\n",
        "      tmp_df = df[(df['Distance'] >= curveList[j][0]) & (df['Distance'] <= curveList[j][1])]\n",
        "      tmp_df = tmp_df.loc[:,left_column]\n",
        "      #tmp_df['curve_num'] = j\n",
        "      values = tmp_df.values\n",
        "      sequences.append(values)\n",
        "    "
      ],
      "id": "eI99fZwPYhmE",
      "execution_count": null,
      "outputs": []
    },
    {
      "cell_type": "code",
      "metadata": {
        "colab": {
          "base_uri": "https://localhost:8080/"
        },
        "id": "1OBVLmyaWMUv",
        "outputId": "0a3ee76d-dce6-48d3-8d0b-bd63e6cef054"
      },
      "source": [
        "len(sequences)"
      ],
      "id": "1OBVLmyaWMUv",
      "execution_count": null,
      "outputs": [
        {
          "output_type": "execute_result",
          "data": {
            "text/plain": [
              "324"
            ]
          },
          "metadata": {
            "tags": []
          },
          "execution_count": 43
        }
      ]
    },
    {
      "cell_type": "code",
      "metadata": {
        "id": "QLQMjz8uAZYO"
      },
      "source": [
        "#### Split -> Frequency\n",
        "\n",
        "beginner_path = 'beginner_expert_processedData/beginner/beginner_'\n",
        "expert_path = 'beginner_expert_processedData/expert/expert_'\n",
        "left_column = [\n",
        "#'Time',\n",
        "    'Distance','GPS Latitude','GPS Longitude','Damper Velocity (Calc) FL','Damper Velocity (Calc) FR','Damper Velocity (Calc) RL',\n",
        "'Damper Velocity (Calc) RR','Corr Dist','Corr Dist (Unstretched)','Corr Speed','Brake Pos',\n",
        "'CG Accel Lateral','CG Accel Longitudinal','CG Accel Vertical','CG Height','Camber FL','Camber FR','Camber RL','Camber RR','Car Coord X',\n",
        "'Car Coord Y','Car Coord Z','Car Pos Norm','Chassis Pitch Angle','Chassis Pitch Rate','Chassis Roll Angle','Chassis Roll Rate',\n",
        "'Chassis Velocity X','Chassis Velocity Y','Chassis Velocity Z','Chassis Yaw Rate','Drive Train Speed','Engine RPM','Ground Speed',\n",
        "'Ride Height FL','Ride Height FR','Ride Height RL','Ride Height RR','Road Temp','Self Align Torque FL','Self Align Torque FR',\n",
        "'Self Align Torque RL','Self Align Torque RR','Session Time Left','Steering Angle','Suspension Travel FL','Suspension Travel FR',\n",
        "'Suspension Travel RL','Suspension Travel RR','Tire Load FL','Tire Load FR','Tire Load RL','Tire Load RR','Tire Loaded Radius FL',\n",
        "'Tire Loaded Radius FR','Tire Loaded Radius RL','Tire Loaded Radius RR','Tire Pressure FL','Tire Pressure FR','Tire Pressure RL','Tire Pressure RR',\n",
        "'Tire Rubber Grip FL','Tire Rubber Grip FR','Tire Rubber Grip RL','Tire Rubber Grip RR','Tire Slip Angle FL','Tire Slip Angle FR',\n",
        "'Tire Slip Angle RL','Tire Slip Angle RR','Tire Slip Ratio FL','Tire Slip Ratio FR','Tire Slip Ratio RL','Tire Slip Ratio RR',\n",
        "'Tire Temp Core FL','Tire Temp Core FR','Tire Temp Core RL','Tire Temp Core RR','Tire Temp Inner FL','Tire Temp Inner FR',\n",
        "'Tire Temp Inner RL','Tire Temp Inner RR','Tire Temp Middle FL','Tire Temp Middle FR','Tire Temp Middle RL',\n",
        "'Tire Temp Middle RR','Tire Temp Outer FL','Tire Temp Outer FR','Tire Temp Outer RL','Tire Temp Outer RR','Toe In FL',\n",
        "'Toe In FR','Toe In RL','Toe In RR','Wheel Angular Speed FL','Wheel Angular Speed FR','Wheel Angular Speed RL','Wheel Angular Speed RR',\n",
        "'CG Distance','Lateral Velocity','Longitudinal Velocity','Lateral Acceleration','Longitudinal Acceleration']\n",
        "\n",
        "curveList = [[103.9, 209.3], [316.6, 399.6], [425.3, 517.9], [590.5, 756.9], [1048.7, 1110.5], [1212.3, 1437.1]]\n",
        "curve_num = 0\n",
        "sequences = list()\n",
        "final_df = pd.DataFrame()\n",
        "for i in range(1,36):\n",
        "    file_path = beginner_path + str(i) + '_new2.csv'\n",
        "    #print(file_path)\n",
        "    df = pd.read_csv(file_path, header=0)\n",
        "    df = df.dropna()\n",
        "    df = df.astype(float)\n",
        "    for j in range(0, 6):\n",
        "      tmp_df = df[(df['Distance'] >= curveList[j][0]) & (df['Distance'] <= curveList[j][1])]\n",
        "      #print(tmp_df)\n",
        "      tmp_df = tmp_df.loc[:,left_column]\n",
        "      tmp_df['curve_num'] = j\n",
        "      tmp_df.reset_index(inplace = True)\n",
        "      even = tmp_df.iloc[::2]\n",
        "      odd = tmp_df.iloc[1::2]\n",
        "      final_df = final_df.append(even, ignore_index=True)\n",
        "      final_df = final_df.append(odd, ignore_index=True)\n",
        "    even_values = even.values\n",
        "    odd_values = odd.values\n",
        "    sequences.append(even_values)\n",
        "    sequences.append(odd_values)\n",
        "    \n",
        "\n",
        "    \n",
        "for i in range(1,20):\n",
        "    file_path = expert_path + str(i) + '_new2.csv'\n",
        "    #print(file_path)\n",
        "    df = pd.read_csv(file_path, header=0)\n",
        "    df = df.dropna()\n",
        "    df = df.astype(float)\n",
        "    for j in range(0, 6):\n",
        "      tmp_df = df[(df['Distance'] >= curveList[j][0]) & (df['Distance'] <= curveList[j][1])]\n",
        "      tmp_df = tmp_df.loc[:,left_column]\n",
        "      tmp_df['curve_num'] = j\n",
        "      tmp_df.reset_index(inplace = True)\n",
        "      even = tmp_df.iloc[::2]\n",
        "      odd = tmp_df.iloc[1::2]\n",
        "      final_df = final_df.append(even, ignore_index=True)\n",
        "      final_df = final_df.append(odd, ignore_index=True)\n",
        "    even_values = even.values\n",
        "    odd_values = odd.values\n",
        "    sequences.append(even_values)\n",
        "    sequences.append(odd_values)\n",
        "    "
      ],
      "id": "QLQMjz8uAZYO",
      "execution_count": null,
      "outputs": []
    },
    {
      "cell_type": "code",
      "metadata": {
        "id": "R_zYjD8lAa-d"
      },
      "source": [
        ""
      ],
      "id": "R_zYjD8lAa-d",
      "execution_count": null,
      "outputs": []
    },
    {
      "cell_type": "code",
      "metadata": {
        "colab": {
          "base_uri": "https://localhost:8080/"
        },
        "id": "Ysc2zAQA0z9r",
        "outputId": "dac50d6b-e7b5-4d9b-f644-1305c9ad52c4"
      },
      "source": [
        "print(len(sequences))"
      ],
      "id": "Ysc2zAQA0z9r",
      "execution_count": null,
      "outputs": [
        {
          "output_type": "stream",
          "text": [
            "324\n"
          ],
          "name": "stdout"
        }
      ]
    },
    {
      "cell_type": "code",
      "metadata": {
        "colab": {
          "base_uri": "https://localhost:8080/"
        },
        "id": "dfdb91bb",
        "outputId": "7267f7a1-a10d-4d57-d316-2e6c495dd2d1"
      },
      "source": [
        "print(len(sequences))\n",
        "print(sequences[1].shape)"
      ],
      "id": "dfdb91bb",
      "execution_count": null,
      "outputs": [
        {
          "output_type": "stream",
          "text": [
            "324\n",
            "(46, 102)\n"
          ],
          "name": "stdout"
        }
      ]
    },
    {
      "cell_type": "code",
      "metadata": {
        "id": "8a955ce4"
      },
      "source": [
        "targets = pd.read_csv('target.csv')\n",
        "targets = targets.values[:,1]"
      ],
      "id": "8a955ce4",
      "execution_count": null,
      "outputs": []
    },
    {
      "cell_type": "code",
      "metadata": {
        "colab": {
          "base_uri": "https://localhost:8080/"
        },
        "id": "BIPgBmWov2SE",
        "outputId": "e7edb9a0-036a-41f5-bf8e-10cede6ff1ba"
      },
      "source": [
        "targets"
      ],
      "id": "BIPgBmWov2SE",
      "execution_count": null,
      "outputs": [
        {
          "output_type": "execute_result",
          "data": {
            "text/plain": [
              "array([0, 0, 0, 0, 0, 0, 0, 0, 0, 0, 0, 0, 0, 0, 0, 0, 0, 0, 0, 0, 0, 0,\n",
              "       0, 0, 0, 0, 0, 0, 0, 0, 0, 0, 0, 0, 1, 1, 1, 1, 1, 1, 1, 1, 1, 1,\n",
              "       1, 1, 1, 1, 1, 1, 1, 1, 1, 1])"
            ]
          },
          "metadata": {
            "tags": []
          },
          "execution_count": 10
        }
      ]
    },
    {
      "cell_type": "code",
      "metadata": {
        "colab": {
          "base_uri": "https://localhost:8080/"
        },
        "id": "UruTI97bv4BR",
        "outputId": "828df677-9675-4114-bb40-a1ab4b811c64"
      },
      "source": [
        "groups"
      ],
      "id": "UruTI97bv4BR",
      "execution_count": null,
      "outputs": [
        {
          "output_type": "execute_result",
          "data": {
            "text/plain": [
              "array([1, 1, 1, 1, 1, 1, 1, 1, 1, 1, 1, 1, 1, 1, 1, 1, 1, 1, 1, 1, 1, 1,\n",
              "       2, 2, 2, 2, 2, 2, 3, 3, 3, 3, 3, 3, 1, 1, 1, 1, 1, 1, 1, 1, 1, 1,\n",
              "       1, 1, 2, 2, 2, 2, 3, 3, 3, 3])"
            ]
          },
          "metadata": {
            "tags": []
          },
          "execution_count": 13
        }
      ]
    },
    {
      "cell_type": "code",
      "metadata": {
        "colab": {
          "base_uri": "https://localhost:8080/"
        },
        "id": "6eee5c8b",
        "outputId": "7dccc76c-c0e1-44a0-acb2-ded966be9ffa"
      },
      "source": [
        "len_sequences = []\n",
        "for one_seq in sequences:\n",
        "    len_sequences.append(len(one_seq))\n",
        "    \n",
        "print(len_sequences)\n",
        "pd.Series(len_sequences).describe()"
      ],
      "id": "6eee5c8b",
      "execution_count": null,
      "outputs": [
        {
          "output_type": "stream",
          "text": [
            "[72, 46, 492, 111, 28, 125, 71, 57, 214, 98, 27, 148, 78, 49, 318, 105, 26, 151, 91, 43, 311, 88, 27, 146, 68, 50, 429, 115, 31, 129, 69, 54, 102, 105, 31, 147, 75, 61, 73, 112, 30, 145, 84, 58, 77, 95, 30, 131, 76, 50, 124, 94, 34, 145, 79, 51, 94, 108, 30, 146, 97, 59, 121, 127, 41, 154, 102, 68, 218, 140, 36, 150, 101, 50, 833, 135, 37, 194, 89, 48, 695, 99, 33, 156, 63, 69, 110, 97, 36, 183, 74, 59, 90, 86, 29, 136, 80, 60, 80, 90, 28, 142, 69, 48, 329, 111, 31, 121, 78, 52, 73, 97, 25, 494, 88, 53, 80, 78, 27, 139, 82, 52, 89, 79, 27, 141, 75, 59, 73, 95, 28, 130, 80, 55, 83, 82, 27, 148, 78, 57, 82, 79, 25, 149, 82, 54, 79, 84, 26, 133, 120, 72, 89, 94, 30, 141, 68, 46, 348, 117, 39, 138, 71, 65, 90, 93, 29, 157, 75, 53, 163, 551, 38, 115, 66, 57, 193, 1816, 65, 119, 71, 49, 158, 89, 28, 171, 68, 68, 127, 152, 27, 147, 80, 75, 121, 120, 30, 184, 71, 73, 136, 125, 32, 167, 76, 56, 111, 108, 29, 237, 68, 51, 71, 87, 25, 123, 64, 45, 68, 86, 26, 132, 64, 46, 69, 86, 26, 124, 71, 50, 67, 84, 26, 125, 68, 53, 68, 81, 27, 117, 65, 48, 81, 81, 25, 126, 66, 47, 69, 111, 25, 129, 66, 46, 69, 88, 26, 119, 67, 44, 72, 80, 26, 126, 66, 45, 77, 78, 25, 122, 72, 52, 69, 77, 25, 133, 66, 47, 70, 77, 25, 126, 67, 45, 79, 84, 25, 128, 70, 46, 71, 80, 26, 125, 68, 47, 78, 77, 25, 138, 62, 47, 69, 79, 25, 117, 68, 43, 113, 79, 25, 127, 66, 44, 77, 80, 25, 133, 72, 43, 76, 84, 25, 131]\n"
          ],
          "name": "stdout"
        },
        {
          "output_type": "execute_result",
          "data": {
            "text/plain": [
              "count     324.00000\n",
              "mean       98.82716\n",
              "std       128.03819\n",
              "min        25.00000\n",
              "25%        51.75000\n",
              "50%        77.00000\n",
              "75%       115.50000\n",
              "max      1816.00000\n",
              "dtype: float64"
            ]
          },
          "metadata": {
            "tags": []
          },
          "execution_count": 63
        }
      ]
    },
    {
      "cell_type": "code",
      "metadata": {
        "id": "8eb17bd2"
      },
      "source": [
        "#Padding the sequence with the values in last row to max length\n",
        "to_pad = 1816\n",
        "new_seq = []\n",
        "for one_seq in sequences:\n",
        "    len_one_seq = len(one_seq)\n",
        "    last_val = one_seq[-1]\n",
        "    n = to_pad - len_one_seq\n",
        "   \n",
        "    to_concat = np.repeat(one_seq[-1], n).reshape(102, n).transpose()\n",
        "    new_one_seq = np.concatenate([one_seq, to_concat])\n",
        "    new_seq.append(new_one_seq)\n",
        "final_seq = np.stack(new_seq)\n",
        "\n",
        "#truncate the sequence to length 60\n",
        "from keras.preprocessing import sequence\n",
        "seq_len = 25\n",
        "final_seq=sequence.pad_sequences(final_seq, maxlen=seq_len, padding='post', dtype='float', truncating='post')"
      ],
      "id": "8eb17bd2",
      "execution_count": null,
      "outputs": []
    },
    {
      "cell_type": "code",
      "metadata": {
        "id": "3b2c57e7"
      },
      "source": [
        "groups = pd.read_csv('group.csv', header=0)\n",
        "groups = groups.values[:,1]"
      ],
      "id": "3b2c57e7",
      "execution_count": null,
      "outputs": []
    },
    {
      "cell_type": "code",
      "metadata": {
        "colab": {
          "base_uri": "https://localhost:8080/"
        },
        "id": "5hM6REhrPjg5",
        "outputId": "acff8424-4bcd-40fd-d74f-64ae28a1199f"
      },
      "source": [
        "len(final_seq)"
      ],
      "id": "5hM6REhrPjg5",
      "execution_count": null,
      "outputs": [
        {
          "output_type": "execute_result",
          "data": {
            "text/plain": [
              "324"
            ]
          },
          "metadata": {
            "tags": []
          },
          "execution_count": 51
        }
      ]
    },
    {
      "cell_type": "code",
      "metadata": {
        "colab": {
          "base_uri": "https://localhost:8080/"
        },
        "id": "Wux8ikhVP8Pk",
        "outputId": "d360aa75-2c39-4349-c51f-11a6c7d4cf33"
      },
      "source": [
        "i=3\n",
        "int(i/2)"
      ],
      "id": "Wux8ikhVP8Pk",
      "execution_count": null,
      "outputs": [
        {
          "output_type": "execute_result",
          "data": {
            "text/plain": [
              "1"
            ]
          },
          "metadata": {
            "tags": []
          },
          "execution_count": 21
        }
      ]
    },
    {
      "cell_type": "code",
      "metadata": {
        "colab": {
          "base_uri": "https://localhost:8080/"
        },
        "id": "Pp45fxLXSUR5",
        "outputId": "4027d7e5-2811-47df-ac5f-4a40e68c16bc"
      },
      "source": [
        "len(final_seq)"
      ],
      "id": "Pp45fxLXSUR5",
      "execution_count": null,
      "outputs": [
        {
          "output_type": "execute_result",
          "data": {
            "text/plain": [
              "108"
            ]
          },
          "metadata": {
            "tags": []
          },
          "execution_count": 26
        }
      ]
    },
    {
      "cell_type": "code",
      "metadata": {
        "id": "AmhHQV0FWrbX"
      },
      "source": [
        "train = [final_seq[i] for i in range(len(final_seq)) if (groups[int(i/6)]==1)]\n",
        "validation = [final_seq[i] for i in range(len(final_seq)) if groups[int(i/6)]==2]\n",
        "test = [final_seq[i] for i in range(len(final_seq)) if groups[int(i/6)]==3]\n",
        "\n",
        "train_target = [targets[int(i/6)] for i in range(len(final_seq)) if (groups[int(i/6)]==1)]\n",
        "validation_target = [targets[int(i/6)] for i in range(len(final_seq)) if groups[int(i/6)]==2]\n",
        "test_target = [targets[int(i/6)] for i in range(len(final_seq)) if groups[int(i/6)]==3]\n",
        "\n",
        "train"
      ],
      "id": "AmhHQV0FWrbX",
      "execution_count": null,
      "outputs": []
    },
    {
      "cell_type": "code",
      "metadata": {
        "id": "pFuiD4qOPpmw"
      },
      "source": [
        "train = [final_seq[i] for i in range(len(final_seq)) if (groups[int(i/2)]==1)]\n",
        "validation = [final_seq[i] for i in range(len(final_seq)) if groups[int(i/2)]==2]\n",
        "test = [final_seq[i] for i in range(len(final_seq)) if groups[int(i/2)]==3]\n",
        "\n",
        "train_target = [targets[int(i/2)] for i in range(len(final_seq)) if (groups[int(i/2)]==1)]\n",
        "validation_target = [targets[int(i/2)] for i in range(len(final_seq)) if groups[int(i/2)]==2]\n",
        "test_target = [targets[int(i/2)] for i in range(len(final_seq)) if groups[int(i/2)]==3]\n",
        "\n",
        "train"
      ],
      "id": "pFuiD4qOPpmw",
      "execution_count": null,
      "outputs": []
    },
    {
      "cell_type": "code",
      "metadata": {
        "colab": {
          "base_uri": "https://localhost:8080/"
        },
        "id": "48f10629",
        "outputId": "0aa737fc-a653-49d9-99df-652b0707a213"
      },
      "source": [
        "train = [final_seq[i] for i in range(len(groups)) if (groups[i]==1)]\n",
        "validation = [final_seq[i] for i in range(len(groups)) if groups[i]==2]\n",
        "test = [final_seq[i] for i in range(len(groups)) if groups[i]==3]\n",
        "\n",
        "train_target = [targets[i] for i in range(len(groups)) if (groups[i]==1)]\n",
        "validation_target = [targets[i] for i in range(len(groups)) if groups[i]==2]\n",
        "test_target = [targets[i] for i in range(len(groups)) if groups[i]==3]\n",
        "\n",
        "train"
      ],
      "id": "48f10629",
      "execution_count": null,
      "outputs": [
        {
          "output_type": "execute_result",
          "data": {
            "text/plain": [
              "[array([[1212.7       ,   44.05425462,  -78.68331907, ...,  -10.80305127,\n",
              "          -14.40406911,    5.        ],\n",
              "        [1214.7       ,   44.05426388,  -78.68333499, ...,   -7.20203456,\n",
              "          -21.6061031 ,    5.        ],\n",
              "        [1216.6       ,   44.05427305,  -78.68335045, ...,  -32.40915408,\n",
              "          -61.2172906 ,    5.        ],\n",
              "        ...,\n",
              "        [1412.        ,   44.05574569,  -78.68386963, ...,  -10.80305127,\n",
              "           25.20712009,    5.        ],\n",
              "        [1414.        ,   44.0557635 ,  -78.68386559, ...,  -18.00508525,\n",
              "           28.80813766,    5.        ],\n",
              "        [1416.        ,   44.05578014,  -78.68386163, ...,   25.20711981,\n",
              "           43.21220563,    5.        ]]),\n",
              " array([[ 1.21380000e+03,  4.40544472e+01, -7.86836110e+01, ...,\n",
              "          1.08030513e+01, -3.60101716e+01,  5.00000000e+00],\n",
              "        [ 1.21530000e+03,  4.40544553e+01, -7.86836224e+01, ...,\n",
              "         -7.20203427e+00, -6.12172906e+01,  5.00000000e+00],\n",
              "        [ 1.21680000e+03,  4.40544636e+01, -7.86836334e+01, ...,\n",
              "         -1.44040685e+01, -6.48183076e+01,  5.00000000e+00],\n",
              "        ...,\n",
              "        [ 1.38770000e+03,  4.40559065e+01, -7.86838164e+01, ...,\n",
              "         -1.08030513e+01,  7.20203399e+00,  5.00000000e+00],\n",
              "        [ 1.38890000e+03,  4.40559167e+01, -7.86838127e+01, ...,\n",
              "         -2.88081368e+01,  5.69023690e-07,  5.00000000e+00],\n",
              "        [ 1.39010000e+03,  4.40559265e+01, -7.86838092e+01, ...,\n",
              "          2.16061025e+01,  1.80050855e+01,  5.00000000e+00]]),\n",
              " array([[1214.        ,   44.05436739,  -78.68347537, ..., -115.2325475 ,\n",
              "         -162.04576984,    5.        ],\n",
              "        [1216.        ,   44.05437602,  -78.68348922, ...,  -18.00508525,\n",
              "           -7.20203399,    5.        ],\n",
              "        [1218.        ,   44.05438565,  -78.68350469, ...,   -3.60101728,\n",
              "           28.80813652,    5.        ],\n",
              "        ...,\n",
              "        [1390.2       ,   44.05574569,  -78.68386037, ...,  -32.4091538 ,\n",
              "           -7.20203399,    5.        ],\n",
              "        [1391.8       ,   44.0557608 ,  -78.68385614, ...,  -64.8183076 ,\n",
              "          -14.40406854,    5.        ],\n",
              "        [1393.5       ,   44.05577546,  -78.68385201, ...,  -97.22746196,\n",
              "          -21.60610253,    5.        ]]),\n",
              " array([[1214.1       ,   44.05432863,  -78.68344938, ...,  -43.21220563,\n",
              "          -57.61627418,    5.        ],\n",
              "        [1216.        ,   44.05433681,  -78.68346404, ...,    3.60101728,\n",
              "           21.60610367,    5.        ],\n",
              "        [1217.9       ,   44.05434572,  -78.68348032, ...,  -64.8183076 ,\n",
              "         -129.63661576,    5.        ],\n",
              "        ...,\n",
              "        [1391.9       ,   44.05571934,  -78.68384023, ...,   21.60610282,\n",
              "           10.80305155,    5.        ],\n",
              "        [1393.8       ,   44.05573724,  -78.683836  , ...,  -36.01017079,\n",
              "          -10.80305155,    5.        ],\n",
              "        [1395.8       ,   44.05575486,  -78.68383177, ...,  -97.22746225,\n",
              "          -25.20711953,    5.        ]]),\n",
              " array([[1213.9       ,   44.05430956,  -78.68340441, ...,  -39.61118807,\n",
              "          -43.21220563,    5.        ],\n",
              "        [1215.8       ,   44.05431829,  -78.68341853, ...,    7.20203399,\n",
              "           25.20712009,    5.        ],\n",
              "        [1217.7       ,   44.05432755,  -78.68343346, ...,  -14.40406854,\n",
              "          -10.80305155,    5.        ],\n",
              "        ...,\n",
              "        [1408.5       ,   44.05581143,  -78.68379229, ...,   32.4091538 ,\n",
              "           14.40406854,    5.        ],\n",
              "        [1410.4       ,   44.05582843,  -78.68378744, ...,  -14.40406826,\n",
              "            0.        ,    5.        ],\n",
              "        [1412.3       ,   44.05584534,  -78.68378258, ...,  -57.61627361,\n",
              "          -18.00508554,    5.        ]]),\n",
              " array([[1212.3       ,   44.05447675,  -78.68365443, ...,    0.        ,\n",
              "          -39.61118807,    5.        ],\n",
              "        [1213.9       ,   44.05448511,  -78.68366585, ...,    3.60101671,\n",
              "          -39.61118807,    5.        ],\n",
              "        [1215.4       ,   44.05449303,  -78.68367646, ...,   21.60610282,\n",
              "          -14.40406911,    5.        ],\n",
              "        ...,\n",
              "        [1401.8       ,   44.05605479,  -78.6837288 , ...,  -82.82339313,\n",
              "            0.        ,    5.        ],\n",
              "        [1403.1       ,   44.05606504,  -78.68372439, ...,  -36.01017079,\n",
              "           28.80813652,    5.        ],\n",
              "        [1404.3       ,   44.05607556,  -78.68371954, ...,  -57.61627418,\n",
              "           21.60610253,    5.        ]]),\n",
              " array([[1213.4       ,   44.05448673,  -78.68367502, ...,   36.01017108,\n",
              "          -18.00508497,    5.        ],\n",
              "        [1215.1       ,   44.05449662,  -78.68368707, ...,   18.00508582,\n",
              "          -43.2122062 ,    5.        ],\n",
              "        [1216.8       ,   44.0545067 ,  -78.68369885, ...,   -3.60101728,\n",
              "          -68.41932516,    5.        ],\n",
              "        ...,\n",
              "        [1402.6       ,   44.05607763,  -78.6837172 , ...,  -36.01017108,\n",
              "           25.20711953,    5.        ],\n",
              "        [1403.6       ,   44.05608635,  -78.68371297, ...,  -61.21729089,\n",
              "           21.60610253,    5.        ],\n",
              "        [1404.6       ,   44.05609427,  -78.68370874, ...,  -18.00508582,\n",
              "           46.81322206,    5.        ]]),\n",
              " array([[1213.        ,   44.0545013 ,  -78.68368599, ...,   54.01525661,\n",
              "          -21.60610253,    5.        ],\n",
              "        [1214.8       ,   44.05451245,  -78.68369876, ...,   25.20712009,\n",
              "          -54.01525718,    5.        ],\n",
              "        [1216.7       ,   44.05452378,  -78.68371117, ...,    0.        ,\n",
              "          -82.8233937 ,    5.        ],\n",
              "        ...,\n",
              "        [1413.8       ,   44.05619202,  -78.68364184, ...,  -39.61118835,\n",
              "           32.40915408,    5.        ],\n",
              "        [1415.1       ,   44.05620165,  -78.68363383, ..., -104.42949623,\n",
              "          -21.60610253,    5.        ],\n",
              "        [1416.4       ,   44.05620938,  -78.683627  , ...,  -21.60610282,\n",
              "           54.01525718,    5.        ]]),\n",
              " array([[1213.6       ,   44.05446955,  -78.68364219, ...,  -50.41423962,\n",
              "         -115.23254779,    5.        ],\n",
              "        [1215.1       ,   44.05447702,  -78.68365227, ...,   28.80813709,\n",
              "           -7.20203399,    5.        ],\n",
              "        [1216.6       ,   44.05448556,  -78.68366351, ...,   25.20711953,\n",
              "          -10.80305155,    5.        ],\n",
              "        ...,\n",
              "        [1398.9       ,   44.05600928,  -78.68373761, ...,   10.80305098,\n",
              "           28.80813652,    5.        ],\n",
              "        [1400.1       ,   44.05601998,  -78.68373402, ...,   14.40406826,\n",
              "           32.40915408,    5.        ],\n",
              "        [1401.3       ,   44.0560306 ,  -78.68373024, ...,  -32.40915351,\n",
              "           10.80305212,    5.        ]]),\n",
              " array([[1213.5       ,   44.05455022,  -78.68375083, ...,   46.81322263,\n",
              "          -28.80813709,    5.        ],\n",
              "        [1215.1       ,   44.05456137,  -78.68376136, ...,   25.20711981,\n",
              "          -54.01525605,    5.        ],\n",
              "        [1216.8       ,   44.0545728 ,  -78.68377143, ...,   -7.20203456,\n",
              "          -75.62135915,    5.        ],\n",
              "        ...,\n",
              "        [1400.6       ,   44.05614724,  -78.68366639, ...,  -28.80813709,\n",
              "           25.20711953,    5.        ],\n",
              "        [1401.7       ,   44.05615551,  -78.68366018, ...,  -46.81322234,\n",
              "           10.80305098,    5.        ],\n",
              "        [1402.9       ,   44.05616316,  -78.68365416, ...,  -10.80305127,\n",
              "           39.61118864,    5.        ]]),\n",
              " array([[1212.7       ,   44.05454501,  -78.68375614, ...,   61.2172906 ,\n",
              "           10.80305098,    5.        ],\n",
              "        [1214.3       ,   44.05455589,  -78.68376765, ...,   -7.20203456,\n",
              "          -68.41932573,    5.        ],\n",
              "        [1215.9       ,   44.05456578,  -78.68377781, ...,   21.60610282,\n",
              "          -54.01525605,    5.        ],\n",
              "        ...,\n",
              "        [1389.3       ,   44.05603276,  -78.68374508, ...,  -36.01017079,\n",
              "           46.81322263,    5.        ],\n",
              "        [1390.8       ,   44.0560458 ,  -78.68373896, ...,  -72.02034215,\n",
              "           25.20711953,    5.        ],\n",
              "        [1392.4       ,   44.05605776,  -78.68373294, ...,  -14.40406883,\n",
              "           54.01525718,    5.        ]]),\n",
              " array([[1213.7       ,   44.05412538,  -78.68312284, ...,  -50.41423934,\n",
              "           -7.20203399,    5.        ],\n",
              "        [1215.4       ,   44.05413366,  -78.68313516, ...,  -57.61627389,\n",
              "          -10.80305212,    5.        ],\n",
              "        [1217.1       ,   44.05414166,  -78.68314757, ...,    7.20203427,\n",
              "           75.62135858,    5.        ],\n",
              "        ...,\n",
              "        [1402.5       ,   44.05534936,  -78.68389769, ...,  -46.81322234,\n",
              "          -86.42441013,    5.        ],\n",
              "        [1403.9       ,   44.05535817,  -78.68389059, ...,   36.01017108,\n",
              "         -154.84373529,    5.        ],\n",
              "        [1405.2       ,   44.05536825,  -78.68388285, ...,  -21.60610282,\n",
              "         -331.29357481,    5.        ]]),\n",
              " array([[1213.4       ,   44.05400236,  -78.68298992, ...,  -14.40406854,\n",
              "           25.20712009,    5.        ],\n",
              "        [1215.5       ,   44.05401333,  -78.68300485, ...,   72.02034215,\n",
              "          126.03559877,    5.        ],\n",
              "        [1217.7       ,   44.05402556,  -78.68302166, ...,  -57.61627361,\n",
              "          -68.41932573,    5.        ],\n",
              "        ...,\n",
              "        [1364.1       ,   44.05492407,  -78.68388204, ...,  -14.40406854,\n",
              "            7.20203342,    5.        ],\n",
              "        [1364.7       ,   44.05492884,  -78.68388285, ...,   -3.60101671,\n",
              "            3.60101756,    5.        ],\n",
              "        [1365.2       ,   44.05493378,  -78.68388366, ...,   -3.60101671,\n",
              "            7.20203456,    5.        ]]),\n",
              " array([[1212.6       ,   44.05432036,  -78.68343049, ...,  -64.8183076 ,\n",
              "          -14.40406798,    5.        ],\n",
              "        [1214.8       ,   44.05433133,  -78.68344749, ...,  -64.81830816,\n",
              "          -18.00508554,    5.        ],\n",
              "        [1217.        ,   44.0543414 ,  -78.68346368, ...,  -10.80305155,\n",
              "           61.2172906 ,    5.        ],\n",
              "        ...,\n",
              "        [1385.1       ,   44.05555432,  -78.68385102, ...,   39.61118807,\n",
              "           10.80305155,    5.        ],\n",
              "        [1386.        ,   44.05556304,  -78.68384967, ...,   18.00508554,\n",
              "            7.20203399,    5.        ],\n",
              "        [1387.        ,   44.05557194,  -78.68384823, ...,   18.00508554,\n",
              "            3.60101756,    5.        ]]),\n",
              " array([[1212.3       ,   44.05444042,  -78.68363743, ...,   50.41423962,\n",
              "           43.21220506,    5.        ],\n",
              "        [1214.        ,   44.05444896,  -78.6836502 , ...,   10.80305127,\n",
              "          -10.80305155,    5.        ],\n",
              "        [1215.6       ,   44.0544575 ,  -78.68366297, ...,   -7.20203427,\n",
              "          -43.21220506,    5.        ],\n",
              "        ...,\n",
              "        [1333.5       ,   44.05541546,  -78.6838726 , ...,  -14.40406854,\n",
              "          -46.81322263,    5.        ],\n",
              "        [1334.9       ,   44.05542778,  -78.68387062, ...,  -18.00508554,\n",
              "          -36.01017108,    5.        ],\n",
              "        [1336.3       ,   44.05543938,  -78.683869  , ...,   18.00508582,\n",
              "          -10.80305155,    5.        ]]),\n",
              " array([[1212.6       ,   44.05445633,  -78.68365353, ...,   14.40406854,\n",
              "          -18.00508554,    5.        ],\n",
              "        [1214.4       ,   44.05446632,  -78.68366783, ...,  -39.61118807,\n",
              "         -104.42949567,    5.        ],\n",
              "        [1216.1       ,   44.05447522,  -78.68368024, ...,   -7.20203427,\n",
              "          -61.2172906 ,    5.        ],\n",
              "        ...,\n",
              "        [1408.        ,   44.05607215,  -78.68374112, ...,  -21.60610253,\n",
              "           43.21220563,    5.        ],\n",
              "        [1409.2       ,   44.05608132,  -78.68373635, ...,  -39.61118807,\n",
              "           36.01017108,    5.        ],\n",
              "        [1410.3       ,   44.05608986,  -78.6837315 , ...,    7.20203399,\n",
              "           61.2172906 ,    5.        ]]),\n",
              " array([[1212.3       ,   44.05449132,  -78.68367952, ...,   14.40406854,\n",
              "          -28.80813709,    5.        ],\n",
              "        [1214.        ,   44.05450049,  -78.68369247, ...,    3.60101699,\n",
              "          -54.01525718,    5.        ],\n",
              "        [1215.7       ,   44.05450975,  -78.68370506, ...,  -10.80305127,\n",
              "          -79.22237614,    5.        ],\n",
              "        ...,\n",
              "        [1408.3       ,   44.05612134,  -78.68372475, ...,  -28.80813652,\n",
              "           32.40915351,    5.        ],\n",
              "        [1409.3       ,   44.05612871,  -78.68371972, ...,  -54.01525661,\n",
              "           21.6061031 ,    5.        ],\n",
              "        [1410.2       ,   44.05613546,  -78.68371477, ...,  -25.20712009,\n",
              "           50.41423962,    5.        ]]),\n",
              " array([[1212.9       ,   44.05417781,  -78.68318741, ...,  -18.00508554,\n",
              "           10.80305155,    5.        ],\n",
              "        [1215.3       ,   44.05419013,  -78.68320575, ...,  -50.41423934,\n",
              "          -36.01017108,    5.        ],\n",
              "        [1217.7       ,   44.05420165,  -78.68322302, ...,    7.20203427,\n",
              "           50.41423962,    5.        ],\n",
              "        ...,\n",
              "        [1421.3       ,   44.0556768 ,  -78.68386783, ..., -180.05085567,\n",
              "          -39.6111875 ,    5.        ],\n",
              "        [1423.3       ,   44.05569254,  -78.6838637 , ...,  -18.00508582,\n",
              "           -3.60101756,    5.        ],\n",
              "        [1425.3       ,   44.05571008,  -78.6838592 , ...,  -21.60610253,\n",
              "            3.60101642,    5.        ]]),\n",
              " array([[1213.4       ,   44.0544915 ,  -78.68368905, ...,  -18.00508554,\n",
              "          -97.22746225,    5.        ],\n",
              "        [1215.3       ,   44.05450103,  -78.68370245, ...,   46.81322234,\n",
              "          -18.00508554,    5.        ],\n",
              "        [1217.2       ,   44.05451128,  -78.68371639, ...,   36.01017108,\n",
              "          -43.21220506,    5.        ],\n",
              "        ...,\n",
              "        [1330.5       ,   44.05538479,  -78.68388501, ...,    0.        ,\n",
              "            0.        ,    5.        ],\n",
              "        [1330.5       ,   44.05538479,  -78.68388501, ...,    0.        ,\n",
              "            0.        ,    5.        ],\n",
              "        [1330.5       ,   44.05538479,  -78.68388501, ...,    0.        ,\n",
              "            0.        ,    5.        ]]),\n",
              " array([[1212.3       ,   44.054512  ,  -78.68368563, ...,  -25.20711953,\n",
              "          -97.22746168,    5.        ],\n",
              "        [1214.3       ,   44.05452198,  -78.68369957, ...,  -25.20711953,\n",
              "         -100.82847981,    5.        ],\n",
              "        [1216.2       ,   44.05453206,  -78.68371315, ...,   46.81322206,\n",
              "            0.        ,    5.        ],\n",
              "        ...,\n",
              "        [1402.7       ,   44.05605902,  -78.68374903, ...,  -68.41932487,\n",
              "           43.21220563,    5.        ],\n",
              "        [1404.3       ,   44.05607215,  -78.68374589, ...,   -7.20203427,\n",
              "           57.61627418,    5.        ],\n",
              "        [1405.8       ,   44.0560859 ,  -78.6837422 , ...,  -39.61118835,\n",
              "           43.21220449,    5.        ]]),\n",
              " array([[1213.6       ,   44.05451506,  -78.68371477, ...,  -10.80305127,\n",
              "          -64.81830816,    5.        ],\n",
              "        [1215.6       ,   44.05452603,  -78.68372907, ...,  -10.80305098,\n",
              "          -68.41932516,    5.        ],\n",
              "        [1217.5       ,   44.05453619,  -78.68374211, ...,   18.00508554,\n",
              "          -36.01017051,    5.        ],\n",
              "        ...,\n",
              "        [1403.        ,   44.05607152,  -78.68372484, ...,  -90.02542741,\n",
              "           -7.20203456,    5.        ],\n",
              "        [1404.4       ,   44.05608213,  -78.68372053, ...,  -32.40915408,\n",
              "           14.40406854,    5.        ],\n",
              "        [1405.6       ,   44.05609301,  -78.68371594, ...,  -50.41423962,\n",
              "           10.80305098,    5.        ]]),\n",
              " array([[1213.        ,   44.05446263,  -78.68361998, ...,  -54.0152569 ,\n",
              "         -108.0305138 ,    5.        ],\n",
              "        [1214.7       ,   44.05447135,  -78.6836314 , ...,   36.01017108,\n",
              "           10.80305212,    5.        ],\n",
              "        [1216.5       ,   44.05448125,  -78.68364417, ...,   57.61627389,\n",
              "           46.81322263,    5.        ],\n",
              "        ...,\n",
              "        [1413.8       ,   44.05611037,  -78.68370668, ...,   14.40406826,\n",
              "           72.02034272,    5.        ],\n",
              "        [1415.1       ,   44.05612053,  -78.68369939, ...,  -10.80305155,\n",
              "           54.01525605,    5.        ],\n",
              "        [1416.5       ,   44.05613114,  -78.68369139, ..., -111.63153022,\n",
              "          -18.00508611,    5.        ]]),\n",
              " array([[ 1.21330000e+03,  4.40545245e+01, -7.86836855e+01, ...,\n",
              "          2.52071195e+01, -3.96111881e+01,  5.00000000e+00],\n",
              "        [ 1.21480000e+03,  4.40545339e+01, -7.86836945e+01, ...,\n",
              "          2.88081371e+01, -3.60101711e+01,  5.00000000e+00],\n",
              "        [ 1.21620000e+03,  4.40545430e+01, -7.86837027e+01, ...,\n",
              "          5.04142396e+01, -5.69023797e-07,  5.00000000e+00],\n",
              "        ...,\n",
              "        [ 1.32510000e+03,  4.40553411e+01, -7.86838881e+01, ...,\n",
              "          3.60101699e+00,  1.80050855e+01,  5.00000000e+00],\n",
              "        [ 1.32540000e+03,  4.40553440e+01, -7.86838883e+01, ...,\n",
              "          3.60101728e+00,  1.44040680e+01,  5.00000000e+00],\n",
              "        [ 1.32570000e+03,  4.40553471e+01, -7.86838886e+01, ...,\n",
              "         -2.16061028e+01,  1.44040685e+01,  5.00000000e+00]]),\n",
              " array([[1212.6       ,   44.05450256,  -78.68367709, ...,   86.42441041,\n",
              "           32.40915408,    5.        ],\n",
              "        [1214.6       ,   44.0545156 ,  -78.68369004, ...,   14.40406798,\n",
              "          -21.60610253,    5.        ],\n",
              "        [1216.6       ,   44.05452954,  -78.68370362, ...,  -86.42441041,\n",
              "         -111.63153079,    5.        ],\n",
              "        ...,\n",
              "        [1422.1       ,   44.05622215,  -78.68362628, ...,  -46.81322234,\n",
              "           25.20712009,    5.        ],\n",
              "        [1423.6       ,   44.05623133,  -78.68361638, ...,  -68.41932487,\n",
              "            7.20203456,    5.        ],\n",
              "        [1425.        ,   44.05623969,  -78.68360676, ...,  -32.40915408,\n",
              "           50.41423962,    5.        ]]),\n",
              " array([[1213.3       ,   44.05446919,  -78.68365658, ...,   -7.20203427,\n",
              "          -57.61627361,    5.        ],\n",
              "        [1215.        ,   44.05447819,  -78.68367007, ...,  -21.60610253,\n",
              "          -97.22746168,    5.        ],\n",
              "        [1216.7       ,   44.05448673,  -78.6836823 , ...,   18.00508554,\n",
              "          -32.40915408,    5.        ],\n",
              "        ...,\n",
              "        [1409.9       ,   44.05610533,  -78.6837297 , ...,  -79.22237614,\n",
              "           14.40406798,    5.        ],\n",
              "        [1411.5       ,   44.05611648,  -78.68372295, ...,  -14.40406826,\n",
              "           46.81322206,    5.        ],\n",
              "        [1413.        ,   44.05612817,  -78.68371558, ...,  -46.81322263,\n",
              "           28.80813766,    5.        ]]),\n",
              " array([[1213.6       ,   44.05446803,  -78.68367484, ...,  -18.00508554,\n",
              "          -93.62644525,    5.        ],\n",
              "        [1215.5       ,   44.05447864,  -78.68368743, ...,   32.4091538 ,\n",
              "          -32.40915351,    5.        ],\n",
              "        [1217.4       ,   44.05449006,  -78.68370038, ...,   -3.60101728,\n",
              "          -61.2172906 ,    5.        ],\n",
              "        ...,\n",
              "        [1419.8       ,   44.05618042,  -78.68366225, ...,  -14.40406854,\n",
              "           57.61627418,    5.        ],\n",
              "        [1421.4       ,   44.05619113,  -78.68365191, ...,  -14.40406883,\n",
              "           54.01525718,    5.        ],\n",
              "        [1423.        ,   44.05620156,  -78.68364139, ...,  -68.41932516,\n",
              "           -3.60101699,    5.        ]]),\n",
              " array([[1213.7       ,   44.054479  ,  -78.68368042, ...,  -21.60610253,\n",
              "          -93.62644525,    5.        ],\n",
              "        [1215.7       ,   44.0544906 ,  -78.68369346, ...,    7.20203456,\n",
              "          -64.81830816,    5.        ],\n",
              "        [1217.7       ,   44.05450301,  -78.68370677, ...,    7.20203427,\n",
              "          -61.2172906 ,    5.        ],\n",
              "        ...,\n",
              "        [1421.6       ,   44.05619607,  -78.68363032, ...,  -36.01017108,\n",
              "           25.20711953,    5.        ],\n",
              "        [1423.        ,   44.05620453,  -78.68362124, ...,  -72.02034244,\n",
              "          -18.00508497,    5.        ],\n",
              "        [1424.3       ,   44.05621262,  -78.68361207, ...,  -72.02034187,\n",
              "          -21.60610253,    5.        ]]),\n",
              " array([[ 1.21270000e+03,  4.40544733e+01, -7.86836649e+01, ...,\n",
              "         -7.20203424e+01, -1.47641701e+02,  5.00000000e+00],\n",
              "        [ 1.21460000e+03,  4.40544840e+01, -7.86836759e+01, ...,\n",
              "          7.56213591e+01,  5.69023513e-07,  5.00000000e+00],\n",
              "        [ 1.21640000e+03,  4.40544964e+01, -7.86836880e+01, ...,\n",
              "          5.04142396e+01, -1.44040691e+01,  5.00000000e+00],\n",
              "        ...,\n",
              "        [ 1.43040000e+03,  4.40562508e+01, -7.86835684e+01, ...,\n",
              "         -2.52071201e+01,  4.32122051e+01,  5.00000000e+00],\n",
              "        [ 1.43190000e+03,  4.40562586e+01, -7.86835577e+01, ...,\n",
              "         -3.60101711e+01,  1.80050861e+01,  5.00000000e+00],\n",
              "        [ 1.43330000e+03,  4.40562660e+01, -7.86835470e+01, ...,\n",
              "         -7.20203419e+01, -3.60101711e+01,  5.00000000e+00]]),\n",
              " array([[1213.        ,   44.054487  ,  -78.68367403, ...,   57.61627361,\n",
              "          -25.20711953,    5.        ],\n",
              "        [1215.3       ,   44.05450103,  -78.68368905, ...,   57.61627389,\n",
              "          -25.20711953,    5.        ],\n",
              "        [1217.5       ,   44.05451533,  -78.6837038 , ...,  -14.40406826,\n",
              "          -97.22746168,    5.        ],\n",
              "        ...,\n",
              "        [1420.3       ,   44.05620471,  -78.68365739, ...,  -32.40915408,\n",
              "           32.40915408,    5.        ],\n",
              "        [1421.7       ,   44.05621379,  -78.68364831, ...,  -75.62135972,\n",
              "          -10.80305155,    5.        ],\n",
              "        [1423.1       ,   44.05622251,  -78.68363914, ...,  -72.02034215,\n",
              "          -14.40406854,    5.        ]]),\n",
              " array([[1213.1       ,   44.05448403,  -78.68367646, ...,   10.80305127,\n",
              "          -57.61627418,    5.        ],\n",
              "        [1215.        ,   44.0544959 ,  -78.6836886 , ...,  -28.8081368 ,\n",
              "          -86.4244107 ,    5.        ],\n",
              "        [1216.8       ,   44.05450706,  -78.68369975, ...,   25.20711981,\n",
              "          -36.01017108,    5.        ],\n",
              "        ...,\n",
              "        [1414.8       ,   44.05617701,  -78.68365748, ...,  -68.41932487,\n",
              "            3.60101756,    5.        ],\n",
              "        [1416.2       ,   44.05618564,  -78.68364876, ...,  -25.20711981,\n",
              "           43.21220506,    5.        ],\n",
              "        [1417.6       ,   44.05619454,  -78.68363941, ...,  -46.81322234,\n",
              "           21.60610196,    5.        ]]),\n",
              " array([[1213.9       ,   44.05449366,  -78.68367961, ...,   -7.20203427,\n",
              "          -90.02542826,    5.        ],\n",
              "        [1216.        ,   44.05450679,  -78.68369355, ...,   -3.60101699,\n",
              "          -82.8233937 ,    5.        ],\n",
              "        [1218.1       ,   44.05451929,  -78.6837065 , ...,   28.80813709,\n",
              "          -54.01525605,    5.        ],\n",
              "        ...,\n",
              "        [1428.2       ,   44.05623771,  -78.68356629, ...,  -39.61118835,\n",
              "           32.40915351,    5.        ],\n",
              "        [1429.7       ,   44.05624589,  -78.68355487, ...,  -54.01525661,\n",
              "            3.60101756,    5.        ],\n",
              "        [1431.2       ,   44.05625381,  -78.68354345, ...,  -75.62135915,\n",
              "          -21.60610253,    5.        ]]),\n",
              " array([[1213.9       ,   44.05447909,  -78.68366459, ...,   43.21220506,\n",
              "          -18.00508554,    5.        ],\n",
              "        [1215.5       ,   44.0544897 ,  -78.68367529, ...,   75.62135943,\n",
              "           10.80305098,    5.        ],\n",
              "        [1217.2       ,   44.05450049,  -78.68368563, ...,    0.        ,\n",
              "          -54.01525605,    5.        ],\n",
              "        ...,\n",
              "        [1419.4       ,   44.05617988,  -78.68364372, ...,  -50.41423934,\n",
              "            0.        ,    5.        ],\n",
              "        [1420.8       ,   44.05619005,  -78.68363509, ...,  -61.21729089,\n",
              "            0.        ,    5.        ],\n",
              "        [1422.3       ,   44.05619922,  -78.68362691, ...,  -36.01017108,\n",
              "           21.60610253,    5.        ]]),\n",
              " array([[1213.2       ,   44.05445229,  -78.6836529 , ...,   36.01017108,\n",
              "          -32.40915408,    5.        ],\n",
              "        [1215.4       ,   44.05446506,  -78.68366863, ...,    3.60101756,\n",
              "          -64.81830816,    5.        ],\n",
              "        [1217.6       ,   44.05447774,  -78.68368401, ...,  -21.60610253,\n",
              "         -100.82847924,    5.        ],\n",
              "        ...,\n",
              "        [1423.1       ,   44.05617296,  -78.68369067, ...,  -25.20711981,\n",
              "           36.01017165,    5.        ],\n",
              "        [1424.7       ,   44.05618483,  -78.68368132, ...,  -86.42441041,\n",
              "          -10.80305098,    5.        ],\n",
              "        [1426.3       ,   44.05619562,  -78.6836725 , ...,  -28.8081368 ,\n",
              "           28.80813709,    5.        ]]),\n",
              " array([[ 1.21360000e+03,  4.40544942e+01, -7.86837183e+01, ...,\n",
              "          3.60101714e+01, -2.88081377e+01,  5.00000000e+00],\n",
              "        [ 1.21550000e+03,  4.40545051e+01, -7.86837316e+01, ...,\n",
              "          1.44040685e+01, -6.12172912e+01,  5.00000000e+00],\n",
              "        [ 1.21730000e+03,  4.40545161e+01, -7.86837444e+01, ...,\n",
              "         -1.80050855e+01, -9.00254271e+01,  5.00000000e+00],\n",
              "        ...,\n",
              "        [ 1.41170000e+03,  4.40561404e+01, -7.86836851e+01, ...,\n",
              "         -5.76162739e+01, -5.69023797e-07,  5.00000000e+00],\n",
              "        [ 1.41300000e+03,  4.40561496e+01, -7.86836767e+01, ...,\n",
              "         -8.28233934e+01, -1.80050861e+01,  5.00000000e+00],\n",
              "        [ 1.41430000e+03,  4.40561579e+01, -7.86836688e+01, ...,\n",
              "         -2.52071195e+01,  3.60101716e+01,  5.00000000e+00]])]"
            ]
          },
          "metadata": {
            "tags": []
          },
          "execution_count": 47
        }
      ]
    },
    {
      "cell_type": "code",
      "metadata": {
        "colab": {
          "base_uri": "https://localhost:8080/"
        },
        "id": "JZWrKWh9ITT2",
        "outputId": "0b633494-81b2-448c-a4c0-d7a9a0d18df5"
      },
      "source": [
        "train = np.array(train)\n",
        "validation = np.array(validation)\n",
        "test = np.array(test)\n",
        "\n",
        "train_target = np.array(train_target)\n",
        "validation_target = np.array(validation_target)\n",
        "test_target = np.array(test_target)\n",
        "\n",
        "print(train.shape)\n",
        "print(train_target.shape)"
      ],
      "id": "JZWrKWh9ITT2",
      "execution_count": null,
      "outputs": [
        {
          "output_type": "stream",
          "text": [
            "(204, 25, 102)\n",
            "(204,)\n"
          ],
          "name": "stdout"
        }
      ]
    },
    {
      "cell_type": "code",
      "metadata": {
        "colab": {
          "base_uri": "https://localhost:8080/"
        },
        "id": "44iIS72eRKrS",
        "outputId": "1cd90bbb-efc7-4344-cf25-0f0557d087ab"
      },
      "source": [
        "!pip install keras-tuner\n",
        "from kerastuner import HyperModel\n",
        "from kerastuner.tuners import RandomSearch\n",
        "from tensorflow import keras"
      ],
      "id": "44iIS72eRKrS",
      "execution_count": null,
      "outputs": [
        {
          "output_type": "stream",
          "text": [
            "Collecting keras-tuner\n",
            "\u001b[?25l  Downloading https://files.pythonhosted.org/packages/20/ec/1ef246787174b1e2bb591c95f29d3c1310070cad877824f907faba3dade9/keras-tuner-1.0.2.tar.gz (62kB)\n",
            "\r\u001b[K     |█████▏                          | 10kB 16.8MB/s eta 0:00:01\r\u001b[K     |██████████▍                     | 20kB 17.6MB/s eta 0:00:01\r\u001b[K     |███████████████▋                | 30kB 18.6MB/s eta 0:00:01\r\u001b[K     |████████████████████▉           | 40kB 16.5MB/s eta 0:00:01\r\u001b[K     |██████████████████████████      | 51kB 8.4MB/s eta 0:00:01\r\u001b[K     |███████████████████████████████▎| 61kB 9.8MB/s eta 0:00:01\r\u001b[K     |████████████████████████████████| 71kB 5.5MB/s \n",
            "\u001b[?25hRequirement already satisfied: packaging in /usr/local/lib/python3.7/dist-packages (from keras-tuner) (20.9)\n",
            "Requirement already satisfied: future in /usr/local/lib/python3.7/dist-packages (from keras-tuner) (0.16.0)\n",
            "Requirement already satisfied: numpy in /usr/local/lib/python3.7/dist-packages (from keras-tuner) (1.19.5)\n",
            "Requirement already satisfied: tabulate in /usr/local/lib/python3.7/dist-packages (from keras-tuner) (0.8.9)\n",
            "Collecting terminaltables\n",
            "  Downloading https://files.pythonhosted.org/packages/9b/c4/4a21174f32f8a7e1104798c445dacdc1d4df86f2f26722767034e4de4bff/terminaltables-3.1.0.tar.gz\n",
            "Collecting colorama\n",
            "  Downloading https://files.pythonhosted.org/packages/44/98/5b86278fbbf250d239ae0ecb724f8572af1c91f4a11edf4d36a206189440/colorama-0.4.4-py2.py3-none-any.whl\n",
            "Requirement already satisfied: tqdm in /usr/local/lib/python3.7/dist-packages (from keras-tuner) (4.41.1)\n",
            "Requirement already satisfied: requests in /usr/local/lib/python3.7/dist-packages (from keras-tuner) (2.23.0)\n",
            "Requirement already satisfied: scipy in /usr/local/lib/python3.7/dist-packages (from keras-tuner) (1.4.1)\n",
            "Requirement already satisfied: scikit-learn in /usr/local/lib/python3.7/dist-packages (from keras-tuner) (0.22.2.post1)\n",
            "Requirement already satisfied: pyparsing>=2.0.2 in /usr/local/lib/python3.7/dist-packages (from packaging->keras-tuner) (2.4.7)\n",
            "Requirement already satisfied: urllib3!=1.25.0,!=1.25.1,<1.26,>=1.21.1 in /usr/local/lib/python3.7/dist-packages (from requests->keras-tuner) (1.24.3)\n",
            "Requirement already satisfied: chardet<4,>=3.0.2 in /usr/local/lib/python3.7/dist-packages (from requests->keras-tuner) (3.0.4)\n",
            "Requirement already satisfied: certifi>=2017.4.17 in /usr/local/lib/python3.7/dist-packages (from requests->keras-tuner) (2020.12.5)\n",
            "Requirement already satisfied: idna<3,>=2.5 in /usr/local/lib/python3.7/dist-packages (from requests->keras-tuner) (2.10)\n",
            "Requirement already satisfied: joblib>=0.11 in /usr/local/lib/python3.7/dist-packages (from scikit-learn->keras-tuner) (1.0.1)\n",
            "Building wheels for collected packages: keras-tuner, terminaltables\n",
            "  Building wheel for keras-tuner (setup.py) ... \u001b[?25l\u001b[?25hdone\n",
            "  Created wheel for keras-tuner: filename=keras_tuner-1.0.2-cp37-none-any.whl size=78938 sha256=3126732fe876a9ad97d175818c188b8c3692f753a90d6d78b9fbbe3f68e81e26\n",
            "  Stored in directory: /root/.cache/pip/wheels/bb/a1/8a/7c3de0efb3707a1701b36ebbfdbc4e67aedf6d4943a1f463d6\n",
            "  Building wheel for terminaltables (setup.py) ... \u001b[?25l\u001b[?25hdone\n",
            "  Created wheel for terminaltables: filename=terminaltables-3.1.0-cp37-none-any.whl size=15356 sha256=bc9b62a3e1400e3ae88521990dd33b52d56bb0acbc1996c1b921577ad31faf0c\n",
            "  Stored in directory: /root/.cache/pip/wheels/30/6b/50/6c75775b681fb36cdfac7f19799888ef9d8813aff9e379663e\n",
            "Successfully built keras-tuner terminaltables\n",
            "Installing collected packages: terminaltables, colorama, keras-tuner\n",
            "Successfully installed colorama-0.4.4 keras-tuner-1.0.2 terminaltables-3.1.0\n"
          ],
          "name": "stdout"
        }
      ]
    },
    {
      "cell_type": "code",
      "metadata": {
        "colab": {
          "base_uri": "https://localhost:8080/"
        },
        "id": "3jAktnMjRSrh",
        "outputId": "eaf005ed-8aee-4eec-cf0b-e438e27c882d"
      },
      "source": [
        "from tensorflow.keras.models import Sequential\n",
        "#alpha?\n",
        "def build_model(hp):\n",
        "  model = Sequential()\n",
        "  model.add(LSTM(units=hp.Int('units', min_value=32, max_value=1024, default=256, step=2), input_shape=(seq_len, 104)))\n",
        "  model.add(Dropout(rate=hp.Float('dropout', min_value=0.0, max_value=0.5, default=0.25, step=0.05)))\n",
        "  model.add(Dense(1, activation='sigmoid'))\n",
        "  model.compile(loss='binary_crossentropy', optimizer=Adam(\n",
        "      hp.Choice('learning_rate', values=[1e-2, 1e-3, 1e-4])\n",
        "  ), metrics=['accuracy'])\n",
        "  return model\n",
        "\n",
        "tuner=RandomSearch(\n",
        "    build_model,\n",
        "    objective='val_accuracy',\n",
        "    max_trials=30,\n",
        "    executions_per_trial=2,\n",
        "    directory='my_dir',\n",
        "    project_name='driverLSTM_wolabel'\n",
        "    #project_name='driverLSTM_mod'\n",
        ")\n",
        "\n",
        "callback= tf.keras.callbacks.EarlyStopping(monitor='val_loss', patience=3)\n",
        "tuner.search(train, train_target, epochs=100, validation_data=(validation,validation_target), callbacks=[callback])\n",
        "tuner.results_summary()"
      ],
      "id": "3jAktnMjRSrh",
      "execution_count": null,
      "outputs": [
        {
          "output_type": "stream",
          "text": [
            "Trial 30 Complete [00h 00m 06s]\n",
            "val_accuracy: 0.6083333492279053\n",
            "\n",
            "Best val_accuracy So Far: 0.7416666746139526\n",
            "Total elapsed time: 00h 04m 00s\n",
            "INFO:tensorflow:Oracle triggered exit\n",
            "Results summary\n",
            "Results in my_dir/driverLSTM_wolabel\n",
            "Showing 10 best trials\n",
            "Objective(name='val_accuracy', direction='max')\n",
            "Trial summary\n",
            "Hyperparameters:\n",
            "units: 534\n",
            "dropout: 0.05\n",
            "learning_rate: 0.001\n",
            "Score: 0.7416666746139526\n",
            "Trial summary\n",
            "Hyperparameters:\n",
            "units: 446\n",
            "dropout: 0.1\n",
            "learning_rate: 0.001\n",
            "Score: 0.7416666448116302\n",
            "Trial summary\n",
            "Hyperparameters:\n",
            "units: 726\n",
            "dropout: 0.2\n",
            "learning_rate: 0.001\n",
            "Score: 0.7333333492279053\n",
            "Trial summary\n",
            "Hyperparameters:\n",
            "units: 858\n",
            "dropout: 0.0\n",
            "learning_rate: 0.001\n",
            "Score: 0.7333333194255829\n",
            "Trial summary\n",
            "Hyperparameters:\n",
            "units: 326\n",
            "dropout: 0.05\n",
            "learning_rate: 0.001\n",
            "Score: 0.7166666686534882\n",
            "Trial summary\n",
            "Hyperparameters:\n",
            "units: 954\n",
            "dropout: 0.4\n",
            "learning_rate: 0.0001\n",
            "Score: 0.7000000178813934\n",
            "Trial summary\n",
            "Hyperparameters:\n",
            "units: 1018\n",
            "dropout: 0.15000000000000002\n",
            "learning_rate: 0.0001\n",
            "Score: 0.699999988079071\n",
            "Trial summary\n",
            "Hyperparameters:\n",
            "units: 868\n",
            "dropout: 0.25\n",
            "learning_rate: 0.0001\n",
            "Score: 0.699999988079071\n",
            "Trial summary\n",
            "Hyperparameters:\n",
            "units: 170\n",
            "dropout: 0.30000000000000004\n",
            "learning_rate: 0.001\n",
            "Score: 0.699999988079071\n",
            "Trial summary\n",
            "Hyperparameters:\n",
            "units: 832\n",
            "dropout: 0.30000000000000004\n",
            "learning_rate: 0.001\n",
            "Score: 0.699999988079071\n"
          ],
          "name": "stdout"
        }
      ]
    },
    {
      "cell_type": "code",
      "metadata": {
        "id": "_l39F4ZHRSiw"
      },
      "source": [
        ""
      ],
      "id": "_l39F4ZHRSiw",
      "execution_count": null,
      "outputs": []
    },
    {
      "cell_type": "code",
      "metadata": {
        "id": "UZZ63nm7aOLH"
      },
      "source": [
        "#Hyperparameter for the final model (without corner numbers)\n",
        "model = Sequential()\n",
        "model.add(LSTM(534, input_shape=(seq_len, 103)))\n",
        "model.add(Dropout(0.05))\n",
        "model.add(Dense(1, activation='sigmoid'))"
      ],
      "id": "UZZ63nm7aOLH",
      "execution_count": null,
      "outputs": []
    },
    {
      "cell_type": "code",
      "metadata": {
        "id": "IH3Vbj8aRSVe"
      },
      "source": [
        "#Hyperparameter for the final model (with corner numbers)\n",
        "model = Sequential()\n",
        "model.add(LSTM(846, input_shape=(seq_len, 103)))\n",
        "model.add(Dropout(0.35))\n",
        "model.add(Dense(1, activation='sigmoid'))"
      ],
      "id": "IH3Vbj8aRSVe",
      "execution_count": null,
      "outputs": []
    },
    {
      "cell_type": "code",
      "metadata": {
        "id": "182c53c0"
      },
      "source": [
        "model = Sequential()\n",
        "model.add(LSTM(354, input_shape=(seq_len, 103)))\n",
        "model.add(Dropout(0.4))\n",
        "model.add(Dense(1, activation='sigmoid'))"
      ],
      "id": "182c53c0",
      "execution_count": null,
      "outputs": []
    },
    {
      "cell_type": "code",
      "metadata": {
        "colab": {
          "base_uri": "https://localhost:8080/"
        },
        "id": "yspiyjUZfBYD",
        "outputId": "285ce083-99c1-4395-8237-64c48d73093f"
      },
      "source": [
        "adam = Adam(learning_rate=0.001)\n",
        "chk = ModelCheckpoint('best_model.pkl', monitor='val_acc', save_best_only=True, mode='max', verbose=1)\n",
        "model.compile(loss='binary_crossentropy', optimizer=adam, metrics=['accuracy'])\n",
        "model.fit(train, train_target, epochs=200, batch_size=128, callbacks=[chk], validation_data=(validation,validation_target))"
      ],
      "id": "yspiyjUZfBYD",
      "execution_count": null,
      "outputs": [
        {
          "output_type": "stream",
          "text": [
            "Epoch 1/200\n",
            "2/2 [==============================] - 2s 368ms/step - loss: 0.7192 - accuracy: 0.5245 - val_loss: 0.6927 - val_accuracy: 0.6167\n",
            "WARNING:tensorflow:Can save best model only with val_acc available, skipping.\n",
            "Epoch 2/200\n",
            "2/2 [==============================] - 0s 34ms/step - loss: 0.6329 - accuracy: 0.6471 - val_loss: 0.6291 - val_accuracy: 0.5833\n",
            "WARNING:tensorflow:Can save best model only with val_acc available, skipping.\n",
            "Epoch 3/200\n",
            "2/2 [==============================] - 0s 34ms/step - loss: 0.6007 - accuracy: 0.6422 - val_loss: 0.6025 - val_accuracy: 0.6167\n",
            "WARNING:tensorflow:Can save best model only with val_acc available, skipping.\n",
            "Epoch 4/200\n",
            "2/2 [==============================] - 0s 32ms/step - loss: 0.5784 - accuracy: 0.6961 - val_loss: 0.5937 - val_accuracy: 0.6667\n",
            "WARNING:tensorflow:Can save best model only with val_acc available, skipping.\n",
            "Epoch 5/200\n",
            "2/2 [==============================] - 0s 33ms/step - loss: 0.5697 - accuracy: 0.7010 - val_loss: 0.5782 - val_accuracy: 0.7167\n",
            "WARNING:tensorflow:Can save best model only with val_acc available, skipping.\n",
            "Epoch 6/200\n",
            "2/2 [==============================] - 0s 34ms/step - loss: 0.5517 - accuracy: 0.6961 - val_loss: 0.5792 - val_accuracy: 0.7000\n",
            "WARNING:tensorflow:Can save best model only with val_acc available, skipping.\n",
            "Epoch 7/200\n",
            "2/2 [==============================] - 0s 37ms/step - loss: 0.5573 - accuracy: 0.7059 - val_loss: 0.5653 - val_accuracy: 0.7167\n",
            "WARNING:tensorflow:Can save best model only with val_acc available, skipping.\n",
            "Epoch 8/200\n",
            "2/2 [==============================] - 0s 37ms/step - loss: 0.5402 - accuracy: 0.7157 - val_loss: 0.5794 - val_accuracy: 0.7167\n",
            "WARNING:tensorflow:Can save best model only with val_acc available, skipping.\n",
            "Epoch 9/200\n",
            "2/2 [==============================] - 0s 30ms/step - loss: 0.5443 - accuracy: 0.7108 - val_loss: 0.5846 - val_accuracy: 0.7000\n",
            "WARNING:tensorflow:Can save best model only with val_acc available, skipping.\n",
            "Epoch 10/200\n",
            "2/2 [==============================] - 0s 31ms/step - loss: 0.5459 - accuracy: 0.6961 - val_loss: 0.5790 - val_accuracy: 0.7000\n",
            "WARNING:tensorflow:Can save best model only with val_acc available, skipping.\n",
            "Epoch 11/200\n",
            "2/2 [==============================] - 0s 29ms/step - loss: 0.5386 - accuracy: 0.7304 - val_loss: 0.5828 - val_accuracy: 0.6500\n",
            "WARNING:tensorflow:Can save best model only with val_acc available, skipping.\n",
            "Epoch 12/200\n",
            "2/2 [==============================] - 0s 29ms/step - loss: 0.5328 - accuracy: 0.7451 - val_loss: 0.5897 - val_accuracy: 0.6500\n",
            "WARNING:tensorflow:Can save best model only with val_acc available, skipping.\n",
            "Epoch 13/200\n",
            "2/2 [==============================] - 0s 30ms/step - loss: 0.5199 - accuracy: 0.7353 - val_loss: 0.5884 - val_accuracy: 0.6333\n",
            "WARNING:tensorflow:Can save best model only with val_acc available, skipping.\n",
            "Epoch 14/200\n",
            "2/2 [==============================] - 0s 27ms/step - loss: 0.5202 - accuracy: 0.7402 - val_loss: 0.5749 - val_accuracy: 0.6833\n",
            "WARNING:tensorflow:Can save best model only with val_acc available, skipping.\n",
            "Epoch 15/200\n",
            "2/2 [==============================] - 0s 34ms/step - loss: 0.5288 - accuracy: 0.7500 - val_loss: 0.5758 - val_accuracy: 0.7000\n",
            "WARNING:tensorflow:Can save best model only with val_acc available, skipping.\n",
            "Epoch 16/200\n",
            "2/2 [==============================] - 0s 27ms/step - loss: 0.5266 - accuracy: 0.7598 - val_loss: 0.5495 - val_accuracy: 0.7333\n",
            "WARNING:tensorflow:Can save best model only with val_acc available, skipping.\n",
            "Epoch 17/200\n",
            "2/2 [==============================] - 0s 28ms/step - loss: 0.5151 - accuracy: 0.7500 - val_loss: 0.5597 - val_accuracy: 0.7333\n",
            "WARNING:tensorflow:Can save best model only with val_acc available, skipping.\n",
            "Epoch 18/200\n",
            "2/2 [==============================] - 0s 29ms/step - loss: 0.5114 - accuracy: 0.7549 - val_loss: 0.5469 - val_accuracy: 0.7167\n",
            "WARNING:tensorflow:Can save best model only with val_acc available, skipping.\n",
            "Epoch 19/200\n",
            "2/2 [==============================] - 0s 28ms/step - loss: 0.5070 - accuracy: 0.7549 - val_loss: 0.5445 - val_accuracy: 0.6833\n",
            "WARNING:tensorflow:Can save best model only with val_acc available, skipping.\n",
            "Epoch 20/200\n",
            "2/2 [==============================] - 0s 35ms/step - loss: 0.5166 - accuracy: 0.7451 - val_loss: 0.5564 - val_accuracy: 0.7000\n",
            "WARNING:tensorflow:Can save best model only with val_acc available, skipping.\n",
            "Epoch 21/200\n",
            "2/2 [==============================] - 0s 28ms/step - loss: 0.5180 - accuracy: 0.7549 - val_loss: 0.5590 - val_accuracy: 0.7333\n",
            "WARNING:tensorflow:Can save best model only with val_acc available, skipping.\n",
            "Epoch 22/200\n",
            "2/2 [==============================] - 0s 29ms/step - loss: 0.5150 - accuracy: 0.7451 - val_loss: 0.5550 - val_accuracy: 0.7167\n",
            "WARNING:tensorflow:Can save best model only with val_acc available, skipping.\n",
            "Epoch 23/200\n",
            "2/2 [==============================] - 0s 27ms/step - loss: 0.5099 - accuracy: 0.7500 - val_loss: 0.5522 - val_accuracy: 0.7333\n",
            "WARNING:tensorflow:Can save best model only with val_acc available, skipping.\n",
            "Epoch 24/200\n",
            "2/2 [==============================] - 0s 28ms/step - loss: 0.5077 - accuracy: 0.7647 - val_loss: 0.5520 - val_accuracy: 0.7167\n",
            "WARNING:tensorflow:Can save best model only with val_acc available, skipping.\n",
            "Epoch 25/200\n",
            "2/2 [==============================] - 0s 29ms/step - loss: 0.5053 - accuracy: 0.7696 - val_loss: 0.5601 - val_accuracy: 0.7333\n",
            "WARNING:tensorflow:Can save best model only with val_acc available, skipping.\n",
            "Epoch 26/200\n",
            "2/2 [==============================] - 0s 27ms/step - loss: 0.5042 - accuracy: 0.7500 - val_loss: 0.5742 - val_accuracy: 0.7167\n",
            "WARNING:tensorflow:Can save best model only with val_acc available, skipping.\n",
            "Epoch 27/200\n",
            "2/2 [==============================] - 0s 26ms/step - loss: 0.5053 - accuracy: 0.7745 - val_loss: 0.5732 - val_accuracy: 0.6833\n",
            "WARNING:tensorflow:Can save best model only with val_acc available, skipping.\n",
            "Epoch 28/200\n",
            "2/2 [==============================] - 0s 27ms/step - loss: 0.4955 - accuracy: 0.7892 - val_loss: 0.5644 - val_accuracy: 0.6833\n",
            "WARNING:tensorflow:Can save best model only with val_acc available, skipping.\n",
            "Epoch 29/200\n",
            "2/2 [==============================] - 0s 31ms/step - loss: 0.5054 - accuracy: 0.7157 - val_loss: 0.5750 - val_accuracy: 0.6667\n",
            "WARNING:tensorflow:Can save best model only with val_acc available, skipping.\n",
            "Epoch 30/200\n",
            "2/2 [==============================] - 0s 26ms/step - loss: 0.4998 - accuracy: 0.7500 - val_loss: 0.5791 - val_accuracy: 0.6667\n",
            "WARNING:tensorflow:Can save best model only with val_acc available, skipping.\n",
            "Epoch 31/200\n",
            "2/2 [==============================] - 0s 27ms/step - loss: 0.4956 - accuracy: 0.7745 - val_loss: 0.5758 - val_accuracy: 0.6833\n",
            "WARNING:tensorflow:Can save best model only with val_acc available, skipping.\n",
            "Epoch 32/200\n",
            "2/2 [==============================] - 0s 26ms/step - loss: 0.5014 - accuracy: 0.7696 - val_loss: 0.5722 - val_accuracy: 0.7000\n",
            "WARNING:tensorflow:Can save best model only with val_acc available, skipping.\n",
            "Epoch 33/200\n",
            "2/2 [==============================] - 0s 28ms/step - loss: 0.5005 - accuracy: 0.7402 - val_loss: 0.5740 - val_accuracy: 0.6500\n",
            "WARNING:tensorflow:Can save best model only with val_acc available, skipping.\n",
            "Epoch 34/200\n",
            "2/2 [==============================] - 0s 26ms/step - loss: 0.5094 - accuracy: 0.7402 - val_loss: 0.5884 - val_accuracy: 0.6333\n",
            "WARNING:tensorflow:Can save best model only with val_acc available, skipping.\n",
            "Epoch 35/200\n",
            "2/2 [==============================] - 0s 27ms/step - loss: 0.5011 - accuracy: 0.7598 - val_loss: 0.6034 - val_accuracy: 0.6000\n",
            "WARNING:tensorflow:Can save best model only with val_acc available, skipping.\n",
            "Epoch 36/200\n",
            "2/2 [==============================] - 0s 29ms/step - loss: 0.4951 - accuracy: 0.7549 - val_loss: 0.6039 - val_accuracy: 0.6500\n",
            "WARNING:tensorflow:Can save best model only with val_acc available, skipping.\n",
            "Epoch 37/200\n",
            "2/2 [==============================] - 0s 27ms/step - loss: 0.4953 - accuracy: 0.7451 - val_loss: 0.5931 - val_accuracy: 0.6833\n",
            "WARNING:tensorflow:Can save best model only with val_acc available, skipping.\n",
            "Epoch 38/200\n",
            "2/2 [==============================] - 0s 28ms/step - loss: 0.4949 - accuracy: 0.7598 - val_loss: 0.5666 - val_accuracy: 0.6500\n",
            "WARNING:tensorflow:Can save best model only with val_acc available, skipping.\n",
            "Epoch 39/200\n",
            "2/2 [==============================] - 0s 33ms/step - loss: 0.5064 - accuracy: 0.7402 - val_loss: 0.5637 - val_accuracy: 0.7000\n",
            "WARNING:tensorflow:Can save best model only with val_acc available, skipping.\n",
            "Epoch 40/200\n",
            "2/2 [==============================] - 0s 27ms/step - loss: 0.5035 - accuracy: 0.7598 - val_loss: 0.5497 - val_accuracy: 0.7167\n",
            "WARNING:tensorflow:Can save best model only with val_acc available, skipping.\n",
            "Epoch 41/200\n",
            "2/2 [==============================] - 0s 29ms/step - loss: 0.4888 - accuracy: 0.7745 - val_loss: 0.5374 - val_accuracy: 0.7333\n",
            "WARNING:tensorflow:Can save best model only with val_acc available, skipping.\n",
            "Epoch 42/200\n",
            "2/2 [==============================] - 0s 30ms/step - loss: 0.4862 - accuracy: 0.7500 - val_loss: 0.5279 - val_accuracy: 0.7167\n",
            "WARNING:tensorflow:Can save best model only with val_acc available, skipping.\n",
            "Epoch 43/200\n",
            "2/2 [==============================] - 0s 29ms/step - loss: 0.4927 - accuracy: 0.7451 - val_loss: 0.5218 - val_accuracy: 0.7000\n",
            "WARNING:tensorflow:Can save best model only with val_acc available, skipping.\n",
            "Epoch 44/200\n",
            "2/2 [==============================] - 0s 29ms/step - loss: 0.4908 - accuracy: 0.7647 - val_loss: 0.5313 - val_accuracy: 0.7333\n",
            "WARNING:tensorflow:Can save best model only with val_acc available, skipping.\n",
            "Epoch 45/200\n",
            "2/2 [==============================] - 0s 27ms/step - loss: 0.4931 - accuracy: 0.7598 - val_loss: 0.5371 - val_accuracy: 0.7500\n",
            "WARNING:tensorflow:Can save best model only with val_acc available, skipping.\n",
            "Epoch 46/200\n",
            "2/2 [==============================] - 0s 31ms/step - loss: 0.4867 - accuracy: 0.7598 - val_loss: 0.5548 - val_accuracy: 0.7667\n",
            "WARNING:tensorflow:Can save best model only with val_acc available, skipping.\n",
            "Epoch 47/200\n",
            "2/2 [==============================] - 0s 34ms/step - loss: 0.4870 - accuracy: 0.7549 - val_loss: 0.5648 - val_accuracy: 0.7500\n",
            "WARNING:tensorflow:Can save best model only with val_acc available, skipping.\n",
            "Epoch 48/200\n",
            "2/2 [==============================] - 0s 30ms/step - loss: 0.4829 - accuracy: 0.7500 - val_loss: 0.5508 - val_accuracy: 0.7500\n",
            "WARNING:tensorflow:Can save best model only with val_acc available, skipping.\n",
            "Epoch 49/200\n",
            "2/2 [==============================] - 0s 29ms/step - loss: 0.4880 - accuracy: 0.7402 - val_loss: 0.5533 - val_accuracy: 0.7500\n",
            "WARNING:tensorflow:Can save best model only with val_acc available, skipping.\n",
            "Epoch 50/200\n",
            "2/2 [==============================] - 0s 27ms/step - loss: 0.4887 - accuracy: 0.7451 - val_loss: 0.5596 - val_accuracy: 0.7333\n",
            "WARNING:tensorflow:Can save best model only with val_acc available, skipping.\n",
            "Epoch 51/200\n",
            "2/2 [==============================] - 0s 28ms/step - loss: 0.4916 - accuracy: 0.7353 - val_loss: 0.5545 - val_accuracy: 0.7167\n",
            "WARNING:tensorflow:Can save best model only with val_acc available, skipping.\n",
            "Epoch 52/200\n",
            "2/2 [==============================] - 0s 29ms/step - loss: 0.4921 - accuracy: 0.7549 - val_loss: 0.5640 - val_accuracy: 0.7333\n",
            "WARNING:tensorflow:Can save best model only with val_acc available, skipping.\n",
            "Epoch 53/200\n",
            "2/2 [==============================] - 0s 29ms/step - loss: 0.4800 - accuracy: 0.7500 - val_loss: 0.5682 - val_accuracy: 0.7333\n",
            "WARNING:tensorflow:Can save best model only with val_acc available, skipping.\n",
            "Epoch 54/200\n",
            "2/2 [==============================] - 0s 28ms/step - loss: 0.4999 - accuracy: 0.7451 - val_loss: 0.5611 - val_accuracy: 0.7000\n",
            "WARNING:tensorflow:Can save best model only with val_acc available, skipping.\n",
            "Epoch 55/200\n",
            "2/2 [==============================] - 0s 28ms/step - loss: 0.4908 - accuracy: 0.7549 - val_loss: 0.5498 - val_accuracy: 0.7167\n",
            "WARNING:tensorflow:Can save best model only with val_acc available, skipping.\n",
            "Epoch 56/200\n",
            "2/2 [==============================] - 0s 30ms/step - loss: 0.4906 - accuracy: 0.7696 - val_loss: 0.5411 - val_accuracy: 0.7333\n",
            "WARNING:tensorflow:Can save best model only with val_acc available, skipping.\n",
            "Epoch 57/200\n",
            "2/2 [==============================] - 0s 27ms/step - loss: 0.4765 - accuracy: 0.7647 - val_loss: 0.5474 - val_accuracy: 0.7000\n",
            "WARNING:tensorflow:Can save best model only with val_acc available, skipping.\n",
            "Epoch 58/200\n",
            "2/2 [==============================] - 0s 27ms/step - loss: 0.4706 - accuracy: 0.7990 - val_loss: 0.5474 - val_accuracy: 0.7000\n",
            "WARNING:tensorflow:Can save best model only with val_acc available, skipping.\n",
            "Epoch 59/200\n",
            "2/2 [==============================] - 0s 36ms/step - loss: 0.4703 - accuracy: 0.7941 - val_loss: 0.5507 - val_accuracy: 0.6500\n",
            "WARNING:tensorflow:Can save best model only with val_acc available, skipping.\n",
            "Epoch 60/200\n",
            "2/2 [==============================] - 0s 28ms/step - loss: 0.4667 - accuracy: 0.7843 - val_loss: 0.5593 - val_accuracy: 0.7167\n",
            "WARNING:tensorflow:Can save best model only with val_acc available, skipping.\n",
            "Epoch 61/200\n",
            "2/2 [==============================] - 0s 27ms/step - loss: 0.4756 - accuracy: 0.7647 - val_loss: 0.5556 - val_accuracy: 0.7000\n",
            "WARNING:tensorflow:Can save best model only with val_acc available, skipping.\n",
            "Epoch 62/200\n",
            "2/2 [==============================] - 0s 31ms/step - loss: 0.4732 - accuracy: 0.7843 - val_loss: 0.5565 - val_accuracy: 0.6833\n",
            "WARNING:tensorflow:Can save best model only with val_acc available, skipping.\n",
            "Epoch 63/200\n",
            "2/2 [==============================] - 0s 29ms/step - loss: 0.4775 - accuracy: 0.7941 - val_loss: 0.5493 - val_accuracy: 0.7000\n",
            "WARNING:tensorflow:Can save best model only with val_acc available, skipping.\n",
            "Epoch 64/200\n",
            "2/2 [==============================] - 0s 28ms/step - loss: 0.4779 - accuracy: 0.7696 - val_loss: 0.5500 - val_accuracy: 0.7167\n",
            "WARNING:tensorflow:Can save best model only with val_acc available, skipping.\n",
            "Epoch 65/200\n",
            "2/2 [==============================] - 0s 27ms/step - loss: 0.4852 - accuracy: 0.7500 - val_loss: 0.5600 - val_accuracy: 0.6833\n",
            "WARNING:tensorflow:Can save best model only with val_acc available, skipping.\n",
            "Epoch 66/200\n",
            "2/2 [==============================] - 0s 27ms/step - loss: 0.4735 - accuracy: 0.7745 - val_loss: 0.5572 - val_accuracy: 0.6833\n",
            "WARNING:tensorflow:Can save best model only with val_acc available, skipping.\n",
            "Epoch 67/200\n",
            "2/2 [==============================] - 0s 28ms/step - loss: 0.4729 - accuracy: 0.7794 - val_loss: 0.5580 - val_accuracy: 0.7167\n",
            "WARNING:tensorflow:Can save best model only with val_acc available, skipping.\n",
            "Epoch 68/200\n",
            "2/2 [==============================] - 0s 30ms/step - loss: 0.4671 - accuracy: 0.7843 - val_loss: 0.5521 - val_accuracy: 0.7333\n",
            "WARNING:tensorflow:Can save best model only with val_acc available, skipping.\n",
            "Epoch 69/200\n",
            "2/2 [==============================] - 0s 28ms/step - loss: 0.4702 - accuracy: 0.7794 - val_loss: 0.5479 - val_accuracy: 0.7333\n",
            "WARNING:tensorflow:Can save best model only with val_acc available, skipping.\n",
            "Epoch 70/200\n",
            "2/2 [==============================] - 0s 32ms/step - loss: 0.4644 - accuracy: 0.7745 - val_loss: 0.5479 - val_accuracy: 0.7000\n",
            "WARNING:tensorflow:Can save best model only with val_acc available, skipping.\n",
            "Epoch 71/200\n",
            "2/2 [==============================] - 0s 29ms/step - loss: 0.4725 - accuracy: 0.7696 - val_loss: 0.5327 - val_accuracy: 0.7333\n",
            "WARNING:tensorflow:Can save best model only with val_acc available, skipping.\n",
            "Epoch 72/200\n",
            "2/2 [==============================] - 0s 29ms/step - loss: 0.4706 - accuracy: 0.7500 - val_loss: 0.5311 - val_accuracy: 0.7667\n",
            "WARNING:tensorflow:Can save best model only with val_acc available, skipping.\n",
            "Epoch 73/200\n",
            "2/2 [==============================] - 0s 29ms/step - loss: 0.4674 - accuracy: 0.7549 - val_loss: 0.5295 - val_accuracy: 0.7500\n",
            "WARNING:tensorflow:Can save best model only with val_acc available, skipping.\n",
            "Epoch 74/200\n",
            "2/2 [==============================] - 0s 27ms/step - loss: 0.4580 - accuracy: 0.7941 - val_loss: 0.5262 - val_accuracy: 0.7333\n",
            "WARNING:tensorflow:Can save best model only with val_acc available, skipping.\n",
            "Epoch 75/200\n",
            "2/2 [==============================] - 0s 29ms/step - loss: 0.4646 - accuracy: 0.7647 - val_loss: 0.5322 - val_accuracy: 0.7333\n",
            "WARNING:tensorflow:Can save best model only with val_acc available, skipping.\n",
            "Epoch 76/200\n",
            "2/2 [==============================] - 0s 27ms/step - loss: 0.4594 - accuracy: 0.7843 - val_loss: 0.5300 - val_accuracy: 0.7000\n",
            "WARNING:tensorflow:Can save best model only with val_acc available, skipping.\n",
            "Epoch 77/200\n",
            "2/2 [==============================] - 0s 27ms/step - loss: 0.4588 - accuracy: 0.7598 - val_loss: 0.5451 - val_accuracy: 0.7000\n",
            "WARNING:tensorflow:Can save best model only with val_acc available, skipping.\n",
            "Epoch 78/200\n",
            "2/2 [==============================] - 0s 28ms/step - loss: 0.4642 - accuracy: 0.7500 - val_loss: 0.5471 - val_accuracy: 0.7000\n",
            "WARNING:tensorflow:Can save best model only with val_acc available, skipping.\n",
            "Epoch 79/200\n",
            "2/2 [==============================] - 0s 30ms/step - loss: 0.4638 - accuracy: 0.7843 - val_loss: 0.5380 - val_accuracy: 0.7333\n",
            "WARNING:tensorflow:Can save best model only with val_acc available, skipping.\n",
            "Epoch 80/200\n",
            "2/2 [==============================] - 0s 37ms/step - loss: 0.4648 - accuracy: 0.7451 - val_loss: 0.5361 - val_accuracy: 0.7000\n",
            "WARNING:tensorflow:Can save best model only with val_acc available, skipping.\n",
            "Epoch 81/200\n",
            "2/2 [==============================] - 0s 32ms/step - loss: 0.4728 - accuracy: 0.7451 - val_loss: 0.5407 - val_accuracy: 0.7333\n",
            "WARNING:tensorflow:Can save best model only with val_acc available, skipping.\n",
            "Epoch 82/200\n",
            "2/2 [==============================] - 0s 28ms/step - loss: 0.4637 - accuracy: 0.8039 - val_loss: 0.5592 - val_accuracy: 0.7333\n",
            "WARNING:tensorflow:Can save best model only with val_acc available, skipping.\n",
            "Epoch 83/200\n",
            "2/2 [==============================] - 0s 30ms/step - loss: 0.4668 - accuracy: 0.7892 - val_loss: 0.5700 - val_accuracy: 0.7333\n",
            "WARNING:tensorflow:Can save best model only with val_acc available, skipping.\n",
            "Epoch 84/200\n",
            "2/2 [==============================] - 0s 28ms/step - loss: 0.4604 - accuracy: 0.7647 - val_loss: 0.5617 - val_accuracy: 0.6833\n",
            "WARNING:tensorflow:Can save best model only with val_acc available, skipping.\n",
            "Epoch 85/200\n",
            "2/2 [==============================] - 0s 34ms/step - loss: 0.4583 - accuracy: 0.7745 - val_loss: 0.5510 - val_accuracy: 0.7000\n",
            "WARNING:tensorflow:Can save best model only with val_acc available, skipping.\n",
            "Epoch 86/200\n",
            "2/2 [==============================] - 0s 30ms/step - loss: 0.4561 - accuracy: 0.7549 - val_loss: 0.5516 - val_accuracy: 0.7167\n",
            "WARNING:tensorflow:Can save best model only with val_acc available, skipping.\n",
            "Epoch 87/200\n",
            "2/2 [==============================] - 0s 29ms/step - loss: 0.4604 - accuracy: 0.7843 - val_loss: 0.5445 - val_accuracy: 0.7500\n",
            "WARNING:tensorflow:Can save best model only with val_acc available, skipping.\n",
            "Epoch 88/200\n",
            "2/2 [==============================] - 0s 30ms/step - loss: 0.4580 - accuracy: 0.8284 - val_loss: 0.5535 - val_accuracy: 0.7167\n",
            "WARNING:tensorflow:Can save best model only with val_acc available, skipping.\n",
            "Epoch 89/200\n",
            "2/2 [==============================] - 0s 30ms/step - loss: 0.4675 - accuracy: 0.7794 - val_loss: 0.5468 - val_accuracy: 0.7167\n",
            "WARNING:tensorflow:Can save best model only with val_acc available, skipping.\n",
            "Epoch 90/200\n",
            "2/2 [==============================] - 0s 31ms/step - loss: 0.4587 - accuracy: 0.8284 - val_loss: 0.5512 - val_accuracy: 0.7167\n",
            "WARNING:tensorflow:Can save best model only with val_acc available, skipping.\n",
            "Epoch 91/200\n",
            "2/2 [==============================] - 0s 30ms/step - loss: 0.4529 - accuracy: 0.7990 - val_loss: 0.5522 - val_accuracy: 0.7500\n",
            "WARNING:tensorflow:Can save best model only with val_acc available, skipping.\n",
            "Epoch 92/200\n",
            "2/2 [==============================] - 0s 30ms/step - loss: 0.4573 - accuracy: 0.7843 - val_loss: 0.5466 - val_accuracy: 0.7333\n",
            "WARNING:tensorflow:Can save best model only with val_acc available, skipping.\n",
            "Epoch 93/200\n",
            "2/2 [==============================] - 0s 28ms/step - loss: 0.4571 - accuracy: 0.8039 - val_loss: 0.5515 - val_accuracy: 0.7167\n",
            "WARNING:tensorflow:Can save best model only with val_acc available, skipping.\n",
            "Epoch 94/200\n",
            "2/2 [==============================] - 0s 28ms/step - loss: 0.4614 - accuracy: 0.7892 - val_loss: 0.5539 - val_accuracy: 0.7000\n",
            "WARNING:tensorflow:Can save best model only with val_acc available, skipping.\n",
            "Epoch 95/200\n",
            "2/2 [==============================] - 0s 33ms/step - loss: 0.4624 - accuracy: 0.7941 - val_loss: 0.5497 - val_accuracy: 0.6833\n",
            "WARNING:tensorflow:Can save best model only with val_acc available, skipping.\n",
            "Epoch 96/200\n",
            "2/2 [==============================] - 0s 30ms/step - loss: 0.4617 - accuracy: 0.7843 - val_loss: 0.5538 - val_accuracy: 0.6667\n",
            "WARNING:tensorflow:Can save best model only with val_acc available, skipping.\n",
            "Epoch 97/200\n",
            "2/2 [==============================] - 0s 33ms/step - loss: 0.4580 - accuracy: 0.7794 - val_loss: 0.5442 - val_accuracy: 0.7333\n",
            "WARNING:tensorflow:Can save best model only with val_acc available, skipping.\n",
            "Epoch 98/200\n",
            "2/2 [==============================] - 0s 30ms/step - loss: 0.4633 - accuracy: 0.7598 - val_loss: 0.5414 - val_accuracy: 0.7333\n",
            "WARNING:tensorflow:Can save best model only with val_acc available, skipping.\n",
            "Epoch 99/200\n",
            "2/2 [==============================] - 0s 31ms/step - loss: 0.4488 - accuracy: 0.8039 - val_loss: 0.5341 - val_accuracy: 0.7500\n",
            "WARNING:tensorflow:Can save best model only with val_acc available, skipping.\n",
            "Epoch 100/200\n",
            "2/2 [==============================] - 0s 30ms/step - loss: 0.4450 - accuracy: 0.7941 - val_loss: 0.5585 - val_accuracy: 0.7000\n",
            "WARNING:tensorflow:Can save best model only with val_acc available, skipping.\n",
            "Epoch 101/200\n",
            "2/2 [==============================] - 0s 29ms/step - loss: 0.4504 - accuracy: 0.7696 - val_loss: 0.5556 - val_accuracy: 0.7167\n",
            "WARNING:tensorflow:Can save best model only with val_acc available, skipping.\n",
            "Epoch 102/200\n",
            "2/2 [==============================] - 0s 30ms/step - loss: 0.4430 - accuracy: 0.7941 - val_loss: 0.5624 - val_accuracy: 0.7167\n",
            "WARNING:tensorflow:Can save best model only with val_acc available, skipping.\n",
            "Epoch 103/200\n",
            "2/2 [==============================] - 0s 36ms/step - loss: 0.4565 - accuracy: 0.7696 - val_loss: 0.5764 - val_accuracy: 0.7167\n",
            "WARNING:tensorflow:Can save best model only with val_acc available, skipping.\n",
            "Epoch 104/200\n",
            "2/2 [==============================] - 0s 31ms/step - loss: 0.4438 - accuracy: 0.7990 - val_loss: 0.5791 - val_accuracy: 0.7000\n",
            "WARNING:tensorflow:Can save best model only with val_acc available, skipping.\n",
            "Epoch 105/200\n",
            "2/2 [==============================] - 0s 28ms/step - loss: 0.4478 - accuracy: 0.7941 - val_loss: 0.5665 - val_accuracy: 0.7333\n",
            "WARNING:tensorflow:Can save best model only with val_acc available, skipping.\n",
            "Epoch 106/200\n",
            "2/2 [==============================] - 0s 29ms/step - loss: 0.4552 - accuracy: 0.7794 - val_loss: 0.5470 - val_accuracy: 0.7500\n",
            "WARNING:tensorflow:Can save best model only with val_acc available, skipping.\n",
            "Epoch 107/200\n",
            "2/2 [==============================] - 0s 29ms/step - loss: 0.4530 - accuracy: 0.7794 - val_loss: 0.5499 - val_accuracy: 0.7333\n",
            "WARNING:tensorflow:Can save best model only with val_acc available, skipping.\n",
            "Epoch 108/200\n",
            "2/2 [==============================] - 0s 32ms/step - loss: 0.4528 - accuracy: 0.7794 - val_loss: 0.5548 - val_accuracy: 0.7000\n",
            "WARNING:tensorflow:Can save best model only with val_acc available, skipping.\n",
            "Epoch 109/200\n",
            "2/2 [==============================] - 0s 29ms/step - loss: 0.4713 - accuracy: 0.7451 - val_loss: 0.5648 - val_accuracy: 0.7000\n",
            "WARNING:tensorflow:Can save best model only with val_acc available, skipping.\n",
            "Epoch 110/200\n",
            "2/2 [==============================] - 0s 31ms/step - loss: 0.4482 - accuracy: 0.8186 - val_loss: 0.5626 - val_accuracy: 0.6667\n",
            "WARNING:tensorflow:Can save best model only with val_acc available, skipping.\n",
            "Epoch 111/200\n",
            "2/2 [==============================] - 0s 30ms/step - loss: 0.4553 - accuracy: 0.7794 - val_loss: 0.5638 - val_accuracy: 0.6667\n",
            "WARNING:tensorflow:Can save best model only with val_acc available, skipping.\n",
            "Epoch 112/200\n",
            "2/2 [==============================] - 0s 35ms/step - loss: 0.4453 - accuracy: 0.7990 - val_loss: 0.5632 - val_accuracy: 0.6833\n",
            "WARNING:tensorflow:Can save best model only with val_acc available, skipping.\n",
            "Epoch 113/200\n",
            "2/2 [==============================] - 0s 32ms/step - loss: 0.4487 - accuracy: 0.7892 - val_loss: 0.5493 - val_accuracy: 0.7167\n",
            "WARNING:tensorflow:Can save best model only with val_acc available, skipping.\n",
            "Epoch 114/200\n",
            "2/2 [==============================] - 0s 31ms/step - loss: 0.4357 - accuracy: 0.7990 - val_loss: 0.5508 - val_accuracy: 0.7333\n",
            "WARNING:tensorflow:Can save best model only with val_acc available, skipping.\n",
            "Epoch 115/200\n",
            "2/2 [==============================] - 0s 31ms/step - loss: 0.4410 - accuracy: 0.8039 - val_loss: 0.5567 - val_accuracy: 0.6833\n",
            "WARNING:tensorflow:Can save best model only with val_acc available, skipping.\n",
            "Epoch 116/200\n",
            "2/2 [==============================] - 0s 34ms/step - loss: 0.4563 - accuracy: 0.7892 - val_loss: 0.5624 - val_accuracy: 0.7333\n",
            "WARNING:tensorflow:Can save best model only with val_acc available, skipping.\n",
            "Epoch 117/200\n",
            "2/2 [==============================] - 0s 29ms/step - loss: 0.4518 - accuracy: 0.7745 - val_loss: 0.5588 - val_accuracy: 0.7000\n",
            "WARNING:tensorflow:Can save best model only with val_acc available, skipping.\n",
            "Epoch 118/200\n",
            "2/2 [==============================] - 0s 33ms/step - loss: 0.4449 - accuracy: 0.7941 - val_loss: 0.5400 - val_accuracy: 0.7167\n",
            "WARNING:tensorflow:Can save best model only with val_acc available, skipping.\n",
            "Epoch 119/200\n",
            "2/2 [==============================] - 0s 27ms/step - loss: 0.4449 - accuracy: 0.8235 - val_loss: 0.5574 - val_accuracy: 0.7000\n",
            "WARNING:tensorflow:Can save best model only with val_acc available, skipping.\n",
            "Epoch 120/200\n",
            "2/2 [==============================] - 0s 37ms/step - loss: 0.4537 - accuracy: 0.8088 - val_loss: 0.5655 - val_accuracy: 0.6667\n",
            "WARNING:tensorflow:Can save best model only with val_acc available, skipping.\n",
            "Epoch 121/200\n",
            "2/2 [==============================] - 0s 31ms/step - loss: 0.4383 - accuracy: 0.8235 - val_loss: 0.5712 - val_accuracy: 0.6833\n",
            "WARNING:tensorflow:Can save best model only with val_acc available, skipping.\n",
            "Epoch 122/200\n",
            "2/2 [==============================] - 0s 31ms/step - loss: 0.4593 - accuracy: 0.8235 - val_loss: 0.5711 - val_accuracy: 0.6667\n",
            "WARNING:tensorflow:Can save best model only with val_acc available, skipping.\n",
            "Epoch 123/200\n",
            "2/2 [==============================] - 0s 32ms/step - loss: 0.4638 - accuracy: 0.8039 - val_loss: 0.5718 - val_accuracy: 0.6500\n",
            "WARNING:tensorflow:Can save best model only with val_acc available, skipping.\n",
            "Epoch 124/200\n",
            "2/2 [==============================] - 0s 33ms/step - loss: 0.4628 - accuracy: 0.7647 - val_loss: 0.5620 - val_accuracy: 0.6833\n",
            "WARNING:tensorflow:Can save best model only with val_acc available, skipping.\n",
            "Epoch 125/200\n",
            "2/2 [==============================] - 0s 30ms/step - loss: 0.4492 - accuracy: 0.7941 - val_loss: 0.5576 - val_accuracy: 0.6667\n",
            "WARNING:tensorflow:Can save best model only with val_acc available, skipping.\n",
            "Epoch 126/200\n",
            "2/2 [==============================] - 0s 29ms/step - loss: 0.4486 - accuracy: 0.7892 - val_loss: 0.5692 - val_accuracy: 0.6833\n",
            "WARNING:tensorflow:Can save best model only with val_acc available, skipping.\n",
            "Epoch 127/200\n",
            "2/2 [==============================] - 0s 30ms/step - loss: 0.4490 - accuracy: 0.7941 - val_loss: 0.5692 - val_accuracy: 0.7167\n",
            "WARNING:tensorflow:Can save best model only with val_acc available, skipping.\n",
            "Epoch 128/200\n",
            "2/2 [==============================] - 0s 31ms/step - loss: 0.4551 - accuracy: 0.7990 - val_loss: 0.5638 - val_accuracy: 0.7000\n",
            "WARNING:tensorflow:Can save best model only with val_acc available, skipping.\n",
            "Epoch 129/200\n",
            "2/2 [==============================] - 0s 31ms/step - loss: 0.4471 - accuracy: 0.7941 - val_loss: 0.5563 - val_accuracy: 0.6833\n",
            "WARNING:tensorflow:Can save best model only with val_acc available, skipping.\n",
            "Epoch 130/200\n",
            "2/2 [==============================] - 0s 32ms/step - loss: 0.4376 - accuracy: 0.8088 - val_loss: 0.5526 - val_accuracy: 0.7167\n",
            "WARNING:tensorflow:Can save best model only with val_acc available, skipping.\n",
            "Epoch 131/200\n",
            "2/2 [==============================] - 0s 31ms/step - loss: 0.4526 - accuracy: 0.7696 - val_loss: 0.5478 - val_accuracy: 0.7167\n",
            "WARNING:tensorflow:Can save best model only with val_acc available, skipping.\n",
            "Epoch 132/200\n",
            "2/2 [==============================] - 0s 29ms/step - loss: 0.4613 - accuracy: 0.7745 - val_loss: 0.5556 - val_accuracy: 0.7167\n",
            "WARNING:tensorflow:Can save best model only with val_acc available, skipping.\n",
            "Epoch 133/200\n",
            "2/2 [==============================] - 0s 30ms/step - loss: 0.4606 - accuracy: 0.7647 - val_loss: 0.5570 - val_accuracy: 0.6833\n",
            "WARNING:tensorflow:Can save best model only with val_acc available, skipping.\n",
            "Epoch 134/200\n",
            "2/2 [==============================] - 0s 31ms/step - loss: 0.4559 - accuracy: 0.7745 - val_loss: 0.5509 - val_accuracy: 0.6667\n",
            "WARNING:tensorflow:Can save best model only with val_acc available, skipping.\n",
            "Epoch 135/200\n",
            "2/2 [==============================] - 0s 31ms/step - loss: 0.4435 - accuracy: 0.7794 - val_loss: 0.5418 - val_accuracy: 0.7167\n",
            "WARNING:tensorflow:Can save best model only with val_acc available, skipping.\n",
            "Epoch 136/200\n",
            "2/2 [==============================] - 0s 32ms/step - loss: 0.4420 - accuracy: 0.7892 - val_loss: 0.5386 - val_accuracy: 0.7500\n",
            "WARNING:tensorflow:Can save best model only with val_acc available, skipping.\n",
            "Epoch 137/200\n",
            "2/2 [==============================] - 0s 37ms/step - loss: 0.4434 - accuracy: 0.7892 - val_loss: 0.5452 - val_accuracy: 0.7333\n",
            "WARNING:tensorflow:Can save best model only with val_acc available, skipping.\n",
            "Epoch 138/200\n",
            "2/2 [==============================] - 0s 30ms/step - loss: 0.4457 - accuracy: 0.7892 - val_loss: 0.5461 - val_accuracy: 0.7333\n",
            "WARNING:tensorflow:Can save best model only with val_acc available, skipping.\n",
            "Epoch 139/200\n",
            "2/2 [==============================] - 0s 31ms/step - loss: 0.4469 - accuracy: 0.7892 - val_loss: 0.5513 - val_accuracy: 0.7000\n",
            "WARNING:tensorflow:Can save best model only with val_acc available, skipping.\n",
            "Epoch 140/200\n",
            "2/2 [==============================] - 0s 31ms/step - loss: 0.4506 - accuracy: 0.7794 - val_loss: 0.5441 - val_accuracy: 0.7500\n",
            "WARNING:tensorflow:Can save best model only with val_acc available, skipping.\n",
            "Epoch 141/200\n",
            "2/2 [==============================] - 0s 31ms/step - loss: 0.4577 - accuracy: 0.7696 - val_loss: 0.5450 - val_accuracy: 0.7333\n",
            "WARNING:tensorflow:Can save best model only with val_acc available, skipping.\n",
            "Epoch 142/200\n",
            "2/2 [==============================] - 0s 31ms/step - loss: 0.4555 - accuracy: 0.7941 - val_loss: 0.5473 - val_accuracy: 0.7333\n",
            "WARNING:tensorflow:Can save best model only with val_acc available, skipping.\n",
            "Epoch 143/200\n",
            "2/2 [==============================] - 0s 31ms/step - loss: 0.4540 - accuracy: 0.7990 - val_loss: 0.5425 - val_accuracy: 0.6833\n",
            "WARNING:tensorflow:Can save best model only with val_acc available, skipping.\n",
            "Epoch 144/200\n",
            "2/2 [==============================] - 0s 30ms/step - loss: 0.4448 - accuracy: 0.7892 - val_loss: 0.5414 - val_accuracy: 0.6833\n",
            "WARNING:tensorflow:Can save best model only with val_acc available, skipping.\n",
            "Epoch 145/200\n",
            "2/2 [==============================] - 0s 38ms/step - loss: 0.4488 - accuracy: 0.8284 - val_loss: 0.5492 - val_accuracy: 0.6833\n",
            "WARNING:tensorflow:Can save best model only with val_acc available, skipping.\n",
            "Epoch 146/200\n",
            "2/2 [==============================] - 0s 31ms/step - loss: 0.4474 - accuracy: 0.7941 - val_loss: 0.5576 - val_accuracy: 0.6833\n",
            "WARNING:tensorflow:Can save best model only with val_acc available, skipping.\n",
            "Epoch 147/200\n",
            "2/2 [==============================] - 0s 30ms/step - loss: 0.4453 - accuracy: 0.7843 - val_loss: 0.5671 - val_accuracy: 0.6833\n",
            "WARNING:tensorflow:Can save best model only with val_acc available, skipping.\n",
            "Epoch 148/200\n",
            "2/2 [==============================] - 0s 32ms/step - loss: 0.4439 - accuracy: 0.8088 - val_loss: 0.5683 - val_accuracy: 0.6833\n",
            "WARNING:tensorflow:Can save best model only with val_acc available, skipping.\n",
            "Epoch 149/200\n",
            "2/2 [==============================] - 0s 31ms/step - loss: 0.4466 - accuracy: 0.7941 - val_loss: 0.5613 - val_accuracy: 0.6833\n",
            "WARNING:tensorflow:Can save best model only with val_acc available, skipping.\n",
            "Epoch 150/200\n",
            "2/2 [==============================] - 0s 33ms/step - loss: 0.4518 - accuracy: 0.7598 - val_loss: 0.5601 - val_accuracy: 0.6833\n",
            "WARNING:tensorflow:Can save best model only with val_acc available, skipping.\n",
            "Epoch 151/200\n",
            "2/2 [==============================] - 0s 35ms/step - loss: 0.4609 - accuracy: 0.7892 - val_loss: 0.5569 - val_accuracy: 0.7000\n",
            "WARNING:tensorflow:Can save best model only with val_acc available, skipping.\n",
            "Epoch 152/200\n",
            "2/2 [==============================] - 0s 29ms/step - loss: 0.4478 - accuracy: 0.8039 - val_loss: 0.5632 - val_accuracy: 0.6667\n",
            "WARNING:tensorflow:Can save best model only with val_acc available, skipping.\n",
            "Epoch 153/200\n",
            "2/2 [==============================] - 0s 30ms/step - loss: 0.4412 - accuracy: 0.8039 - val_loss: 0.5727 - val_accuracy: 0.7000\n",
            "WARNING:tensorflow:Can save best model only with val_acc available, skipping.\n",
            "Epoch 154/200\n",
            "2/2 [==============================] - 0s 29ms/step - loss: 0.4379 - accuracy: 0.8039 - val_loss: 0.5799 - val_accuracy: 0.7000\n",
            "WARNING:tensorflow:Can save best model only with val_acc available, skipping.\n",
            "Epoch 155/200\n",
            "2/2 [==============================] - 0s 33ms/step - loss: 0.4410 - accuracy: 0.8039 - val_loss: 0.5787 - val_accuracy: 0.6833\n",
            "WARNING:tensorflow:Can save best model only with val_acc available, skipping.\n",
            "Epoch 156/200\n",
            "2/2 [==============================] - 0s 31ms/step - loss: 0.4429 - accuracy: 0.7843 - val_loss: 0.5730 - val_accuracy: 0.7167\n",
            "WARNING:tensorflow:Can save best model only with val_acc available, skipping.\n",
            "Epoch 157/200\n",
            "2/2 [==============================] - 0s 31ms/step - loss: 0.4468 - accuracy: 0.8137 - val_loss: 0.5630 - val_accuracy: 0.7500\n",
            "WARNING:tensorflow:Can save best model only with val_acc available, skipping.\n",
            "Epoch 158/200\n",
            "2/2 [==============================] - 0s 32ms/step - loss: 0.4433 - accuracy: 0.8088 - val_loss: 0.5681 - val_accuracy: 0.7167\n",
            "WARNING:tensorflow:Can save best model only with val_acc available, skipping.\n",
            "Epoch 159/200\n",
            "2/2 [==============================] - 0s 31ms/step - loss: 0.4414 - accuracy: 0.8088 - val_loss: 0.5577 - val_accuracy: 0.7167\n",
            "WARNING:tensorflow:Can save best model only with val_acc available, skipping.\n",
            "Epoch 160/200\n",
            "2/2 [==============================] - 0s 29ms/step - loss: 0.4410 - accuracy: 0.8039 - val_loss: 0.5483 - val_accuracy: 0.7333\n",
            "WARNING:tensorflow:Can save best model only with val_acc available, skipping.\n",
            "Epoch 161/200\n",
            "2/2 [==============================] - 0s 30ms/step - loss: 0.4367 - accuracy: 0.8039 - val_loss: 0.5573 - val_accuracy: 0.7167\n",
            "WARNING:tensorflow:Can save best model only with val_acc available, skipping.\n",
            "Epoch 162/200\n",
            "2/2 [==============================] - 0s 28ms/step - loss: 0.4529 - accuracy: 0.7990 - val_loss: 0.5471 - val_accuracy: 0.7167\n",
            "WARNING:tensorflow:Can save best model only with val_acc available, skipping.\n",
            "Epoch 163/200\n",
            "2/2 [==============================] - 0s 36ms/step - loss: 0.4507 - accuracy: 0.7794 - val_loss: 0.5462 - val_accuracy: 0.7167\n",
            "WARNING:tensorflow:Can save best model only with val_acc available, skipping.\n",
            "Epoch 164/200\n",
            "2/2 [==============================] - 0s 30ms/step - loss: 0.4450 - accuracy: 0.8137 - val_loss: 0.5530 - val_accuracy: 0.7167\n",
            "WARNING:tensorflow:Can save best model only with val_acc available, skipping.\n",
            "Epoch 165/200\n",
            "2/2 [==============================] - 0s 35ms/step - loss: 0.4521 - accuracy: 0.7598 - val_loss: 0.5521 - val_accuracy: 0.7333\n",
            "WARNING:tensorflow:Can save best model only with val_acc available, skipping.\n",
            "Epoch 166/200\n",
            "2/2 [==============================] - 0s 30ms/step - loss: 0.4455 - accuracy: 0.7990 - val_loss: 0.5486 - val_accuracy: 0.7167\n",
            "WARNING:tensorflow:Can save best model only with val_acc available, skipping.\n",
            "Epoch 167/200\n",
            "2/2 [==============================] - 0s 34ms/step - loss: 0.4525 - accuracy: 0.7990 - val_loss: 0.5537 - val_accuracy: 0.6833\n",
            "WARNING:tensorflow:Can save best model only with val_acc available, skipping.\n",
            "Epoch 168/200\n",
            "2/2 [==============================] - 0s 30ms/step - loss: 0.4413 - accuracy: 0.8088 - val_loss: 0.5553 - val_accuracy: 0.7000\n",
            "WARNING:tensorflow:Can save best model only with val_acc available, skipping.\n",
            "Epoch 169/200\n",
            "2/2 [==============================] - 0s 32ms/step - loss: 0.4420 - accuracy: 0.8382 - val_loss: 0.5515 - val_accuracy: 0.6833\n",
            "WARNING:tensorflow:Can save best model only with val_acc available, skipping.\n",
            "Epoch 170/200\n",
            "2/2 [==============================] - 0s 28ms/step - loss: 0.4470 - accuracy: 0.8039 - val_loss: 0.5629 - val_accuracy: 0.7500\n",
            "WARNING:tensorflow:Can save best model only with val_acc available, skipping.\n",
            "Epoch 171/200\n",
            "2/2 [==============================] - 0s 31ms/step - loss: 0.4504 - accuracy: 0.7794 - val_loss: 0.5837 - val_accuracy: 0.6833\n",
            "WARNING:tensorflow:Can save best model only with val_acc available, skipping.\n",
            "Epoch 172/200\n",
            "2/2 [==============================] - 0s 32ms/step - loss: 0.4456 - accuracy: 0.8088 - val_loss: 0.5772 - val_accuracy: 0.6833\n",
            "WARNING:tensorflow:Can save best model only with val_acc available, skipping.\n",
            "Epoch 173/200\n",
            "2/2 [==============================] - 0s 34ms/step - loss: 0.4377 - accuracy: 0.8137 - val_loss: 0.5948 - val_accuracy: 0.6667\n",
            "WARNING:tensorflow:Can save best model only with val_acc available, skipping.\n",
            "Epoch 174/200\n",
            "2/2 [==============================] - 0s 32ms/step - loss: 0.4440 - accuracy: 0.8039 - val_loss: 0.5800 - val_accuracy: 0.7000\n",
            "WARNING:tensorflow:Can save best model only with val_acc available, skipping.\n",
            "Epoch 175/200\n",
            "2/2 [==============================] - 0s 34ms/step - loss: 0.4474 - accuracy: 0.7941 - val_loss: 0.5673 - val_accuracy: 0.7167\n",
            "WARNING:tensorflow:Can save best model only with val_acc available, skipping.\n",
            "Epoch 176/200\n",
            "2/2 [==============================] - 0s 28ms/step - loss: 0.4482 - accuracy: 0.7843 - val_loss: 0.5735 - val_accuracy: 0.7167\n",
            "WARNING:tensorflow:Can save best model only with val_acc available, skipping.\n",
            "Epoch 177/200\n",
            "2/2 [==============================] - 0s 35ms/step - loss: 0.4382 - accuracy: 0.7990 - val_loss: 0.5619 - val_accuracy: 0.7333\n",
            "WARNING:tensorflow:Can save best model only with val_acc available, skipping.\n",
            "Epoch 178/200\n",
            "2/2 [==============================] - 0s 32ms/step - loss: 0.4460 - accuracy: 0.8088 - val_loss: 0.5530 - val_accuracy: 0.7333\n",
            "WARNING:tensorflow:Can save best model only with val_acc available, skipping.\n",
            "Epoch 179/200\n",
            "2/2 [==============================] - 0s 27ms/step - loss: 0.4602 - accuracy: 0.8039 - val_loss: 0.5511 - val_accuracy: 0.7333\n",
            "WARNING:tensorflow:Can save best model only with val_acc available, skipping.\n",
            "Epoch 180/200\n",
            "2/2 [==============================] - 0s 27ms/step - loss: 0.4409 - accuracy: 0.7990 - val_loss: 0.5535 - val_accuracy: 0.7500\n",
            "WARNING:tensorflow:Can save best model only with val_acc available, skipping.\n",
            "Epoch 181/200\n",
            "2/2 [==============================] - 0s 32ms/step - loss: 0.4401 - accuracy: 0.7941 - val_loss: 0.5548 - val_accuracy: 0.7500\n",
            "WARNING:tensorflow:Can save best model only with val_acc available, skipping.\n",
            "Epoch 182/200\n",
            "2/2 [==============================] - 0s 33ms/step - loss: 0.4437 - accuracy: 0.8186 - val_loss: 0.5553 - val_accuracy: 0.7167\n",
            "WARNING:tensorflow:Can save best model only with val_acc available, skipping.\n",
            "Epoch 183/200\n",
            "2/2 [==============================] - 0s 34ms/step - loss: 0.4269 - accuracy: 0.8039 - val_loss: 0.5528 - val_accuracy: 0.7167\n",
            "WARNING:tensorflow:Can save best model only with val_acc available, skipping.\n",
            "Epoch 184/200\n",
            "2/2 [==============================] - 0s 28ms/step - loss: 0.4486 - accuracy: 0.7794 - val_loss: 0.5546 - val_accuracy: 0.7000\n",
            "WARNING:tensorflow:Can save best model only with val_acc available, skipping.\n",
            "Epoch 185/200\n",
            "2/2 [==============================] - 0s 30ms/step - loss: 0.4312 - accuracy: 0.7990 - val_loss: 0.5626 - val_accuracy: 0.7167\n",
            "WARNING:tensorflow:Can save best model only with val_acc available, skipping.\n",
            "Epoch 186/200\n",
            "2/2 [==============================] - 0s 29ms/step - loss: 0.4428 - accuracy: 0.7941 - val_loss: 0.5601 - val_accuracy: 0.7333\n",
            "WARNING:tensorflow:Can save best model only with val_acc available, skipping.\n",
            "Epoch 187/200\n",
            "2/2 [==============================] - 0s 30ms/step - loss: 0.4492 - accuracy: 0.7892 - val_loss: 0.5551 - val_accuracy: 0.7333\n",
            "WARNING:tensorflow:Can save best model only with val_acc available, skipping.\n",
            "Epoch 188/200\n",
            "2/2 [==============================] - 0s 32ms/step - loss: 0.4427 - accuracy: 0.7892 - val_loss: 0.5480 - val_accuracy: 0.7167\n",
            "WARNING:tensorflow:Can save best model only with val_acc available, skipping.\n",
            "Epoch 189/200\n",
            "2/2 [==============================] - 0s 37ms/step - loss: 0.4353 - accuracy: 0.7892 - val_loss: 0.5620 - val_accuracy: 0.6833\n",
            "WARNING:tensorflow:Can save best model only with val_acc available, skipping.\n",
            "Epoch 190/200\n",
            "2/2 [==============================] - 0s 31ms/step - loss: 0.4373 - accuracy: 0.7990 - val_loss: 0.5529 - val_accuracy: 0.7167\n",
            "WARNING:tensorflow:Can save best model only with val_acc available, skipping.\n",
            "Epoch 191/200\n",
            "2/2 [==============================] - 0s 29ms/step - loss: 0.4438 - accuracy: 0.7990 - val_loss: 0.5610 - val_accuracy: 0.7333\n",
            "WARNING:tensorflow:Can save best model only with val_acc available, skipping.\n",
            "Epoch 192/200\n",
            "2/2 [==============================] - 0s 34ms/step - loss: 0.4328 - accuracy: 0.8088 - val_loss: 0.5706 - val_accuracy: 0.7167\n",
            "WARNING:tensorflow:Can save best model only with val_acc available, skipping.\n",
            "Epoch 193/200\n",
            "2/2 [==============================] - 0s 30ms/step - loss: 0.4512 - accuracy: 0.7941 - val_loss: 0.5678 - val_accuracy: 0.6833\n",
            "WARNING:tensorflow:Can save best model only with val_acc available, skipping.\n",
            "Epoch 194/200\n",
            "2/2 [==============================] - 0s 34ms/step - loss: 0.4549 - accuracy: 0.7745 - val_loss: 0.5717 - val_accuracy: 0.7167\n",
            "WARNING:tensorflow:Can save best model only with val_acc available, skipping.\n",
            "Epoch 195/200\n",
            "2/2 [==============================] - 0s 34ms/step - loss: 0.4446 - accuracy: 0.7941 - val_loss: 0.5765 - val_accuracy: 0.6667\n",
            "WARNING:tensorflow:Can save best model only with val_acc available, skipping.\n",
            "Epoch 196/200\n",
            "2/2 [==============================] - 0s 29ms/step - loss: 0.4350 - accuracy: 0.8088 - val_loss: 0.5797 - val_accuracy: 0.6667\n",
            "WARNING:tensorflow:Can save best model only with val_acc available, skipping.\n",
            "Epoch 197/200\n",
            "2/2 [==============================] - 0s 30ms/step - loss: 0.4459 - accuracy: 0.7990 - val_loss: 0.5697 - val_accuracy: 0.6667\n",
            "WARNING:tensorflow:Can save best model only with val_acc available, skipping.\n",
            "Epoch 198/200\n",
            "2/2 [==============================] - 0s 32ms/step - loss: 0.4483 - accuracy: 0.7990 - val_loss: 0.5681 - val_accuracy: 0.6667\n",
            "WARNING:tensorflow:Can save best model only with val_acc available, skipping.\n",
            "Epoch 199/200\n",
            "2/2 [==============================] - 0s 33ms/step - loss: 0.4413 - accuracy: 0.7990 - val_loss: 0.5686 - val_accuracy: 0.6500\n",
            "WARNING:tensorflow:Can save best model only with val_acc available, skipping.\n",
            "Epoch 200/200\n",
            "2/2 [==============================] - 0s 32ms/step - loss: 0.4347 - accuracy: 0.8039 - val_loss: 0.5636 - val_accuracy: 0.6333\n",
            "WARNING:tensorflow:Can save best model only with val_acc available, skipping.\n"
          ],
          "name": "stdout"
        },
        {
          "output_type": "execute_result",
          "data": {
            "text/plain": [
              "<tensorflow.python.keras.callbacks.History at 0x7fe56f735890>"
            ]
          },
          "metadata": {
            "tags": []
          },
          "execution_count": 71
        }
      ]
    },
    {
      "cell_type": "code",
      "metadata": {
        "colab": {
          "base_uri": "https://localhost:8080/"
        },
        "id": "Ue4QwAute3lR",
        "outputId": "d46d2b09-514c-4eef-e2e7-36e753265647"
      },
      "source": [
        "model.evaluate(test,test_target)"
      ],
      "id": "Ue4QwAute3lR",
      "execution_count": null,
      "outputs": [
        {
          "output_type": "stream",
          "text": [
            "2/2 [==============================] - 0s 7ms/step - loss: 0.4191 - accuracy: 0.8500\n"
          ],
          "name": "stdout"
        },
        {
          "output_type": "execute_result",
          "data": {
            "text/plain": [
              "[0.4191489517688751, 0.8500000238418579]"
            ]
          },
          "metadata": {
            "tags": []
          },
          "execution_count": 72
        }
      ]
    },
    {
      "cell_type": "code",
      "metadata": {
        "id": "SqlH9wO5e3iS"
      },
      "source": [
        ""
      ],
      "id": "SqlH9wO5e3iS",
      "execution_count": null,
      "outputs": []
    },
    {
      "cell_type": "code",
      "metadata": {
        "id": "75ccc449"
      },
      "source": [
        "adam = Adam(learning_rate=0.001)\n",
        "chk = ModelCheckpoint('best_model.pkl', monitor='val_acc', save_best_only=True, mode='max', verbose=1)\n",
        "model.compile(loss='binary_crossentropy', optimizer=adam, metrics=['accuracy'])\n",
        "model.fit(train, train_target, epochs=200, batch_size=128, callbacks=[chk], validation_data=(validation,validation_target))"
      ],
      "id": "75ccc449",
      "execution_count": null,
      "outputs": []
    },
    {
      "cell_type": "code",
      "metadata": {
        "colab": {
          "base_uri": "https://localhost:8080/"
        },
        "id": "2355d39e",
        "outputId": "7b37651e-dc5a-48f7-dd5b-b54e0db0e67a"
      },
      "source": [
        "model.evaluate(test,test_target)"
      ],
      "id": "2355d39e",
      "execution_count": null,
      "outputs": [
        {
          "output_type": "stream",
          "text": [
            "1/1 [==============================] - 0s 18ms/step - loss: 0.3332 - accuracy: 0.9000\n"
          ],
          "name": "stdout"
        },
        {
          "output_type": "execute_result",
          "data": {
            "text/plain": [
              "[0.33322328329086304, 0.8999999761581421]"
            ]
          },
          "metadata": {
            "tags": []
          },
          "execution_count": 67
        }
      ]
    },
    {
      "cell_type": "code",
      "metadata": {
        "id": "2yW4yHaRlRR-"
      },
      "source": [
        ""
      ],
      "id": "2yW4yHaRlRR-",
      "execution_count": null,
      "outputs": []
    },
    {
      "cell_type": "code",
      "metadata": {
        "id": "yvOexLN6HHuE"
      },
      "source": [
        ""
      ],
      "id": "yvOexLN6HHuE",
      "execution_count": null,
      "outputs": []
    }
  ]
}