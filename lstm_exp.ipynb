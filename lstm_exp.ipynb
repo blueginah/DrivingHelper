{
  "nbformat": 4,
  "nbformat_minor": 5,
  "metadata": {
    "kernelspec": {
      "display_name": "Python 3",
      "language": "python",
      "name": "python3"
    },
    "language_info": {
      "codemirror_mode": {
        "name": "ipython",
        "version": 3
      },
      "file_extension": ".py",
      "mimetype": "text/x-python",
      "name": "python",
      "nbconvert_exporter": "python",
      "pygments_lexer": "ipython3",
      "version": "3.8.10"
    },
    "colab": {
      "name": "lstm_exp.ipynb",
      "provenance": [],
      "collapsed_sections": []
    },
    "accelerator": "GPU"
  },
  "cells": [
    {
      "cell_type": "code",
      "metadata": {
        "id": "UM_pooVKlWY5",
        "colab": {
          "base_uri": "https://localhost:8080/"
        },
        "outputId": "d8aa8eba-9b0e-4d4e-82c8-b649db6c5f3a"
      },
      "source": [
        "from google.colab import drive \n",
        "drive.mount('/content/gdrive')"
      ],
      "id": "UM_pooVKlWY5",
      "execution_count": 94,
      "outputs": [
        {
          "output_type": "stream",
          "text": [
            "Drive already mounted at /content/gdrive; to attempt to forcibly remount, call drive.mount(\"/content/gdrive\", force_remount=True).\n"
          ],
          "name": "stdout"
        }
      ]
    },
    {
      "cell_type": "code",
      "metadata": {
        "colab": {
          "base_uri": "https://localhost:8080/",
          "height": 35
        },
        "id": "XP317J0wm5BM",
        "outputId": "45cc70ea-3766-44b3-a83a-573423ad80ba"
      },
      "source": [
        "pwd"
      ],
      "id": "XP317J0wm5BM",
      "execution_count": 95,
      "outputs": [
        {
          "output_type": "execute_result",
          "data": {
            "application/vnd.google.colaboratory.intrinsic+json": {
              "type": "string"
            },
            "text/plain": [
              "'/content/gdrive/My Drive/AI/experiment/DrivingHelper'"
            ]
          },
          "metadata": {
            "tags": []
          },
          "execution_count": 95
        }
      ]
    },
    {
      "cell_type": "code",
      "metadata": {
        "id": "1B9QQqxDljoY",
        "colab": {
          "base_uri": "https://localhost:8080/"
        },
        "outputId": "c3d30d52-70bd-4e28-e69d-3996696d85c9"
      },
      "source": [
        "cd gdrive/MyDrive/AI/experiment/DrivingHelper/"
      ],
      "id": "1B9QQqxDljoY",
      "execution_count": 93,
      "outputs": [
        {
          "output_type": "stream",
          "text": [
            "[Errno 2] No such file or directory: 'gdrive/MyDrive/AI/experiment/DrivingHelper/'\n",
            "/content/gdrive/MyDrive/AI/experiment/DrivingHelper\n"
          ],
          "name": "stdout"
        }
      ]
    },
    {
      "cell_type": "code",
      "metadata": {
        "id": "93d24e5e"
      },
      "source": [
        "import pandas as pd\n",
        "import numpy as np\n",
        "%matplotlib inline\n",
        "import matplotlib.pyplot as plt\n",
        "from os import listdir\n",
        "\n",
        "import tensorflow as tf\n",
        "\n",
        "from keras.preprocessing import sequence\n",
        "from keras.models import Sequential\n",
        "from keras.layers import Dense\n",
        "from keras.layers import LSTM\n",
        "from keras.layers import Dropout\n",
        "\n",
        "from keras.optimizers import Adam\n",
        "from keras.models import load_model\n",
        "from keras.callbacks import ModelCheckpoint\n",
        "from sklearn.preprocessing import MinMaxScaler"
      ],
      "id": "93d24e5e",
      "execution_count": 3,
      "outputs": []
    },
    {
      "cell_type": "markdown",
      "metadata": {
        "id": "hKmq0dmphtmy"
      },
      "source": [
        "## WHOLE LANES"
      ],
      "id": "hKmq0dmphtmy"
    },
    {
      "cell_type": "code",
      "metadata": {
        "id": "eZmiTJxwzKz-"
      },
      "source": [
        "#### WITTHOUT SETTING NUMBER OF EACH CORNERS ####\n",
        "#### FINALQ\n",
        "##only 19 \n",
        "\n",
        "beginner_path = 'beginner_expert_processedData/beginner/beginner_'\n",
        "expert_path = 'beginner_expert_processedData/expert/expert_'\n",
        "left_column = [\n",
        "#'Time','Distance','Corr Dist','Corr Dist (Unstretched)','Session Time Left',\n",
        "'GPS Latitude','GPS Longitude','Damper Velocity (Calc) FL','Damper Velocity (Calc) FR','Damper Velocity (Calc) RL',\n",
        "'Damper Velocity (Calc) RR','Corr Speed','Brake Pos',\n",
        "'CG Accel Lateral','CG Accel Longitudinal','CG Accel Vertical','CG Height','Camber FL','Camber FR','Camber RL','Camber RR','Car Coord X',\n",
        "'Car Coord Y','Car Coord Z','Car Pos Norm','Chassis Pitch Angle','Chassis Pitch Rate','Chassis Roll Angle','Chassis Roll Rate',\n",
        "'Chassis Velocity X','Chassis Velocity Y','Chassis Velocity Z','Chassis Yaw Rate','Drive Train Speed','Engine RPM','Ground Speed',\n",
        "'Ride Height FL','Ride Height FR','Ride Height RL','Ride Height RR','Road Temp','Self Align Torque FL','Self Align Torque FR',\n",
        "'Self Align Torque RL','Self Align Torque RR','Steering Angle','Suspension Travel FL','Suspension Travel FR',\n",
        "'Suspension Travel RL','Suspension Travel RR','Tire Load FL','Tire Load FR','Tire Load RL','Tire Load RR','Tire Loaded Radius FL',\n",
        "'Tire Loaded Radius FR','Tire Loaded Radius RL','Tire Loaded Radius RR','Tire Pressure FL','Tire Pressure FR','Tire Pressure RL','Tire Pressure RR',\n",
        "'Tire Rubber Grip FL','Tire Rubber Grip FR','Tire Rubber Grip RL','Tire Rubber Grip RR','Tire Slip Angle FL','Tire Slip Angle FR',\n",
        "'Tire Slip Angle RL','Tire Slip Angle RR','Tire Slip Ratio FL','Tire Slip Ratio FR','Tire Slip Ratio RL','Tire Slip Ratio RR',\n",
        "'Tire Temp Core FL','Tire Temp Core FR','Tire Temp Core RL','Tire Temp Core RR','Tire Temp Inner FL','Tire Temp Inner FR',\n",
        "'Tire Temp Inner RL','Tire Temp Inner RR','Tire Temp Middle FL','Tire Temp Middle FR','Tire Temp Middle RL',\n",
        "'Tire Temp Middle RR','Tire Temp Outer FL','Tire Temp Outer FR','Tire Temp Outer RL','Tire Temp Outer RR','Toe In FL',\n",
        "'Toe In FR','Toe In RL','Toe In RR','Wheel Angular Speed FL','Wheel Angular Speed FR','Wheel Angular Speed RL','Wheel Angular Speed RR',\n",
        "'CG Distance','Lateral Velocity','Longitudinal Velocity','Lateral Acceleration','Longitudinal Acceleration']\n",
        "\n",
        "part_column = ['Brake Pos', 'Ground Speed', 'Steering Angle', 'Throttle Pos', 'Chassis Yaw Rate', 'Chassis Velocity X', \n",
        "               'Chassis Velocity Y','Chassis Velocity Z','Lateral Velocity','Longitudinal Velocity','Lateral Acceleration','Longitudinal Acceleration', \n",
        "               'CG Distance']\n",
        "\n",
        "curveList = [[103.9, 209.3], [316.6, 399.6], [425.3, 517.9], [590.5, 756.9], [1048.7, 1110.5], [1212.3, 1437.1]]\n",
        "curve_num = 0\n",
        "sequences = list()\n",
        "final_df = pd.DataFrame()\n",
        "for i in range(1,20):\n",
        "    final_df = pd.DataFrame()\n",
        "    file_path = beginner_path + str(i) + '_new2.csv'\n",
        "    #print(file_path)\n",
        "    df = pd.read_csv(file_path, header=0)\n",
        "    df = df.dropna()\n",
        "    df = df.astype(float)\n",
        "\n",
        "    for j in range(0, 6):\n",
        "      tmp_df = df[(df['Distance'] >= curveList[j][0]) & (df['Distance'] <= curveList[j][1])]\n",
        "      #print(tmp_df)\n",
        "      tmp_df = tmp_df.loc[:,left_column]\n",
        "      #tmp_df = tmp_df.loc[:,part_column]\n",
        "      tmp_df['curve_num'] = j\n",
        "      #final_df = final_df.append(tmp_df, ignore_index=True)\n",
        "      values = tmp_df.values\n",
        "      #scaler = MinMaxScaler(feature_range=(0, 1))\n",
        "      #scaled = scaler.fit_transform(values)\n",
        "      sequences.append(values)\n",
        "\n",
        "    \n",
        "for i in range(1,20):\n",
        "    final_df = pd.DataFrame()\n",
        "    file_path = expert_path + str(i) + '_new2.csv'\n",
        "    #print(file_path)\n",
        "    df = pd.read_csv(file_path, header=0)\n",
        "    df = df.dropna()\n",
        "    df = df.astype(float)\n",
        "    for j in range(0, 6):\n",
        "      tmp_df = df[(df['Distance'] >= curveList[j][0]) & (df['Distance'] <= curveList[j][1])]\n",
        "      tmp_df = tmp_df.loc[:,left_column]\n",
        "      #tmp_df = tmp_df.loc[:,part_column]\n",
        "      tmp_df['curve_num'] = j\n",
        "      values = tmp_df.values\n",
        "      #scaler = MinMaxScaler(feature_range=(0, 1))\n",
        "      #scaled = scaler.fit_transform(values)\n",
        "      sequences.append(values)\n",
        "    "
      ],
      "id": "eZmiTJxwzKz-",
      "execution_count": 322,
      "outputs": []
    },
    {
      "cell_type": "markdown",
      "metadata": {
        "id": "WvAiUVaVhxE6"
      },
      "source": [
        "## EACH LANES"
      ],
      "id": "WvAiUVaVhxE6"
    },
    {
      "cell_type": "code",
      "metadata": {
        "id": "9vX8F-bphwNB"
      },
      "source": [
        "#### WITTHOUT SETTING NUMBER OF EACH CORNERS ####\n",
        "#### FINALQ\n",
        "##only 19 \n",
        "\n",
        "beginner_path = 'beginner_expert_processedData/beginner/beginner_'\n",
        "expert_path = 'beginner_expert_processedData/expert/expert_'\n",
        "left_column = [\n",
        "#'Time','Distance','Corr Dist','Corr Dist (Unstretched)','Session Time Left',\n",
        "'GPS Latitude','GPS Longitude','Damper Velocity (Calc) FL','Damper Velocity (Calc) FR','Damper Velocity (Calc) RL',\n",
        "'Damper Velocity (Calc) RR','Corr Speed','Brake Pos',\n",
        "'CG Accel Lateral','CG Accel Longitudinal','CG Accel Vertical','CG Height','Camber FL','Camber FR','Camber RL','Camber RR','Car Coord X',\n",
        "'Car Coord Y','Car Coord Z','Car Pos Norm','Chassis Pitch Angle','Chassis Pitch Rate','Chassis Roll Angle','Chassis Roll Rate',\n",
        "'Chassis Velocity X','Chassis Velocity Y','Chassis Velocity Z','Chassis Yaw Rate','Drive Train Speed','Engine RPM','Ground Speed',\n",
        "'Ride Height FL','Ride Height FR','Ride Height RL','Ride Height RR','Road Temp','Self Align Torque FL','Self Align Torque FR',\n",
        "'Self Align Torque RL','Self Align Torque RR','Steering Angle','Suspension Travel FL','Suspension Travel FR',\n",
        "'Suspension Travel RL','Suspension Travel RR','Tire Load FL','Tire Load FR','Tire Load RL','Tire Load RR','Tire Loaded Radius FL',\n",
        "'Tire Loaded Radius FR','Tire Loaded Radius RL','Tire Loaded Radius RR','Tire Pressure FL','Tire Pressure FR','Tire Pressure RL','Tire Pressure RR',\n",
        "'Tire Rubber Grip FL','Tire Rubber Grip FR','Tire Rubber Grip RL','Tire Rubber Grip RR','Tire Slip Angle FL','Tire Slip Angle FR',\n",
        "'Tire Slip Angle RL','Tire Slip Angle RR','Tire Slip Ratio FL','Tire Slip Ratio FR','Tire Slip Ratio RL','Tire Slip Ratio RR',\n",
        "'Tire Temp Core FL','Tire Temp Core FR','Tire Temp Core RL','Tire Temp Core RR','Tire Temp Inner FL','Tire Temp Inner FR',\n",
        "'Tire Temp Inner RL','Tire Temp Inner RR','Tire Temp Middle FL','Tire Temp Middle FR','Tire Temp Middle RL',\n",
        "'Tire Temp Middle RR','Tire Temp Outer FL','Tire Temp Outer FR','Tire Temp Outer RL','Tire Temp Outer RR','Toe In FL',\n",
        "'Toe In FR','Toe In RL','Toe In RR','Wheel Angular Speed FL','Wheel Angular Speed FR','Wheel Angular Speed RL','Wheel Angular Speed RR',\n",
        "'CG Distance','Lateral Velocity','Longitudinal Velocity','Lateral Acceleration','Longitudinal Acceleration']\n",
        "\n",
        "part_column = ['Brake Pos', 'Ground Speed', 'Steering Angle', 'Throttle Pos', 'Chassis Yaw Rate', 'Chassis Velocity X', \n",
        "               'Chassis Velocity Y','Chassis Velocity Z','Lateral Velocity','Longitudinal Velocity','Lateral Acceleration','Longitudinal Acceleration', \n",
        "               'CG Distance']\n",
        "\n",
        "curveList = [[103.9, 209.3], [316.6, 399.6], [425.3, 517.9], [590.5, 756.9], [1048.7, 1110.5], [1212.3, 1437.1]]\n",
        "curve_num = 0\n",
        "sequences = list()\n",
        "final_df = pd.DataFrame()\n",
        "j = 5\n",
        "for i in range(1,20):\n",
        "    final_df = pd.DataFrame()\n",
        "    file_path = beginner_path + str(i) + '_new2.csv'\n",
        "    #print(file_path)\n",
        "    df = pd.read_csv(file_path, header=0)\n",
        "    df = df.dropna()\n",
        "    df = df.astype(float)\n",
        "    tmp_df = df[(df['Distance'] >= curveList[j][0]) & (df['Distance'] <= curveList[j][1])]\n",
        "    #print(tmp_df)\n",
        "    #tmp_df = tmp_df.loc[:,left_column]\n",
        "    tmp_df = tmp_df.loc[:,part_column]\n",
        "    #tmp_df['curve_num'] = j\n",
        "    #final_df = final_df.append(tmp_df, ignore_index=True)\n",
        "    values = tmp_df.values\n",
        "    scaler = MinMaxScaler(feature_range=(0, 1))\n",
        "    scaled = scaler.fit_transform(values)\n",
        "    sequences.append(values)\n",
        "\n",
        "    \n",
        "for i in range(1,20):\n",
        "    final_df = pd.DataFrame()\n",
        "    file_path = expert_path + str(i) + '_new2.csv'\n",
        "    #print(file_path)\n",
        "    df = pd.read_csv(file_path, header=0)\n",
        "    df = df.dropna()\n",
        "    df = df.astype(float)\n",
        "    tmp_df = df[(df['Distance'] >= curveList[j][0]) & (df['Distance'] <= curveList[j][1])]\n",
        "    #tmp_df = tmp_df.loc[:,left_column]\n",
        "    tmp_df = tmp_df.loc[:,part_column]\n",
        "    #tmp_df['curve_num'] = j\n",
        "    values = tmp_df.values\n",
        "    scaler = MinMaxScaler(feature_range=(0, 1))\n",
        "    scaled = scaler.fit_transform(values)\n",
        "    sequences.append(values)\n",
        "    "
      ],
      "id": "9vX8F-bphwNB",
      "execution_count": 257,
      "outputs": []
    },
    {
      "cell_type": "code",
      "metadata": {
        "colab": {
          "base_uri": "https://localhost:8080/"
        },
        "id": "dfdb91bb",
        "outputId": "f18ba23d-a433-4f7b-e58b-97aa566db60c"
      },
      "source": [
        "\n",
        "print(len(sequences))\n",
        "print(sequences[1].shape)"
      ],
      "id": "dfdb91bb",
      "execution_count": 323,
      "outputs": [
        {
          "output_type": "stream",
          "text": [
            "228\n",
            "(46, 99)\n"
          ],
          "name": "stdout"
        }
      ]
    },
    {
      "cell_type": "code",
      "metadata": {
        "id": "8a955ce4"
      },
      "source": [
        "targets = pd.read_csv('target.csv')\n",
        "targets = targets.values[:,1]\n",
        "groups = pd.read_csv('group.csv', header=0)\n",
        "groups = groups.values[:,1]"
      ],
      "id": "8a955ce4",
      "execution_count": 79,
      "outputs": []
    },
    {
      "cell_type": "code",
      "metadata": {
        "colab": {
          "base_uri": "https://localhost:8080/"
        },
        "id": "6eee5c8b",
        "outputId": "ce983363-8666-4a78-8bde-dfeb17b0e838"
      },
      "source": [
        "len_sequences = []\n",
        "for one_seq in sequences:\n",
        "    len_sequences.append(len(one_seq))\n",
        "    \n",
        "print(len_sequences)\n",
        "pd.Series(len_sequences).describe()"
      ],
      "id": "6eee5c8b",
      "execution_count": 324,
      "outputs": [
        {
          "output_type": "stream",
          "text": [
            "[72, 46, 492, 111, 28, 125, 71, 57, 214, 98, 27, 148, 78, 49, 318, 105, 26, 151, 91, 43, 311, 88, 27, 146, 68, 50, 429, 115, 31, 129, 69, 54, 102, 105, 31, 147, 75, 61, 73, 112, 30, 145, 84, 58, 77, 95, 30, 131, 76, 50, 124, 94, 34, 145, 79, 51, 94, 108, 30, 146, 97, 59, 121, 127, 41, 154, 102, 68, 218, 140, 36, 150, 101, 50, 833, 135, 37, 194, 89, 48, 695, 99, 33, 156, 63, 69, 110, 97, 36, 183, 74, 59, 90, 86, 29, 136, 80, 60, 80, 90, 28, 142, 69, 48, 329, 111, 31, 121, 78, 52, 73, 97, 25, 494, 68, 51, 71, 87, 25, 123, 64, 45, 68, 86, 26, 132, 64, 46, 69, 86, 26, 124, 71, 50, 67, 84, 26, 125, 68, 53, 68, 81, 27, 117, 65, 48, 81, 81, 25, 126, 66, 47, 69, 111, 25, 129, 66, 46, 69, 88, 26, 119, 67, 44, 72, 80, 26, 126, 66, 45, 77, 78, 25, 122, 72, 52, 69, 77, 25, 133, 66, 47, 70, 77, 25, 126, 67, 45, 79, 84, 25, 128, 70, 46, 71, 80, 26, 125, 68, 47, 78, 77, 25, 138, 62, 47, 69, 79, 25, 117, 68, 43, 113, 79, 25, 127, 66, 44, 77, 80, 25, 133, 72, 43, 76, 84, 25, 131]\n"
          ],
          "name": "stdout"
        },
        {
          "output_type": "execute_result",
          "data": {
            "text/plain": [
              "count    228.000000\n",
              "mean      92.622807\n",
              "std       90.949508\n",
              "min       25.000000\n",
              "25%       48.750000\n",
              "50%       73.000000\n",
              "75%      111.000000\n",
              "max      833.000000\n",
              "dtype: float64"
            ]
          },
          "metadata": {
            "tags": []
          },
          "execution_count": 324
        }
      ]
    },
    {
      "cell_type": "code",
      "metadata": {
        "id": "8eb17bd2"
      },
      "source": [
        "#Padding the sequence with the values in last row to max length\n",
        "#to_pad = 1816\n",
        "to_pad = 833\n",
        "new_seq = []\n",
        "for one_seq in sequences:\n",
        "    len_one_seq = len(one_seq)\n",
        "    last_val = one_seq[-1]\n",
        "    n = to_pad - len_one_seq\n",
        "   \n",
        "    to_concat = np.repeat(one_seq[-1], n).reshape(99, n).transpose()\n",
        "    new_one_seq = np.concatenate([one_seq, to_concat])\n",
        "    new_seq.append(new_one_seq)\n",
        "final_seq = np.stack(new_seq)\n",
        "\n",
        "#truncate the sequence to length 60\n",
        "from keras.preprocessing import sequence\n",
        "seq_len = 25\n",
        "final_seq=sequence.pad_sequences(final_seq, maxlen=seq_len, padding='post', dtype='float', truncating='post')"
      ],
      "id": "8eb17bd2",
      "execution_count": 326,
      "outputs": []
    },
    {
      "cell_type": "code",
      "metadata": {
        "colab": {
          "base_uri": "https://localhost:8080/"
        },
        "id": "5hM6REhrPjg5",
        "outputId": "4a0c99fb-e442-4a3c-bf64-edec41e32934"
      },
      "source": [
        "len(final_seq)"
      ],
      "id": "5hM6REhrPjg5",
      "execution_count": 130,
      "outputs": [
        {
          "output_type": "execute_result",
          "data": {
            "text/plain": [
              "38"
            ]
          },
          "metadata": {
            "tags": []
          },
          "execution_count": 130
        }
      ]
    },
    {
      "cell_type": "markdown",
      "metadata": {
        "id": "f9euMsbJiR60"
      },
      "source": [
        "## FOR EACH LANE"
      ],
      "id": "f9euMsbJiR60"
    },
    {
      "cell_type": "code",
      "metadata": {
        "colab": {
          "base_uri": "https://localhost:8080/"
        },
        "id": "yXVRQTt3iG_C",
        "outputId": "f66dd78f-0247-4ac8-93cd-6831697eea2d"
      },
      "source": [
        "# Modifying Sequence\n",
        "\n",
        "train = [final_seq[i] for i in range(len(final_seq)) if (groups[i]==1)]\n",
        "validation = [final_seq[i] for i in range(len(final_seq)) if groups[i]==2]\n",
        "test = [final_seq[i] for i in range(len(final_seq)) if groups[i]==3]\n",
        "\n",
        "train_target = [targets[i] for i in range(len(final_seq)) if (groups[i]==1)]\n",
        "validation_target = [targets[i] for i in range(len(final_seq)) if groups[i]==2]\n",
        "test_target = [targets[i] for i in range(len(final_seq)) if groups[i]==3]\n",
        "\n",
        "train"
      ],
      "id": "yXVRQTt3iG_C",
      "execution_count": 260,
      "outputs": [
        {
          "output_type": "execute_result",
          "data": {
            "text/plain": [
              "[array([[ 100.        ,  146.3       ,    8.        , ...,  -10.80305127,\n",
              "          -14.40406911,    1.8414125 ],\n",
              "        [ 100.        ,  143.        ,    7.8       , ...,   -7.20203456,\n",
              "          -21.6061031 ,    1.81532366],\n",
              "        [ 100.        ,  139.8       ,    6.7       , ...,  -32.40915408,\n",
              "          -61.2172906 ,    1.79348822],\n",
              "        ...,\n",
              "        [   0.        ,  142.6       ,   29.2       , ...,   25.20711981,\n",
              "           43.21220563,    1.08724422],\n",
              "        [   0.        ,  142.1       ,   29.        , ..., -100.82847924,\n",
              "           18.00508497,    1.30873985],\n",
              "        [   0.        ,  141.7       ,   27.6       , ...,  -61.21729117,\n",
              "           32.40915351,    1.25849116]]),\n",
              " array([[100.        , 112.1       ,  26.8       , ...,  10.80305127,\n",
              "         -36.01017165,   1.79134028],\n",
              "        [100.        , 109.3       ,  21.7       , ...,  -7.20203427,\n",
              "         -61.2172906 ,   1.7759786 ],\n",
              "        [100.        , 106.4       ,  19.2       , ..., -14.40406854,\n",
              "         -64.8183076 ,   1.76802149],\n",
              "        ...,\n",
              "        [  0.        ,  85.6       ,  16.2       , ...,  21.60610253,\n",
              "          18.00508554,   0.33615473],\n",
              "        [  0.        ,  85.9       ,  15.8       , ...,   3.60101699,\n",
              "          10.80305098,   0.46043458],\n",
              "        [  0.        ,  86.8       ,  14.3       , ...,  -7.20203427,\n",
              "           7.20203456,   0.63079315]]),\n",
              " array([[ 100.        ,  147.4       ,  -21.7       , ..., -115.2325475 ,\n",
              "         -162.04576984,    1.86935818],\n",
              "        [ 100.        ,  144.6       ,  -19.3       , ...,  -18.00508525,\n",
              "           -7.20203399,    1.86767235],\n",
              "        [ 100.        ,  141.4       ,  -13.2       , ...,   -3.60101728,\n",
              "           28.80813652,    1.83251194],\n",
              "        ...,\n",
              "        [ 100.        ,  118.5       ,    3.6       , ...,  -97.22746196,\n",
              "          -21.60610253,    1.9047572 ],\n",
              "        [ 100.        ,  115.3       ,    3.3       , ...,  -32.40915408,\n",
              "           -7.20203456,    1.90580692],\n",
              "        [ 100.        ,  111.9       ,    2.9       , ...,  -61.21729089,\n",
              "          -14.40406911,    1.8179934 ]]),\n",
              " array([[ 100.        ,  142.4       ,   12.1       , ...,  -43.21220563,\n",
              "          -57.61627418,    1.83597386],\n",
              "        [ 100.        ,  139.3       ,   11.7       , ...,    3.60101728,\n",
              "           21.60610367,    1.82496575],\n",
              "        [ 100.        ,  135.9       ,   11.7       , ...,  -64.8183076 ,\n",
              "         -129.63661576,    1.84287818],\n",
              "        ...,\n",
              "        [ 100.        ,  141.        ,   -6.9       , ...,  -97.22746225,\n",
              "          -25.20711953,    1.83537462],\n",
              "        [ 100.        ,  137.8       ,   -7.3       , ...,  -25.20712009,\n",
              "           -3.60101699,    1.96494275],\n",
              "        [ 100.        ,  134.4       ,   -5.8       , ...,  -64.8183076 ,\n",
              "          -18.00508554,    1.900763  ]]),\n",
              " array([[ 16.9       , 139.        ,  -6.1       , ..., -39.61118807,\n",
              "         -43.21220563,   0.52516664],\n",
              "        [ 16.9       , 138.2       ,  -2.4       , ...,   7.20203399,\n",
              "          25.20712009,   0.55713553],\n",
              "        [ 17.5       , 137.3       ,   1.3       , ..., -14.40406854,\n",
              "         -10.80305155,   0.5240229 ],\n",
              "        ...,\n",
              "        [ 13.4       , 137.5       ,  -0.9       , ..., -57.61627361,\n",
              "         -18.00508554,   0.37349699],\n",
              "        [ 18.9       , 136.8       ,  -1.9       , ...,  25.20711953,\n",
              "           7.20203399,   0.4767599 ],\n",
              "        [ 33.3       , 135.8       ,  -1.3       , ..., -25.20711981,\n",
              "          -3.60101756,   0.69036222]]),\n",
              " array([[ 45.9       , 112.4       ,  18.4       , ...,   0.        ,\n",
              "         -39.61118807,   1.10118118],\n",
              "        [ 45.9       , 110.7       ,  21.        , ...,   3.60101671,\n",
              "         -39.61118807,   1.106752  ],\n",
              "        [ 44.7       , 109.2       ,  23.8       , ...,  21.60610282,\n",
              "         -14.40406911,   1.13300485],\n",
              "        ...,\n",
              "        [ 71.8       ,  89.9       ,  85.4       , ..., -57.61627418,\n",
              "          21.60610253,   1.65565697],\n",
              "        [ 66.5       ,  87.7       ,  81.4       , ..., -75.62135943,\n",
              "           7.20203399,   1.71874955],\n",
              "        [ 63.6       ,  85.7       ,  78.4       , ..., -10.80305098,\n",
              "          39.61118807,   1.64456681]]),\n",
              " array([[ 27.3       , 123.6       ,  24.2       , ...,  36.01017108,\n",
              "         -18.00508497,   1.306943  ],\n",
              "        [ 28.2       , 122.5       ,  23.2       , ...,  18.00508582,\n",
              "         -43.2122062 ,   1.31544669],\n",
              "        [ 28.2       , 121.3       ,  22.1       , ...,  -3.60101728,\n",
              "         -68.41932516,   1.33030072],\n",
              "        ...,\n",
              "        [  6.8       ,  74.6       , 104.3       , ..., -18.00508582,\n",
              "          46.81322206,   1.38509927],\n",
              "        [  6.        ,  74.        , 100.        , ..., -32.4091538 ,\n",
              "          36.01017108,   1.3506665 ],\n",
              "        [  1.4       ,  73.5       ,  92.4       , ..., -50.41423934,\n",
              "          25.20712009,   1.33674979]]),\n",
              " array([[ 17.9       , 133.7       ,  43.        , ...,  54.01525661,\n",
              "         -21.60610253,   1.70144057],\n",
              "        [ 17.9       , 132.6       ,  40.8       , ...,  25.20712009,\n",
              "         -54.01525718,   1.7185168 ],\n",
              "        [ 17.5       , 131.5       ,  39.7       , ...,   0.        ,\n",
              "         -82.8233937 ,   1.71773106],\n",
              "        ...,\n",
              "        [  0.        ,  91.9       , 143.7       , ..., -21.60610282,\n",
              "          54.01525718,   1.5720687 ],\n",
              "        [  0.        ,  91.4       , 161.3       , ...,  -3.60101699,\n",
              "          68.41932573,   1.5010996 ],\n",
              "        [  0.        ,  90.9       , 183.6       , ..., -64.8183076 ,\n",
              "           7.20203399,   1.43892321]]),\n",
              " array([[  32.4       ,  112.3       ,   23.4       , ...,  -50.41423962,\n",
              "         -115.23254779,    0.96223698],\n",
              "        [  33.3       ,  111.2       ,   25.7       , ...,   28.80813709,\n",
              "           -7.20203399,    1.0397115 ],\n",
              "        [  33.3       ,  109.9       ,   27.6       , ...,   25.20711953,\n",
              "          -10.80305155,    1.07130761],\n",
              "        ...,\n",
              "        [   0.        ,   88.6       ,   33.6       , ...,  -32.40915351,\n",
              "           10.80305212,    0.69921384],\n",
              "        [   0.        ,   88.4       ,   34.5       , ...,   10.80305155,\n",
              "           28.80813652,    0.70753092],\n",
              "        [   0.        ,   88.1       ,   35.6       , ...,  -18.00508582,\n",
              "           25.20711896,    0.74087786]]),\n",
              " array([[ 17.5       , 121.2       ,  30.7       , ...,  46.81322263,\n",
              "         -28.80813709,   1.67767697],\n",
              "        [ 17.5       , 120.2       ,  30.7       , ...,  25.20711981,\n",
              "         -54.01525605,   1.6678729 ],\n",
              "        [ 16.9       , 119.1       ,  30.7       , ...,  -7.20203456,\n",
              "         -75.62135915,   1.67722986],\n",
              "        ...,\n",
              "        [  0.        ,  80.9       ,  79.9       , ..., -10.80305127,\n",
              "          39.61118864,   1.12218537],\n",
              "        [  0.        ,  80.6       ,  89.6       , ..., -28.80813709,\n",
              "          28.80813709,   1.23336937],\n",
              "        [  0.        ,  80.2       ,  97.9       , ..., -50.41423934,\n",
              "          14.40406854,   1.18427193]]),\n",
              " array([[  0.        , 117.        ,  59.8       , ...,  61.2172906 ,\n",
              "          10.80305098,   1.24823876],\n",
              "        [  0.        , 117.8       ,  67.        , ...,  -7.20203456,\n",
              "         -68.41932573,   1.33932819],\n",
              "        [  0.        , 118.5       ,  73.1       , ...,  21.60610282,\n",
              "         -54.01525605,   1.40488434],\n",
              "        ...,\n",
              "        [ 10.1       , 111.4       , 171.5       , ..., -14.40406883,\n",
              "          54.01525718,   1.71706144],\n",
              "        [ 10.6       , 110.4       , 170.2       , ..., -46.81322263,\n",
              "          43.21220563,   1.68692027],\n",
              "        [ 10.9       , 109.3       , 166.9       , ..., -75.62135915,\n",
              "          21.60610196,   1.64359362]]),\n",
              " array([[   0.        ,  123.6       ,  -18.2       , ...,  -50.41423934,\n",
              "           -7.20203399,    1.21185808],\n",
              "        [   0.        ,  123.3       ,  -10.4       , ...,  -57.61627389,\n",
              "          -10.80305212,    1.11346307],\n",
              "        [   0.        ,  123.        ,   -3.6       , ...,    7.20203427,\n",
              "           75.62135858,    0.94201911],\n",
              "        ...,\n",
              "        [   0.        ,   93.9       ,  -89.6       , ...,  -21.60610282,\n",
              "         -331.29357481,   24.33311119],\n",
              "        [   0.        ,   78.9       ,  -87.1       , ..., -111.63153022,\n",
              "         -309.68747114,   21.89510676],\n",
              "        [   0.        ,   72.4       ,  -88.9       , ...,  -25.20711953,\n",
              "         -172.84882082,    0.91219515]]),\n",
              " array([[  0.        , 153.8       ,   1.5       , ..., -14.40406854,\n",
              "          25.20712009,   0.83964278],\n",
              "        [  0.        , 154.2       ,   9.8       , ...,  72.02034215,\n",
              "         126.03559877,   0.57697487],\n",
              "        [  0.        , 154.5       ,  15.8       , ..., -57.61627361,\n",
              "         -68.41932573,   0.27802878],\n",
              "        ...,\n",
              "        [  0.        ,  39.5       , -41.4       , ...,  -3.60101671,\n",
              "           7.20203456,   0.32015621],\n",
              "        [  0.        ,  39.4       , -37.8       , ...,   7.20203399,\n",
              "          10.80305098,   0.24269322],\n",
              "        [  0.        ,  39.2       , -34.3       , ...,  -7.20203456,\n",
              "           0.        ,   0.16881943]]),\n",
              " array([[ 0.00000000e+00,  1.59100000e+02, -2.63000000e+01, ...,\n",
              "         -6.48183076e+01, -1.44040680e+01,  1.34018655e+00],\n",
              "        [ 0.00000000e+00,  1.58800000e+02, -1.79000000e+01, ...,\n",
              "         -6.48183082e+01, -1.80050855e+01,  1.30744025e+00],\n",
              "        [ 0.00000000e+00,  1.59000000e+02, -6.60000000e+00, ...,\n",
              "         -1.08030516e+01,  6.12172906e+01,  1.27145586e+00],\n",
              "        ...,\n",
              "        [ 0.00000000e+00,  7.08000000e+01,  5.90000000e+00, ...,\n",
              "          1.80050855e+01,  3.60101756e+00,  5.26212885e-01],\n",
              "        [ 0.00000000e+00,  7.17000000e+01,  4.90000000e+00, ...,\n",
              "          5.76162736e+01,  1.08030516e+01,  5.45893763e-01],\n",
              "        [ 0.00000000e+00,  7.27000000e+01,  1.20000000e+00, ...,\n",
              "         -2.88081368e+01, -5.69023690e-07,  5.15945734e-01]]),\n",
              " array([[ 0.00000000e+00,  1.21200000e+02,  1.12000000e+01, ...,\n",
              "          5.04142396e+01,  4.32122051e+01,  5.09705797e-01],\n",
              "        [ 0.00000000e+00,  1.20900000e+02,  1.17000000e+01, ...,\n",
              "          1.08030513e+01, -1.08030516e+01,  4.97393205e-01],\n",
              "        [ 1.00000000e-01,  1.20600000e+02,  1.50000000e+01, ...,\n",
              "         -7.20203427e+00, -4.32122051e+01,  5.34602656e-01],\n",
              "        ...,\n",
              "        [ 0.00000000e+00,  9.84000000e+01,  8.00000000e+00, ...,\n",
              "          1.80050858e+01, -1.08030516e+01,  6.01414998e-01],\n",
              "        [ 0.00000000e+00,  9.94000000e+01,  6.50000000e+00, ...,\n",
              "         -7.20203399e+00, -1.44040685e+01,  7.86765531e-01],\n",
              "        [ 0.00000000e+00,  1.00300000e+02,  6.70000000e+00, ...,\n",
              "          2.16061025e+01, -1.44040680e+01,  7.30000000e-01]]),\n",
              " array([[  78.1       ,  130.2       ,   11.2       , ...,   14.40406854,\n",
              "          -18.00508554,    1.78103902],\n",
              "        [  23.9       ,  128.        ,   16.        , ...,  -39.61118807,\n",
              "         -104.42949567,    1.03860483],\n",
              "        [   6.        ,  127.3       ,   22.1       , ...,   -7.20203427,\n",
              "          -61.2172906 ,    0.92054332],\n",
              "        ...,\n",
              "        [   0.        ,   82.2       ,   98.6       , ...,    7.20203399,\n",
              "           61.2172906 ,    1.43575764],\n",
              "        [   0.        ,   82.9       ,   84.3       , ...,  -14.40406854,\n",
              "           50.41423962,    1.436802  ],\n",
              "        [   0.        ,   83.5       ,   70.3       , ...,  -36.01017079,\n",
              "           39.61118807,    1.44862003]]),\n",
              " array([[ 78.1       , 126.4       ,  30.6       , ...,  14.40406854,\n",
              "         -28.80813709,   1.63232962],\n",
              "        [ 77.3       , 123.9       ,  38.6       , ...,   3.60101699,\n",
              "         -54.01525718,   1.62643783],\n",
              "        [ 45.9       , 121.6       ,  48.5       , ..., -10.80305127,\n",
              "         -79.22237614,   1.53456834],\n",
              "        ...,\n",
              "        [  0.        ,  69.5       , 130.5       , ..., -25.20712009,\n",
              "          50.41423962,   1.43544418],\n",
              "        [  0.        ,  69.1       , 130.8       , ..., -36.01017108,\n",
              "          36.01017051,   1.44851648],\n",
              "        [  0.        ,  68.7       , 122.4       , ..., -50.41423934,\n",
              "          18.00508611,   1.38690302]]),\n",
              " array([[ 0.00000000e+00,  1.73500000e+02, -7.70000000e+00, ...,\n",
              "         -1.80050855e+01,  1.08030516e+01,  5.99749948e-01],\n",
              "        [ 0.00000000e+00,  1.73400000e+02, -8.30000000e+00, ...,\n",
              "         -5.04142393e+01, -3.60101711e+01,  6.13025285e-01],\n",
              "        [ 0.00000000e+00,  1.73100000e+02, -8.70000000e+00, ...,\n",
              "          7.20203427e+00,  5.04142396e+01,  5.83866423e-01],\n",
              "        ...,\n",
              "        [ 1.00000000e+02,  1.40400000e+02,  4.50000000e+00, ...,\n",
              "         -2.16061025e+01,  3.60101642e+00,  1.80371838e+00],\n",
              "        [ 1.00000000e+02,  1.37200000e+02,  4.60000000e+00, ...,\n",
              "         -1.04429496e+02, -1.44040685e+01,  1.83676346e+00],\n",
              "        [ 1.00000000e+02,  1.34100000e+02,  4.60000000e+00, ...,\n",
              "         -2.88081368e+01,  5.69023655e-07,  1.85730988e+00]]),\n",
              " array([[ 5.46000000e+01,  1.38400000e+02,  3.14000000e+01, ...,\n",
              "         -1.80050855e+01, -9.72274622e+01,  1.70745425e+00],\n",
              "        [ 1.97000000e+01,  1.36600000e+02,  4.06000000e+01, ...,\n",
              "          4.68132223e+01, -1.80050855e+01,  1.59705980e+00],\n",
              "        [ 4.00000000e-01,  1.35800000e+02,  5.18000000e+01, ...,\n",
              "          3.60101711e+01, -4.32122051e+01,  1.57572206e+00],\n",
              "        ...,\n",
              "        [ 0.00000000e+00,  1.00000000e-01, -3.20000000e+02, ...,\n",
              "          0.00000000e+00,  0.00000000e+00,  2.03960781e-01],\n",
              "        [ 0.00000000e+00,  0.00000000e+00, -3.20000000e+02, ...,\n",
              "          0.00000000e+00,  0.00000000e+00,  0.00000000e+00],\n",
              "        [ 0.00000000e+00,  0.00000000e+00, -3.20000000e+02, ...,\n",
              "          0.00000000e+00,  0.00000000e+00,  0.00000000e+00]]),\n",
              " array([[ 0.00000000e+00,  1.44300000e+02, -3.50000000e+00, ...,\n",
              "          8.64244104e+01,  3.24091541e+01,  1.10031814e+00],\n",
              "        [ 0.00000000e+00,  1.44000000e+02, -3.50000000e+00, ...,\n",
              "          1.44040680e+01, -2.16061025e+01,  8.43860178e-01],\n",
              "        [ 0.00000000e+00,  1.43700000e+02, -2.20000000e+00, ...,\n",
              "         -8.64244104e+01, -1.11631531e+02,  5.60089279e-01],\n",
              "        ...,\n",
              "        [ 0.00000000e+00,  1.05500000e+02,  1.20700000e+02, ...,\n",
              "         -3.24091541e+01,  5.04142396e+01,  1.61941347e+00],\n",
              "        [ 0.00000000e+00,  1.04900000e+02,  1.29200000e+02, ...,\n",
              "         -5.04142393e+01,  2.52071195e+01,  1.57800507e+00],\n",
              "        [ 0.00000000e+00,  1.04300000e+02,  1.38100000e+02, ...,\n",
              "         -6.84193249e+01, -5.69023655e-07,  1.67871975e+00]]),\n",
              " array([[100.        , 128.6       ,  60.5       , ...,  -7.20203427,\n",
              "         -57.61627361,   1.76844565],\n",
              "        [100.        , 125.8       ,  65.7       , ..., -21.60610253,\n",
              "         -97.22746168,   1.76011363],\n",
              "        [ 97.2       , 123.3       ,  67.2       , ...,  18.00508554,\n",
              "         -32.40915408,   1.76476627],\n",
              "        ...,\n",
              "        [ 23.1       , 107.7       ,  91.3       , ..., -46.81322263,\n",
              "          28.80813766,   1.57848028],\n",
              "        [ 29.1       , 106.5       ,  96.7       , ..., -75.62135943,\n",
              "           7.20203456,   1.63987804],\n",
              "        [ 35.4       , 105.2       , 102.1       , ..., -21.60610253,\n",
              "          39.6111875 ,   1.53886322]]),\n",
              " array([[ 63.6       , 138.8       ,  57.1       , ..., -18.00508554,\n",
              "         -93.62644525,   1.75248395],\n",
              "        [ 84.        , 136.7       ,  62.        , ...,  32.4091538 ,\n",
              "         -32.40915351,   1.75829463],\n",
              "        [100.        , 134.3       ,  68.8       , ...,  -3.60101728,\n",
              "         -61.2172906 ,   1.78574914],\n",
              "        ...,\n",
              "        [  7.8       , 115.9       , 122.5       , ..., -68.41932516,\n",
              "          -3.60101699,   1.3806158 ],\n",
              "        [ 11.9       , 115.2       , 131.9       , ..., -21.60610225,\n",
              "          43.21220449,   1.44256716],\n",
              "        [ 17.9       , 114.2       , 141.4       , ..., -50.41423934,\n",
              "          21.60610253,   1.53173105]]),\n",
              " array([[ 2.11000000e+01,  1.40000000e+02,  2.91000000e+01, ...,\n",
              "         -3.24091541e+01, -1.11631530e+02,  1.73369547e+00],\n",
              "        [ 1.75000000e+01,  1.38900000e+02,  2.60000000e+01, ...,\n",
              "          2.84511827e-07, -8.28233926e+01,  1.71912769e+00],\n",
              "        [ 8.20000000e+00,  1.37900000e+02,  2.27000000e+01, ...,\n",
              "          9.00254277e+01,  3.60101699e+00,  1.71598368e+00],\n",
              "        ...,\n",
              "        [ 5.20000000e+01,  9.21000000e+01,  7.74000000e+01, ...,\n",
              "         -5.04142391e+01, -7.20203399e+00,  1.63003067e+00],\n",
              "        [ 4.89000000e+01,  9.05000000e+01,  8.06000000e+01, ...,\n",
              "         -6.84193252e+01, -3.24091541e+01,  1.43307362e+00],\n",
              "        [ 4.47000000e+01,  8.91000000e+01,  8.41000000e+01, ...,\n",
              "         -4.32122056e+01,  2.16061025e+01,  1.62662227e+00]]),\n",
              " array([[ 6.80000000e+01,  1.41600000e+02,  2.09000000e+01, ...,\n",
              "         -2.84511827e-07, -5.40152566e+01,  1.65641178e+00],\n",
              "        [ 7.57000000e+01,  1.39200000e+02,  2.38000000e+01, ...,\n",
              "         -2.88081368e+01, -9.00254277e+01,  1.69171511e+00],\n",
              "        [ 7.98000000e+01,  1.36900000e+02,  2.74000000e+01, ...,\n",
              "          2.52071201e+01, -3.60101711e+01,  1.72780207e+00],\n",
              "        ...,\n",
              "        [ 4.95000000e+01,  9.70000000e+01,  6.84000000e+01, ...,\n",
              "         -5.04142396e+01,  7.20203456e+00,  1.46198495e+00],\n",
              "        [ 7.18000000e+01,  9.52000000e+01,  7.28000000e+01, ...,\n",
              "         -7.20203419e+01, -1.80050850e+01,  1.53006536e+00],\n",
              "        [ 8.57000000e+01,  9.32000000e+01,  7.76000000e+01, ...,\n",
              "         -3.60101711e+01,  1.44040680e+01,  1.57572206e+00]]),\n",
              " array([[  79.8       ,  149.2       ,   50.9       , ...,  -25.20711981,\n",
              "         -100.8284781 ,    1.82458214],\n",
              "        [  79.8       ,  146.9       ,   52.        , ...,   28.80813709,\n",
              "          -28.80813709,    1.82458214],\n",
              "        [  75.7       ,  144.4       ,   52.9       , ...,   28.8081368 ,\n",
              "          -28.80813766,    1.78314329],\n",
              "        ...,\n",
              "        [   4.6       ,   89.6       ,   85.8       , ...,  -64.81830788,\n",
              "           10.80305098,    1.50149925],\n",
              "        [   6.8       ,   89.1       ,   88.8       , ...,  -32.4091538 ,\n",
              "           46.81322206,    1.51304329],\n",
              "        [  22.7       ,   88.4       ,   92.        , ...,  -46.81322234,\n",
              "           21.6061031 ,    1.51743204]]),\n",
              " array([[  35.4       ,  137.4       ,  124.5       , ...,   39.61118807,\n",
              "          -75.62135858,    1.61993827],\n",
              "        [  36.4       ,  135.1       ,  122.1       , ...,   61.21729117,\n",
              "          -39.61118864,    1.97888858],\n",
              "        [  39.6       ,  133.1       ,  122.        , ...,  -10.80305098,\n",
              "         -126.03559934,    2.00813346],\n",
              "        ...,\n",
              "        [  67.3       ,  123.9       ,   45.4       , ...,  -97.22746196,\n",
              "           10.80305155,    1.95202459],\n",
              "        [  73.4       ,  121.6       ,   47.6       , ...,  -36.01017079,\n",
              "           39.61118807,    2.02457403],\n",
              "        [  79.8       ,  119.1       ,   49.8       , ...,  -68.41932516,\n",
              "           14.40406854,    1.98328011]])]"
            ]
          },
          "metadata": {
            "tags": []
          },
          "execution_count": 260
        }
      ]
    },
    {
      "cell_type": "markdown",
      "metadata": {
        "id": "smeN2vPyiW4t"
      },
      "source": [
        "## ENTIRE LANE"
      ],
      "id": "smeN2vPyiW4t"
    },
    {
      "cell_type": "code",
      "metadata": {
        "id": "AmhHQV0FWrbX",
        "colab": {
          "base_uri": "https://localhost:8080/"
        },
        "outputId": "b78d18e6-0b13-4f25-e9ba-483f9b32f31a"
      },
      "source": [
        "# Modifying Sequence\n",
        "\n",
        "train = [final_seq[i] for i in range(len(final_seq)) if (groups[int(i/6)]==1)]\n",
        "validation = [final_seq[i] for i in range(len(final_seq)) if groups[int(i/6)]==2]\n",
        "test = [final_seq[i] for i in range(len(final_seq)) if groups[int(i/6)]==3]\n",
        "\n",
        "train_target = [targets[int(i/6)] for i in range(len(final_seq)) if (groups[int(i/6)]==1)]\n",
        "validation_target = [targets[int(i/6)] for i in range(len(final_seq)) if groups[int(i/6)]==2]\n",
        "test_target = [targets[int(i/6)] for i in range(len(final_seq)) if groups[int(i/6)]==3]\n",
        "\n",
        "train"
      ],
      "id": "AmhHQV0FWrbX",
      "execution_count": 327,
      "outputs": [
        {
          "output_type": "execute_result",
          "data": {
            "text/plain": [
              "[array([[ 4.40537143e+01, -7.86816904e+01,  1.84000000e+01, ...,\n",
              "         -1.80050858e+01,  2.16061025e+01,  0.00000000e+00],\n",
              "        [ 4.40536929e+01, -7.86816838e+01,  2.04300000e+02, ...,\n",
              "         -1.54843736e+02, -2.16061031e+01,  0.00000000e+00],\n",
              "        [ 4.40536742e+01, -7.86816780e+01, -3.05800000e+02, ...,\n",
              "         -1.11631530e+02, -7.20203456e+00,  0.00000000e+00],\n",
              "        ...,\n",
              "        [ 4.40533646e+01, -7.86815540e+01, -5.10000000e+01, ...,\n",
              "         -1.08030513e+02, -1.08030516e+01,  0.00000000e+00],\n",
              "        [ 4.40533533e+01, -7.86815475e+01, -7.73000000e+01, ...,\n",
              "         -2.88081371e+01,  3.60101711e+01,  0.00000000e+00],\n",
              "        [ 4.40533424e+01, -7.86815409e+01,  1.29500000e+02, ...,\n",
              "          2.84511827e-07,  5.40152566e+01,  0.00000000e+00]]),\n",
              " array([[ 4.40535036e+01, -7.86801855e+01,  5.79000000e+01, ...,\n",
              "         -2.84511756e-07,  1.80050855e+01,  1.00000000e+00],\n",
              "        [ 4.40535081e+01, -7.86801700e+01,  1.33000000e+02, ...,\n",
              "         -1.08030516e+01, -1.44040691e+01,  1.00000000e+00],\n",
              "        [ 4.40535123e+01, -7.86801553e+01,  1.70800000e+02, ...,\n",
              "          1.08030513e+01,  5.76162736e+01,  1.00000000e+00],\n",
              "        ...,\n",
              "        [ 4.40535995e+01, -7.86798240e+01,  5.26000000e+01, ...,\n",
              "         -3.60101699e+00, -3.96111886e+01,  1.00000000e+00],\n",
              "        [ 4.40536040e+01, -7.86798073e+01,  4.70000000e+00, ...,\n",
              "          1.80050853e+01,  3.96111886e+01,  1.00000000e+00],\n",
              "        [ 4.40536088e+01, -7.86797895e+01,  1.00100000e+02, ...,\n",
              "          0.00000000e+00, -1.08030510e+01,  1.00000000e+00]]),\n",
              " array([[ 44.05366376, -78.67923543, -11.        , ...,  18.00508525,\n",
              "         -46.81322206,   2.        ],\n",
              "        [ 44.05366079, -78.67923111, 166.6       , ...,  43.21220535,\n",
              "         -18.00508554,   2.        ],\n",
              "        [ 44.05365738, -78.67922671, -37.5       , ...,  32.40915437,\n",
              "         -32.40915408,   2.        ],\n",
              "        ...,\n",
              "        [ 44.05355764, -78.67918246,  12.5       , ...,  10.80305098,\n",
              "         -25.20712009,   2.        ],\n",
              "        [ 44.05355162, -78.67918246,  67.        , ..., -10.80305155,\n",
              "          14.40406854,   2.        ],\n",
              "        [ 44.05354568, -78.67918264,  -2.6       , ..., -14.40406826,\n",
              "          43.21220563,   2.        ]]),\n",
              " array([[ 4.40526965e+01, -7.86793724e+01,  2.91000000e+01, ...,\n",
              "         -6.12172909e+01, -4.68132232e+01,  3.00000000e+00],\n",
              "        [ 4.40526931e+01, -7.86793802e+01,  2.46000000e+01, ...,\n",
              "         -1.44040685e+01,  4.32122056e+01,  3.00000000e+00],\n",
              "        [ 4.40526895e+01, -7.86793891e+01, -3.03000000e+01, ...,\n",
              "         -7.20203427e+00,  5.40152572e+01,  3.00000000e+00],\n",
              "        ...,\n",
              "        [ 4.40526283e+01, -7.86795943e+01, -3.00000000e+00, ...,\n",
              "          2.84511827e-07,  4.68132226e+01,  3.00000000e+00],\n",
              "        [ 4.40526256e+01, -7.86796061e+01, -1.80000000e+00, ...,\n",
              "          0.00000000e+00,  2.16061025e+01,  3.00000000e+00],\n",
              "        [ 4.40526228e+01, -7.86796181e+01, -3.40000000e+00, ...,\n",
              "         -7.20203427e+00,  2.16061020e+01,  3.00000000e+00]]),\n",
              " array([[ 44.05314063, -78.68242658,  36.4       , ...,  39.61118807,\n",
              "          28.80813709,   4.        ],\n",
              "        [ 44.05315942, -78.68243423,  35.5       , ...,  39.61118807,\n",
              "          28.80813709,   4.        ],\n",
              "        [ 44.05317813, -78.68244205,  11.5       , ..., -50.41423934,\n",
              "         -21.6061031 ,   4.        ],\n",
              "        ...,\n",
              "        [ 44.05353309, -78.68260609,  -2.9       , ...,  86.4244107 ,\n",
              "          75.62135915,   4.        ],\n",
              "        [ 44.05355081, -78.68261598,  -5.5       , ..., -46.81322263,\n",
              "          10.80305155,   4.        ],\n",
              "        [ 44.05356843, -78.68262614,  -4.6       , ..., -50.41423962,\n",
              "           3.60101699,   4.        ]]),\n",
              " array([[ 44.05425462, -78.68331907,  22.        , ..., -10.80305127,\n",
              "         -14.40406911,   5.        ],\n",
              "        [ 44.05426388, -78.68333499,   2.3       , ...,  -7.20203456,\n",
              "         -21.6061031 ,   5.        ],\n",
              "        [ 44.05427305, -78.68335045,  -2.3       , ..., -32.40915408,\n",
              "         -61.2172906 ,   5.        ],\n",
              "        ...,\n",
              "        [ 44.05442036, -78.68359372,   3.        , ..., -18.00508582,\n",
              "         -61.21729117,   5.        ],\n",
              "        [ 44.05442729, -78.68360379,  -3.6       , ...,  -3.60101728,\n",
              "         -25.20711896,   5.        ],\n",
              "        [ 44.05443421, -78.68361396, -16.4       , ...,  57.61627389,\n",
              "          54.01525718,   5.        ]]),\n",
              " array([[ 4.40537283e+01, -7.86817109e+01, -8.05000000e+01, ...,\n",
              "         -7.20203456e+00,  4.68132226e+01,  0.00000000e+00],\n",
              "        [ 4.40537130e+01, -7.86817080e+01, -3.44000000e+01, ...,\n",
              "         -1.08030510e+01,  4.68132226e+01,  0.00000000e+00],\n",
              "        [ 4.40536987e+01, -7.86817051e+01,  1.74700000e+02, ...,\n",
              "          1.80050855e+01,  6.12172906e+01,  0.00000000e+00],\n",
              "        ...,\n",
              "        [ 4.40534302e+01, -7.86815912e+01,  3.40000000e+00, ...,\n",
              "         -3.96111881e+01,  3.96111881e+01,  0.00000000e+00],\n",
              "        [ 4.40534182e+01, -7.86815832e+01,  1.26000000e+01, ...,\n",
              "         -1.44040685e+01,  5.40152566e+01,  0.00000000e+00],\n",
              "        [ 4.40534066e+01, -7.86815750e+01, -1.08100000e+02, ...,\n",
              "         -9.36264450e+01,  5.69023655e-07,  0.00000000e+00]]),\n",
              " array([[ 4.40534833e+01, -7.86802118e+01, -1.87700000e+02, ...,\n",
              "          1.08030516e+01,  5.04142396e+01,  1.00000000e+00],\n",
              "        [ 4.40534861e+01, -7.86802006e+01,  7.59000000e+01, ...,\n",
              "         -7.20203427e+00, -3.60101699e+00,  1.00000000e+00],\n",
              "        [ 4.40534888e+01, -7.86801892e+01,  8.57000000e+01, ...,\n",
              "          0.00000000e+00,  2.52071195e+01,  1.00000000e+00],\n",
              "        ...,\n",
              "        [ 4.40535527e+01, -7.86799365e+01, -4.08000000e+01, ...,\n",
              "          2.84511898e-07, -1.08030510e+01,  1.00000000e+00],\n",
              "        [ 4.40535570e+01, -7.86799231e+01,  1.37700000e+02, ...,\n",
              "          1.08030510e+01,  5.04142396e+01,  1.00000000e+00],\n",
              "        [ 4.40535615e+01, -7.86799089e+01,  7.50000000e+00, ...,\n",
              "          3.60101699e+00,  1.80050855e+01,  1.00000000e+00]]),\n",
              " array([[ 44.05359128, -78.6792938 , -45.5       , ...,  18.00508582,\n",
              "         -10.80305155,   2.        ],\n",
              "        [ 44.0535848 , -78.67928903,  26.4       , ...,  25.20711953,\n",
              "          10.80305098,   2.        ],\n",
              "        [ 44.05357779, -78.6792839 ,  53.5       , ...,  18.00508554,\n",
              "          18.00508554,   2.        ],\n",
              "        ...,\n",
              "        [ 44.053533  , -78.67917113, 217.        , ...,  -7.20203399,\n",
              "          -7.20203456,   2.        ],\n",
              "        [ 44.05353273, -78.67916483, 522.3       , ...,  18.00508582,\n",
              "         -25.20712009,   2.        ],\n",
              "        [ 44.05353237, -78.67915899, -86.9       , ...,  43.21220535,\n",
              "          -3.60101699,   2.        ]]),\n",
              " array([[ 44.05260787, -78.67968923,  -7.9       , ...,  -7.20203427,\n",
              "         -10.80305098,   3.        ],\n",
              "        [ 44.05260463, -78.6797029 ,  -3.8       , ...,  18.00508582,\n",
              "          90.02542769,   3.        ],\n",
              "        [ 44.05260112, -78.67971756,  -2.7       , ...,   3.60101728,\n",
              "          14.40406798,   3.        ],\n",
              "        ...,\n",
              "        [ 44.05252954, -78.68001721,  14.4       , ...,  39.61118807,\n",
              "          25.20712009,   3.        ],\n",
              "        [ 44.05252468, -78.68003241,   9.2       , ...,  21.60610253,\n",
              "         -18.00508497,   3.        ],\n",
              "        [ 44.05251965, -78.68004743,   9.6       , ...,   3.60101728,\n",
              "         -50.41423962,   3.        ]]),\n",
              " array([[ 4.40534495e+01, -7.86825667e+01, -9.00000000e-01, ...,\n",
              "         -4.32122056e+01, -5.69023513e-07,  4.00000000e+00],\n",
              "        [ 4.40534674e+01, -7.86825753e+01, -5.00000000e+00, ...,\n",
              "          3.60101714e+01,  3.96111881e+01,  4.00000000e+00],\n",
              "        [ 4.40534864e+01, -7.86825847e+01,  9.80000000e+00, ...,\n",
              "         -1.80050853e+01,  1.80050855e+01,  4.00000000e+00],\n",
              "        ...,\n",
              "        [ 4.40538304e+01, -7.86828016e+01, -3.00000000e+00, ...,\n",
              "         -9.00254277e+01, -3.60101705e+01,  4.00000000e+00],\n",
              "        [ 4.40538457e+01, -7.86828138e+01,  9.00000000e-01, ...,\n",
              "         -5.76162739e+01, -3.60101699e+00,  4.00000000e+00],\n",
              "        [ 4.40538609e+01, -7.86828262e+01, -5.00000000e-01, ...,\n",
              "          5.40152566e+01,  9.00254271e+01,  4.00000000e+00]]),\n",
              " array([[ 44.05444716, -78.68361099,  -1.9       , ...,  10.80305127,\n",
              "         -36.01017165,   5.        ],\n",
              "        [ 44.05445534, -78.68362241,  -2.3       , ...,  -7.20203427,\n",
              "         -61.2172906 ,   5.        ],\n",
              "        [ 44.05446362, -78.68363338,  -6.2       , ..., -14.40406854,\n",
              "         -64.8183076 ,   5.        ],\n",
              "        ...,\n",
              "        [ 44.05463035, -78.68378815, -23.3       , ...,  46.81322263,\n",
              "           3.60101699,   5.        ],\n",
              "        [ 44.05464105, -78.68379427, -21.8       , ..., -28.80813652,\n",
              "         -32.40915351,   5.        ],\n",
              "        [ 44.05465059, -78.68379976, -11.3       , ...,   0.        ,\n",
              "         -18.00508554,   5.        ]]),\n",
              " array([[ 4.40537113e+01, -7.86816856e+01,  3.30000000e+01, ...,\n",
              "         -1.80050855e+01, -5.69023655e-07,  0.00000000e+00],\n",
              "        [ 4.40536934e+01, -7.86816804e+01,  2.75200000e+02, ...,\n",
              "         -1.00828479e+02, -2.16061020e+01,  0.00000000e+00],\n",
              "        [ 4.40536759e+01, -7.86816753e+01, -1.36300000e+02, ...,\n",
              "         -1.00828479e+02, -1.80050855e+01,  0.00000000e+00],\n",
              "        ...,\n",
              "        [ 4.40534075e+01, -7.86815775e+01, -1.18500000e+02, ...,\n",
              "         -5.76162736e+01,  2.52071190e+01,  0.00000000e+00],\n",
              "        [ 4.40533977e+01, -7.86815718e+01,  1.83000000e+01, ...,\n",
              "          1.44040688e+01,  6.48183076e+01,  0.00000000e+00],\n",
              "        [ 4.40533874e+01, -7.86815656e+01,  4.06000000e+01, ...,\n",
              "         -1.80050853e+01,  5.40152572e+01,  0.00000000e+00]]),\n",
              " array([[  44.05350422,  -78.68013025,  -22.7       , ...,   21.60610282,\n",
              "           50.41423962,    1.        ],\n",
              "        [  44.05350863,  -78.6801147 ,  -43.3       , ...,   21.60610282,\n",
              "           50.41423905,    1.        ],\n",
              "        [  44.05351313,  -78.68009905,   26.8       , ...,   18.00508554,\n",
              "           14.40406854,    1.        ],\n",
              "        ...,\n",
              "        [  44.05361943,  -78.67977367,   92.4       , ...,  -36.01017108,\n",
              "          -82.8233937 ,    1.        ],\n",
              "        [  44.05362491,  -78.67975758, -157.        , ...,  -21.60610282,\n",
              "          -46.81322263,    1.        ],\n",
              "        [  44.05363031,  -78.67974148, -143.6       , ...,   18.00508554,\n",
              "           50.41423962,    1.        ]]),\n",
              " array([[ 44.05364398, -78.67920287,  68.1       , ...,  50.41423934,\n",
              "          -7.20203399,   2.        ],\n",
              "        [ 44.05363759, -78.67919595,   8.3       , ...,  46.81322263,\n",
              "         -18.00508611,   2.        ],\n",
              "        [ 44.05363103, -78.6791892 ,  57.1       , ...,  25.20711981,\n",
              "         -43.21220563,   2.        ],\n",
              "        ...,\n",
              "        [ 44.05352895, -78.67915044,  -7.9       , ...,  18.00508582,\n",
              "          -3.60101699,   2.        ],\n",
              "        [ 44.05352617, -78.67915197, 900.9       , ...,  18.00508554,\n",
              "         -28.80813652,   2.        ],\n",
              "        [ 44.0535232 , -78.67915314, 156.4       , ...,   0.        ,\n",
              "         -25.20711953,   2.        ]]),\n",
              " array([[ 44.05265337, -78.67953535, -11.2       , ...,  14.40406883,\n",
              "          43.21220506,   3.        ],\n",
              "        [ 44.05265077, -78.67954776, -10.4       , ...,  10.80305155,\n",
              "          14.40406798,   3.        ],\n",
              "        [ 44.05264816, -78.67955963,  -6.3       , ...,  10.80305127,\n",
              "          39.61118864,   3.        ],\n",
              "        ...,\n",
              "        [ 44.05259195, -78.67982233,  -0.8       , ...,   3.60101728,\n",
              "         -28.80813652,   3.        ],\n",
              "        [ 44.05258862, -78.67983618,  -1.        , ...,   3.60101728,\n",
              "         -25.20711953,   3.        ],\n",
              "        [ 44.05258539, -78.67984931,   0.4       , ...,  14.40406826,\n",
              "           3.60101699,   3.        ]]),\n",
              " array([[  44.05330448,  -78.68250365,   -4.        , ..., -126.03559877,\n",
              "          -39.61118864,    4.        ],\n",
              "        [  44.05332112,  -78.68251076,   -2.8       , ...,   54.01525633,\n",
              "           36.01017108,    4.        ],\n",
              "        [  44.0533401 ,  -78.68251894,   -2.8       , ...,   46.81322234,\n",
              "           36.01017165,    4.        ],\n",
              "        ...,\n",
              "        [  44.05371349,  -78.68271014,   -4.8       , ...,   28.8081368 ,\n",
              "           75.62135915,    4.        ],\n",
              "        [  44.0537322 ,  -78.68272219,   -6.4       , ...,  -21.60610253,\n",
              "           46.81322206,    4.        ],\n",
              "        [  44.05375064,  -78.68273451,   -3.5       , ...,  -64.81830816,\n",
              "           18.00508497,    4.        ]]),\n",
              " array([[  44.05436739,  -78.68347537,  -29.5       , ..., -115.2325475 ,\n",
              "         -162.04576984,    5.        ],\n",
              "        [  44.05437602,  -78.68348922,  -21.9       , ...,  -18.00508525,\n",
              "           -7.20203399,    5.        ],\n",
              "        [  44.05438565,  -78.68350469,  -24.9       , ...,   -3.60101728,\n",
              "           28.80813652,    5.        ],\n",
              "        ...,\n",
              "        [  44.05453341,  -78.68373923,   -7.8       , ...,   46.81322234,\n",
              "          -10.80305155,    5.        ],\n",
              "        [  44.0545406 ,  -78.68374787,   -4.2       , ...,   28.8081368 ,\n",
              "          -32.40915408,    5.        ],\n",
              "        [  44.05454789,  -78.68375632,   -3.8       , ...,   14.40406826,\n",
              "          -61.2172906 ,    5.        ]]),\n",
              " array([[  44.05373562,  -78.68170874,  -47.7       , ...,   46.81322234,\n",
              "           28.80813652,    0.        ],\n",
              "        [  44.05371997,  -78.68170461, -194.9       , ...,  -97.22746168,\n",
              "            0.        ,    0.        ],\n",
              "        [  44.05370684,  -78.68170101,  111.8       , ...,   36.01017136,\n",
              "           39.61118864,    0.        ],\n",
              "        ...,\n",
              "        [  44.05344253,  -78.68159831,    8.5       , ...,  -86.4244107 ,\n",
              "          -10.80305098,    0.        ],\n",
              "        [  44.05343219,  -78.68159291,   -2.9       , ...,  -79.22237614,\n",
              "           -7.20203399,    0.        ],\n",
              "        [  44.05342283,  -78.68158778,  -15.9       , ...,  -50.41423934,\n",
              "            7.20203399,    0.        ]]),\n",
              " array([[  44.05351295,  -78.68011065,  -36.8       , ...,   -3.60101728,\n",
              "          -25.20712009,    1.        ],\n",
              "        [  44.05351807,  -78.68009338,  -56.        , ...,   14.40406826,\n",
              "           61.2172906 ,    1.        ],\n",
              "        [  44.05352347,  -78.68007495,  -51.3       , ...,   18.00508554,\n",
              "           57.61627418,    1.        ],\n",
              "        ...,\n",
              "        [  44.05363139,  -78.67970056,  248.4       , ...,  -10.80305127,\n",
              "          -21.60610253,    1.        ],\n",
              "        [  44.05363642,  -78.67968257,   25.4       , ...,  -18.00508525,\n",
              "          -57.61627418,    1.        ],\n",
              "        [  44.05364137,  -78.67966495, -267.9       , ...,  -25.20711981,\n",
              "          -57.61627361,    1.        ]]),\n",
              " array([[ 44.05364748, -78.67917616, 104.3       , ...,   3.60101699,\n",
              "         -79.22237614,   2.        ],\n",
              "        [ 44.05364272, -78.67916942,  -3.8       , ...,  32.40915437,\n",
              "         -39.61118807,   2.        ],\n",
              "        [ 44.05363741, -78.6791624 ,  48.7       , ...,  18.00508554,\n",
              "         -57.61627361,   2.        ],\n",
              "        ...,\n",
              "        [ 44.05359146, -78.67913309,   0.2       , ..., -10.80305155,\n",
              "           3.60101699,   2.        ],\n",
              "        [ 44.05359146, -78.679133  ,   4.9       , ...,  -3.60101728,\n",
              "           3.60101756,   2.        ],\n",
              "        [ 44.05359146, -78.67913291,  12.1       , ...,   0.        ,\n",
              "          -7.20203399,   2.        ]]),\n",
              " array([[ 44.05265841, -78.6795099 ,  -1.6       , ..., -18.00508554,\n",
              "         -10.80305098,   3.        ],\n",
              "        [ 44.0526549 , -78.67952249,   0.5       , ...,   3.60101671,\n",
              "          90.02542769,   3.        ],\n",
              "        [ 44.05265131, -78.67953607,  -0.8       , ..., -10.80305155,\n",
              "          28.80813709,   3.        ],\n",
              "        ...,\n",
              "        [ 44.05258575, -78.67982736, -31.5       , ...,  25.20711981,\n",
              "          46.81322206,   3.        ],\n",
              "        [ 44.05258206, -78.67984283, -13.1       , ...,  25.20711981,\n",
              "          54.01525718,   3.        ],\n",
              "        [ 44.05257837, -78.67985848,  -4.3       , ...,  10.80305155,\n",
              "         -21.6061031 ,   3.        ]]),\n",
              " array([[ 44.05326392, -78.68247739,  -3.1       , ...,  54.01525633,\n",
              "          36.01017108,   4.        ],\n",
              "        [ 44.05328308, -78.68248486,  -8.5       , ...,  10.80305127,\n",
              "          18.00508497,   4.        ],\n",
              "        [ 44.05330232, -78.68249241,  -6.1       , ...,   7.20203456,\n",
              "          21.60610253,   4.        ],\n",
              "        ...,\n",
              "        [ 44.05367617, -78.68267731,  -5.        , ..., -28.80813709,\n",
              "          36.01017108,   4.        ],\n",
              "        [ 44.05369425, -78.68268882,  -4.3       , ..., -79.22237642,\n",
              "          10.80305155,   4.        ],\n",
              "        [ 44.05371098, -78.68269989,  -8.2       , ...,   3.60101728,\n",
              "          61.2172906 ,   4.        ]]),\n",
              " array([[  44.05432863,  -78.68344938,    1.6       , ...,  -43.21220563,\n",
              "          -57.61627418,    5.        ],\n",
              "        [  44.05433681,  -78.68346404,    6.8       , ...,    3.60101728,\n",
              "           21.60610367,    5.        ],\n",
              "        [  44.05434572,  -78.68348032,   12.6       , ...,  -64.8183076 ,\n",
              "         -129.63661576,    5.        ],\n",
              "        ...,\n",
              "        [  44.0544834 ,  -78.68370434,   -4.7       , ...,   43.21220535,\n",
              "          -18.00508497,    5.        ],\n",
              "        [  44.05448988,  -78.68371234,  -25.8       , ...,   25.20711981,\n",
              "          -36.01017051,    5.        ],\n",
              "        [  44.05449653,  -78.68372008,  -12.8       , ...,   14.40406854,\n",
              "          -50.41424019,    5.        ]]),\n",
              " array([[  44.05373355,  -78.68167826, -160.3       , ...,   28.80813709,\n",
              "           36.01017165,    0.        ],\n",
              "        [  44.05371457,  -78.68167214,    9.2       , ...,  -18.00508525,\n",
              "           18.00508554,    0.        ],\n",
              "        [  44.05369578,  -78.68166594,   86.8       , ...,  -57.61627389,\n",
              "            3.60101699,    0.        ],\n",
              "        ...,\n",
              "        [  44.05334954,  -78.68152097,  -75.5       , ...,  -82.8233937 ,\n",
              "           21.60610253,    0.        ],\n",
              "        [  44.05333497,  -78.68151197,  -61.8       , ...,  -82.82339342,\n",
              "           18.00508554,    0.        ],\n",
              "        [  44.05331977,  -78.68150217,   -5.5       , ...,  -50.41423934,\n",
              "           36.01017108,    0.        ]]),\n",
              " array([[  44.05347347,  -78.68015067, -234.4       , ...,   -7.20203427,\n",
              "          -39.61118807,    1.        ],\n",
              "        [  44.05347751,  -78.6801361 ,  -58.4       , ...,   14.40406883,\n",
              "           36.01017051,    1.        ],\n",
              "        [  44.05348192,  -78.68012054,  112.8       , ...,    0.        ,\n",
              "           -3.60101756,    1.        ],\n",
              "        ...,\n",
              "        [  44.05357311,  -78.67982556,  -31.7       , ...,   18.00508554,\n",
              "           61.21729117,    1.        ],\n",
              "        [  44.05357779,  -78.67981091,   32.6       , ...,   -3.60101699,\n",
              "           -3.60101699,    1.        ],\n",
              "        [  44.05358273,  -78.67979544,  -67.4       , ...,  -32.4091538 ,\n",
              "         -104.42949623,    1.        ]]),\n",
              " array([[ 4.40536349e+01, -7.86792109e+01, -3.18000000e+01, ...,\n",
              "          3.24091541e+01, -5.40152560e+01,  2.00000000e+00],\n",
              "        [ 4.40536305e+01, -7.86792012e+01, -2.45000000e+01, ...,\n",
              "          6.12172912e+01,  1.08030516e+01,  2.00000000e+00],\n",
              "        [ 4.40536255e+01, -7.86791911e+01,  6.55000000e+01, ...,\n",
              "          3.24091541e+01, -4.32122056e+01,  2.00000000e+00],\n",
              "        ...,\n",
              "        [ 4.40535869e+01, -7.86791305e+01, -5.85000000e+01, ...,\n",
              "         -2.84511851e-07, -7.20203399e+00,  2.00000000e+00],\n",
              "        [ 4.40535870e+01, -7.86791305e+01, -2.93000000e+01, ...,\n",
              "         -7.20203427e+00, -3.60101699e+00,  2.00000000e+00],\n",
              "        [ 4.40535870e+01, -7.86791305e+01,  9.80000000e+00, ...,\n",
              "         -3.60101699e+00,  0.00000000e+00,  2.00000000e+00]]),\n",
              " array([[ 44.0526978 , -78.6794563 ,  -3.1       , ...,   3.60101699,\n",
              "          46.81322263,   3.        ],\n",
              "        [ 44.05269474, -78.67946736,  -2.2       , ...,  -3.60101728,\n",
              "          21.60610253,   3.        ],\n",
              "        [ 44.05269169, -78.67947861,  -2.7       , ..., -18.00508525,\n",
              "         -10.80305098,   3.        ],\n",
              "        ...,\n",
              "        [ 44.05262855, -78.67971881,  19.        , ...,   0.        ,\n",
              "          10.80305098,   3.        ],\n",
              "        [ 44.0526246 , -78.67973185,  21.4       , ..., -10.80305155,\n",
              "         -14.40406854,   3.        ],\n",
              "        [ 44.05262091, -78.67974427,  18.4       , ...,   3.60101728,\n",
              "          46.81322263,   3.        ]]),\n",
              " array([[ 44.05321419, -78.68247191,  19.6       , ..., -46.81322234,\n",
              "         -21.6061031 ,   4.        ],\n",
              "        [ 44.05323074, -78.68247919,  21.2       , ...,  32.4091538 ,\n",
              "          14.40406854,   4.        ],\n",
              "        [ 44.05324819, -78.68248693,  17.5       , ...,  -3.60101728,\n",
              "          -3.60101642,   4.        ],\n",
              "        ...,\n",
              "        [ 44.05357959, -78.68263891,  13.7       , ...,  25.20711981,\n",
              "          32.40915351,   4.        ],\n",
              "        [ 44.05359631, -78.68264817,  20.5       , ..., -46.81322234,\n",
              "         -10.80305155,   4.        ],\n",
              "        [ 44.05361115, -78.68265645,  10.6       , ..., -50.41423962,\n",
              "         -14.40406798,   4.        ]]),\n",
              " array([[  44.05430956,  -78.68340441,   -4.5       , ...,  -39.61118807,\n",
              "          -43.21220563,    5.        ],\n",
              "        [  44.05431829,  -78.68341853,   -3.1       , ...,    7.20203399,\n",
              "           25.20712009,    5.        ],\n",
              "        [  44.05432755,  -78.68343346,   -1.4       , ...,  -14.40406854,\n",
              "          -10.80305155,    5.        ],\n",
              "        ...,\n",
              "        [  44.05450058,  -78.6836931 ,    7.2       , ...,   50.41423962,\n",
              "           14.40406854,    5.        ],\n",
              "        [  44.0545093 ,  -78.68370434,   10.6       , ...,   36.01017108,\n",
              "          -10.80305098,    5.        ],\n",
              "        [  44.05451875,  -78.68371603,   14.2       , ...,  -50.41423962,\n",
              "         -111.63153079,    5.        ]]),\n",
              " array([[  44.05371637,  -78.68169408,  -95.4       , ...,   18.00508582,\n",
              "           18.00508554,    0.        ],\n",
              "        [  44.05369821,  -78.68168869,  242.4       , ...,  -43.21220535,\n",
              "            3.60101642,    0.        ],\n",
              "        [  44.0536804 ,  -78.68168329,  -68.        , ..., -100.82847924,\n",
              "          -10.80305098,    0.        ],\n",
              "        ...,\n",
              "        [  44.05340125,  -78.68156818,  -67.9       , ...,  -64.81830788,\n",
              "           10.80305041,    0.        ],\n",
              "        [  44.05339046,  -78.68156125,   73.6       , ...,  -68.41932544,\n",
              "           21.60610253,    0.        ],\n",
              "        [  44.05337922,  -78.68155361,   97.        , ...,  -43.21220535,\n",
              "           39.61118864,    0.        ]]),\n",
              " array([[  44.05345476,  -78.68017117,  171.7       , ...,   14.40406854,\n",
              "           75.62135915,    1.        ],\n",
              "        [  44.05345998,  -78.68016038,  -79.3       , ...,   -7.20203456,\n",
              "           28.80813766,    1.        ],\n",
              "        [  44.05346519,  -78.68014941, -161.4       , ...,  -28.8081368 ,\n",
              "            3.60101699,    1.        ],\n",
              "        ...,\n",
              "        [  44.05355234,  -78.67989679,   39.5       , ...,   14.40406826,\n",
              "           50.41423962,    1.        ],\n",
              "        [  44.05355692,  -78.6798824 ,  -34.1       , ...,   -3.60101699,\n",
              "          -14.40406911,    1.        ],\n",
              "        [  44.05356124,  -78.67986873,  -20.3       , ...,   21.60610253,\n",
              "           54.01525661,    1.        ]]),\n",
              " array([[ 44.05365432, -78.67924658,  33.1       , ...,   0.        ,\n",
              "         -79.22237671,   2.        ],\n",
              "        [ 44.05365054, -78.67924118,  13.3       , ...,  39.61118835,\n",
              "         -25.20711953,   2.        ],\n",
              "        [ 44.05364614, -78.67923534,  16.1       , ...,  54.01525661,\n",
              "         -10.80305098,   2.        ],\n",
              "        ...,\n",
              "        [ 44.05352356, -78.67916663,  -7.        , ...,  28.80813652,\n",
              "         -43.21220563,   2.        ],\n",
              "        [ 44.053516  , -78.67916564,  -0.        , ...,  32.4091538 ,\n",
              "         -39.61118807,   2.        ],\n",
              "        [ 44.05350827, -78.67916483, -11.7       , ...,  -7.20203399,\n",
              "         -46.81322263,   2.        ]]),\n",
              " array([[ 44.05262559, -78.67974822,   0.8       , ...,  28.80813709,\n",
              "          54.01525605,   3.        ],\n",
              "        [ 44.05262172, -78.67976063,   2.        , ...,  28.8081368 ,\n",
              "          82.82339313,   3.        ],\n",
              "        [ 44.0526174 , -78.67977475,   8.        , ..., -10.80305127,\n",
              "         -46.81322206,   3.        ],\n",
              "        ...,\n",
              "        [ 44.05252702, -78.68004572,  -1.3       , ...,  50.41423934,\n",
              "          43.21220563,   3.        ],\n",
              "        [ 44.05252135, -78.68005885,   2.4       , ...,  18.00508554,\n",
              "         -14.40406911,   3.        ],\n",
              "        [ 44.05251515, -78.6800727 ,   8.3       , ..., -18.00508525,\n",
              "         -79.22237671,   3.        ]]),\n",
              " array([[  44.05349838,  -78.68260078,  -22.3       , ...,   10.80305127,\n",
              "           46.81322263,    4.        ],\n",
              "        [  44.05351528,  -78.68260941,  -13.5       , ...,  -25.20711953,\n",
              "           36.01017051,    4.        ],\n",
              "        [  44.05353201,  -78.68261832,   -8.6       , ...,  -64.81830788,\n",
              "           18.00508497,    4.        ],\n",
              "        ...,\n",
              "        [  44.05383355,  -78.68281752,  -18.5       , ...,  -32.4091538 ,\n",
              "           25.20711953,    4.        ],\n",
              "        [  44.05384839,  -78.68282939,  -22.2       , ..., -129.63661604,\n",
              "          -54.01525718,    4.        ],\n",
              "        [  44.05386062,  -78.68283937,   -8.        , ...,  -10.80305155,\n",
              "           64.81830816,    4.        ]]),\n",
              " array([[ 44.05447675, -78.68365443,   2.8       , ...,   0.        ,\n",
              "         -39.61118807,   5.        ],\n",
              "        [ 44.05448511, -78.68366585,   2.3       , ...,   3.60101671,\n",
              "         -39.61118807,   5.        ],\n",
              "        [ 44.05449303, -78.68367646,   2.        , ...,  21.60610282,\n",
              "         -14.40406911,   5.        ],\n",
              "        ...,\n",
              "        [ 44.05468701, -78.68385758,  -6.6       , ...,   7.20203399,\n",
              "         -54.01525718,   5.        ],\n",
              "        [ 44.05469852, -78.68386433,  -2.9       , ...,  61.21729117,\n",
              "         -21.6061031 ,   5.        ],\n",
              "        [ 44.05471093, -78.68387134,  -8.4       , ...,  32.40915408,\n",
              "         -39.6111875 ,   5.        ]]),\n",
              " array([[  44.05373256,  -78.68168887, -180.8       , ...,  -18.00508582,\n",
              "           -7.20203399,    0.        ],\n",
              "        [  44.05371673,  -78.68168437,  155.2       , ...,  -54.0152569 ,\n",
              "          -18.00508611,    0.        ],\n",
              "        [  44.05370126,  -78.68168006,   91.6       , ...,  -93.62644468,\n",
              "          -25.20711953,    0.        ],\n",
              "        ...,\n",
              "        [  44.05345584,  -78.68159408,  -17.5       , ...,  -21.60610253,\n",
              "           43.21220563,    0.        ],\n",
              "        [  44.05344505,  -78.68158814,  -61.4       , ...,  -39.61118779,\n",
              "           32.40915351,    0.        ],\n",
              "        [  44.05343497,  -78.6815823 ,  -12.8       , ...,   43.21220506,\n",
              "           75.62135915,    0.        ]]),\n",
              " array([[ 44.0534955 , -78.68016551,   5.3       , ...,  18.00508582,\n",
              "         -10.80305155,   1.        ],\n",
              "        [ 44.05349847, -78.68015184, -12.        , ...,  21.60610253,\n",
              "          14.40406911,   1.        ],\n",
              "        [ 44.05350134, -78.68013889,  40.6       , ...,  18.00508525,\n",
              "          18.00508497,   1.        ],\n",
              "        ...,\n",
              "        [ 44.0535759 , -78.67985947, -22.9       , ...,  14.40406854,\n",
              "          25.20712009,   1.        ],\n",
              "        [ 44.05358057, -78.67984481,  75.3       , ..., -21.60610225,\n",
              "         -72.02034215,   1.        ],\n",
              "        [ 44.05358471, -78.67983186, -14.        , ...,  -7.20203427,\n",
              "         -39.61118807,   1.        ]]),\n",
              " array([[ 44.05357734, -78.67925117, -88.8       , ...,  61.21729089,\n",
              "          10.80305098,   2.        ],\n",
              "        [ 44.05357005, -78.67924343,   8.3       , ...,  43.21220535,\n",
              "          -7.20203456,   2.        ],\n",
              "        [ 44.05356241, -78.67923579, -92.4       , ...,  18.00508554,\n",
              "         -21.60610196,   2.        ],\n",
              "        ...,\n",
              "        [ 44.05337292, -78.67912391,  72.        , ..., -50.4142399 ,\n",
              "         -43.21220563,   2.        ],\n",
              "        [ 44.05336285, -78.67912104,  -1.2       , ..., -25.20711981,\n",
              "         -32.40915408,   2.        ],\n",
              "        [ 44.05335278, -78.67911834, -23.6       , ...,  54.0152569 ,\n",
              "          -3.60101642,   2.        ]]),\n",
              " array([[ 44.05257558, -78.67975946,  -3.8       , ...,   7.20203427,\n",
              "          57.61627418,   3.        ],\n",
              "        [ 44.05257163, -78.67977205,  -2.6       , ..., -14.40406854,\n",
              "          -3.60101699,   3.        ],\n",
              "        [ 44.05256767, -78.67978473,  -1.7       , ..., -10.80305155,\n",
              "          25.20711953,   3.        ],\n",
              "        ...,\n",
              "        [ 44.05250436, -78.68005048, -10.1       , ...,  14.40406826,\n",
              "         -46.81322263,   3.        ],\n",
              "        [ 44.05250121, -78.68006298, -10.6       , ...,  32.40915408,\n",
              "          10.80305155,   3.        ],\n",
              "        [ 44.05249779, -78.68007611, -13.2       , ...,  32.40915437,\n",
              "         -21.60610196,   3.        ]]),\n",
              " array([[ 44.05350314, -78.68260087,  -6.1       , ...,  -7.20203427,\n",
              "          18.00508611,   4.        ],\n",
              "        [ 44.0535205 , -78.68260995,  -2.        , ..., -50.41423962,\n",
              "          -3.60101756,   4.        ],\n",
              "        [ 44.05353678, -78.68261859,  -5.6       , ...,  25.20711981,\n",
              "          46.81322263,   4.        ],\n",
              "        ...,\n",
              "        [ 44.05385118, -78.6828355 ,  -2.1       , ..., -36.01017108,\n",
              "          25.20712066,   4.        ],\n",
              "        [ 44.0538644 , -78.68284755,   2.6       , ...,   3.60101699,\n",
              "          57.61627304,   4.        ],\n",
              "        [ 44.05387834, -78.68286059,  -2.8       , ..., -28.8081368 ,\n",
              "          18.00508497,   4.        ]]),\n",
              " array([[ 44.05448673, -78.68367502,   1.4       , ...,  36.01017108,\n",
              "         -18.00508497,   5.        ],\n",
              "        [ 44.05449662, -78.68368707,   0.6       , ...,  18.00508582,\n",
              "         -43.2122062 ,   5.        ],\n",
              "        [ 44.0545067 , -78.68369885,  -0.1       , ...,  -3.60101728,\n",
              "         -68.41932516,   5.        ],\n",
              "        ...,\n",
              "        [ 44.05473045, -78.68387575,  -7.1       , ...,  64.81830788,\n",
              "         -21.60610253,   5.        ],\n",
              "        [ 44.05474394, -78.68388222,   3.6       , ...,   3.60101671,\n",
              "         -54.01525661,   5.        ],\n",
              "        [ 44.05475761, -78.68388852,  -6.2       , ...,   3.60101699,\n",
              "         -57.61627361,   5.        ]]),\n",
              " array([[ 4.40537129e+01, -7.86816828e+01,  1.36200000e+02, ...,\n",
              "         -2.88081368e+01,  0.00000000e+00,  0.00000000e+00],\n",
              "        [ 4.40536953e+01, -7.86816776e+01,  1.26100000e+02, ...,\n",
              "         -2.88081368e+01, -7.20203456e+00,  0.00000000e+00],\n",
              "        [ 4.40536790e+01, -7.86816729e+01, -1.85300000e+02, ...,\n",
              "          3.60101728e+00,  7.20203456e+00,  0.00000000e+00],\n",
              "        ...,\n",
              "        [ 4.40534037e+01, -7.86815749e+01, -2.36000000e+01, ...,\n",
              "         -7.56213591e+01,  5.69023655e-07,  0.00000000e+00],\n",
              "        [ 4.40533938e+01, -7.86815697e+01,  4.14000000e+01, ...,\n",
              "         -3.60101728e+00,  4.32122056e+01,  0.00000000e+00],\n",
              "        [ 4.40533835e+01, -7.86815640e+01,  1.44000000e+01, ...,\n",
              "         -3.24091541e+01,  3.24091535e+01,  0.00000000e+00]]),\n",
              " array([[  44.05348534,  -78.6801039 ,   -1.2       , ...,  -10.80305155,\n",
              "          -86.4244107 ,    1.        ],\n",
              "        [  44.05348938,  -78.68008996,  172.8       , ...,   25.20711953,\n",
              "           28.80813709,    1.        ],\n",
              "        [  44.05349433,  -78.68007324, -223.        , ...,    0.        ,\n",
              "          -46.81322263,    1.        ],\n",
              "        ...,\n",
              "        [  44.05359173,  -78.679777  ,   43.7       , ...,   10.80305127,\n",
              "            7.20203513,    1.        ],\n",
              "        [  44.05359667,  -78.67976288,   10.5       , ...,    7.20203399,\n",
              "            7.20203456,    1.        ],\n",
              "        [  44.05360153,  -78.67974885, -142.1       , ...,  -18.00508554,\n",
              "          -61.21729117,    1.        ]]),\n",
              " array([[ 4.40535297e+01, -7.86792178e+01, -8.70000000e+00, ...,\n",
              "          1.80050855e+01, -1.08030521e+01,  2.00000000e+00],\n",
              "        [ 4.40535220e+01, -7.86792127e+01,  2.96000000e+02, ...,\n",
              "          3.60101708e+01, -7.20203399e+00,  2.00000000e+00],\n",
              "        [ 4.40535138e+01, -7.86792073e+01,  2.50300000e+02, ...,\n",
              "          4.32122053e+01, -1.80050850e+01,  2.00000000e+00],\n",
              "        ...,\n",
              "        [ 4.40533212e+01, -7.86791382e+01, -1.46000000e+01, ...,\n",
              "          1.44040685e+01,  2.88081360e+01,  2.00000000e+00],\n",
              "        [ 4.40533110e+01, -7.86791343e+01, -3.60000000e+00, ...,\n",
              "         -7.20203456e+00,  1.44040691e+01,  2.00000000e+00],\n",
              "        [ 4.40533010e+01, -7.86791303e+01,  9.70000000e+00, ...,\n",
              "         -3.24091541e+01,  5.69023655e-07,  2.00000000e+00]]),\n",
              " array([[ 44.05259717, -78.67981738,  -6.4       , ...,  18.00508554,\n",
              "          50.41423962,   3.        ],\n",
              "        [ 44.05259393, -78.67983285,  -8.4       , ...,  10.80305098,\n",
              "         -25.20711953,   3.        ],\n",
              "        [ 44.05259087, -78.67984661,  -8.4       , ...,  14.40406854,\n",
              "         -25.20712009,   3.        ],\n",
              "        ...,\n",
              "        [ 44.05249249, -78.68013727, -20.6       , ...,  -3.60101699,\n",
              "         -68.41932573,   3.        ],\n",
              "        [ 44.05248592, -78.68015211, -11.3       , ...,  -3.60101728,\n",
              "         -72.02034158,   3.        ],\n",
              "        [ 44.05248007, -78.68016515, -11.8       , ...,  79.22237642,\n",
              "         108.0305138 ,   3.        ]]),\n",
              " array([[ 44.05352383, -78.68261688,  -6.        , ..., -43.21220563,\n",
              "         -10.80305098,   4.        ],\n",
              "        [ 44.05354011, -78.68262488,  -5.2       , ...,  28.8081368 ,\n",
              "          39.61118864,   4.        ],\n",
              "        [ 44.05355737, -78.68263361,   0.6       , ..., -21.60610225,\n",
              "          25.20711953,   4.        ],\n",
              "        ...,\n",
              "        [ 44.05386233, -78.68284755,  -5.1       , ...,  61.21729117,\n",
              "          90.02542712,   4.        ],\n",
              "        [ 44.05387699, -78.68286041, -12.8       , ...,  -7.20203399,\n",
              "          25.20712009,   4.        ],\n",
              "        [ 44.05389255, -78.68287417, -11.2       , ..., -82.82339342,\n",
              "         -32.40915351,   4.        ]]),\n",
              " array([[ 44.0545013 , -78.68368599,   1.9       , ...,  54.01525661,\n",
              "         -21.60610253,   5.        ],\n",
              "        [ 44.05451245, -78.68369876,  -0.4       , ...,  25.20712009,\n",
              "         -54.01525718,   5.        ],\n",
              "        [ 44.05452378, -78.68371117,  -1.7       , ...,   0.        ,\n",
              "         -82.8233937 ,   5.        ],\n",
              "        ...,\n",
              "        [ 44.05477595, -78.68388285,   3.4       , ...,  54.0152569 ,\n",
              "         -32.40915351,   5.        ],\n",
              "        [ 44.05479043, -78.68388825,   5.5       , ..., -14.40406826,\n",
              "         -64.81830703,   5.        ],\n",
              "        [ 44.05480419, -78.68389302,  10.7       , ...,  57.61627389,\n",
              "         -43.21220506,   5.        ]]),\n",
              " array([[  44.05372276,  -78.68168006,   74.1       , ...,   -7.20203427,\n",
              "           -3.60101699,    0.        ],\n",
              "        [  44.05370522,  -78.68167538,   22.9       , ..., -126.03559848,\n",
              "          -36.01017165,    0.        ],\n",
              "        [  44.05369065,  -78.68167151,   33.1       , ...,   68.41932516,\n",
              "           14.40406854,    0.        ],\n",
              "        ...,\n",
              "        [  44.05341231,  -78.68157789,  -84.        , ...,  -54.0152569 ,\n",
              "           21.60610253,    0.        ],\n",
              "        [  44.05340215,  -78.68157241,   16.4       , ...,  -25.20711981,\n",
              "           36.01017108,    0.        ],\n",
              "        [  44.053391  ,  -78.68156611,   18.        , ..., -100.82847867,\n",
              "          -10.80305098,    0.        ]]),\n",
              " array([[  44.05347553,  -78.68013115,  -67.1       , ...,    7.20203399,\n",
              "           18.00508554,    1.        ],\n",
              "        [  44.05348165,  -78.6801129 ,  121.        , ...,  -21.60610282,\n",
              "          -72.02034215,    1.        ],\n",
              "        [  44.05348678,  -78.68009761,  137.        , ...,   14.40406854,\n",
              "           39.61118864,    1.        ],\n",
              "        ...,\n",
              "        [  44.05360225,  -78.67976783,   54.2       , ...,  -14.40406854,\n",
              "          -43.21220506,    1.        ],\n",
              "        [  44.05360773,  -78.67975335, -134.        , ...,    7.20203399,\n",
              "           32.40915351,    1.        ],\n",
              "        [  44.0536134 ,  -78.67973815,  -62.1       , ...,  -21.60610253,\n",
              "          -36.01017165,    1.        ]]),\n",
              " array([[  44.05360387,  -78.67920845,  174.1       , ...,   18.00508554,\n",
              "          -64.81830816,    2.        ],\n",
              "        [  44.05359748,  -78.67919973,  -57.1       , ...,   50.41423934,\n",
              "          -18.00508497,    2.        ],\n",
              "        [  44.05359047,  -78.67919064, -140.        , ...,   32.40915408,\n",
              "          -36.01017108,    2.        ],\n",
              "        ...,\n",
              "        [  44.05347436,  -78.67914118,  510.9       , ...,  -10.80305155,\n",
              "           54.01525661,    2.        ],\n",
              "        [  44.05346951,  -78.67914253, -355.3       , ...,  -21.6061031 ,\n",
              "           36.01017108,    2.        ],\n",
              "        [  44.05346474,  -78.67914415, -578.8       , ...,  -32.4091538 ,\n",
              "           28.80813652,    2.        ]]),\n",
              " array([[ 4.40526170e+01, -7.86797554e+01,  5.80000000e+00, ...,\n",
              "         -3.60101728e+00, -4.32122051e+01,  3.00000000e+00],\n",
              "        [ 4.40526125e+01, -7.86797694e+01,  5.30000000e+00, ...,\n",
              "          2.16061028e+01,  3.60101711e+01,  3.00000000e+00],\n",
              "        [ 4.40526075e+01, -7.86797843e+01,  2.40000000e+00, ...,\n",
              "          1.80050853e+01,  3.60101711e+01,  3.00000000e+00],\n",
              "        ...,\n",
              "        [ 4.40525000e+01, -7.86800896e+01, -1.10000000e+00, ...,\n",
              "          2.16061031e+01, -5.69023797e-07,  3.00000000e+00],\n",
              "        [ 4.40524937e+01, -7.86801045e+01, -2.20000000e+00, ...,\n",
              "          2.52071198e+01,  7.20203456e+00,  3.00000000e+00],\n",
              "        [ 4.40524866e+01, -7.86801205e+01, -2.80000000e+00, ...,\n",
              "          2.16061022e+01, -3.60101642e+00,  3.00000000e+00]]),\n",
              " array([[ 44.05346816, -78.68258936,  -9.3       , ..., -54.01525633,\n",
              "           3.60101699,   4.        ],\n",
              "        [ 44.05348246, -78.68259628,  -7.4       , ...,  57.61627332,\n",
              "          54.01525661,   4.        ],\n",
              "        [ 44.05349766, -78.68260366, -10.2       , ..., -18.00508582,\n",
              "          21.60610253,   4.        ],\n",
              "        ...,\n",
              "        [ 44.05377222, -78.68277201, -32.9       , ...,  18.00508554,\n",
              "          54.01525661,   4.        ],\n",
              "        [ 44.05378616, -78.68278208, -23.2       , ..., -75.62135943,\n",
              "         -10.80305098,   4.        ],\n",
              "        [ 44.05379848, -78.68279126, -25.6       , ..., -14.40406854,\n",
              "          36.01017108,   4.        ]]),\n",
              " array([[  44.05446955,  -78.68364219,    7.        , ...,  -50.41423962,\n",
              "         -115.23254779,    5.        ],\n",
              "        [  44.05447702,  -78.68365227,    5.4       , ...,   28.80813709,\n",
              "           -7.20203399,    5.        ],\n",
              "        [  44.05448556,  -78.68366351,    6.4       , ...,   25.20711953,\n",
              "          -10.80305155,    5.        ],\n",
              "        ...,\n",
              "        [  44.05467793,  -78.68384355,   -6.5       , ...,   68.41932516,\n",
              "          -10.80305098,    5.        ],\n",
              "        [  44.05469052,  -78.68385156,   -9.6       , ...,   36.01017136,\n",
              "          -32.40915351,    5.        ],\n",
              "        [  44.05470194,  -78.68385848,   -5.8       , ...,    0.        ,\n",
              "          -54.01525718,    5.        ]]),\n",
              " array([[  44.05371098,  -78.68168095,   97.7       , ...,  -90.02542797,\n",
              "          -46.81322206,    0.        ],\n",
              "        [  44.05369551,  -78.68167673,  111.1       , ...,  -10.80305127,\n",
              "          -21.60610253,    0.        ],\n",
              "        [  44.05367932,  -78.6816725 , -206.6       , ...,  -14.40406854,\n",
              "          -14.40406854,    0.        ],\n",
              "        ...,\n",
              "        [  44.05343183,  -78.68159426,  -41.8       , ...,  -18.00508582,\n",
              "           39.61118864,    0.        ],\n",
              "        [  44.05342238,  -78.68158913,  -39.5       , ...,  -39.61118807,\n",
              "           28.80813595,    0.        ],\n",
              "        [  44.05341321,  -78.68158374,  -48.7       , ...,  -64.8183076 ,\n",
              "           14.40406798,    0.        ]]),\n",
              " array([[  44.05352437,  -78.68007674,  -43.4       , ...,   18.00508554,\n",
              "           36.01017108,    1.        ],\n",
              "        [  44.05352976,  -78.68005786,   11.8       , ...,    7.20203427,\n",
              "          -10.80305212,    1.        ],\n",
              "        [  44.05353525,  -78.68003906,   56.3       , ...,  -10.80305127,\n",
              "          -54.01525718,    1.        ],\n",
              "        ...,\n",
              "        [  44.05363777,  -78.67969687,  118.3       , ...,  -14.40406826,\n",
              "          -57.61627475,    1.        ],\n",
              "        [  44.05364236,  -78.6796823 ,  -74.8       , ...,  -25.20711981,\n",
              "          -86.42441013,    1.        ],\n",
              "        [  44.05364659,  -78.6796689 , -203.2       , ...,   -7.20203427,\n",
              "          -14.40406798,    1.        ]]),\n",
              " array([[ 4.40535277e+01, -7.86791785e+01,  5.10000000e+00, ...,\n",
              "         -7.20203427e+00, -5.76162736e+01,  2.00000000e+00],\n",
              "        [ 4.40535194e+01, -7.86791733e+01, -3.01000000e+01, ...,\n",
              "          2.84511827e-07, -5.40152566e+01,  2.00000000e+00],\n",
              "        [ 4.40535114e+01, -7.86791686e+01, -3.48000000e+01, ...,\n",
              "          1.08030516e+01, -4.68132221e+01,  2.00000000e+00],\n",
              "        ...,\n",
              "        [ 4.40533405e+01, -7.86791354e+01, -2.30000000e+00, ...,\n",
              "          1.80050858e+01,  1.44040691e+01,  2.00000000e+00],\n",
              "        [ 4.40533315e+01, -7.86791368e+01, -8.10000000e+01, ...,\n",
              "         -6.12172909e+01, -1.44040680e+01,  2.00000000e+00],\n",
              "        [ 4.40533235e+01, -7.86791379e+01, -6.14000000e+01, ...,\n",
              "         -1.80050858e+01, -1.44040691e+01,  2.00000000e+00]]),\n",
              " array([[ 4.40525891e+01, -7.86798703e+01, -3.00000000e-01, ...,\n",
              "          1.44040685e+01,  3.96111881e+01,  3.00000000e+00],\n",
              "        [ 4.40525845e+01, -7.86798858e+01,  2.00000000e-01, ...,\n",
              "         -1.80050855e+01, -5.76162736e+01,  3.00000000e+00],\n",
              "        [ 4.40525804e+01, -7.86798998e+01, -1.70000000e+00, ...,\n",
              "          1.08030513e+01,  1.44040685e+01,  3.00000000e+00],\n",
              "        ...,\n",
              "        [ 4.40524705e+01, -7.86801794e+01, -2.10000000e+00, ...,\n",
              "          2.52071198e+01, -1.80050850e+01,  3.00000000e+00],\n",
              "        [ 4.40524633e+01, -7.86801923e+01, -4.00000000e-01, ...,\n",
              "          3.60101699e+00, -5.40152572e+01,  3.00000000e+00],\n",
              "        [ 4.40524563e+01, -7.86802044e+01,  1.40000000e+00, ...,\n",
              "          4.32122051e+01, -5.69023797e-07,  3.00000000e+00]]),\n",
              " array([[ 44.05358687, -78.6826596 ,  -6.        , ..., -18.00508582,\n",
              "          21.6061031 ,   4.        ],\n",
              "        [ 44.05360288, -78.6826685 ,  -9.        , ...,  18.00508525,\n",
              "          43.21220563,   4.        ],\n",
              "        [ 44.0536197 , -78.68267812,  -6.4       , ..., -25.20711953,\n",
              "          21.60610253,   4.        ],\n",
              "        ...,\n",
              "        [ 44.05390856, -78.68290439,   3.5       , ...,  36.01017108,\n",
              "          75.62135972,   4.        ],\n",
              "        [ 44.05392133, -78.68291743,  -1.8       , ..., -25.20711924,\n",
              "          10.80305098,   4.        ],\n",
              "        [ 44.05393392, -78.68293056,   0.1       , ..., -57.61627361,\n",
              "         -21.60610253,   4.        ]]),\n",
              " array([[ 44.05455022, -78.68375083,  -0.        , ...,  46.81322263,\n",
              "         -28.80813709,   5.        ],\n",
              "        [ 44.05456137, -78.68376136,   0.4       , ...,  25.20711981,\n",
              "         -54.01525605,   5.        ],\n",
              "        [ 44.0545728 , -78.68377143,   1.7       , ...,  -7.20203456,\n",
              "         -75.62135915,   5.        ],\n",
              "        ...,\n",
              "        [ 44.05482901, -78.6839048 ,   3.        , ..., -46.81322263,\n",
              "         -64.81830816,   5.        ],\n",
              "        [ 44.05484295, -78.68390848,  11.        , ...,  18.00508582,\n",
              "         -46.81322263,   5.        ],\n",
              "        [ 44.05485698, -78.6839119 ,  -1.        , ...,  90.02542797,\n",
              "         -28.80813709,   5.        ]]),\n",
              " array([[ 4.40537235e+01, -7.86816518e+01,  3.00000000e-01, ...,\n",
              "         -7.20203399e+00, -5.69023726e-07,  0.00000000e+00],\n",
              "        [ 4.40537096e+01, -7.86816472e+01,  7.79000000e+01, ...,\n",
              "         -1.04429497e+02, -3.24091535e+01,  0.00000000e+00],\n",
              "        [ 4.40536966e+01, -7.86816428e+01,  7.25000000e+01, ...,\n",
              "         -7.20203427e+00,  0.00000000e+00,  0.00000000e+00],\n",
              "        ...,\n",
              "        [ 4.40534441e+01, -7.86815399e+01, -6.33000000e+01, ...,\n",
              "         -3.24091541e+01, -9.72274617e+01,  0.00000000e+00],\n",
              "        [ 4.40534331e+01, -7.86815337e+01, -3.96000000e+01, ...,\n",
              "         -1.80050853e+01, -1.22434582e+02,  0.00000000e+00],\n",
              "        [ 4.40534222e+01, -7.86815288e+01, -9.75000000e+01, ...,\n",
              "         -6.12172909e+01, -7.56213591e+01,  0.00000000e+00]]),\n",
              " array([[ 4.40534797e+01, -7.86801412e+01, -1.19500000e+02, ...,\n",
              "          2.84511898e-07,  3.60101716e+01,  1.00000000e+00],\n",
              "        [ 4.40534841e+01, -7.86801267e+01,  9.01000000e+01, ...,\n",
              "         -1.08030513e+01, -3.60101711e+01,  1.00000000e+00],\n",
              "        [ 4.40534885e+01, -7.86801122e+01,  5.11000000e+01, ...,\n",
              "         -7.20203427e+00, -3.24091547e+01,  1.00000000e+00],\n",
              "        ...,\n",
              "        [ 4.40535763e+01, -7.86798351e+01,  3.71000000e+01, ...,\n",
              "         -3.24091538e+01, -1.04429496e+02,  1.00000000e+00],\n",
              "        [ 4.40535804e+01, -7.86798231e+01, -1.55000000e+01, ...,\n",
              "          1.08030513e+01,  2.52071195e+01,  1.00000000e+00],\n",
              "        [ 4.40535851e+01, -7.86798096e+01,  1.08000000e+01, ...,\n",
              "          7.20203399e+00,  2.52071201e+01,  1.00000000e+00]]),\n",
              " array([[ 4.40535675e+01, -7.86792252e+01,  1.72000000e+01, ...,\n",
              "          1.80050855e+01, -3.60101711e+01,  2.00000000e+00],\n",
              "        [ 4.40535603e+01, -7.86792184e+01, -1.22800000e+02, ...,\n",
              "          5.40152569e+01,  5.69023797e-07,  2.00000000e+00],\n",
              "        [ 4.40535524e+01, -7.86792114e+01,  6.55000000e+01, ...,\n",
              "          2.88081368e+01, -1.80050855e+01,  2.00000000e+00],\n",
              "        ...,\n",
              "        [ 4.40533769e+01, -7.86791256e+01,  8.21000000e+01, ...,\n",
              "          1.44040683e+01, -4.32122056e+01,  2.00000000e+00],\n",
              "        [ 4.40533677e+01, -7.86791244e+01,  2.55000000e+01, ...,\n",
              "         -1.08030513e+01, -4.32122056e+01,  2.00000000e+00],\n",
              "        [ 4.40533585e+01, -7.86791234e+01, -1.86000000e+01, ...,\n",
              "         -3.60101708e+01, -5.40152566e+01,  2.00000000e+00]]),\n",
              " array([[ 44.05259906, -78.67985003,   2.8       , ...,  -3.60101728,\n",
              "         -32.40915408,   3.        ],\n",
              "        [ 44.05259681, -78.67985821,   0.6       , ...,  10.80305098,\n",
              "          14.40406854,   3.        ],\n",
              "        [ 44.05259438, -78.67986693,  -1.6       , ...,   3.60101699,\n",
              "          -7.20203456,   3.        ],\n",
              "        ...,\n",
              "        [ 44.05253835, -78.68003412,  -2.5       , ...,  32.40915408,\n",
              "          50.41423962,   3.        ],\n",
              "        [ 44.05253466, -78.68004293,  -2.7       , ...,  18.00508554,\n",
              "           7.20203456,   3.        ],\n",
              "        [ 44.05253062, -78.68005237,  -1.8       , ...,   0.        ,\n",
              "         -39.61118807,   3.        ]]),\n",
              " array([[ 4.40536038e+01, -7.86826564e+01, -8.30000000e+00, ...,\n",
              "         -2.84511970e-07,  3.96111886e+01,  4.00000000e+00],\n",
              "        [ 4.40536164e+01, -7.86826642e+01, -5.70000000e+00, ...,\n",
              "         -3.24091538e+01,  2.88081365e+01,  4.00000000e+00],\n",
              "        [ 4.40536288e+01, -7.86826722e+01, -8.00000000e+00, ...,\n",
              "         -6.48183079e+01,  7.20203342e+00,  4.00000000e+00],\n",
              "        ...,\n",
              "        [ 4.40538387e+01, -7.86828411e+01, -8.11000000e+01, ...,\n",
              "         -3.60101711e+01, -3.60101711e+01,  4.00000000e+00],\n",
              "        [ 4.40538501e+01, -7.86828480e+01, -4.97000000e+01, ...,\n",
              "         -6.12172906e+01, -5.04142402e+01,  4.00000000e+00],\n",
              "        [ 4.40538603e+01, -7.86828541e+01,  2.20000000e+00, ...,\n",
              "          7.20203422e+01,  3.60101716e+01,  4.00000000e+00]]),\n",
              " array([[ 44.05454501, -78.68375614,   7.1       , ...,  61.2172906 ,\n",
              "          10.80305098,   5.        ],\n",
              "        [ 44.05455589, -78.68376765,  11.3       , ...,  -7.20203456,\n",
              "         -68.41932573,   5.        ],\n",
              "        [ 44.05456578, -78.68377781,   9.2       , ...,  21.60610282,\n",
              "         -54.01525605,   5.        ],\n",
              "        ...,\n",
              "        [ 44.05482263, -78.68394167, -24.        , ..., -21.60610282,\n",
              "         -64.8183076 ,   5.        ],\n",
              "        [ 44.05483648, -78.68394662, -12.9       , ...,  18.00508554,\n",
              "         -50.41423962,   5.        ],\n",
              "        [ 44.05485051, -78.68395129,   3.7       , ...,  86.4244107 ,\n",
              "         -25.20712009,   5.        ]]),\n",
              " array([[  44.05373625,  -78.68167322, -177.7       , ...,  -57.61627361,\n",
              "          -14.40406911,    0.        ],\n",
              "        [  44.05371988,  -78.68166917,  -33.1       , ...,   61.2172906 ,\n",
              "           21.60610253,    0.        ],\n",
              "        [  44.05370252,  -78.68166486,    5.1       , ...,  -32.40915437,\n",
              "            3.60101756,    0.        ],\n",
              "        ...,\n",
              "        [  44.0534321 ,  -78.68156449,   23.3       , ...,  -72.02034244,\n",
              "            3.60101699,    0.        ],\n",
              "        [  44.05342247,  -78.68155856,   17.7       , ...,  -18.00508554,\n",
              "           25.20712009,    0.        ],\n",
              "        [  44.05341249,  -78.68155217, -140.1       , ...,  -50.41423962,\n",
              "           10.80305098,    0.        ]]),\n",
              " array([[ 44.05352041, -78.68007045,  83.9       , ...,  28.80813709,\n",
              "          82.8233937 ,   1.        ],\n",
              "        [ 44.053525  , -78.68005642, 117.5       , ...,  10.80305127,\n",
              "          14.40406798,   1.        ],\n",
              "        [ 44.05352994, -78.68004149,  21.6       , ..., -25.20711981,\n",
              "         -86.42441013,   1.        ],\n",
              "        ...,\n",
              "        [ 44.05362167, -78.6797627 , -87.5       , ..., -14.40406854,\n",
              "         -18.00508611,   1.        ],\n",
              "        [ 44.05362599, -78.67974894, -47.6       , ..., -25.20712009,\n",
              "         -46.8132232 ,   1.        ],\n",
              "        [ 44.05362995, -78.67973608, -12.6       , ...,  -7.20203399,\n",
              "          21.6061031 ,   1.        ]]),\n",
              " array([[ 44.05369614, -78.67934703, -27.1       , ...,  -7.20203427,\n",
              "          32.40915465,   2.        ],\n",
              "        [ 44.05369956, -78.67934461,  31.8       , ..., -21.60610282,\n",
              "          18.00508554,   2.        ],\n",
              "        [ 44.05370288, -78.67934209, -21.1       , ..., -25.20711981,\n",
              "          10.80305041,   2.        ],\n",
              "        ...,\n",
              "        [ 44.0537635 , -78.67929532,  -5.5       , ...,   3.60101728,\n",
              "         -14.40406911,   2.        ],\n",
              "        [ 44.05376682, -78.67929371, -12.        , ...,  -7.20203427,\n",
              "         -18.00508497,   2.        ],\n",
              "        [ 44.05376997, -78.67929227,   5.2       , ...,   7.20203427,\n",
              "          -7.20203342,   2.        ]]),\n",
              " array([[ 4.40528301e+01, -7.86791741e+01, -2.20000000e+00, ...,\n",
              "         -3.60101708e+01,  3.96111886e+01,  3.00000000e+00],\n",
              "        [ 4.40528217e+01, -7.86791809e+01,  6.00000000e+00, ...,\n",
              "         -3.60101711e+01,  3.24091547e+01,  3.00000000e+00],\n",
              "        [ 4.40528137e+01, -7.86791878e+01,  3.30000000e+00, ...,\n",
              "         -6.84193252e+01, -5.69023584e-07,  3.00000000e+00],\n",
              "        ...,\n",
              "        [ 4.40527218e+01, -7.86793399e+01, -7.00000000e-01, ...,\n",
              "         -4.68132223e+01,  1.44040680e+01,  3.00000000e+00],\n",
              "        [ 4.40527203e+01, -7.86793487e+01,  5.90000000e+00, ...,\n",
              "         -5.04142396e+01,  5.69023797e-07,  3.00000000e+00],\n",
              "        [ 4.40527191e+01, -7.86793572e+01,  9.00000000e-01, ...,\n",
              "         -3.96111881e+01,  3.96111886e+01,  3.00000000e+00]]),\n",
              " array([[ 4.40528983e+01, -7.86823570e+01, -4.50000000e+00, ...,\n",
              "          4.32122053e+01,  3.24091547e+01,  4.00000000e+00],\n",
              "        [ 4.40529126e+01, -7.86823620e+01, -4.20000000e+00, ...,\n",
              "          1.08030516e+01,  2.16061025e+01,  4.00000000e+00],\n",
              "        [ 4.40529260e+01, -7.86823669e+01, -1.10000000e+00, ...,\n",
              "          4.32122053e+01,  2.88081365e+01,  4.00000000e+00],\n",
              "        ...,\n",
              "        [ 4.40532173e+01, -7.86824725e+01, -7.20000000e+00, ...,\n",
              "          2.84511685e-07,  3.60101699e+00,  4.00000000e+00],\n",
              "        [ 4.40532318e+01, -7.86824774e+01, -1.90000000e+00, ...,\n",
              "          3.24091535e+01,  1.44040685e+01,  4.00000000e+00],\n",
              "        [ 4.40532481e+01, -7.86824829e+01,  9.80000000e+00, ...,\n",
              "         -7.92223767e+01, -1.80050850e+01,  4.00000000e+00]]),\n",
              " array([[ 44.05412538, -78.68312284,   1.1       , ..., -50.41423934,\n",
              "          -7.20203399,   5.        ],\n",
              "        [ 44.05413366, -78.68313516,  26.2       , ..., -57.61627389,\n",
              "         -10.80305212,   5.        ],\n",
              "        [ 44.05414166, -78.68314757,  44.9       , ...,   7.20203427,\n",
              "          75.62135858,   5.        ],\n",
              "        ...,\n",
              "        [ 44.05429616, -78.68340531,  -4.4       , ..., -25.20711981,\n",
              "         -28.80813709,   5.        ],\n",
              "        [ 44.05430327, -78.68341745,  -1.9       , ...,   3.60101699,\n",
              "          32.40915351,   5.        ],\n",
              "        [ 44.05431064, -78.6834304 ,  -2.6       , ..., -10.80305127,\n",
              "           0.        ,   5.        ]]),\n",
              " array([[ 4.40537425e+01, -7.86816560e+01, -1.88400000e+02, ...,\n",
              "          1.08030513e+01, -3.60101642e+00,  0.00000000e+00],\n",
              "        [ 4.40537241e+01, -7.86816516e+01, -2.19600000e+02, ...,\n",
              "         -3.60101714e+01, -7.20203399e+00,  0.00000000e+00],\n",
              "        [ 4.40537059e+01, -7.86816474e+01, -7.88000000e+01, ...,\n",
              "         -9.00254274e+01, -1.08030521e+01,  0.00000000e+00],\n",
              "        ...,\n",
              "        [ 4.40534240e+01, -7.86815458e+01,  1.00000000e-01, ...,\n",
              "         -2.52071195e+01,  2.52071195e+01,  0.00000000e+00],\n",
              "        [ 4.40534132e+01, -7.86815395e+01, -1.18100000e+02, ...,\n",
              "         -5.04142393e+01,  7.20203456e+00,  0.00000000e+00],\n",
              "        [ 4.40534034e+01, -7.86815336e+01,  1.20800000e+02, ...,\n",
              "         -2.16061028e+01,  2.88081371e+01,  0.00000000e+00]]),\n",
              " array([[  44.05349271,  -78.68007594, -236.7       , ...,   18.00508525,\n",
              "           90.02542769,    1.        ],\n",
              "        [  44.05349685,  -78.68006065, -106.4       , ...,   -7.20203427,\n",
              "           21.6061031 ,    1.        ],\n",
              "        [  44.05350089,  -78.68004527,   86.4       , ...,  -10.80305098,\n",
              "          -14.40406854,    1.        ],\n",
              "        ...,\n",
              "        [  44.05359254,  -78.67972772,  -44.9       , ...,   14.40406854,\n",
              "           32.40915408,    1.        ],\n",
              "        [  44.05359793,  -78.67971054,  -47.7       , ...,  -32.4091538 ,\n",
              "         -118.83356478,    1.        ],\n",
              "        [  44.05360279,  -78.67969534,    6.3       , ...,  -14.40406826,\n",
              "          -43.21220563,    1.        ]]),\n",
              " array([[  44.05361043,  -78.6791392 ,   24.6       , ...,    3.60101728,\n",
              "          -50.41423905,    2.        ],\n",
              "        [  44.05360468,  -78.67913345,   53.4       , ...,    3.60101728,\n",
              "          -57.61627361,    2.        ],\n",
              "        [  44.05359874,  -78.67912778,   -0.5       , ..., -122.43458177,\n",
              "         -223.26306101,    2.        ],\n",
              "        ...,\n",
              "        [  44.05358804,  -78.67913246,   67.6       , ...,    0.        ,\n",
              "            0.        ,    2.        ],\n",
              "        [  44.05358804,  -78.67913246,  -47.1       , ...,    0.        ,\n",
              "            0.        ,    2.        ],\n",
              "        [  44.05358804,  -78.67913246,  -43.1       , ...,    0.        ,\n",
              "            0.        ,    2.        ]]),\n",
              " array([[  44.05297039,  -78.67912023, -507.        , ...,   -7.20203427,\n",
              "         -104.42949623,    3.        ],\n",
              "        [  44.05296166,  -78.67912328,  -53.        , ...,  -21.60610253,\n",
              "          -54.01525718,    3.        ],\n",
              "        [  44.05295348,  -78.67912607,    4.4       , ...,   57.61627389,\n",
              "           -7.20203399,    3.        ],\n",
              "        ...,\n",
              "        [  44.0527907 ,  -78.67920935,  -11.8       , ...,  -72.02034187,\n",
              "            3.60101756,    3.        ],\n",
              "        [  44.05278521,  -78.67921519,   -7.8       , ...,  -25.20711953,\n",
              "           43.21220563,    3.        ],\n",
              "        [  44.05277928,  -78.67922194,   -7.9       , ...,  -21.60610282,\n",
              "           43.21220449,    3.        ]]),\n",
              " array([[ 44.05274349, -78.68226596,   4.6       , ..., -50.41423934,\n",
              "         -10.80305155,   4.        ],\n",
              "        [ 44.05275572, -78.68227127,   6.3       , ..., -25.20711953,\n",
              "           0.        ,   4.        ],\n",
              "        [ 44.05276795, -78.68227675,   7.        , ...,  68.41932516,\n",
              "          36.01017165,   4.        ],\n",
              "        ...,\n",
              "        [ 44.05304035, -78.68239592,   7.7       , ..., -39.61118807,\n",
              "         -14.40406854,   4.        ],\n",
              "        [ 44.05305492, -78.68240212,  25.3       , ..., -36.01017136,\n",
              "         -10.80305155,   4.        ],\n",
              "        [ 44.05306859, -78.68240806,   0.4       , ...,  36.01017108,\n",
              "          21.6061031 ,   4.        ]]),\n",
              " array([[ 44.05400236, -78.68298992,  13.5       , ..., -14.40406854,\n",
              "          25.20712009,   5.        ],\n",
              "        [ 44.05401333, -78.68300485,  23.8       , ...,  72.02034215,\n",
              "         126.03559877,   5.        ],\n",
              "        [ 44.05402556, -78.68302166,  41.        , ..., -57.61627361,\n",
              "         -68.41932573,   5.        ],\n",
              "        ...,\n",
              "        [ 44.05424418, -78.68332905,  20.5       , ...,  21.60610282,\n",
              "          82.8233937 ,   5.        ],\n",
              "        [ 44.05425363, -78.68334524,  30.8       , ...,  -7.20203456,\n",
              "           3.60101642,   5.        ],\n",
              "        [ 44.05426307, -78.68336152,  45.1       , ..., -21.60610282,\n",
              "         -50.41423962,   5.        ]]),\n",
              " array([[  44.05372635,  -78.68168158, -118.8       , ..., -133.23763332,\n",
              "          -36.01017108,    0.        ],\n",
              "        [  44.0537099 ,  -78.68167673,   39.8       , ...,  -46.81322206,\n",
              "          -14.40406854,    0.        ],\n",
              "        [  44.05369344,  -78.68167187,   86.5       , ...,   72.02034244,\n",
              "           18.00508497,    0.        ],\n",
              "        ...,\n",
              "        [  44.0534088 ,  -78.68155361, -128.9       , ...,  -21.60610253,\n",
              "           25.20712009,    0.        ],\n",
              "        [  44.05339774,  -78.6815466 ,   64.9       , ...,  -54.01525661,\n",
              "           14.40406854,    0.        ],\n",
              "        [  44.05338713,  -78.6815394 ,  142.5       , ...,  -82.8233937 ,\n",
              "           -3.60101699,    0.        ]]),\n",
              " array([[  44.05350512,  -78.68010381,  100.4       , ...,    7.20203456,\n",
              "           10.80305155,    1.        ],\n",
              "        [  44.05351025,  -78.68008925, -138.        , ...,   28.80813652,\n",
              "           86.4244107 ,    1.        ],\n",
              "        [  44.05351573,  -78.68007369, -105.9       , ...,    0.        ,\n",
              "           10.80305098,    1.        ],\n",
              "        ...,\n",
              "        [  44.05362437,  -78.67975434, -169.9       , ...,  -18.00508554,\n",
              "           39.61118864,    1.        ],\n",
              "        [  44.05362923,  -78.67973779,  -91.7       , ...,  -21.60610253,\n",
              "           36.01017051,    1.        ],\n",
              "        [  44.0536339 ,  -78.67972115,  126.1       , ...,  -54.01525661,\n",
              "          -50.41423962,    1.        ]]),\n",
              " array([[  44.05357941,  -78.67917392,   14.3       , ...,   14.40406854,\n",
              "          -46.81322206,    2.        ],\n",
              "        [  44.05357527,  -78.67917032,  -25.7       , ...,   32.40915408,\n",
              "          -25.20711953,    2.        ],\n",
              "        [  44.05357077,  -78.67916672,  -44.8       , ...,   18.00508525,\n",
              "          -36.01017051,    2.        ],\n",
              "        ...,\n",
              "        [  44.05346052,  -78.67914046, -178.9       , ...,    3.60101728,\n",
              "           32.40915351,    2.        ],\n",
              "        [  44.05345422,  -78.67914118,  -25.3       , ...,  -10.80305127,\n",
              "           50.41423962,    2.        ],\n",
              "        [  44.05344792,  -78.67914226,  155.9       , ...,  -36.01017136,\n",
              "           61.2172906 ,    2.        ]]),\n",
              " array([[ 44.05266228, -78.67958374,   2.        , ..., -14.40406798,\n",
              "          21.6061031 ,   3.        ],\n",
              "        [ 44.05265868, -78.67959516,  -0.6       , ..., -21.60610282,\n",
              "          -7.20203399,   3.        ],\n",
              "        [ 44.05265535, -78.67960595,  -2.        , ...,  -7.20203456,\n",
              "          54.01525661,   3.        ],\n",
              "        ...,\n",
              "        [ 44.05259915, -78.67985866,  -4.7       , ...,   0.        ,\n",
              "         -18.00508554,   3.        ],\n",
              "        [ 44.05259672, -78.67987188, -10.        , ...,  28.8081368 ,\n",
              "          75.62135858,   3.        ],\n",
              "        [ 44.05259402, -78.67988591, -18.3       , ...,  28.8081368 ,\n",
              "          10.80305155,   3.        ]]),\n",
              " array([[ 4.40532665e+01, -7.86824804e+01,  1.87000000e+01, ...,\n",
              "         -1.08030513e+02, -3.60101716e+01,  4.00000000e+00],\n",
              "        [ 4.40532797e+01, -7.86824850e+01, -5.50000000e+00, ...,\n",
              "          3.24091541e+01,  1.44040685e+01,  4.00000000e+00],\n",
              "        [ 4.40532946e+01, -7.86824903e+01,  5.70000000e+00, ...,\n",
              "          3.24091535e+01,  2.16061031e+01,  4.00000000e+00],\n",
              "        ...,\n",
              "        [ 4.40535933e+01, -7.86826174e+01, -1.28000000e+01, ...,\n",
              "          2.88081368e+01,  5.76162730e+01,  4.00000000e+00],\n",
              "        [ 4.40536096e+01, -7.86826261e+01, -1.16000000e+01, ...,\n",
              "         -8.28233934e+01,  5.69023797e-07,  4.00000000e+00],\n",
              "        [ 4.40536240e+01, -7.86826341e+01, -1.09000000e+01, ...,\n",
              "         -1.80050858e+01,  4.68132226e+01,  4.00000000e+00]]),\n",
              " array([[ 44.05432036, -78.68343049,  -9.5       , ..., -64.8183076 ,\n",
              "         -14.40406798,   5.        ],\n",
              "        [ 44.05433133, -78.68344749,  16.5       , ..., -64.81830816,\n",
              "         -18.00508554,   5.        ],\n",
              "        [ 44.0543414 , -78.68346368,  13.3       , ..., -10.80305155,\n",
              "          61.2172906 ,   5.        ],\n",
              "        ...,\n",
              "        [ 44.05457325, -78.68378654,   3.6       , ...,  68.41932487,\n",
              "          -7.20203399,   5.        ],\n",
              "        [ 44.05458781, -78.68380093,   5.3       , ...,  36.01017108,\n",
              "         -43.21220506,   5.        ],\n",
              "        [ 44.05460256, -78.68381495,  38.        , ...,   3.60101728,\n",
              "         -72.02034215,   5.        ]]),\n",
              " array([[  44.05372896,  -78.68166791, -106.7       , ...,    3.60101699,\n",
              "           10.80305041,    0.        ],\n",
              "        [  44.05371251,  -78.68166342,  -61.        , ...,   79.22237614,\n",
              "           43.21220506,    0.        ],\n",
              "        [  44.05369407,  -78.6816582 ,  140.3       , ...,  -79.22237671,\n",
              "           -7.20203342,    0.        ],\n",
              "        ...,\n",
              "        [  44.0533678 ,  -78.68151224,   20.5       , ...,   36.01017079,\n",
              "           97.22746225,    0.        ],\n",
              "        [  44.05335269,  -78.68150172,  -31.1       , ...,  -28.8081368 ,\n",
              "           46.81322263,    0.        ],\n",
              "        [  44.05333776,  -78.68149084,  -94.1       , ...,  -28.80813652,\n",
              "           39.61118864,    0.        ]]),\n",
              " array([[ 4.40534844e+01, -7.86802053e+01,  1.20000000e+00, ...,\n",
              "         -2.84511898e-07,  3.96111886e+01,  1.00000000e+00],\n",
              "        [ 4.40534892e+01, -7.86801969e+01,  1.19300000e+02, ...,\n",
              "         -2.88081368e+01,  5.69023655e-07,  1.00000000e+00],\n",
              "        [ 4.40534936e+01, -7.86801889e+01,  3.99000000e+01, ...,\n",
              "          0.00000000e+00,  5.76162736e+01,  1.00000000e+00],\n",
              "        ...,\n",
              "        [ 4.40535707e+01, -7.86800005e+01, -4.74000000e+01, ...,\n",
              "         -1.08030513e+01, -7.20203342e+00,  1.00000000e+00],\n",
              "        [ 4.40535742e+01, -7.86799897e+01, -9.23000000e+01, ...,\n",
              "         -3.60101728e+00,  1.44040680e+01,  1.00000000e+00],\n",
              "        [ 4.40535774e+01, -7.86799794e+01, -1.56000000e+01, ...,\n",
              "         -7.20203399e+00,  1.44040680e+01,  1.00000000e+00]]),\n",
              " array([[  44.05355971,  -78.67929928, -212.9       , ...,  -21.60610253,\n",
              "            3.60101699,    2.        ],\n",
              "        [  44.05355845,  -78.67929478, -106.8       , ...,  -21.60610253,\n",
              "           10.80305098,    2.        ],\n",
              "        [  44.05355746,  -78.67929029,   51.3       , ...,  -10.80305127,\n",
              "           25.20712009,    2.        ],\n",
              "        ...,\n",
              "        [  44.05351169,  -78.67919883,  177.9       , ...,   43.21220535,\n",
              "          -28.80813652,    2.        ],\n",
              "        [  44.05350746,  -78.67919604, -306.5       , ...,   21.60610282,\n",
              "          -25.20712009,    2.        ],\n",
              "        [  44.05350296,  -78.67919325, -415.5       , ...,  -18.00508554,\n",
              "          -46.81322263,    2.        ]]),\n",
              " array([[ 44.05261839, -78.67981342,  -6.5       , ...,   7.20203399,\n",
              "         -14.40406798,   3.        ],\n",
              "        [ 44.05261569, -78.67982484,  -5.        , ...,  10.80305098,\n",
              "         -18.00508554,   3.        ],\n",
              "        [ 44.05261263, -78.67983699,  -5.        , ...,  14.40406883,\n",
              "           7.20203456,   3.        ],\n",
              "        ...,\n",
              "        [ 44.05252081, -78.68008376,   8.9       , ..., -18.00508554,\n",
              "         -90.02542826,   3.        ],\n",
              "        [ 44.05251497, -78.68009491,   2.3       , ...,  43.21220535,\n",
              "          32.40915408,   3.        ],\n",
              "        [ 44.05250813, -78.68010759,  -1.        , ...,  54.01525661,\n",
              "          61.21729117,   3.        ]]),\n",
              " array([[ 44.05349127, -78.68256139,  23.1       , ..., -46.81322234,\n",
              "          -7.20203456,   4.        ],\n",
              "        [ 44.05350521, -78.68256867,   0.6       , ..., -43.21220535,\n",
              "         -10.80305155,   4.        ],\n",
              "        [ 44.05351834, -78.6825756 ,  -3.6       , ..., -10.80305155,\n",
              "          10.80305098,   4.        ],\n",
              "        ...,\n",
              "        [ 44.05377753, -78.68273802,   0.6       , ..., -50.41423934,\n",
              "          -3.60101642,   4.        ],\n",
              "        [ 44.05378913, -78.68274683,  -6.2       , ...,   7.20203399,\n",
              "          46.81322263,   4.        ],\n",
              "        [ 44.05380127, -78.68275645,   1.4       , ..., -18.00508554,\n",
              "          21.60610253,   4.        ]]),\n",
              " array([[ 44.05444042, -78.68363743,  -3.5       , ...,  50.41423962,\n",
              "          43.21220506,   5.        ],\n",
              "        [ 44.05444896, -78.6836502 ,  -0.9       , ...,  10.80305127,\n",
              "         -10.80305155,   5.        ],\n",
              "        [ 44.0544575 , -78.68366297,  -2.5       , ...,  -7.20203427,\n",
              "         -43.21220506,   5.        ],\n",
              "        ...,\n",
              "        [ 44.05464052, -78.68385839,  -7.4       , ..., -25.20711981,\n",
              "         -72.02034215,   5.        ],\n",
              "        [ 44.05464942, -78.68386415,  -3.5       , ..., -25.20711981,\n",
              "         -68.41932459,   5.        ],\n",
              "        [ 44.05465886, -78.68386999,  -7.8       , ..., -10.80305127,\n",
              "         -54.01525661,   5.        ]]),\n",
              " array([[  44.05371493,  -78.68169795, -149.3       , ...,  -61.21729089,\n",
              "           10.80305155,    0.        ],\n",
              "        [  44.05369731,  -78.68169328,  210.3       , ...,  -25.20711981,\n",
              "           18.00508497,    0.        ],\n",
              "        [  44.05367914,  -78.68168833, -130.6       , ...,  -61.21729089,\n",
              "           10.80305098,    0.        ],\n",
              "        ...,\n",
              "        [  44.05339936,  -78.68158733,   52.7       , ...,   21.60610253,\n",
              "           68.41932459,    0.        ],\n",
              "        [  44.05338821,  -78.68158113,   82.3       , ...,  -36.01017108,\n",
              "           39.61118864,    0.        ],\n",
              "        [  44.0533767 ,  -78.68157429,   -4.5       , ...,  -93.62644497,\n",
              "           10.80305155,    0.        ]]),\n",
              " array([[  44.05345287,  -78.68017945,  204.1       , ...,   14.40406826,\n",
              "          -18.00508497,    1.        ],\n",
              "        [  44.0534571 ,  -78.6801674 ,  -36.7       , ...,   46.81322206,\n",
              "           82.8233937 ,    1.        ],\n",
              "        [  44.05346177,  -78.68015436, -243.9       , ...,   18.00508554,\n",
              "           18.00508497,    1.        ],\n",
              "        ...,\n",
              "        [  44.05356538,  -78.67987871,  -32.9       , ...,   28.80813709,\n",
              "           93.62644468,    1.        ],\n",
              "        [  44.05357086,  -78.67986388,  -12.2       , ...,    0.        ,\n",
              "           14.40406854,    1.        ],\n",
              "        [  44.05357644,  -78.67984895,    2.1       , ...,  -10.80305155,\n",
              "            3.60101699,    1.        ]]),\n",
              " array([[ 44.05356834, -78.67928183, -15.6       , ..., -10.80305098,\n",
              "         -10.80305155,   2.        ],\n",
              "        [ 44.05356475, -78.67927671,  -4.7       , ...,  14.40406826,\n",
              "          21.6061031 ,   2.        ],\n",
              "        [ 44.05356088, -78.67927113, -19.2       , ...,  10.80305127,\n",
              "          10.80305155,   2.        ],\n",
              "        ...,\n",
              "        [ 44.0534642 , -78.67916897, 369.8       , ...,  18.00508582,\n",
              "         -46.81322206,   2.        ],\n",
              "        [ 44.05345809, -78.67916546, 424.5       , ...,  54.01525633,\n",
              "         -46.81322206,   2.        ],\n",
              "        [ 44.05345134, -78.67916213, -90.3       , ...,  28.8081368 ,\n",
              "         -50.41424019,   2.        ]]),\n",
              " array([[ 4.40526112e+01, -7.86797533e+01,  4.67000000e+01, ...,\n",
              "         -2.16061025e+01, -3.24091541e+01,  3.00000000e+00],\n",
              "        [ 4.40526073e+01, -7.86797676e+01,  2.00000000e+01, ...,\n",
              "          2.84511827e-07,  3.96111881e+01,  3.00000000e+00],\n",
              "        [ 4.40526033e+01, -7.86797828e+01, -4.10000000e+00, ...,\n",
              "         -7.20203456e+00,  5.69023655e-07,  3.00000000e+00],\n",
              "        ...,\n",
              "        [ 4.40525205e+01, -7.86800946e+01, -7.50000000e+00, ...,\n",
              "          6.48183076e+01,  7.20203422e+01,  3.00000000e+00],\n",
              "        [ 4.40525142e+01, -7.86801117e+01, -7.10000000e+00, ...,\n",
              "         -3.60101728e+00, -1.22434581e+02,  3.00000000e+00],\n",
              "        [ 4.40525085e+01, -7.86801268e+01, -3.60000000e+00, ...,\n",
              "          1.80050858e+01, -4.68132221e+01,  3.00000000e+00]]),\n",
              " array([[ 44.05349271, -78.68258046,  -3.9       , ..., -21.60610282,\n",
              "          28.80813652,   4.        ],\n",
              "        [ 44.05350953, -78.68258864,  -7.8       , ...,  18.00508582,\n",
              "          46.81322206,   4.        ],\n",
              "        [ 44.05352725, -78.68259754,  -5.1       , ..., -25.20711981,\n",
              "          25.20712009,   4.        ],\n",
              "        ...,\n",
              "        [ 44.05384794, -78.68281599,  -2.7       , ...,  39.61118807,\n",
              "          93.62644468,   4.        ],\n",
              "        [ 44.05386287, -78.68282948,  -0.6       , ..., -25.20711981,\n",
              "          28.80813709,   4.        ],\n",
              "        [ 44.05387771, -78.68284315,  -1.5       , ..., -61.21729117,\n",
              "           0.        ,   4.        ]]),\n",
              " array([[  44.05445633,  -78.68365353,   -5.3       , ...,   14.40406854,\n",
              "          -18.00508554,    5.        ],\n",
              "        [  44.05446632,  -78.68366783,    1.7       , ...,  -39.61118807,\n",
              "         -104.42949567,    5.        ],\n",
              "        [  44.05447522,  -78.68368024,  -18.3       , ...,   -7.20203427,\n",
              "          -61.2172906 ,    5.        ],\n",
              "        ...,\n",
              "        [  44.05470041,  -78.68388789,  -10.1       , ...,   68.41932516,\n",
              "          -25.20712009,    5.        ],\n",
              "        [  44.05471426,  -78.68389544,  -11.3       , ...,    0.        ,\n",
              "          -61.21729117,    5.        ],\n",
              "        [  44.05472748,  -78.68390228,   -0.9       , ...,   61.2172906 ,\n",
              "          -25.20711953,    5.        ]]),\n",
              " array([[  44.05371143,  -78.68170281,  -91.5       , ...,  -21.60610282,\n",
              "            7.20203456,    0.        ],\n",
              "        [  44.05369524,  -78.68169777,  225.7       , ...,  -28.8081368 ,\n",
              "            3.60101756,    0.        ],\n",
              "        [  44.0536804 ,  -78.6816931 , -156.8       , ...,   10.80305155,\n",
              "           18.00508554,    0.        ],\n",
              "        ...,\n",
              "        [  44.05343983,  -78.68159552,   26.1       , ...,  -61.21729117,\n",
              "           25.20712009,    0.        ],\n",
              "        [  44.05343084,  -78.68158949,  -19.1       , ...,  -21.60610253,\n",
              "           57.61627304,    0.        ],\n",
              "        [  44.05342166,  -78.68158284,    7.5       , ...,  -36.01017079,\n",
              "           36.01017051,    0.        ]]),\n",
              " array([[  44.05349046,  -78.68009644,   72.4       , ...,   10.80305098,\n",
              "           14.40406854,    1.        ],\n",
              "        [  44.05349721,  -78.6800771 ,  -98.7       , ...,  -39.61118835,\n",
              "         -118.83356421,    1.        ],\n",
              "        [  44.05350287,  -78.68006092, -108.6       , ...,   32.40915437,\n",
              "           86.42441013,    1.        ],\n",
              "        ...,\n",
              "        [  44.05362095,  -78.67974876, -119.6       , ...,  -25.20711981,\n",
              "          -46.81322263,    1.        ],\n",
              "        [  44.05362545,  -78.67973734,    9.7       , ...,  -10.80305127,\n",
              "          -18.00508554,    1.        ],\n",
              "        [  44.05363013,  -78.67972538,   57.7       , ...,  -25.20711953,\n",
              "          -50.41423905,    1.        ]]),\n",
              " array([[  44.05356744,  -78.67919397, -100.6       , ...,   21.60610225,\n",
              "          -39.61118807,    2.        ],\n",
              "        [  44.05355908,  -78.67918678,    6.2       , ...,    3.60101699,\n",
              "          -54.01525605,    2.        ],\n",
              "        [  44.05355108,  -78.67918021, -108.7       , ...,   43.21220535,\n",
              "          -25.20711953,    2.        ],\n",
              "        ...,\n",
              "        [  44.05336393,  -78.67909639,   -5.2       , ...,  -14.40406854,\n",
              "          -54.01525605,    2.        ],\n",
              "        [  44.0533544 ,  -78.67909469, -237.5       , ...,    3.60101699,\n",
              "          -46.81322206,    2.        ],\n",
              "        [  44.05334423,  -78.67909316, -182.7       , ...,   -3.60101699,\n",
              "          -39.61118864,    2.        ]]),\n",
              " array([[ 44.05259096, -78.67982305,  -3.        , ..., -18.00508554,\n",
              "         -36.01017165,   3.        ],\n",
              "        [ 44.05258808, -78.67983447,  -6.2       , ...,  -7.20203427,\n",
              "          -3.60101756,   3.        ],\n",
              "        [ 44.05258512, -78.67984598,  -4.7       , ...,  14.40406854,\n",
              "          86.42441127,   3.        ],\n",
              "        ...,\n",
              "        [ 44.05250777, -78.68011236,  -9.1       , ...,  39.61118807,\n",
              "           0.        ,   3.        ],\n",
              "        [ 44.05250202, -78.68012567,  -3.9       , ...,  61.21729117,\n",
              "          25.20711953,   3.        ],\n",
              "        [ 44.05249554, -78.68013979,   6.6       , ...,  39.61118807,\n",
              "         -18.00508611,   3.        ]]),\n",
              " array([[ 44.05352572, -78.68259673,   9.3       , ...,  57.61627389,\n",
              "          72.02034215,   4.        ],\n",
              "        [ 44.0535437 , -78.68260591,  -4.2       , ..., -28.80813709,\n",
              "          36.01017051,   4.        ],\n",
              "        [ 44.05356151, -78.68261535,  -9.9       , ..., -68.41932516,\n",
              "          14.40406854,   4.        ],\n",
              "        ...,\n",
              "        [ 44.05388607, -78.68284477,  -9.3       , ...,   7.20203427,\n",
              "          79.22237671,   4.        ],\n",
              "        [ 44.05390136, -78.68285898,  -7.        , ..., -61.21729089,\n",
              "          10.80305155,   4.        ],\n",
              "        [ 44.05391566, -78.68287256,  -5.3       , ...,  10.80305127,\n",
              "          79.22237614,   4.        ]]),\n",
              " array([[ 4.40544913e+01, -7.86836795e+01,  5.20000000e+00, ...,\n",
              "          1.44040685e+01, -2.88081371e+01,  5.00000000e+00],\n",
              "        [ 4.40545005e+01, -7.86836925e+01, -1.30000000e+00, ...,\n",
              "          3.60101699e+00, -5.40152572e+01,  5.00000000e+00],\n",
              "        [ 4.40545098e+01, -7.86837051e+01, -1.10000000e+00, ...,\n",
              "         -1.08030513e+01, -7.92223761e+01,  5.00000000e+00],\n",
              "        ...,\n",
              "        [ 4.40547363e+01, -7.86838977e+01,  1.20000000e+00, ...,\n",
              "          3.60101711e+01, -4.32122056e+01,  5.00000000e+00],\n",
              "        [ 4.40547504e+01, -7.86839049e+01, -3.50000000e+00, ...,\n",
              "         -2.84511685e-07, -6.12172912e+01,  5.00000000e+00],\n",
              "        [ 4.40547639e+01, -7.86839114e+01, -4.40000000e+00, ...,\n",
              "          6.12172909e+01, -2.88081365e+01,  5.00000000e+00]]),\n",
              " array([[  44.05374227,  -78.68169606, -155.5       , ...,  -46.81322263,\n",
              "          -18.00508497,    0.        ],\n",
              "        [  44.05372824,  -78.68169256, -156.3       , ...,  -21.60610253,\n",
              "           -3.60101642,    0.        ],\n",
              "        [  44.05371412,  -78.68168905,  129.2       , ...,   75.62135943,\n",
              "           25.20711953,    0.        ],\n",
              "        ...,\n",
              "        [  44.05342751,  -78.68157349,   47.2       , ...,  -64.81830788,\n",
              "           18.00508497,    0.        ],\n",
              "        [  44.0534142 ,  -78.68156593,  -32.1       , ...,   32.40915408,\n",
              "           79.22237614,    0.        ],\n",
              "        [  44.05340017,  -78.68155757,  -68.6       , ...,  -36.01017108,\n",
              "           39.61118864,    0.        ]]),\n",
              " array([[  44.053516  ,  -78.68018772, -160.5       , ...,  -43.21220506,\n",
              "           18.00508554,    1.        ],\n",
              "        [  44.05351789,  -78.68017342, -112.3       , ...,  -28.8081368 ,\n",
              "           50.41423962,    1.        ],\n",
              "        [  44.05351987,  -78.68015732,  297.4       , ...,  -36.01017136,\n",
              "          -50.41423905,    1.        ],\n",
              "        ...,\n",
              "        [  44.05359074,  -78.67984877,  -30.6       , ...,   64.81830816,\n",
              "           10.80305212,    1.        ],\n",
              "        [  44.05359775,  -78.67983348,   57.7       , ...,   39.61118807,\n",
              "          -28.80813709,    1.        ],\n",
              "        [  44.05360495,  -78.67981837,   76.5       , ...,   21.60610253,\n",
              "          -68.41932573,    1.        ]]),\n",
              " array([[ 44.05365   , -78.67925009, -41.7       , ...,  39.61118807,\n",
              "         -28.80813652,   2.        ],\n",
              "        [ 44.05364479, -78.67923813,  78.7       , ...,  25.20711953,\n",
              "         -64.8183076 ,   2.        ],\n",
              "        [ 44.05363966, -78.67922707,  50.3       , ...,  50.41423962,\n",
              "          -7.20203456,   2.        ],\n",
              "        ...,\n",
              "        [ 44.05358075, -78.67913731, -77.3       , ..., -18.00508525,\n",
              "         -18.00508497,   2.        ],\n",
              "        [ 44.05358111, -78.67913767, -15.3       , ..., -10.80305127,\n",
              "         -10.80305098,   2.        ],\n",
              "        [ 44.05358147, -78.67913794,  57.3       , ..., -10.80305155,\n",
              "          -3.60101756,   2.        ]]),\n",
              " array([[ 4.40527565e+01, -7.86792722e+01,  9.00000000e-01, ...,\n",
              "         -3.60101699e+00,  1.44040685e+01,  3.00000000e+00],\n",
              "        [ 4.40527522e+01, -7.86792807e+01,  1.26000000e+01, ...,\n",
              "         -2.52071195e+01, -2.16061025e+01,  3.00000000e+00],\n",
              "        [ 4.40527482e+01, -7.86792887e+01,  1.84000000e+01, ...,\n",
              "         -1.08030516e+01,  2.16061031e+01,  3.00000000e+00],\n",
              "        ...,\n",
              "        [ 4.40526858e+01, -7.86794610e+01, -4.50000000e+00, ...,\n",
              "         -1.08030516e+01, -1.08030516e+01,  3.00000000e+00],\n",
              "        [ 4.40526832e+01, -7.86794699e+01,  3.59000000e+01, ...,\n",
              "          3.60101728e+00,  2.88081365e+01,  3.00000000e+00],\n",
              "        [ 4.40526805e+01, -7.86794793e+01,  3.12000000e+01, ...,\n",
              "          2.84511827e-07,  7.20203399e+00,  3.00000000e+00]]),\n",
              " array([[ 4.40529906e+01, -7.86823902e+01,  5.00000000e-01, ...,\n",
              "          2.16061025e+01,  3.60101756e+00,  4.00000000e+00],\n",
              "        [ 4.40530067e+01, -7.86823957e+01,  7.00000000e-01, ...,\n",
              "          1.80050858e+01, -5.69023655e-07,  4.00000000e+00],\n",
              "        [ 4.40530219e+01, -7.86824009e+01,  0.00000000e+00, ...,\n",
              "          5.40152569e+01,  1.80050855e+01,  4.00000000e+00],\n",
              "        ...,\n",
              "        [ 4.40533561e+01, -7.86825266e+01,  1.00000000e+00, ...,\n",
              "         -3.24091538e+01, -3.60101642e+00,  4.00000000e+00],\n",
              "        [ 4.40533728e+01, -7.86825337e+01, -3.30000000e+00, ...,\n",
              "          4.68132226e+01,  3.96111886e+01,  4.00000000e+00],\n",
              "        [ 4.40533905e+01, -7.86825413e+01, -7.00000000e-01, ...,\n",
              "          7.20203399e+00,  2.52071190e+01,  4.00000000e+00]]),\n",
              " array([[ 44.05417781, -78.68318741,  10.8       , ..., -18.00508554,\n",
              "          10.80305155,   5.        ],\n",
              "        [ 44.05419013, -78.68320575,  15.4       , ..., -50.41423934,\n",
              "         -36.01017108,   5.        ],\n",
              "        [ 44.05420165, -78.68322302,  27.6       , ...,   7.20203427,\n",
              "          50.41423962,   5.        ],\n",
              "        ...,\n",
              "        [ 44.05440166, -78.68354714,  -6.3       , ..., -43.21220535,\n",
              "         -90.02542712,   5.        ],\n",
              "        [ 44.05440948, -78.68355928,  -8.1       , ...,  -7.20203427,\n",
              "         -25.20711953,   5.        ],\n",
              "        [ 44.05441766, -78.68357178,  -9.7       , ..., -32.40915408,\n",
              "         -50.41424019,   5.        ]]),\n",
              " array([[  44.05372591,  -78.68169678, -147.4       , ..., -136.83865032,\n",
              "          -39.61118864,    0.        ],\n",
              "        [  44.05371035,  -78.6816922 ,   46.7       , ...,  -93.6264444 ,\n",
              "          -32.40915408,    0.        ],\n",
              "        [  44.05369497,  -78.68168779,  201.4       , ...,   18.00508554,\n",
              "            3.60101699,    0.        ],\n",
              "        ...,\n",
              "        [  44.05344685,  -78.68160928,   51.7       , ...,  -50.41423934,\n",
              "           32.40915465,    0.        ],\n",
              "        [  44.05343767,  -78.68160478,   -6.7       , ...,   -7.20203456,\n",
              "           50.41423962,    0.        ],\n",
              "        [  44.05342814,  -78.68159975,  -58.3       , ...,  -32.4091538 ,\n",
              "           36.01017051,    0.        ]]),\n",
              " array([[  44.05351115,  -78.68009698,  -11.5       , ...,  -10.80305155,\n",
              "          -43.21220563,    1.        ],\n",
              "        [  44.05351726,  -78.68007881, -216.4       , ...,    0.        ,\n",
              "           -7.20203399,    1.        ],\n",
              "        [  44.05352374,  -78.68005957,   95.6       , ...,   -3.60101699,\n",
              "           -3.60101699,    1.        ],\n",
              "        ...,\n",
              "        [  44.05364326,  -78.67971405,  284.2       , ...,  -25.20711981,\n",
              "          -54.01525661,    1.        ],\n",
              "        [  44.05364838,  -78.67969966,  123.4       , ...,  -43.21220506,\n",
              "          -90.02542769,    1.        ],\n",
              "        [  44.05365288,  -78.67968653, -203.4       , ...,  -14.40406826,\n",
              "          -18.00508554,    1.        ]]),\n",
              " array([[  44.05356214,  -78.67920314, -108.7       , ...,   54.0152569 ,\n",
              "           -7.20203456,    2.        ],\n",
              "        [  44.05355342,  -78.67919649,   -7.6       , ...,   43.21220506,\n",
              "          -18.00508554,    2.        ],\n",
              "        [  44.0535446 ,  -78.6791901 ,   27.        , ...,   -7.20203427,\n",
              "          -57.61627361,    2.        ],\n",
              "        ...,\n",
              "        [  44.05335592,  -78.67912553,  -19.9       , ...,   21.60610282,\n",
              "          -25.20712009,    2.        ],\n",
              "        [  44.05334522,  -78.67912517,  -13.6       , ...,   25.20711953,\n",
              "          -21.60610253,    2.        ],\n",
              "        [  44.05333506,  -78.6791249 ,  -13.5       , ...,   54.01525633,\n",
              "          -14.40406798,    2.        ]]),\n",
              " array([[ 44.05258566, -78.67979571,  -2.1       , ..., -28.80813709,\n",
              "          10.80305098,   3.        ],\n",
              "        [ 44.05258224, -78.67980533,  -5.8       , ...,  -7.20203399,\n",
              "          57.61627418,   3.        ],\n",
              "        [ 44.05257873, -78.67981585,  -6.3       , ..., -10.80305127,\n",
              "          25.20711953,   3.        ],\n",
              "        ...,\n",
              "        [ 44.05251614, -78.68005471,  -7.3       , ...,  32.40915408,\n",
              "          50.41424019,   3.        ],\n",
              "        [ 44.05251254, -78.68006838,  -9.1       , ...,  36.01017108,\n",
              "          46.81322263,   3.        ],\n",
              "        [ 44.05250876, -78.68008214,  -7.5       , ...,  18.00508554,\n",
              "         -18.00508554,   3.        ]]),\n",
              " array([[  44.05353066,  -78.68260573,    7.3       , ...,   -3.60101699,\n",
              "           28.80813709,    4.        ],\n",
              "        [  44.05355117,  -78.68261625,    3.        , ..., -140.43966703,\n",
              "          -39.61118864,    4.        ],\n",
              "        [  44.05356825,  -78.68262515,   -0.3       , ...,   90.02542769,\n",
              "           82.82339313,    4.        ],\n",
              "        ...,\n",
              "        [  44.0539251 ,  -78.68287696,   -1.7       , ...,  -72.02034187,\n",
              "            7.20203399,    4.        ],\n",
              "        [  44.05394057,  -78.6828918 ,   -2.7       , ...,   46.81322234,\n",
              "          115.23254722,    4.        ],\n",
              "        [  44.05395685,  -78.68290781,   -2.        , ...,  -25.20711981,\n",
              "           43.21220563,    4.        ]]),\n",
              " array([[ 44.0544915 , -78.68368905,   5.7       , ..., -18.00508554,\n",
              "         -97.22746225,   5.        ],\n",
              "        [ 44.05450103, -78.68370245,   7.1       , ...,  46.81322234,\n",
              "         -18.00508554,   5.        ],\n",
              "        [ 44.05451128, -78.68371639,  -4.2       , ...,  36.01017108,\n",
              "         -43.21220506,   5.        ],\n",
              "        ...,\n",
              "        [ 44.05476462, -78.68393402,  20.        , ...,  -3.60101699,\n",
              "         -64.8183076 ,   5.        ],\n",
              "        [ 44.0547791 , -78.68394194,  30.2       , ...,  28.80813737,\n",
              "         -50.41423962,   5.        ],\n",
              "        [ 44.05479466, -78.68394994,  -5.        , ...,  18.00508554,\n",
              "         -46.81322263,   5.        ]]),\n",
              " array([[  44.05371295,  -78.68170712,  -76.6       , ...,   90.02542769,\n",
              "           54.01525718,    0.        ],\n",
              "        [  44.0536956 ,  -78.68170101,  211.4       , ...,   10.80305098,\n",
              "           28.80813709,    0.        ],\n",
              "        [  44.05367752,  -78.68169435, -109.5       , ..., -140.43966731,\n",
              "          -25.20712009,    0.        ],\n",
              "        ...,\n",
              "        [  44.0533883 ,  -78.68155487,  -62.5       , ...,  -46.81322206,\n",
              "           32.40915465,    0.        ],\n",
              "        [  44.05337688,  -78.68154669,  128.2       , ...,  -72.02034244,\n",
              "           18.00508554,    0.        ],\n",
              "        [  44.05336645,  -78.68153877, -165.6       , ...,  -14.40406883,\n",
              "           61.21729003,    0.        ]]),\n",
              " array([[  44.05352059,  -78.68013925,   46.6       , ...,    3.60101728,\n",
              "           43.21220449,    1.        ],\n",
              "        [  44.0535268 ,  -78.68012189, -172.7       , ...,  -32.40915408,\n",
              "          -43.21220563,    1.        ],\n",
              "        [  44.05353255,  -78.68010552,    6.9       , ...,   -3.60101728,\n",
              "           36.01017165,    1.        ],\n",
              "        ...,\n",
              "        [  44.05363202,  -78.67977349,    7.6       , ...,  -39.61118835,\n",
              "          -61.2172906 ,    1.        ],\n",
              "        [  44.05363561,  -78.67975883, -235.2       , ...,   -7.20203427,\n",
              "           46.81322263,    1.        ],\n",
              "        [  44.05363921,  -78.67974337,   -9.9       , ...,  -18.00508554,\n",
              "          -25.20712009,    1.        ]]),\n",
              " array([[  44.05356574,  -78.67921259,   84.2       , ...,  -18.00508554,\n",
              "          -93.62644412,    2.        ],\n",
              "        [  44.05355926,  -78.6792053 ,  -51.4       , ...,   54.01525661,\n",
              "          -18.00508611,    2.        ],\n",
              "        [  44.05355171,  -78.67919739,  -56.1       , ...,   54.01525661,\n",
              "           -3.60101756,    2.        ],\n",
              "        ...,\n",
              "        [  44.05335781,  -78.67909118,  818.9       , ...,  -14.40406826,\n",
              "          -50.41423905,    2.        ],\n",
              "        [  44.05334738,  -78.67908956, -148.4       , ...,   14.40406854,\n",
              "          -46.81322263,    2.        ],\n",
              "        [  44.05333614,  -78.67908812, -297.1       , ...,    7.20203399,\n",
              "          -36.01017108,    2.        ]]),\n",
              " array([[  44.05262469,  -78.67979481,   80.1       , ...,   36.01017136,\n",
              "          -39.61118864,    3.        ],\n",
              "        [  44.05262037,  -78.67980695, -147.8       , ...,   50.41423934,\n",
              "          -18.00508554,    3.        ],\n",
              "        [  44.05261542,  -78.67981963,  -50.7       , ...,   43.21220506,\n",
              "          -21.60610196,    3.        ],\n",
              "        ...,\n",
              "        [  44.05249905,  -78.68007998,   -5.9       , ...,   43.21220506,\n",
              "           43.21220563,    3.        ],\n",
              "        [  44.05249222,  -78.68009419,   -8.6       , ...,   10.80305098,\n",
              "          -25.20712009,    3.        ],\n",
              "        [  44.05248556,  -78.68010759,   -7.4       , ...,   32.40915437,\n",
              "           39.61118807,    3.        ]]),\n",
              " array([[ 44.05351447, -78.68261904,  -0.7       , ..., -46.81322206,\n",
              "           0.        ,   4.        ],\n",
              "        [ 44.05353255, -78.6826292 ,  -5.3       , ...,  82.82339342,\n",
              "          82.8233937 ,   4.        ],\n",
              "        [ 44.05355171, -78.68264026,  -2.6       , ...,  -3.60101728,\n",
              "          25.20711953,   4.        ],\n",
              "        ...,\n",
              "        [ 44.05391009, -78.68290421,  -5.7       , ...,  10.80305127,\n",
              "          75.62135915,   4.        ],\n",
              "        [ 44.05392699, -78.6829204 ,  -5.6       , ...,   3.60101699,\n",
              "          75.62135972,   4.        ],\n",
              "        [ 44.05394363, -78.68293677,  -5.4       , ..., -75.62135943,\n",
              "           7.20203456,   4.        ]]),\n",
              " array([[  44.05450256,  -78.68367709,  -13.1       , ...,   86.42441041,\n",
              "           32.40915408,    5.        ],\n",
              "        [  44.0545156 ,  -78.68369004,  -21.2       , ...,   14.40406798,\n",
              "          -21.60610253,    5.        ],\n",
              "        [  44.05452954,  -78.68370362,  -31.4       , ...,  -86.42441041,\n",
              "         -111.63153079,    5.        ],\n",
              "        ...,\n",
              "        [  44.05479799,  -78.68390588,   34.4       , ...,   18.00508554,\n",
              "          -54.01525661,    5.        ],\n",
              "        [  44.05481372,  -78.68391307,  -12.8       , ...,  -82.82339342,\n",
              "         -100.82847867,    5.        ],\n",
              "        [  44.05482694,  -78.68391883,  -20.5       , ...,   64.81830816,\n",
              "          -39.61118807,    5.        ]]),\n",
              " array([[  44.05371574,  -78.68170982, -176.5       , ...,   21.60610282,\n",
              "           21.6061031 ,    0.        ],\n",
              "        [  44.05369875,  -78.68170407,  161.7       , ..., -104.42949652,\n",
              "           -7.20203399,    0.        ],\n",
              "        [  44.0536822 ,  -78.68169822,  -13.1       , ..., -100.82847924,\n",
              "            3.60101756,    0.        ],\n",
              "        ...,\n",
              "        [  44.05340503,  -78.68155532, -104.5       , ...,  -64.81830788,\n",
              "           10.80305212,    0.        ],\n",
              "        [  44.05339316,  -78.68154597,   54.        , ...,  -72.02034244,\n",
              "           14.40406911,    0.        ],\n",
              "        [  44.05338227,  -78.68153688,  159.9       , ...,  -46.81322234,\n",
              "           39.61118807,    0.        ]]),\n",
              " array([[  44.05351744,  -78.68012054,  -75.4       , ...,    3.60101699,\n",
              "           57.61627361,    1.        ],\n",
              "        [  44.05352392,  -78.68010211,  -71.6       , ...,   -7.20203427,\n",
              "           18.00508554,    1.        ],\n",
              "        [  44.05353039,  -78.68008358,   -8.9       , ...,  -21.60610253,\n",
              "          -25.20712009,    1.        ],\n",
              "        ...,\n",
              "        [  44.05364461,  -78.67972016,   52.9       , ...,  -21.60610253,\n",
              "           -3.60101699,    1.        ],\n",
              "        [  44.05364946,  -78.67970209,  323.5       , ...,  -72.02034215,\n",
              "         -176.44983896,    1.        ],\n",
              "        [  44.05365324,  -78.67968734,  -36.9       , ...,  -28.8081368 ,\n",
              "          -18.00508554,    1.        ]]),\n",
              " array([[  44.05359335,  -78.67920215,  -65.1       , ...,   36.01017136,\n",
              "          -25.20711953,    2.        ],\n",
              "        [  44.05358606,  -78.67919568, -156.4       , ...,   21.60610282,\n",
              "          -43.21220449,    2.        ],\n",
              "        [  44.05357896,  -78.67918974,  -45.5       , ...,   54.01525633,\n",
              "          -14.40406854,    2.        ],\n",
              "        ...,\n",
              "        [  44.05339028,  -78.6791035 ,  156.3       , ...,   -3.60101756,\n",
              "          -21.6061031 ,    2.        ],\n",
              "        [  44.05337895,  -78.67910053,  432.5       , ...,   -3.60101699,\n",
              "          -32.40915351,    2.        ],\n",
              "        [  44.05336807,  -78.67909801,   91.6       , ...,   21.6061031 ,\n",
              "          -21.60610253,    2.        ]]),\n",
              " array([[ 44.05260463, -78.67975533,   9.3       , ...,   0.        ,\n",
              "          54.01525661,   3.        ],\n",
              "        [ 44.05260058, -78.67976972,   4.5       , ..., -10.80305155,\n",
              "          18.00508611,   3.        ],\n",
              "        [ 44.05259663, -78.6797842 ,  -0.7       , ..., -14.40406826,\n",
              "         -14.40406854,   3.        ],\n",
              "        ...,\n",
              "        [ 44.0525049 , -78.6800789 , -11.7       , ...,  25.20711953,\n",
              "         -39.61118864,   3.        ],\n",
              "        [ 44.05249896, -78.68009302, -12.9       , ...,  25.20711981,\n",
              "         -36.01017051,   3.        ],\n",
              "        [ 44.05249276, -78.68010714, -18.4       , ...,  64.81830816,\n",
              "          68.41932516,   3.        ]]),\n",
              " array([[  44.05348624,  -78.68259368,   -0.4       , ...,  -43.21220535,\n",
              "            7.20203456,    4.        ],\n",
              "        [  44.0535035 ,  -78.68260339,   -2.8       , ...,   -3.60101699,\n",
              "           32.40915351,    4.        ],\n",
              "        [  44.05352185,  -78.682614  ,    1.6       , ...,   -3.60101728,\n",
              "           25.20711953,    4.        ],\n",
              "        ...,\n",
              "        [  44.05386647,  -78.68286806,   -1.        , ...,  -10.80305127,\n",
              "           28.80813652,    4.        ],\n",
              "        [  44.0538841 ,  -78.68288434,   -7.2       , ..., -133.23763275,\n",
              "          -79.22237671,    4.        ],\n",
              "        [  44.05389866,  -78.6828981 ,  -10.3       , ...,   57.61627361,\n",
              "          108.0305138 ,    4.        ]]),\n",
              " array([[ 44.05446919, -78.68365658,   0.3       , ...,  -7.20203427,\n",
              "         -57.61627361,   5.        ],\n",
              "        [ 44.05447819, -78.68367007,  -4.6       , ..., -21.60610253,\n",
              "         -97.22746168,   5.        ],\n",
              "        [ 44.05448673, -78.6836823 ,   7.4       , ...,  18.00508554,\n",
              "         -32.40915408,   5.        ],\n",
              "        ...,\n",
              "        [ 44.05468629, -78.68386631, -40.1       , ...,   7.20203456,\n",
              "         -54.01525661,   5.        ],\n",
              "        [ 44.05469816, -78.68387242, -16.9       , ...,   7.20203399,\n",
              "         -54.01525661,   5.        ],\n",
              "        [ 44.05470949, -78.68387791,  -8.5       , ...,  64.8183076 ,\n",
              "         -21.60610253,   5.        ]]),\n",
              " array([[  44.05370297,  -78.68169831,  167.        , ...,   36.01017079,\n",
              "           39.61118864,    0.        ],\n",
              "        [  44.05368526,  -78.68169157,   84.1       , ...,  -46.81322234,\n",
              "           10.80305155,    0.        ],\n",
              "        [  44.0536679 ,  -78.68168482, -157.6       , ...,  -82.82339342,\n",
              "            7.20203342,    0.        ],\n",
              "        ...,\n",
              "        [  44.05337229,  -78.68152537,  -61.3       , ..., -140.43966703,\n",
              "          -36.01017108,    0.        ],\n",
              "        [  44.05336168,  -78.68151674,  -80.1       , ...,  -21.60610253,\n",
              "           64.81830816,    0.        ],\n",
              "        [  44.05334981,  -78.68150667,   48.1       , ...,  -21.60610253,\n",
              "           61.2172906 ,    0.        ]]),\n",
              " array([[  44.05352176,  -78.6801254 , -149.8       , ...,   10.80305155,\n",
              "           14.40406854,    1.        ],\n",
              "        [  44.05352841,  -78.68010606,  -66.        , ...,  -32.40915408,\n",
              "         -115.23254722,    1.        ],\n",
              "        [  44.05353408,  -78.68008987,   71.9       , ...,   18.00508525,\n",
              "           54.01525605,    1.        ],\n",
              "        ...,\n",
              "        [  44.0536429 ,  -78.67972727,  -63.3       , ...,  -32.40915408,\n",
              "          -90.02542712,    1.        ],\n",
              "        [  44.05364659,  -78.67971081,  348.8       , ...,  -28.8081368 ,\n",
              "          -18.00508554,    1.        ],\n",
              "        [  44.05365027,  -78.67969372,   90.        , ...,  -43.21220535,\n",
              "          -54.01525718,    1.        ]]),\n",
              " array([[  44.05356816,  -78.67919649,  -91.1       , ...,   39.61118835,\n",
              "          -21.6061031 ,    2.        ],\n",
              "        [  44.05355962,  -78.67918866,    2.7       , ...,   -3.60101728,\n",
              "          -54.01525605,    2.        ],\n",
              "        [  44.05355243,  -78.67918219, -122.7       , ...,   57.61627361,\n",
              "          -10.80305155,    2.        ],\n",
              "        ...,\n",
              "        [  44.0533544 ,  -78.67909235,  -64.8       , ...,  -14.40406854,\n",
              "          -18.00508611,    2.        ],\n",
              "        [  44.05334387,  -78.67909082,   -8.1       , ...,   32.40915408,\n",
              "            7.20203456,    2.        ],\n",
              "        [  44.05333263,  -78.67908911,  471.2       , ...,    7.20203399,\n",
              "           14.40406854,    2.        ]]),\n",
              " array([[ 44.05258449, -78.67976396,   1.        , ..., -32.4091538 ,\n",
              "          61.2172906 ,   3.        ],\n",
              "        [ 44.05258008, -78.67977745,   1.5       , ..., -39.61118835,\n",
              "          32.40915351,   3.        ],\n",
              "        [ 44.05257585, -78.67979121,  -0.        , ..., -54.0152569 ,\n",
              "          -3.60101699,   3.        ],\n",
              "        ...,\n",
              "        [ 44.05250445, -78.68008475,  -4.2       , ...,  21.60610225,\n",
              "         -79.22237671,   3.        ],\n",
              "        [ 44.05249896, -78.68009914,  -5.6       , ...,  32.40915408,\n",
              "         -46.81322206,   3.        ],\n",
              "        [ 44.05249321, -78.68011344,  -7.1       , ...,  75.62135943,\n",
              "          61.21729117,   3.        ]]),\n",
              " array([[ 4.40534846e+01, -7.86825997e+01,  2.00000000e-01, ...,\n",
              "          3.60101728e+00,  2.16061020e+01,  4.00000000e+00],\n",
              "        [ 4.40535020e+01, -7.86826094e+01, -3.40000000e+00, ...,\n",
              "          3.60101756e+00,  1.80050850e+01,  4.00000000e+00],\n",
              "        [ 4.40535216e+01, -7.86826204e+01,  2.00000000e-01, ...,\n",
              "         -4.68132223e+01,  5.69023513e-07,  4.00000000e+00],\n",
              "        ...,\n",
              "        [ 4.40538702e+01, -7.86828692e+01, -3.60000000e+00, ...,\n",
              "          5.40152566e+01,  1.18833565e+02,  4.00000000e+00],\n",
              "        [ 4.40538868e+01, -7.86828848e+01, -1.20000000e+00, ...,\n",
              "         -6.48183079e+01,  7.20203456e+00,  4.00000000e+00],\n",
              "        [ 4.40539032e+01, -7.86829006e+01, -7.00000000e-01, ...,\n",
              "         -6.84193252e+01, -5.69023797e-07,  4.00000000e+00]]),\n",
              " array([[ 44.05446803, -78.68367484,  -9.2       , ..., -18.00508554,\n",
              "         -93.62644525,   5.        ],\n",
              "        [ 44.05447864, -78.68368743,  -8.7       , ...,  32.4091538 ,\n",
              "         -32.40915351,   5.        ],\n",
              "        [ 44.05449006, -78.68370038,  -1.7       , ...,  -3.60101728,\n",
              "         -61.2172906 ,   5.        ],\n",
              "        ...,\n",
              "        [ 44.05473   , -78.68388213,  -1.8       , ...,  57.61627361,\n",
              "         -28.80813709,   5.        ],\n",
              "        [ 44.05474475, -78.6838887 ,  -1.7       , ..., -36.01017108,\n",
              "         -68.41932459,   5.        ],\n",
              "        [ 44.05475815, -78.68389427,  -9.4       , ...,  -7.20203399,\n",
              "         -54.01525661,   5.        ]]),\n",
              " array([[  44.05371916,  -78.68171684, -214.        , ...,    3.60101699,\n",
              "           36.01017051,    0.        ],\n",
              "        [  44.05370072,  -78.68171108,  322.6       , ...,  -32.40915408,\n",
              "           32.40915351,    0.        ],\n",
              "        [  44.05368247,  -78.68170515, -274.8       , ...,  -75.62135943,\n",
              "           28.80813709,    0.        ],\n",
              "        ...,\n",
              "        [  44.0533812 ,  -78.68154785,  132.2       , ...,   -3.60101699,\n",
              "           64.81830816,    0.        ],\n",
              "        [  44.05336789,  -78.68153697,   26.8       , ..., -126.03559877,\n",
              "          -28.80813709,    0.        ],\n",
              "        [  44.053357  ,  -78.68152753,   31.7       , ...,  -14.40406854,\n",
              "           61.2172906 ,    0.        ]]),\n",
              " array([[  44.05349856,  -78.68015831,  102.1       , ...,   14.40406854,\n",
              "           57.61627361,    1.        ],\n",
              "        [  44.0535053 ,  -78.68014024,  113.8       , ...,    3.60101728,\n",
              "           18.00508611,    1.        ],\n",
              "        [  44.05351205,  -78.68012207,  -73.5       , ...,  -10.80305155,\n",
              "          -25.20711953,    1.        ],\n",
              "        ...,\n",
              "        [  44.05363696,  -78.67976576, -135.7       , ...,  -39.61118835,\n",
              "          -46.81322263,    1.        ],\n",
              "        [  44.05364146,  -78.67974975, -164.6       , ...,  -36.01017108,\n",
              "          -43.21220563,    1.        ],\n",
              "        [  44.05364551,  -78.67973491,  -58.4       , ...,  -21.60610253,\n",
              "           -3.60101699,    1.        ]]),\n",
              " array([[ 4.40535797e+01, -7.86792301e+01, -2.03900000e+02, ...,\n",
              "          6.84193246e+01,  0.00000000e+00,  2.00000000e+00],\n",
              "        [ 4.40535715e+01, -7.86792203e+01,  5.00000000e+00, ...,\n",
              "          4.32122053e+01, -1.80050855e+01,  2.00000000e+00],\n",
              "        [ 4.40535630e+01, -7.86792105e+01,  4.20000000e+00, ...,\n",
              "          1.80050858e+01, -4.32122051e+01,  2.00000000e+00],\n",
              "        ...,\n",
              "        [ 4.40533569e+01, -7.86790913e+01,  1.13400000e+02, ...,\n",
              "          2.84512112e-07,  4.32122056e+01,  2.00000000e+00],\n",
              "        [ 4.40533455e+01, -7.86790883e+01,  6.40000000e+00, ...,\n",
              "         -2.88081368e+01,  4.68132221e+01,  2.00000000e+00],\n",
              "        [ 4.40533346e+01, -7.86790852e+01,  2.86600000e+02, ...,\n",
              "          7.20203399e+00,  6.48183076e+01,  2.00000000e+00]]),\n",
              " array([[ 44.05261093, -78.67973033,   4.2       , ...,   0.        ,\n",
              "          57.61627304,   3.        ],\n",
              "        [ 44.05260778, -78.67974606,   1.6       , ..., -14.40406826,\n",
              "         -21.60610253,   3.        ],\n",
              "        [ 44.0526049 , -78.6797609 ,  -1.7       , ...,   3.60101728,\n",
              "          57.61627418,   3.        ],\n",
              "        ...,\n",
              "        [ 44.05250678, -78.68008259,   7.9       , ...,  21.60610253,\n",
              "         -39.61118807,   3.        ],\n",
              "        [ 44.05249878, -78.68009887,   7.7       , ...,  21.60610282,\n",
              "         -43.2122062 ,   3.        ],\n",
              "        [ 44.05249096, -78.68011416,   6.1       , ...,  36.01017108,\n",
              "          -3.60101699,   3.        ]]),\n",
              " array([[  44.05347994,  -78.68259826,    3.3       , ...,  -82.82339342,\n",
              "          -25.20712009,    4.        ],\n",
              "        [  44.05349649,  -78.68260735,   -2.6       , ...,   46.81322234,\n",
              "           46.81322206,    4.        ],\n",
              "        [  44.05351645,  -78.68261841,   -2.2       , ...,  -46.81322234,\n",
              "           -3.60101699,    4.        ],\n",
              "        ...,\n",
              "        [  44.05387438,  -78.68286392,   -6.8       , ...,   57.61627332,\n",
              "          115.23254779,    4.        ],\n",
              "        [  44.05389255,  -78.68288002,   -6.2       , ..., -104.42949623,\n",
              "          -28.80813595,    4.        ],\n",
              "        [  44.05390856,  -78.68289468,   -5.7       , ...,  -72.02034187,\n",
              "            7.20203456,    4.        ]]),\n",
              " array([[ 4.40544667e+01, -7.86836588e+01, -1.90000000e+00, ...,\n",
              "         -3.24091541e+01, -1.11631530e+02,  5.00000000e+00],\n",
              "        [ 4.40544782e+01, -7.86836710e+01, -6.00000000e-01, ...,\n",
              "          2.84511827e-07, -8.28233926e+01,  5.00000000e+00],\n",
              "        [ 4.40544898e+01, -7.86836828e+01, -3.30000000e+00, ...,\n",
              "          9.00254277e+01,  3.60101699e+00,  5.00000000e+00],\n",
              "        ...,\n",
              "        [ 4.40547761e+01, -7.86838749e+01, -5.80000000e+00, ...,\n",
              "         -7.20203427e+00, -5.76162742e+01,  5.00000000e+00],\n",
              "        [ 4.40547928e+01, -7.86838823e+01, -6.20000000e+00, ...,\n",
              "         -7.20203427e+00, -6.48183076e+01,  5.00000000e+00],\n",
              "        [ 4.40548086e+01, -7.86838889e+01,  2.55000000e+01, ...,\n",
              "          2.52071198e+01, -5.04142396e+01,  5.00000000e+00]]),\n",
              " array([[  44.05370414,  -78.6817073 ,   77.8       , ...,  -61.2172906 ,\n",
              "            7.20203456,    0.        ],\n",
              "        [  44.05368535,  -78.68170083,   42.1       , ...,  -72.02034215,\n",
              "           21.60610196,    0.        ],\n",
              "        [  44.05366817,  -78.68169453,  -24.9       , ...,   14.40406826,\n",
              "           50.41423905,    0.        ],\n",
              "        ...,\n",
              "        [  44.05337094,  -78.68153239,   37.1       , ...,  -90.02542769,\n",
              "            0.        ,    0.        ],\n",
              "        [  44.05335943,  -78.68152258,  -14.        , ...,  -28.8081368 ,\n",
              "           46.81322206,    0.        ],\n",
              "        [  44.05334756,  -78.68151215, -148.6       , ...,  -54.01525661,\n",
              "           21.6061031 ,    0.        ]]),\n",
              " array([[  44.05352311,  -78.6801513 ,  262.4       , ...,  -14.40406826,\n",
              "           21.60610196,    1.        ],\n",
              "        [  44.0535285 ,  -78.68013367, -139.2       , ...,  -28.80813709,\n",
              "          -18.00508554,    1.        ],\n",
              "        [  44.05353354,  -78.68011685,  -91.7       , ...,    3.60101699,\n",
              "           57.61627418,    1.        ],\n",
              "        ...,\n",
              "        [  44.05362995,  -78.67974471, -217.4       , ...,  -46.81322234,\n",
              "         -165.64678741,    1.        ],\n",
              "        [  44.05363381,  -78.67972781,  -21.4       , ...,   -7.20203427,\n",
              "            7.20203399,    1.        ],\n",
              "        [  44.05363822,  -78.67970892,  366.7       , ...,  -14.40406826,\n",
              "           -3.60101642,    1.        ]]),\n",
              " array([[  44.05362473,  -78.67919496,   97.8       , ...,   -3.60101728,\n",
              "          -72.02034215,    2.        ],\n",
              "        [  44.05362113,  -78.6791901 ,  -44.6       , ...,   28.80813709,\n",
              "          -18.00508554,    2.        ],\n",
              "        [  44.05361709,  -78.6791848 , -189.2       , ...,   14.40406854,\n",
              "          -39.61118864,    2.        ],\n",
              "        ...,\n",
              "        [  44.05353318,  -78.67914388,   61.2       , ...,   14.40406883,\n",
              "          -21.60610253,    2.        ],\n",
              "        [  44.05352967,  -78.67914469,  217.7       , ...,   10.80305155,\n",
              "          -21.60610253,    2.        ],\n",
              "        [  44.05352617,  -78.67914532,  -28.4       , ...,    3.60101699,\n",
              "           -7.20203399,    2.        ]]),\n",
              " array([[ 44.05261219, -78.67973212,   5.5       , ...,  25.20711953,\n",
              "          28.80813652,   3.        ],\n",
              "        [ 44.05260814, -78.67974723,   7.        , ...,  10.80305127,\n",
              "         -32.40915408,   3.        ],\n",
              "        [ 44.052604  , -78.67976234, -18.2       , ...,  14.40406883,\n",
              "         -21.6061031 ,   3.        ],\n",
              "        ...,\n",
              "        [ 44.05249482, -78.68007432,  -1.4       , ...,  21.60610253,\n",
              "           3.60101756,   3.        ],\n",
              "        [ 44.05248826, -78.68008987,  -4.        , ...,  57.61627389,\n",
              "          90.02542769,   3.        ],\n",
              "        [ 44.05248115, -78.68010651, -10.8       , ...,  25.20711981,\n",
              "          10.80305098,   3.        ]]),\n",
              " array([[ 4.40534724e+01, -7.86825685e+01,  3.00000000e-01, ...,\n",
              "         -5.04142393e+01,  7.20203342e+00,  4.00000000e+00],\n",
              "        [ 4.40534900e+01, -7.86825785e+01,  1.80000000e+00, ...,\n",
              "          4.32122051e+01,  5.40152566e+01,  4.00000000e+00],\n",
              "        [ 4.40535087e+01, -7.86825893e+01, -4.70000000e+00, ...,\n",
              "         -2.84511259e-07,  2.88081377e+01,  4.00000000e+00],\n",
              "        ...,\n",
              "        [ 4.40538632e+01, -7.86828459e+01, -7.10000000e+00, ...,\n",
              "         -2.52071195e+01,  3.96111881e+01,  4.00000000e+00],\n",
              "        [ 4.40538803e+01, -7.86828615e+01, -7.10000000e+00, ...,\n",
              "         -6.48183079e+01,  0.00000000e+00,  4.00000000e+00],\n",
              "        [ 4.40538962e+01, -7.86828763e+01, -5.90000000e+00, ...,\n",
              "          1.80050853e+01,  7.56213597e+01,  4.00000000e+00]]),\n",
              " array([[ 4.40544448e+01, -7.86836349e+01,  2.40000000e+00, ...,\n",
              "         -2.84511827e-07, -5.40152566e+01,  5.00000000e+00],\n",
              "        [ 4.40544562e+01, -7.86836486e+01,  6.40000000e+00, ...,\n",
              "         -2.88081368e+01, -9.00254277e+01,  5.00000000e+00],\n",
              "        [ 4.40544670e+01, -7.86836612e+01,  6.00000000e+00, ...,\n",
              "          2.52071201e+01, -3.60101711e+01,  5.00000000e+00],\n",
              "        ...,\n",
              "        [ 4.40547133e+01, -7.86838572e+01, -2.09000000e+01, ...,\n",
              "         -3.60101728e+00, -5.76162742e+01,  5.00000000e+00],\n",
              "        [ 4.40547271e+01, -7.86838641e+01, -1.56000000e+01, ...,\n",
              "          6.84193249e+01, -2.16061025e+01,  5.00000000e+00],\n",
              "        [ 4.40547421e+01, -7.86838711e+01, -3.40000000e+00, ...,\n",
              "          2.88081371e+01, -3.96111881e+01,  5.00000000e+00]]),\n",
              " array([[  44.05370882,  -78.68171612,   -2.2       , ...,   10.80305155,\n",
              "           39.61118807,    0.        ],\n",
              "        [  44.05369056,  -78.68170982,  160.5       , ..., -122.43458149,\n",
              "           -3.60101642,    0.        ],\n",
              "        [  44.05367464,  -78.68170407,   44.8       , ...,  -86.4244107 ,\n",
              "           10.80305155,    0.        ],\n",
              "        ...,\n",
              "        [  44.0533946 ,  -78.68155424,  -39.2       , ...,  -54.01525661,\n",
              "           18.00508554,    0.        ],\n",
              "        [  44.05338245,  -78.68154453,  122.        , ..., -136.83865032,\n",
              "          -39.61118864,    0.        ],\n",
              "        [  44.05337274,  -78.68153625,  -26.5       , ...,  -25.20711953,\n",
              "           57.61627418,    0.        ]]),\n",
              " array([[  44.05352374,  -78.68012549, -111.6       , ...,   -7.20203399,\n",
              "           14.40406798,    1.        ],\n",
              "        [  44.05352958,  -78.68010696,  -96.4       , ...,  -21.60610253,\n",
              "          -25.20711953,    1.        ],\n",
              "        [  44.05353498,  -78.68008942,    9.5       , ...,   10.80305098,\n",
              "           64.8183076 ,    1.        ],\n",
              "        ...,\n",
              "        [  44.05364694,  -78.67971899,  129.1       , ...,  -50.41423962,\n",
              "          -86.42441127,    1.        ],\n",
              "        [  44.05365126,  -78.67970272,  307.4       , ...,  -36.01017108,\n",
              "           -7.20203399,    1.        ],\n",
              "        [  44.05365567,  -78.67968581,  -32.3       , ...,  -50.41423962,\n",
              "          -36.01017051,    1.        ]]),\n",
              " array([[ 44.05359604, -78.67918902, -11.3       , ...,  39.61118835,\n",
              "         -25.20711896,   2.        ],\n",
              "        [ 44.05359065, -78.6791839 ,  53.8       , ...,  18.00508582,\n",
              "         -36.01017108,   2.        ],\n",
              "        [ 44.05358516, -78.67917904,  35.6       , ...,  10.80305127,\n",
              "         -50.41424019,   2.        ],\n",
              "        ...,\n",
              "        [ 44.05344082, -78.67912104,  50.7       , ...,  25.20712009,\n",
              "           0.        ,   2.        ],\n",
              "        [ 44.05343111, -78.67911888, -81.1       , ..., -14.40406826,\n",
              "          -3.60101756,   2.        ],\n",
              "        [ 44.05342274, -78.67911708, -57.2       , ...,  43.21220506,\n",
              "          18.00508554,   2.        ]]),\n",
              " array([[ 44.05260301, -78.67977511, -11.        , ...,  18.00508525,\n",
              "         -10.80305098,   3.        ],\n",
              "        [ 44.05259959, -78.6797904 ,  -5.        , ...,  14.40406854,\n",
              "         -46.81322263,   3.        ],\n",
              "        [ 44.05259627, -78.6798047 ,  -1.6       , ...,  36.01017108,\n",
              "          39.6111875 ,   3.        ],\n",
              "        ...,\n",
              "        [ 44.05248214, -78.68011155,  -1.        , ...,   7.20203427,\n",
              "         -32.40915408,   3.        ],\n",
              "        [ 44.05247459, -78.68012648,   5.5       , ...,  61.2172906 ,\n",
              "          79.22237614,   3.        ],\n",
              "        [ 44.05246641, -78.68014239,  17.9       , ...,  43.21220506,\n",
              "          43.21220563,   3.        ]]),\n",
              " array([[ 4.40535073e+01, -7.86825989e+01, -4.10000000e+00, ...,\n",
              "          3.60101728e+00,  1.80050855e+01,  4.00000000e+00],\n",
              "        [ 4.40535258e+01, -7.86826094e+01, -4.40000000e+00, ...,\n",
              "         -4.32122051e+01, -5.69023513e-07,  4.00000000e+00],\n",
              "        [ 4.40535433e+01, -7.86826194e+01, -7.50000000e+00, ...,\n",
              "          4.32122051e+01,  5.76162736e+01,  4.00000000e+00],\n",
              "        ...,\n",
              "        [ 4.40538907e+01, -7.86828789e+01, -1.30000000e+00, ...,\n",
              "         -6.12172909e+01,  0.00000000e+00,  4.00000000e+00],\n",
              "        [ 4.40539061e+01, -7.86828938e+01, -2.20000000e+00, ...,\n",
              "          1.08030513e+01,  7.56213597e+01,  4.00000000e+00],\n",
              "        [ 4.40539223e+01, -7.86829099e+01, -4.30000000e+00, ...,\n",
              "         -2.16061025e+01,  3.96111875e+01,  4.00000000e+00]]),\n",
              " array([[  44.05446596,  -78.68367592,    0.2       , ...,  -25.20711981,\n",
              "         -100.8284781 ,    5.        ],\n",
              "        [  44.05447729,  -78.6836895 ,   -0.3       , ...,   28.80813709,\n",
              "          -28.80813709,    5.        ],\n",
              "        [  44.05448934,  -78.68370362,   -2.3       , ...,   28.8081368 ,\n",
              "          -28.80813766,    5.        ],\n",
              "        ...,\n",
              "        [  44.05474421,  -78.68390327,    0.6       , ...,   14.40406826,\n",
              "          -43.21220506,    5.        ],\n",
              "        [  44.05475734,  -78.68390956,   -5.1       , ...,   21.60610253,\n",
              "          -39.6111875 ,    5.        ],\n",
              "        [  44.05477029,  -78.6839155 ,   22.7       , ...,  -28.8081368 ,\n",
              "          -68.41932573,    5.        ]]),\n",
              " array([[  44.05371853,  -78.68170901, -317.        , ...,  -57.61627389,\n",
              "           18.00508611,    0.        ],\n",
              "        [  44.05369848,  -78.68170344,  139.3       , ...,  -68.41932516,\n",
              "           14.40406798,    0.        ],\n",
              "        [  44.05368004,  -78.68169813,   37.9       , ...,   14.40406826,\n",
              "           43.21220506,    0.        ],\n",
              "        ...,\n",
              "        [  44.05337382,  -78.68156953,   -5.4       , ..., -108.03051294,\n",
              "          -18.00508611,    0.        ],\n",
              "        [  44.05336348,  -78.68156287,  -27.6       , ...,  -32.40915408,\n",
              "           28.80813652,    0.        ],\n",
              "        [  44.05335206,  -78.68155532,  -88.        , ...,  -36.01017108,\n",
              "           28.80813766,    0.        ]]),\n",
              " array([[  44.05352383,  -78.68015939,  207.1       , ...,  -21.60610282,\n",
              "          -21.60610196,    1.        ],\n",
              "        [  44.05352886,  -78.68014266,   31.6       , ...,    3.60101728,\n",
              "           57.61627361,    1.        ],\n",
              "        [  44.05353417,  -78.68012486,  -93.4       , ...,    0.        ,\n",
              "           18.00508554,    1.        ],\n",
              "        ...,\n",
              "        [  44.0536384 ,  -78.67975623, -218.4       , ...,  -43.21220506,\n",
              "          -86.4244107 ,    1.        ],\n",
              "        [  44.0536429 ,  -78.67973878,  -59.1       , ...,  -25.20712009,\n",
              "          -43.21220506,    1.        ],\n",
              "        [  44.05364748,  -78.67972061,   73.2       , ...,  -32.40915408,\n",
              "          -46.81322206,    1.        ]]),\n",
              " array([[ 44.05362068, -78.67922689, -72.8       , ...,  18.00508554,\n",
              "         -54.01525605,   2.        ],\n",
              "        [ 44.05361547, -78.67922059,  -0.4       , ...,  21.60610253,\n",
              "         -57.61627304,   2.        ],\n",
              "        [ 44.05361043, -78.67921501,  71.5       , ...,  36.01017108,\n",
              "         -36.01017108,   2.        ],\n",
              "        ...,\n",
              "        [ 44.05346204, -78.67913794,  29.        , ...,  46.81322234,\n",
              "           3.60101699,   2.        ],\n",
              "        [ 44.05345251, -78.67913569, -14.3       , ...,  21.60610253,\n",
              "           7.20203399,   2.        ],\n",
              "        [ 44.05344289, -78.67913345, -44.8       , ...,   3.60101728,\n",
              "          10.80305155,   2.        ]]),\n",
              " array([[ 4.40526393e+01, -7.86797219e+01,  7.00000000e-01, ...,\n",
              "          5.76162736e+01,  3.60101705e+01,  3.00000000e+00],\n",
              "        [ 4.40526355e+01, -7.86797362e+01,  2.60000000e+00, ...,\n",
              "          5.04142393e+01,  7.20203399e+00,  3.00000000e+00],\n",
              "        [ 4.40526313e+01, -7.86797507e+01,  5.70000000e+00, ...,\n",
              "          3.60101714e+01, -2.88081365e+01,  3.00000000e+00],\n",
              "        ...,\n",
              "        [ 4.40525355e+01, -7.86800451e+01, -7.90000000e+00, ...,\n",
              "          3.96111884e+01, -5.69023513e-07,  3.00000000e+00],\n",
              "        [ 4.40525294e+01, -7.86800606e+01, -5.00000000e+00, ...,\n",
              "          2.88081368e+01, -3.60101716e+01,  3.00000000e+00],\n",
              "        [ 4.40525233e+01, -7.86800751e+01, -6.00000000e+00, ...,\n",
              "          5.76162736e+01,  3.60101716e+01,  3.00000000e+00]]),\n",
              " array([[ 44.05347472, -78.68259179,  -6.4       , ...,  46.81322234,\n",
              "          50.41423962,   4.        ],\n",
              "        [ 44.0534937 , -78.68260258,  -4.        , ..., -50.41423934,\n",
              "           3.60101699,   4.        ],\n",
              "        [ 44.05351259, -78.68261355,  -3.4       , ..., -50.41423962,\n",
              "           3.60101699,   4.        ],\n",
              "        ...,\n",
              "        [ 44.05387789, -78.68286383, -16.3       , ..., -64.81830788,\n",
              "          10.80305155,   4.        ],\n",
              "        [ 44.0538948 , -78.68287786, -10.5       , ...,  57.61627389,\n",
              "         115.23254665,   4.        ],\n",
              "        [ 44.0539126 , -78.68289297, -10.4       , ..., -28.8081368 ,\n",
              "          46.81322206,   4.        ]]),\n",
              " array([[  44.05442864,  -78.68365137,   -6.6       , ...,   39.61118807,\n",
              "          -75.62135858,    5.        ],\n",
              "        [  44.054437  ,  -78.68366531, -189.7       , ...,   61.21729117,\n",
              "          -39.61118864,    5.        ],\n",
              "        [  44.0544468 ,  -78.68368051,  -58.1       , ...,  -10.80305098,\n",
              "         -126.03559934,    5.        ],\n",
              "        ...,\n",
              "        [  44.05463809,  -78.68389014,   -5.9       , ...,   68.41932516,\n",
              "          -14.40406854,    5.        ],\n",
              "        [  44.05464942,  -78.68389778,  -12.4       , ...,   39.61118807,\n",
              "          -32.40915408,    5.        ],\n",
              "        [  44.05466102,  -78.68390525,   -9.6       , ...,    3.60101699,\n",
              "          -50.41423962,    5.        ]])]"
            ]
          },
          "metadata": {
            "tags": []
          },
          "execution_count": 327
        }
      ]
    },
    {
      "cell_type": "code",
      "metadata": {
        "colab": {
          "base_uri": "https://localhost:8080/"
        },
        "id": "JZWrKWh9ITT2",
        "outputId": "f84ba0cf-c9d2-4fc9-e7ce-ab07db746e2d"
      },
      "source": [
        "train = np.array(train)\n",
        "validation = np.array(validation)\n",
        "test = np.array(test)\n",
        "\n",
        "train_target = np.array(train_target)\n",
        "validation_target = np.array(validation_target)\n",
        "test_target = np.array(test_target)\n",
        "\n",
        "print(train.shape)\n",
        "print(train_target.shape)"
      ],
      "id": "JZWrKWh9ITT2",
      "execution_count": 328,
      "outputs": [
        {
          "output_type": "stream",
          "text": [
            "(156, 25, 99)\n",
            "(156,)\n"
          ],
          "name": "stdout"
        }
      ]
    },
    {
      "cell_type": "code",
      "metadata": {
        "colab": {
          "base_uri": "https://localhost:8080/"
        },
        "id": "44iIS72eRKrS",
        "outputId": "c749fed1-5c2b-4210-b798-d7f908456d47"
      },
      "source": [
        "!pip install keras-tuner\n",
        "from kerastuner import HyperModel\n",
        "from kerastuner.tuners import RandomSearch\n",
        "from tensorflow import keras"
      ],
      "id": "44iIS72eRKrS",
      "execution_count": 19,
      "outputs": [
        {
          "output_type": "stream",
          "text": [
            "Collecting keras-tuner\n",
            "\u001b[?25l  Downloading https://files.pythonhosted.org/packages/20/ec/1ef246787174b1e2bb591c95f29d3c1310070cad877824f907faba3dade9/keras-tuner-1.0.2.tar.gz (62kB)\n",
            "\r\u001b[K     |█████▏                          | 10kB 16.9MB/s eta 0:00:01\r\u001b[K     |██████████▍                     | 20kB 19.3MB/s eta 0:00:01\r\u001b[K     |███████████████▋                | 30kB 15.6MB/s eta 0:00:01\r\u001b[K     |████████████████████▉           | 40kB 14.2MB/s eta 0:00:01\r\u001b[K     |██████████████████████████      | 51kB 7.9MB/s eta 0:00:01\r\u001b[K     |███████████████████████████████▎| 61kB 9.1MB/s eta 0:00:01\r\u001b[K     |████████████████████████████████| 71kB 3.8MB/s \n",
            "\u001b[?25hRequirement already satisfied: packaging in /usr/local/lib/python3.7/dist-packages (from keras-tuner) (20.9)\n",
            "Requirement already satisfied: future in /usr/local/lib/python3.7/dist-packages (from keras-tuner) (0.16.0)\n",
            "Requirement already satisfied: numpy in /usr/local/lib/python3.7/dist-packages (from keras-tuner) (1.19.5)\n",
            "Requirement already satisfied: tabulate in /usr/local/lib/python3.7/dist-packages (from keras-tuner) (0.8.9)\n",
            "Collecting terminaltables\n",
            "  Downloading https://files.pythonhosted.org/packages/9b/c4/4a21174f32f8a7e1104798c445dacdc1d4df86f2f26722767034e4de4bff/terminaltables-3.1.0.tar.gz\n",
            "Collecting colorama\n",
            "  Downloading https://files.pythonhosted.org/packages/44/98/5b86278fbbf250d239ae0ecb724f8572af1c91f4a11edf4d36a206189440/colorama-0.4.4-py2.py3-none-any.whl\n",
            "Requirement already satisfied: tqdm in /usr/local/lib/python3.7/dist-packages (from keras-tuner) (4.41.1)\n",
            "Requirement already satisfied: requests in /usr/local/lib/python3.7/dist-packages (from keras-tuner) (2.23.0)\n",
            "Requirement already satisfied: scipy in /usr/local/lib/python3.7/dist-packages (from keras-tuner) (1.4.1)\n",
            "Requirement already satisfied: scikit-learn in /usr/local/lib/python3.7/dist-packages (from keras-tuner) (0.22.2.post1)\n",
            "Requirement already satisfied: pyparsing>=2.0.2 in /usr/local/lib/python3.7/dist-packages (from packaging->keras-tuner) (2.4.7)\n",
            "Requirement already satisfied: certifi>=2017.4.17 in /usr/local/lib/python3.7/dist-packages (from requests->keras-tuner) (2020.12.5)\n",
            "Requirement already satisfied: chardet<4,>=3.0.2 in /usr/local/lib/python3.7/dist-packages (from requests->keras-tuner) (3.0.4)\n",
            "Requirement already satisfied: idna<3,>=2.5 in /usr/local/lib/python3.7/dist-packages (from requests->keras-tuner) (2.10)\n",
            "Requirement already satisfied: urllib3!=1.25.0,!=1.25.1,<1.26,>=1.21.1 in /usr/local/lib/python3.7/dist-packages (from requests->keras-tuner) (1.24.3)\n",
            "Requirement already satisfied: joblib>=0.11 in /usr/local/lib/python3.7/dist-packages (from scikit-learn->keras-tuner) (1.0.1)\n",
            "Building wheels for collected packages: keras-tuner, terminaltables\n",
            "  Building wheel for keras-tuner (setup.py) ... \u001b[?25l\u001b[?25hdone\n",
            "  Created wheel for keras-tuner: filename=keras_tuner-1.0.2-cp37-none-any.whl size=78935 sha256=c1672e1b7a92b264929602191e481c5821b087c0bb667bf1e714618aac902592\n",
            "  Stored in directory: /root/.cache/pip/wheels/bb/a1/8a/7c3de0efb3707a1701b36ebbfdbc4e67aedf6d4943a1f463d6\n",
            "  Building wheel for terminaltables (setup.py) ... \u001b[?25l\u001b[?25hdone\n",
            "  Created wheel for terminaltables: filename=terminaltables-3.1.0-cp37-none-any.whl size=15356 sha256=086c4711475c0dc2903be7a9d3e5bdb8abf1897a6d9ede4dbb8992624c1eb77c\n",
            "  Stored in directory: /root/.cache/pip/wheels/30/6b/50/6c75775b681fb36cdfac7f19799888ef9d8813aff9e379663e\n",
            "Successfully built keras-tuner terminaltables\n",
            "Installing collected packages: terminaltables, colorama, keras-tuner\n",
            "Successfully installed colorama-0.4.4 keras-tuner-1.0.2 terminaltables-3.1.0\n"
          ],
          "name": "stdout"
        }
      ]
    },
    {
      "cell_type": "code",
      "metadata": {
        "colab": {
          "base_uri": "https://localhost:8080/"
        },
        "id": "3jAktnMjRSrh",
        "outputId": "898893fb-84d0-4f30-c6fa-dc59910e389f"
      },
      "source": [
        "from tensorflow.keras.models import Sequential\n",
        "#alpha?\n",
        "def build_model(hp):\n",
        "  model = Sequential()\n",
        "  model.add(LSTM(units=hp.Int('units', min_value=32, max_value=1024, default=256, step=2), input_shape=(seq_len, 104)))\n",
        "  model.add(Dropout(rate=hp.Float('dropout', min_value=0.0, max_value=0.5, default=0.25, step=0.05)))\n",
        "  model.add(Dense(1, activation='sigmoid'))\n",
        "  model.compile(loss='binary_crossentropy', optimizer=Adam(\n",
        "      hp.Choice('learning_rate', values=[1e-2, 1e-3, 1e-4])\n",
        "  ), metrics=['accuracy'])\n",
        "  return model\n",
        "\n",
        "tuner=RandomSearch(\n",
        "    build_model,\n",
        "    objective='val_accuracy',\n",
        "    max_trials=15,\n",
        "    executions_per_trial=2,\n",
        "    directory='my_dir',\n",
        "    project_name='PARTdriverLSTM.....alllll'\n",
        "    #project_name='driverLSTM_mod'\n",
        ")\n",
        "\n",
        "callback= tf.keras.callbacks.EarlyStopping(monitor='val_loss', patience=2)\n",
        "tuner.search(train, train_target, epochs=70, validation_data=(validation,validation_target), callbacks=[callback])\n",
        "tuner.results_summary()"
      ],
      "id": "3jAktnMjRSrh",
      "execution_count": 329,
      "outputs": [
        {
          "output_type": "stream",
          "text": [
            "Trial 15 Complete [00h 00m 06s]\n",
            "val_accuracy: 1.0\n",
            "\n",
            "Best val_accuracy So Far: 1.0\n",
            "Total elapsed time: 00h 01m 45s\n",
            "INFO:tensorflow:Oracle triggered exit\n"
          ],
          "name": "stdout"
        },
        {
          "output_type": "stream",
          "text": [
            "INFO:tensorflow:Oracle triggered exit\n"
          ],
          "name": "stderr"
        },
        {
          "output_type": "stream",
          "text": [
            "Results summary\n",
            "Results in my_dir/PARTdriverLSTM.....alllll\n",
            "Showing 10 best trials\n",
            "Objective(name='val_accuracy', direction='max')\n",
            "Trial summary\n",
            "Hyperparameters:\n",
            "units: 524\n",
            "dropout: 0.0\n",
            "learning_rate: 0.01\n",
            "Score: 1.0\n",
            "Trial summary\n",
            "Hyperparameters:\n",
            "units: 826\n",
            "dropout: 0.2\n",
            "learning_rate: 0.001\n",
            "Score: 1.0\n",
            "Trial summary\n",
            "Hyperparameters:\n",
            "units: 562\n",
            "dropout: 0.45\n",
            "learning_rate: 0.01\n",
            "Score: 1.0\n",
            "Trial summary\n",
            "Hyperparameters:\n",
            "units: 794\n",
            "dropout: 0.45\n",
            "learning_rate: 0.01\n",
            "Score: 1.0\n",
            "Trial summary\n",
            "Hyperparameters:\n",
            "units: 324\n",
            "dropout: 0.15000000000000002\n",
            "learning_rate: 0.0001\n",
            "Score: 1.0\n",
            "Trial summary\n",
            "Hyperparameters:\n",
            "units: 306\n",
            "dropout: 0.45\n",
            "learning_rate: 0.01\n",
            "Score: 1.0\n",
            "Trial summary\n",
            "Hyperparameters:\n",
            "units: 254\n",
            "dropout: 0.25\n",
            "learning_rate: 0.001\n",
            "Score: 1.0\n",
            "Trial summary\n",
            "Hyperparameters:\n",
            "units: 434\n",
            "dropout: 0.35000000000000003\n",
            "learning_rate: 0.01\n",
            "Score: 1.0\n",
            "Trial summary\n",
            "Hyperparameters:\n",
            "units: 870\n",
            "dropout: 0.5\n",
            "learning_rate: 0.0001\n",
            "Score: 1.0\n",
            "Trial summary\n",
            "Hyperparameters:\n",
            "units: 252\n",
            "dropout: 0.25\n",
            "learning_rate: 0.001\n",
            "Score: 1.0\n"
          ],
          "name": "stdout"
        }
      ]
    },
    {
      "cell_type": "code",
      "metadata": {
        "colab": {
          "base_uri": "https://localhost:8080/"
        },
        "id": "FgFKSlGr1xQq",
        "outputId": "e72bb411-fb1b-4022-8f06-bf76e3597ed2"
      },
      "source": [
        "hypmodel = tuner.get_best_models(1)[0]\n",
        "best_hps = tuner.get_best_hyperparameters(1)[0]\n",
        "print(f\"\"\"\n",
        "The hyperparameter search is complete. The optimal number of units in the first densely-connected\n",
        "layer is {best_hps.get('units')} and the optimal dropout value and learning rate for the optimizer\n",
        "is {best_hps.get('learning_rate')}.\n",
        "\"\"\")"
      ],
      "id": "FgFKSlGr1xQq",
      "execution_count": 330,
      "outputs": [
        {
          "output_type": "stream",
          "text": [
            "\n",
            "The hyperparameter search is complete. The optimal number of units in the first densely-connected\n",
            "layer is 524 and the optimal dropout value and learning rate for the optimizer\n",
            "is 0.01.\n",
            "\n"
          ],
          "name": "stdout"
        }
      ]
    },
    {
      "cell_type": "code",
      "metadata": {
        "colab": {
          "base_uri": "https://localhost:8080/"
        },
        "id": "dG8pxZnnnqIg",
        "outputId": "4583a3d2-4e45-4bf1-fdfe-405e3741515a"
      },
      "source": [
        "\n",
        "history = hypmodel.fit(train, train_target, epochs=200, batch_size=128, callbacks=[chk], validation_data=(validation,validation_target))\n"
      ],
      "id": "dG8pxZnnnqIg",
      "execution_count": 336,
      "outputs": [
        {
          "output_type": "stream",
          "text": [
            "Epoch 1/200\n",
            "2/2 [==============================] - 0s 55ms/step - loss: 0.4004 - accuracy: 0.8526 - val_loss: 0.1474 - val_accuracy: 1.0000\n",
            "WARNING:tensorflow:Can save best model only with val_acc available, skipping.\n"
          ],
          "name": "stdout"
        },
        {
          "output_type": "stream",
          "text": [
            "WARNING:tensorflow:Can save best model only with val_acc available, skipping.\n"
          ],
          "name": "stderr"
        },
        {
          "output_type": "stream",
          "text": [
            "Epoch 2/200\n",
            "2/2 [==============================] - 0s 27ms/step - loss: 0.4034 - accuracy: 0.8526 - val_loss: 0.1985 - val_accuracy: 0.9722\n",
            "WARNING:tensorflow:Can save best model only with val_acc available, skipping.\n"
          ],
          "name": "stdout"
        },
        {
          "output_type": "stream",
          "text": [
            "WARNING:tensorflow:Can save best model only with val_acc available, skipping.\n"
          ],
          "name": "stderr"
        },
        {
          "output_type": "stream",
          "text": [
            "Epoch 3/200\n",
            "2/2 [==============================] - 0s 25ms/step - loss: 0.4166 - accuracy: 0.8462 - val_loss: 0.1384 - val_accuracy: 1.0000\n",
            "WARNING:tensorflow:Can save best model only with val_acc available, skipping.\n"
          ],
          "name": "stdout"
        },
        {
          "output_type": "stream",
          "text": [
            "WARNING:tensorflow:Can save best model only with val_acc available, skipping.\n"
          ],
          "name": "stderr"
        },
        {
          "output_type": "stream",
          "text": [
            "Epoch 4/200\n",
            "2/2 [==============================] - 0s 28ms/step - loss: 0.4164 - accuracy: 0.8526 - val_loss: 0.0812 - val_accuracy: 1.0000\n",
            "WARNING:tensorflow:Can save best model only with val_acc available, skipping.\n"
          ],
          "name": "stdout"
        },
        {
          "output_type": "stream",
          "text": [
            "WARNING:tensorflow:Can save best model only with val_acc available, skipping.\n"
          ],
          "name": "stderr"
        },
        {
          "output_type": "stream",
          "text": [
            "Epoch 5/200\n",
            "2/2 [==============================] - 0s 28ms/step - loss: 0.4278 - accuracy: 0.8526 - val_loss: 0.2190 - val_accuracy: 0.9722\n",
            "WARNING:tensorflow:Can save best model only with val_acc available, skipping.\n"
          ],
          "name": "stdout"
        },
        {
          "output_type": "stream",
          "text": [
            "WARNING:tensorflow:Can save best model only with val_acc available, skipping.\n"
          ],
          "name": "stderr"
        },
        {
          "output_type": "stream",
          "text": [
            "Epoch 6/200\n",
            "2/2 [==============================] - 0s 29ms/step - loss: 0.4125 - accuracy: 0.8526 - val_loss: 0.2424 - val_accuracy: 0.9722\n",
            "WARNING:tensorflow:Can save best model only with val_acc available, skipping.\n"
          ],
          "name": "stdout"
        },
        {
          "output_type": "stream",
          "text": [
            "WARNING:tensorflow:Can save best model only with val_acc available, skipping.\n"
          ],
          "name": "stderr"
        },
        {
          "output_type": "stream",
          "text": [
            "Epoch 7/200\n",
            "2/2 [==============================] - 0s 26ms/step - loss: 0.4130 - accuracy: 0.8526 - val_loss: 0.1181 - val_accuracy: 1.0000\n",
            "WARNING:tensorflow:Can save best model only with val_acc available, skipping.\n"
          ],
          "name": "stdout"
        },
        {
          "output_type": "stream",
          "text": [
            "WARNING:tensorflow:Can save best model only with val_acc available, skipping.\n"
          ],
          "name": "stderr"
        },
        {
          "output_type": "stream",
          "text": [
            "Epoch 8/200\n",
            "2/2 [==============================] - 0s 29ms/step - loss: 0.4093 - accuracy: 0.8526 - val_loss: 0.1494 - val_accuracy: 1.0000\n",
            "WARNING:tensorflow:Can save best model only with val_acc available, skipping.\n"
          ],
          "name": "stdout"
        },
        {
          "output_type": "stream",
          "text": [
            "WARNING:tensorflow:Can save best model only with val_acc available, skipping.\n"
          ],
          "name": "stderr"
        },
        {
          "output_type": "stream",
          "text": [
            "Epoch 9/200\n",
            "2/2 [==============================] - 0s 26ms/step - loss: 0.4015 - accuracy: 0.8526 - val_loss: 0.2374 - val_accuracy: 0.9722\n",
            "WARNING:tensorflow:Can save best model only with val_acc available, skipping.\n"
          ],
          "name": "stdout"
        },
        {
          "output_type": "stream",
          "text": [
            "WARNING:tensorflow:Can save best model only with val_acc available, skipping.\n"
          ],
          "name": "stderr"
        },
        {
          "output_type": "stream",
          "text": [
            "Epoch 10/200\n",
            "2/2 [==============================] - 0s 24ms/step - loss: 0.4088 - accuracy: 0.8526 - val_loss: 0.1479 - val_accuracy: 1.0000\n",
            "WARNING:tensorflow:Can save best model only with val_acc available, skipping.\n"
          ],
          "name": "stdout"
        },
        {
          "output_type": "stream",
          "text": [
            "WARNING:tensorflow:Can save best model only with val_acc available, skipping.\n"
          ],
          "name": "stderr"
        },
        {
          "output_type": "stream",
          "text": [
            "Epoch 11/200\n",
            "2/2 [==============================] - 0s 25ms/step - loss: 0.4128 - accuracy: 0.8526 - val_loss: 0.1282 - val_accuracy: 1.0000\n",
            "WARNING:tensorflow:Can save best model only with val_acc available, skipping.\n"
          ],
          "name": "stdout"
        },
        {
          "output_type": "stream",
          "text": [
            "WARNING:tensorflow:Can save best model only with val_acc available, skipping.\n"
          ],
          "name": "stderr"
        },
        {
          "output_type": "stream",
          "text": [
            "Epoch 12/200\n",
            "2/2 [==============================] - 0s 27ms/step - loss: 0.3997 - accuracy: 0.8526 - val_loss: 0.2952 - val_accuracy: 0.9722\n",
            "WARNING:tensorflow:Can save best model only with val_acc available, skipping.\n"
          ],
          "name": "stdout"
        },
        {
          "output_type": "stream",
          "text": [
            "WARNING:tensorflow:Can save best model only with val_acc available, skipping.\n"
          ],
          "name": "stderr"
        },
        {
          "output_type": "stream",
          "text": [
            "Epoch 13/200\n",
            "2/2 [==============================] - 0s 26ms/step - loss: 0.4334 - accuracy: 0.8462 - val_loss: 0.2108 - val_accuracy: 0.9722\n",
            "WARNING:tensorflow:Can save best model only with val_acc available, skipping.\n"
          ],
          "name": "stdout"
        },
        {
          "output_type": "stream",
          "text": [
            "WARNING:tensorflow:Can save best model only with val_acc available, skipping.\n"
          ],
          "name": "stderr"
        },
        {
          "output_type": "stream",
          "text": [
            "Epoch 14/200\n",
            "2/2 [==============================] - 0s 26ms/step - loss: 0.3968 - accuracy: 0.8526 - val_loss: 0.0682 - val_accuracy: 1.0000\n",
            "WARNING:tensorflow:Can save best model only with val_acc available, skipping.\n"
          ],
          "name": "stdout"
        },
        {
          "output_type": "stream",
          "text": [
            "WARNING:tensorflow:Can save best model only with val_acc available, skipping.\n"
          ],
          "name": "stderr"
        },
        {
          "output_type": "stream",
          "text": [
            "Epoch 15/200\n",
            "2/2 [==============================] - 0s 28ms/step - loss: 0.4534 - accuracy: 0.8526 - val_loss: 0.0678 - val_accuracy: 1.0000\n",
            "WARNING:tensorflow:Can save best model only with val_acc available, skipping.\n"
          ],
          "name": "stdout"
        },
        {
          "output_type": "stream",
          "text": [
            "WARNING:tensorflow:Can save best model only with val_acc available, skipping.\n"
          ],
          "name": "stderr"
        },
        {
          "output_type": "stream",
          "text": [
            "Epoch 16/200\n",
            "2/2 [==============================] - 0s 25ms/step - loss: 0.4417 - accuracy: 0.8526 - val_loss: 0.2089 - val_accuracy: 0.9722\n",
            "WARNING:tensorflow:Can save best model only with val_acc available, skipping.\n"
          ],
          "name": "stdout"
        },
        {
          "output_type": "stream",
          "text": [
            "WARNING:tensorflow:Can save best model only with val_acc available, skipping.\n"
          ],
          "name": "stderr"
        },
        {
          "output_type": "stream",
          "text": [
            "Epoch 17/200\n",
            "2/2 [==============================] - 0s 40ms/step - loss: 0.4039 - accuracy: 0.8462 - val_loss: 0.3529 - val_accuracy: 0.9722\n",
            "WARNING:tensorflow:Can save best model only with val_acc available, skipping.\n"
          ],
          "name": "stdout"
        },
        {
          "output_type": "stream",
          "text": [
            "WARNING:tensorflow:Can save best model only with val_acc available, skipping.\n"
          ],
          "name": "stderr"
        },
        {
          "output_type": "stream",
          "text": [
            "Epoch 18/200\n",
            "2/2 [==============================] - 0s 28ms/step - loss: 0.4484 - accuracy: 0.8397 - val_loss: 0.1687 - val_accuracy: 0.9722\n",
            "WARNING:tensorflow:Can save best model only with val_acc available, skipping.\n"
          ],
          "name": "stdout"
        },
        {
          "output_type": "stream",
          "text": [
            "WARNING:tensorflow:Can save best model only with val_acc available, skipping.\n"
          ],
          "name": "stderr"
        },
        {
          "output_type": "stream",
          "text": [
            "Epoch 19/200\n",
            "2/2 [==============================] - 0s 27ms/step - loss: 0.3932 - accuracy: 0.8526 - val_loss: 0.0695 - val_accuracy: 1.0000\n",
            "WARNING:tensorflow:Can save best model only with val_acc available, skipping.\n"
          ],
          "name": "stdout"
        },
        {
          "output_type": "stream",
          "text": [
            "WARNING:tensorflow:Can save best model only with val_acc available, skipping.\n"
          ],
          "name": "stderr"
        },
        {
          "output_type": "stream",
          "text": [
            "Epoch 20/200\n",
            "2/2 [==============================] - 0s 24ms/step - loss: 0.4479 - accuracy: 0.8526 - val_loss: 0.0640 - val_accuracy: 1.0000\n",
            "WARNING:tensorflow:Can save best model only with val_acc available, skipping.\n"
          ],
          "name": "stdout"
        },
        {
          "output_type": "stream",
          "text": [
            "WARNING:tensorflow:Can save best model only with val_acc available, skipping.\n"
          ],
          "name": "stderr"
        },
        {
          "output_type": "stream",
          "text": [
            "Epoch 21/200\n",
            "2/2 [==============================] - 0s 29ms/step - loss: 0.4578 - accuracy: 0.8526 - val_loss: 0.1268 - val_accuracy: 1.0000\n",
            "WARNING:tensorflow:Can save best model only with val_acc available, skipping.\n"
          ],
          "name": "stdout"
        },
        {
          "output_type": "stream",
          "text": [
            "WARNING:tensorflow:Can save best model only with val_acc available, skipping.\n"
          ],
          "name": "stderr"
        },
        {
          "output_type": "stream",
          "text": [
            "Epoch 22/200\n",
            "2/2 [==============================] - 0s 29ms/step - loss: 0.4039 - accuracy: 0.8526 - val_loss: 0.2049 - val_accuracy: 0.9722\n",
            "WARNING:tensorflow:Can save best model only with val_acc available, skipping.\n"
          ],
          "name": "stdout"
        },
        {
          "output_type": "stream",
          "text": [
            "WARNING:tensorflow:Can save best model only with val_acc available, skipping.\n"
          ],
          "name": "stderr"
        },
        {
          "output_type": "stream",
          "text": [
            "Epoch 23/200\n",
            "2/2 [==============================] - 0s 26ms/step - loss: 0.4032 - accuracy: 0.8526 - val_loss: 0.2348 - val_accuracy: 0.9722\n",
            "WARNING:tensorflow:Can save best model only with val_acc available, skipping.\n"
          ],
          "name": "stdout"
        },
        {
          "output_type": "stream",
          "text": [
            "WARNING:tensorflow:Can save best model only with val_acc available, skipping.\n"
          ],
          "name": "stderr"
        },
        {
          "output_type": "stream",
          "text": [
            "Epoch 24/200\n",
            "2/2 [==============================] - 0s 25ms/step - loss: 0.4083 - accuracy: 0.8526 - val_loss: 0.1297 - val_accuracy: 1.0000\n",
            "WARNING:tensorflow:Can save best model only with val_acc available, skipping.\n"
          ],
          "name": "stdout"
        },
        {
          "output_type": "stream",
          "text": [
            "WARNING:tensorflow:Can save best model only with val_acc available, skipping.\n"
          ],
          "name": "stderr"
        },
        {
          "output_type": "stream",
          "text": [
            "Epoch 25/200\n",
            "2/2 [==============================] - 0s 29ms/step - loss: 0.4005 - accuracy: 0.8526 - val_loss: 0.0590 - val_accuracy: 1.0000\n",
            "WARNING:tensorflow:Can save best model only with val_acc available, skipping.\n"
          ],
          "name": "stdout"
        },
        {
          "output_type": "stream",
          "text": [
            "WARNING:tensorflow:Can save best model only with val_acc available, skipping.\n"
          ],
          "name": "stderr"
        },
        {
          "output_type": "stream",
          "text": [
            "Epoch 26/200\n",
            "2/2 [==============================] - 0s 25ms/step - loss: 0.4618 - accuracy: 0.8526 - val_loss: 0.0721 - val_accuracy: 1.0000\n",
            "WARNING:tensorflow:Can save best model only with val_acc available, skipping.\n"
          ],
          "name": "stdout"
        },
        {
          "output_type": "stream",
          "text": [
            "WARNING:tensorflow:Can save best model only with val_acc available, skipping.\n"
          ],
          "name": "stderr"
        },
        {
          "output_type": "stream",
          "text": [
            "Epoch 27/200\n",
            "2/2 [==============================] - 0s 26ms/step - loss: 0.4285 - accuracy: 0.8526 - val_loss: 0.2478 - val_accuracy: 0.9722\n",
            "WARNING:tensorflow:Can save best model only with val_acc available, skipping.\n"
          ],
          "name": "stdout"
        },
        {
          "output_type": "stream",
          "text": [
            "WARNING:tensorflow:Can save best model only with val_acc available, skipping.\n"
          ],
          "name": "stderr"
        },
        {
          "output_type": "stream",
          "text": [
            "Epoch 28/200\n",
            "2/2 [==============================] - 0s 25ms/step - loss: 0.4178 - accuracy: 0.8462 - val_loss: 0.4076 - val_accuracy: 0.9722\n",
            "WARNING:tensorflow:Can save best model only with val_acc available, skipping.\n"
          ],
          "name": "stdout"
        },
        {
          "output_type": "stream",
          "text": [
            "WARNING:tensorflow:Can save best model only with val_acc available, skipping.\n"
          ],
          "name": "stderr"
        },
        {
          "output_type": "stream",
          "text": [
            "Epoch 29/200\n",
            "2/2 [==============================] - 0s 25ms/step - loss: 0.4721 - accuracy: 0.8462 - val_loss: 0.1495 - val_accuracy: 1.0000\n",
            "WARNING:tensorflow:Can save best model only with val_acc available, skipping.\n"
          ],
          "name": "stdout"
        },
        {
          "output_type": "stream",
          "text": [
            "WARNING:tensorflow:Can save best model only with val_acc available, skipping.\n"
          ],
          "name": "stderr"
        },
        {
          "output_type": "stream",
          "text": [
            "Epoch 30/200\n",
            "2/2 [==============================] - 0s 26ms/step - loss: 0.4219 - accuracy: 0.8526 - val_loss: 0.0829 - val_accuracy: 1.0000\n",
            "WARNING:tensorflow:Can save best model only with val_acc available, skipping.\n"
          ],
          "name": "stdout"
        },
        {
          "output_type": "stream",
          "text": [
            "WARNING:tensorflow:Can save best model only with val_acc available, skipping.\n"
          ],
          "name": "stderr"
        },
        {
          "output_type": "stream",
          "text": [
            "Epoch 31/200\n",
            "2/2 [==============================] - 0s 29ms/step - loss: 0.4236 - accuracy: 0.8526 - val_loss: 0.1777 - val_accuracy: 1.0000\n",
            "WARNING:tensorflow:Can save best model only with val_acc available, skipping.\n"
          ],
          "name": "stdout"
        },
        {
          "output_type": "stream",
          "text": [
            "WARNING:tensorflow:Can save best model only with val_acc available, skipping.\n"
          ],
          "name": "stderr"
        },
        {
          "output_type": "stream",
          "text": [
            "Epoch 32/200\n",
            "2/2 [==============================] - 0s 26ms/step - loss: 0.3976 - accuracy: 0.8526 - val_loss: 0.3839 - val_accuracy: 0.9722\n",
            "WARNING:tensorflow:Can save best model only with val_acc available, skipping.\n"
          ],
          "name": "stdout"
        },
        {
          "output_type": "stream",
          "text": [
            "WARNING:tensorflow:Can save best model only with val_acc available, skipping.\n"
          ],
          "name": "stderr"
        },
        {
          "output_type": "stream",
          "text": [
            "Epoch 33/200\n",
            "2/2 [==============================] - 0s 27ms/step - loss: 0.4684 - accuracy: 0.8462 - val_loss: 0.1902 - val_accuracy: 0.9722\n",
            "WARNING:tensorflow:Can save best model only with val_acc available, skipping.\n"
          ],
          "name": "stdout"
        },
        {
          "output_type": "stream",
          "text": [
            "WARNING:tensorflow:Can save best model only with val_acc available, skipping.\n"
          ],
          "name": "stderr"
        },
        {
          "output_type": "stream",
          "text": [
            "Epoch 34/200\n",
            "2/2 [==============================] - 0s 29ms/step - loss: 0.3948 - accuracy: 0.8526 - val_loss: 0.0520 - val_accuracy: 1.0000\n",
            "WARNING:tensorflow:Can save best model only with val_acc available, skipping.\n"
          ],
          "name": "stdout"
        },
        {
          "output_type": "stream",
          "text": [
            "WARNING:tensorflow:Can save best model only with val_acc available, skipping.\n"
          ],
          "name": "stderr"
        },
        {
          "output_type": "stream",
          "text": [
            "Epoch 35/200\n",
            "2/2 [==============================] - 0s 25ms/step - loss: 0.4731 - accuracy: 0.8526 - val_loss: 0.0345 - val_accuracy: 1.0000\n",
            "WARNING:tensorflow:Can save best model only with val_acc available, skipping.\n"
          ],
          "name": "stdout"
        },
        {
          "output_type": "stream",
          "text": [
            "WARNING:tensorflow:Can save best model only with val_acc available, skipping.\n"
          ],
          "name": "stderr"
        },
        {
          "output_type": "stream",
          "text": [
            "Epoch 36/200\n",
            "2/2 [==============================] - 0s 26ms/step - loss: 0.5127 - accuracy: 0.8526 - val_loss: 0.0700 - val_accuracy: 1.0000\n",
            "WARNING:tensorflow:Can save best model only with val_acc available, skipping.\n"
          ],
          "name": "stdout"
        },
        {
          "output_type": "stream",
          "text": [
            "WARNING:tensorflow:Can save best model only with val_acc available, skipping.\n"
          ],
          "name": "stderr"
        },
        {
          "output_type": "stream",
          "text": [
            "Epoch 37/200\n",
            "2/2 [==============================] - 0s 26ms/step - loss: 0.4173 - accuracy: 0.8526 - val_loss: 0.3309 - val_accuracy: 0.9722\n",
            "WARNING:tensorflow:Can save best model only with val_acc available, skipping.\n"
          ],
          "name": "stdout"
        },
        {
          "output_type": "stream",
          "text": [
            "WARNING:tensorflow:Can save best model only with val_acc available, skipping.\n"
          ],
          "name": "stderr"
        },
        {
          "output_type": "stream",
          "text": [
            "Epoch 38/200\n",
            "2/2 [==============================] - 0s 26ms/step - loss: 0.4565 - accuracy: 0.8526 - val_loss: 0.5624 - val_accuracy: 0.9722\n",
            "WARNING:tensorflow:Can save best model only with val_acc available, skipping.\n"
          ],
          "name": "stdout"
        },
        {
          "output_type": "stream",
          "text": [
            "WARNING:tensorflow:Can save best model only with val_acc available, skipping.\n"
          ],
          "name": "stderr"
        },
        {
          "output_type": "stream",
          "text": [
            "Epoch 39/200\n",
            "2/2 [==============================] - 0s 26ms/step - loss: 0.5642 - accuracy: 0.8397 - val_loss: 0.1896 - val_accuracy: 0.9722\n",
            "WARNING:tensorflow:Can save best model only with val_acc available, skipping.\n"
          ],
          "name": "stdout"
        },
        {
          "output_type": "stream",
          "text": [
            "WARNING:tensorflow:Can save best model only with val_acc available, skipping.\n"
          ],
          "name": "stderr"
        },
        {
          "output_type": "stream",
          "text": [
            "Epoch 40/200\n",
            "2/2 [==============================] - 0s 29ms/step - loss: 0.4001 - accuracy: 0.8526 - val_loss: 0.0678 - val_accuracy: 1.0000\n",
            "WARNING:tensorflow:Can save best model only with val_acc available, skipping.\n"
          ],
          "name": "stdout"
        },
        {
          "output_type": "stream",
          "text": [
            "WARNING:tensorflow:Can save best model only with val_acc available, skipping.\n"
          ],
          "name": "stderr"
        },
        {
          "output_type": "stream",
          "text": [
            "Epoch 41/200\n",
            "2/2 [==============================] - 0s 31ms/step - loss: 0.4512 - accuracy: 0.8526 - val_loss: 0.0592 - val_accuracy: 1.0000\n",
            "WARNING:tensorflow:Can save best model only with val_acc available, skipping.\n"
          ],
          "name": "stdout"
        },
        {
          "output_type": "stream",
          "text": [
            "WARNING:tensorflow:Can save best model only with val_acc available, skipping.\n"
          ],
          "name": "stderr"
        },
        {
          "output_type": "stream",
          "text": [
            "Epoch 42/200\n",
            "2/2 [==============================] - 0s 25ms/step - loss: 0.4542 - accuracy: 0.8526 - val_loss: 0.1247 - val_accuracy: 1.0000\n",
            "WARNING:tensorflow:Can save best model only with val_acc available, skipping.\n"
          ],
          "name": "stdout"
        },
        {
          "output_type": "stream",
          "text": [
            "WARNING:tensorflow:Can save best model only with val_acc available, skipping.\n"
          ],
          "name": "stderr"
        },
        {
          "output_type": "stream",
          "text": [
            "Epoch 43/200\n",
            "2/2 [==============================] - 0s 26ms/step - loss: 0.4102 - accuracy: 0.8526 - val_loss: 0.2534 - val_accuracy: 0.9722\n",
            "WARNING:tensorflow:Can save best model only with val_acc available, skipping.\n"
          ],
          "name": "stdout"
        },
        {
          "output_type": "stream",
          "text": [
            "WARNING:tensorflow:Can save best model only with val_acc available, skipping.\n"
          ],
          "name": "stderr"
        },
        {
          "output_type": "stream",
          "text": [
            "Epoch 44/200\n",
            "2/2 [==============================] - 0s 26ms/step - loss: 0.4146 - accuracy: 0.8462 - val_loss: 0.2660 - val_accuracy: 0.9722\n",
            "WARNING:tensorflow:Can save best model only with val_acc available, skipping.\n"
          ],
          "name": "stdout"
        },
        {
          "output_type": "stream",
          "text": [
            "WARNING:tensorflow:Can save best model only with val_acc available, skipping.\n"
          ],
          "name": "stderr"
        },
        {
          "output_type": "stream",
          "text": [
            "Epoch 45/200\n",
            "2/2 [==============================] - 0s 24ms/step - loss: 0.4172 - accuracy: 0.8462 - val_loss: 0.1863 - val_accuracy: 0.9722\n",
            "WARNING:tensorflow:Can save best model only with val_acc available, skipping.\n"
          ],
          "name": "stdout"
        },
        {
          "output_type": "stream",
          "text": [
            "WARNING:tensorflow:Can save best model only with val_acc available, skipping.\n"
          ],
          "name": "stderr"
        },
        {
          "output_type": "stream",
          "text": [
            "Epoch 46/200\n",
            "2/2 [==============================] - 0s 26ms/step - loss: 0.3967 - accuracy: 0.8526 - val_loss: 0.1087 - val_accuracy: 1.0000\n",
            "WARNING:tensorflow:Can save best model only with val_acc available, skipping.\n"
          ],
          "name": "stdout"
        },
        {
          "output_type": "stream",
          "text": [
            "WARNING:tensorflow:Can save best model only with val_acc available, skipping.\n"
          ],
          "name": "stderr"
        },
        {
          "output_type": "stream",
          "text": [
            "Epoch 47/200\n",
            "2/2 [==============================] - 0s 26ms/step - loss: 0.4110 - accuracy: 0.8526 - val_loss: 0.0764 - val_accuracy: 1.0000\n",
            "WARNING:tensorflow:Can save best model only with val_acc available, skipping.\n"
          ],
          "name": "stdout"
        },
        {
          "output_type": "stream",
          "text": [
            "WARNING:tensorflow:Can save best model only with val_acc available, skipping.\n"
          ],
          "name": "stderr"
        },
        {
          "output_type": "stream",
          "text": [
            "Epoch 48/200\n",
            "2/2 [==============================] - 0s 26ms/step - loss: 0.4355 - accuracy: 0.8526 - val_loss: 0.1016 - val_accuracy: 1.0000\n",
            "WARNING:tensorflow:Can save best model only with val_acc available, skipping.\n"
          ],
          "name": "stdout"
        },
        {
          "output_type": "stream",
          "text": [
            "WARNING:tensorflow:Can save best model only with val_acc available, skipping.\n"
          ],
          "name": "stderr"
        },
        {
          "output_type": "stream",
          "text": [
            "Epoch 49/200\n",
            "2/2 [==============================] - 0s 27ms/step - loss: 0.4181 - accuracy: 0.8526 - val_loss: 0.1924 - val_accuracy: 0.9722\n",
            "WARNING:tensorflow:Can save best model only with val_acc available, skipping.\n"
          ],
          "name": "stdout"
        },
        {
          "output_type": "stream",
          "text": [
            "WARNING:tensorflow:Can save best model only with val_acc available, skipping.\n"
          ],
          "name": "stderr"
        },
        {
          "output_type": "stream",
          "text": [
            "Epoch 50/200\n",
            "2/2 [==============================] - 0s 25ms/step - loss: 0.4019 - accuracy: 0.8526 - val_loss: 0.2315 - val_accuracy: 0.9722\n",
            "WARNING:tensorflow:Can save best model only with val_acc available, skipping.\n"
          ],
          "name": "stdout"
        },
        {
          "output_type": "stream",
          "text": [
            "WARNING:tensorflow:Can save best model only with val_acc available, skipping.\n"
          ],
          "name": "stderr"
        },
        {
          "output_type": "stream",
          "text": [
            "Epoch 51/200\n",
            "2/2 [==============================] - 0s 24ms/step - loss: 0.4075 - accuracy: 0.8526 - val_loss: 0.1844 - val_accuracy: 0.9722\n",
            "WARNING:tensorflow:Can save best model only with val_acc available, skipping.\n"
          ],
          "name": "stdout"
        },
        {
          "output_type": "stream",
          "text": [
            "WARNING:tensorflow:Can save best model only with val_acc available, skipping.\n"
          ],
          "name": "stderr"
        },
        {
          "output_type": "stream",
          "text": [
            "Epoch 52/200\n",
            "2/2 [==============================] - 0s 24ms/step - loss: 0.4040 - accuracy: 0.8526 - val_loss: 0.1626 - val_accuracy: 1.0000\n",
            "WARNING:tensorflow:Can save best model only with val_acc available, skipping.\n"
          ],
          "name": "stdout"
        },
        {
          "output_type": "stream",
          "text": [
            "WARNING:tensorflow:Can save best model only with val_acc available, skipping.\n"
          ],
          "name": "stderr"
        },
        {
          "output_type": "stream",
          "text": [
            "Epoch 53/200\n",
            "2/2 [==============================] - 0s 24ms/step - loss: 0.3987 - accuracy: 0.8526 - val_loss: 0.2224 - val_accuracy: 0.9722\n",
            "WARNING:tensorflow:Can save best model only with val_acc available, skipping.\n"
          ],
          "name": "stdout"
        },
        {
          "output_type": "stream",
          "text": [
            "WARNING:tensorflow:Can save best model only with val_acc available, skipping.\n"
          ],
          "name": "stderr"
        },
        {
          "output_type": "stream",
          "text": [
            "Epoch 54/200\n",
            "2/2 [==============================] - 0s 23ms/step - loss: 0.4078 - accuracy: 0.8526 - val_loss: 0.2588 - val_accuracy: 0.9722\n",
            "WARNING:tensorflow:Can save best model only with val_acc available, skipping.\n"
          ],
          "name": "stdout"
        },
        {
          "output_type": "stream",
          "text": [
            "WARNING:tensorflow:Can save best model only with val_acc available, skipping.\n"
          ],
          "name": "stderr"
        },
        {
          "output_type": "stream",
          "text": [
            "Epoch 55/200\n",
            "2/2 [==============================] - 0s 25ms/step - loss: 0.4222 - accuracy: 0.8462 - val_loss: 0.2220 - val_accuracy: 0.9722\n",
            "WARNING:tensorflow:Can save best model only with val_acc available, skipping.\n"
          ],
          "name": "stdout"
        },
        {
          "output_type": "stream",
          "text": [
            "WARNING:tensorflow:Can save best model only with val_acc available, skipping.\n"
          ],
          "name": "stderr"
        },
        {
          "output_type": "stream",
          "text": [
            "Epoch 56/200\n",
            "2/2 [==============================] - 0s 26ms/step - loss: 0.4082 - accuracy: 0.8526 - val_loss: 0.2548 - val_accuracy: 0.9722\n",
            "WARNING:tensorflow:Can save best model only with val_acc available, skipping.\n"
          ],
          "name": "stdout"
        },
        {
          "output_type": "stream",
          "text": [
            "WARNING:tensorflow:Can save best model only with val_acc available, skipping.\n"
          ],
          "name": "stderr"
        },
        {
          "output_type": "stream",
          "text": [
            "Epoch 57/200\n",
            "2/2 [==============================] - 0s 28ms/step - loss: 0.4167 - accuracy: 0.8462 - val_loss: 0.2233 - val_accuracy: 0.9722\n",
            "WARNING:tensorflow:Can save best model only with val_acc available, skipping.\n"
          ],
          "name": "stdout"
        },
        {
          "output_type": "stream",
          "text": [
            "WARNING:tensorflow:Can save best model only with val_acc available, skipping.\n"
          ],
          "name": "stderr"
        },
        {
          "output_type": "stream",
          "text": [
            "Epoch 58/200\n",
            "2/2 [==============================] - 0s 25ms/step - loss: 0.4024 - accuracy: 0.8526 - val_loss: 0.1200 - val_accuracy: 1.0000\n",
            "WARNING:tensorflow:Can save best model only with val_acc available, skipping.\n"
          ],
          "name": "stdout"
        },
        {
          "output_type": "stream",
          "text": [
            "WARNING:tensorflow:Can save best model only with val_acc available, skipping.\n"
          ],
          "name": "stderr"
        },
        {
          "output_type": "stream",
          "text": [
            "Epoch 59/200\n",
            "2/2 [==============================] - 0s 31ms/step - loss: 0.4101 - accuracy: 0.8526 - val_loss: 0.0930 - val_accuracy: 1.0000\n",
            "WARNING:tensorflow:Can save best model only with val_acc available, skipping.\n"
          ],
          "name": "stdout"
        },
        {
          "output_type": "stream",
          "text": [
            "WARNING:tensorflow:Can save best model only with val_acc available, skipping.\n"
          ],
          "name": "stderr"
        },
        {
          "output_type": "stream",
          "text": [
            "Epoch 60/200\n",
            "2/2 [==============================] - 0s 43ms/step - loss: 0.4192 - accuracy: 0.8526 - val_loss: 0.1341 - val_accuracy: 1.0000\n",
            "WARNING:tensorflow:Can save best model only with val_acc available, skipping.\n"
          ],
          "name": "stdout"
        },
        {
          "output_type": "stream",
          "text": [
            "WARNING:tensorflow:Can save best model only with val_acc available, skipping.\n"
          ],
          "name": "stderr"
        },
        {
          "output_type": "stream",
          "text": [
            "Epoch 61/200\n",
            "2/2 [==============================] - 0s 24ms/step - loss: 0.4030 - accuracy: 0.8526 - val_loss: 0.2147 - val_accuracy: 0.9722\n",
            "WARNING:tensorflow:Can save best model only with val_acc available, skipping.\n"
          ],
          "name": "stdout"
        },
        {
          "output_type": "stream",
          "text": [
            "WARNING:tensorflow:Can save best model only with val_acc available, skipping.\n"
          ],
          "name": "stderr"
        },
        {
          "output_type": "stream",
          "text": [
            "Epoch 62/200\n",
            "2/2 [==============================] - 0s 24ms/step - loss: 0.4035 - accuracy: 0.8526 - val_loss: 0.2575 - val_accuracy: 0.9722\n",
            "WARNING:tensorflow:Can save best model only with val_acc available, skipping.\n"
          ],
          "name": "stdout"
        },
        {
          "output_type": "stream",
          "text": [
            "WARNING:tensorflow:Can save best model only with val_acc available, skipping.\n"
          ],
          "name": "stderr"
        },
        {
          "output_type": "stream",
          "text": [
            "Epoch 63/200\n",
            "2/2 [==============================] - 0s 29ms/step - loss: 0.4172 - accuracy: 0.8462 - val_loss: 0.1739 - val_accuracy: 0.9722\n",
            "WARNING:tensorflow:Can save best model only with val_acc available, skipping.\n"
          ],
          "name": "stdout"
        },
        {
          "output_type": "stream",
          "text": [
            "WARNING:tensorflow:Can save best model only with val_acc available, skipping.\n"
          ],
          "name": "stderr"
        },
        {
          "output_type": "stream",
          "text": [
            "Epoch 64/200\n",
            "2/2 [==============================] - 0s 27ms/step - loss: 0.3995 - accuracy: 0.8526 - val_loss: 0.0845 - val_accuracy: 1.0000\n",
            "WARNING:tensorflow:Can save best model only with val_acc available, skipping.\n"
          ],
          "name": "stdout"
        },
        {
          "output_type": "stream",
          "text": [
            "WARNING:tensorflow:Can save best model only with val_acc available, skipping.\n"
          ],
          "name": "stderr"
        },
        {
          "output_type": "stream",
          "text": [
            "Epoch 65/200\n",
            "2/2 [==============================] - 0s 27ms/step - loss: 0.4276 - accuracy: 0.8526 - val_loss: 0.0726 - val_accuracy: 1.0000\n",
            "WARNING:tensorflow:Can save best model only with val_acc available, skipping.\n"
          ],
          "name": "stdout"
        },
        {
          "output_type": "stream",
          "text": [
            "WARNING:tensorflow:Can save best model only with val_acc available, skipping.\n"
          ],
          "name": "stderr"
        },
        {
          "output_type": "stream",
          "text": [
            "Epoch 66/200\n",
            "2/2 [==============================] - 0s 29ms/step - loss: 0.4391 - accuracy: 0.8526 - val_loss: 0.1005 - val_accuracy: 1.0000\n",
            "WARNING:tensorflow:Can save best model only with val_acc available, skipping.\n"
          ],
          "name": "stdout"
        },
        {
          "output_type": "stream",
          "text": [
            "WARNING:tensorflow:Can save best model only with val_acc available, skipping.\n"
          ],
          "name": "stderr"
        },
        {
          "output_type": "stream",
          "text": [
            "Epoch 67/200\n",
            "2/2 [==============================] - 0s 27ms/step - loss: 0.4113 - accuracy: 0.8526 - val_loss: 0.1924 - val_accuracy: 0.9722\n",
            "WARNING:tensorflow:Can save best model only with val_acc available, skipping.\n"
          ],
          "name": "stdout"
        },
        {
          "output_type": "stream",
          "text": [
            "WARNING:tensorflow:Can save best model only with val_acc available, skipping.\n"
          ],
          "name": "stderr"
        },
        {
          "output_type": "stream",
          "text": [
            "Epoch 68/200\n",
            "2/2 [==============================] - 0s 39ms/step - loss: 0.4055 - accuracy: 0.8526 - val_loss: 0.2796 - val_accuracy: 0.9722\n",
            "WARNING:tensorflow:Can save best model only with val_acc available, skipping.\n"
          ],
          "name": "stdout"
        },
        {
          "output_type": "stream",
          "text": [
            "WARNING:tensorflow:Can save best model only with val_acc available, skipping.\n"
          ],
          "name": "stderr"
        },
        {
          "output_type": "stream",
          "text": [
            "Epoch 69/200\n",
            "2/2 [==============================] - 0s 25ms/step - loss: 0.4202 - accuracy: 0.8462 - val_loss: 0.1863 - val_accuracy: 0.9722\n",
            "WARNING:tensorflow:Can save best model only with val_acc available, skipping.\n"
          ],
          "name": "stdout"
        },
        {
          "output_type": "stream",
          "text": [
            "WARNING:tensorflow:Can save best model only with val_acc available, skipping.\n"
          ],
          "name": "stderr"
        },
        {
          "output_type": "stream",
          "text": [
            "Epoch 70/200\n",
            "2/2 [==============================] - 0s 26ms/step - loss: 0.4099 - accuracy: 0.8526 - val_loss: 0.1320 - val_accuracy: 1.0000\n",
            "WARNING:tensorflow:Can save best model only with val_acc available, skipping.\n"
          ],
          "name": "stdout"
        },
        {
          "output_type": "stream",
          "text": [
            "WARNING:tensorflow:Can save best model only with val_acc available, skipping.\n"
          ],
          "name": "stderr"
        },
        {
          "output_type": "stream",
          "text": [
            "Epoch 71/200\n",
            "2/2 [==============================] - 0s 25ms/step - loss: 0.4022 - accuracy: 0.8526 - val_loss: 0.1634 - val_accuracy: 0.9722\n",
            "WARNING:tensorflow:Can save best model only with val_acc available, skipping.\n"
          ],
          "name": "stdout"
        },
        {
          "output_type": "stream",
          "text": [
            "WARNING:tensorflow:Can save best model only with val_acc available, skipping.\n"
          ],
          "name": "stderr"
        },
        {
          "output_type": "stream",
          "text": [
            "Epoch 72/200\n",
            "2/2 [==============================] - 0s 24ms/step - loss: 0.3973 - accuracy: 0.8526 - val_loss: 0.2261 - val_accuracy: 0.9722\n",
            "WARNING:tensorflow:Can save best model only with val_acc available, skipping.\n"
          ],
          "name": "stdout"
        },
        {
          "output_type": "stream",
          "text": [
            "WARNING:tensorflow:Can save best model only with val_acc available, skipping.\n"
          ],
          "name": "stderr"
        },
        {
          "output_type": "stream",
          "text": [
            "Epoch 73/200\n",
            "2/2 [==============================] - 0s 28ms/step - loss: 0.4081 - accuracy: 0.8462 - val_loss: 0.2393 - val_accuracy: 0.9722\n",
            "WARNING:tensorflow:Can save best model only with val_acc available, skipping.\n"
          ],
          "name": "stdout"
        },
        {
          "output_type": "stream",
          "text": [
            "WARNING:tensorflow:Can save best model only with val_acc available, skipping.\n"
          ],
          "name": "stderr"
        },
        {
          "output_type": "stream",
          "text": [
            "Epoch 74/200\n",
            "2/2 [==============================] - 0s 24ms/step - loss: 0.4065 - accuracy: 0.8526 - val_loss: 0.1493 - val_accuracy: 0.9722\n",
            "WARNING:tensorflow:Can save best model only with val_acc available, skipping.\n"
          ],
          "name": "stdout"
        },
        {
          "output_type": "stream",
          "text": [
            "WARNING:tensorflow:Can save best model only with val_acc available, skipping.\n"
          ],
          "name": "stderr"
        },
        {
          "output_type": "stream",
          "text": [
            "Epoch 75/200\n",
            "2/2 [==============================] - 0s 25ms/step - loss: 0.3991 - accuracy: 0.8526 - val_loss: 0.0940 - val_accuracy: 1.0000\n",
            "WARNING:tensorflow:Can save best model only with val_acc available, skipping.\n"
          ],
          "name": "stdout"
        },
        {
          "output_type": "stream",
          "text": [
            "WARNING:tensorflow:Can save best model only with val_acc available, skipping.\n"
          ],
          "name": "stderr"
        },
        {
          "output_type": "stream",
          "text": [
            "Epoch 76/200\n",
            "2/2 [==============================] - 0s 24ms/step - loss: 0.4202 - accuracy: 0.8526 - val_loss: 0.0921 - val_accuracy: 1.0000\n",
            "WARNING:tensorflow:Can save best model only with val_acc available, skipping.\n"
          ],
          "name": "stdout"
        },
        {
          "output_type": "stream",
          "text": [
            "WARNING:tensorflow:Can save best model only with val_acc available, skipping.\n"
          ],
          "name": "stderr"
        },
        {
          "output_type": "stream",
          "text": [
            "Epoch 77/200\n",
            "2/2 [==============================] - 0s 25ms/step - loss: 0.4201 - accuracy: 0.8526 - val_loss: 0.1358 - val_accuracy: 1.0000\n",
            "WARNING:tensorflow:Can save best model only with val_acc available, skipping.\n"
          ],
          "name": "stdout"
        },
        {
          "output_type": "stream",
          "text": [
            "WARNING:tensorflow:Can save best model only with val_acc available, skipping.\n"
          ],
          "name": "stderr"
        },
        {
          "output_type": "stream",
          "text": [
            "Epoch 78/200\n",
            "2/2 [==============================] - 0s 27ms/step - loss: 0.3989 - accuracy: 0.8526 - val_loss: 0.2293 - val_accuracy: 0.9722\n",
            "WARNING:tensorflow:Can save best model only with val_acc available, skipping.\n"
          ],
          "name": "stdout"
        },
        {
          "output_type": "stream",
          "text": [
            "WARNING:tensorflow:Can save best model only with val_acc available, skipping.\n"
          ],
          "name": "stderr"
        },
        {
          "output_type": "stream",
          "text": [
            "Epoch 79/200\n",
            "2/2 [==============================] - 0s 27ms/step - loss: 0.4073 - accuracy: 0.8462 - val_loss: 0.2844 - val_accuracy: 0.9722\n",
            "WARNING:tensorflow:Can save best model only with val_acc available, skipping.\n"
          ],
          "name": "stdout"
        },
        {
          "output_type": "stream",
          "text": [
            "WARNING:tensorflow:Can save best model only with val_acc available, skipping.\n"
          ],
          "name": "stderr"
        },
        {
          "output_type": "stream",
          "text": [
            "Epoch 80/200\n",
            "2/2 [==============================] - 0s 24ms/step - loss: 0.4222 - accuracy: 0.8462 - val_loss: 0.1968 - val_accuracy: 0.9722\n",
            "WARNING:tensorflow:Can save best model only with val_acc available, skipping.\n"
          ],
          "name": "stdout"
        },
        {
          "output_type": "stream",
          "text": [
            "WARNING:tensorflow:Can save best model only with val_acc available, skipping.\n"
          ],
          "name": "stderr"
        },
        {
          "output_type": "stream",
          "text": [
            "Epoch 81/200\n",
            "2/2 [==============================] - 0s 28ms/step - loss: 0.3978 - accuracy: 0.8526 - val_loss: 0.1099 - val_accuracy: 1.0000\n",
            "WARNING:tensorflow:Can save best model only with val_acc available, skipping.\n"
          ],
          "name": "stdout"
        },
        {
          "output_type": "stream",
          "text": [
            "WARNING:tensorflow:Can save best model only with val_acc available, skipping.\n"
          ],
          "name": "stderr"
        },
        {
          "output_type": "stream",
          "text": [
            "Epoch 82/200\n",
            "2/2 [==============================] - 0s 27ms/step - loss: 0.4135 - accuracy: 0.8526 - val_loss: 0.0924 - val_accuracy: 1.0000\n",
            "WARNING:tensorflow:Can save best model only with val_acc available, skipping.\n"
          ],
          "name": "stdout"
        },
        {
          "output_type": "stream",
          "text": [
            "WARNING:tensorflow:Can save best model only with val_acc available, skipping.\n"
          ],
          "name": "stderr"
        },
        {
          "output_type": "stream",
          "text": [
            "Epoch 83/200\n",
            "2/2 [==============================] - 0s 29ms/step - loss: 0.4188 - accuracy: 0.8526 - val_loss: 0.1425 - val_accuracy: 1.0000\n",
            "WARNING:tensorflow:Can save best model only with val_acc available, skipping.\n"
          ],
          "name": "stdout"
        },
        {
          "output_type": "stream",
          "text": [
            "WARNING:tensorflow:Can save best model only with val_acc available, skipping.\n"
          ],
          "name": "stderr"
        },
        {
          "output_type": "stream",
          "text": [
            "Epoch 84/200\n",
            "2/2 [==============================] - 0s 26ms/step - loss: 0.4028 - accuracy: 0.8526 - val_loss: 0.2251 - val_accuracy: 0.9722\n",
            "WARNING:tensorflow:Can save best model only with val_acc available, skipping.\n"
          ],
          "name": "stdout"
        },
        {
          "output_type": "stream",
          "text": [
            "WARNING:tensorflow:Can save best model only with val_acc available, skipping.\n"
          ],
          "name": "stderr"
        },
        {
          "output_type": "stream",
          "text": [
            "Epoch 85/200\n",
            "2/2 [==============================] - 0s 26ms/step - loss: 0.4069 - accuracy: 0.8462 - val_loss: 0.2061 - val_accuracy: 0.9722\n",
            "WARNING:tensorflow:Can save best model only with val_acc available, skipping.\n"
          ],
          "name": "stdout"
        },
        {
          "output_type": "stream",
          "text": [
            "WARNING:tensorflow:Can save best model only with val_acc available, skipping.\n"
          ],
          "name": "stderr"
        },
        {
          "output_type": "stream",
          "text": [
            "Epoch 86/200\n",
            "2/2 [==============================] - 0s 28ms/step - loss: 0.4055 - accuracy: 0.8526 - val_loss: 0.1597 - val_accuracy: 0.9722\n",
            "WARNING:tensorflow:Can save best model only with val_acc available, skipping.\n"
          ],
          "name": "stdout"
        },
        {
          "output_type": "stream",
          "text": [
            "WARNING:tensorflow:Can save best model only with val_acc available, skipping.\n"
          ],
          "name": "stderr"
        },
        {
          "output_type": "stream",
          "text": [
            "Epoch 87/200\n",
            "2/2 [==============================] - 0s 27ms/step - loss: 0.3990 - accuracy: 0.8526 - val_loss: 0.1486 - val_accuracy: 1.0000\n",
            "WARNING:tensorflow:Can save best model only with val_acc available, skipping.\n"
          ],
          "name": "stdout"
        },
        {
          "output_type": "stream",
          "text": [
            "WARNING:tensorflow:Can save best model only with val_acc available, skipping.\n"
          ],
          "name": "stderr"
        },
        {
          "output_type": "stream",
          "text": [
            "Epoch 88/200\n",
            "2/2 [==============================] - 0s 31ms/step - loss: 0.4052 - accuracy: 0.8526 - val_loss: 0.1794 - val_accuracy: 0.9722\n",
            "WARNING:tensorflow:Can save best model only with val_acc available, skipping.\n"
          ],
          "name": "stdout"
        },
        {
          "output_type": "stream",
          "text": [
            "WARNING:tensorflow:Can save best model only with val_acc available, skipping.\n"
          ],
          "name": "stderr"
        },
        {
          "output_type": "stream",
          "text": [
            "Epoch 89/200\n",
            "2/2 [==============================] - 0s 27ms/step - loss: 0.3987 - accuracy: 0.8526 - val_loss: 0.2785 - val_accuracy: 0.9722\n",
            "WARNING:tensorflow:Can save best model only with val_acc available, skipping.\n"
          ],
          "name": "stdout"
        },
        {
          "output_type": "stream",
          "text": [
            "WARNING:tensorflow:Can save best model only with val_acc available, skipping.\n"
          ],
          "name": "stderr"
        },
        {
          "output_type": "stream",
          "text": [
            "Epoch 90/200\n",
            "2/2 [==============================] - 0s 25ms/step - loss: 0.4226 - accuracy: 0.8462 - val_loss: 0.2146 - val_accuracy: 0.9722\n",
            "WARNING:tensorflow:Can save best model only with val_acc available, skipping.\n"
          ],
          "name": "stdout"
        },
        {
          "output_type": "stream",
          "text": [
            "WARNING:tensorflow:Can save best model only with val_acc available, skipping.\n"
          ],
          "name": "stderr"
        },
        {
          "output_type": "stream",
          "text": [
            "Epoch 91/200\n",
            "2/2 [==============================] - 0s 26ms/step - loss: 0.4016 - accuracy: 0.8526 - val_loss: 0.1124 - val_accuracy: 1.0000\n",
            "WARNING:tensorflow:Can save best model only with val_acc available, skipping.\n"
          ],
          "name": "stdout"
        },
        {
          "output_type": "stream",
          "text": [
            "WARNING:tensorflow:Can save best model only with val_acc available, skipping.\n"
          ],
          "name": "stderr"
        },
        {
          "output_type": "stream",
          "text": [
            "Epoch 92/200\n",
            "2/2 [==============================] - 0s 28ms/step - loss: 0.4102 - accuracy: 0.8526 - val_loss: 0.0869 - val_accuracy: 1.0000\n",
            "WARNING:tensorflow:Can save best model only with val_acc available, skipping.\n"
          ],
          "name": "stdout"
        },
        {
          "output_type": "stream",
          "text": [
            "WARNING:tensorflow:Can save best model only with val_acc available, skipping.\n"
          ],
          "name": "stderr"
        },
        {
          "output_type": "stream",
          "text": [
            "Epoch 93/200\n",
            "2/2 [==============================] - 0s 25ms/step - loss: 0.4247 - accuracy: 0.8526 - val_loss: 0.1101 - val_accuracy: 1.0000\n",
            "WARNING:tensorflow:Can save best model only with val_acc available, skipping.\n"
          ],
          "name": "stdout"
        },
        {
          "output_type": "stream",
          "text": [
            "WARNING:tensorflow:Can save best model only with val_acc available, skipping.\n"
          ],
          "name": "stderr"
        },
        {
          "output_type": "stream",
          "text": [
            "Epoch 94/200\n",
            "2/2 [==============================] - 0s 28ms/step - loss: 0.4072 - accuracy: 0.8526 - val_loss: 0.1881 - val_accuracy: 0.9722\n",
            "WARNING:tensorflow:Can save best model only with val_acc available, skipping.\n"
          ],
          "name": "stdout"
        },
        {
          "output_type": "stream",
          "text": [
            "WARNING:tensorflow:Can save best model only with val_acc available, skipping.\n"
          ],
          "name": "stderr"
        },
        {
          "output_type": "stream",
          "text": [
            "Epoch 95/200\n",
            "2/2 [==============================] - 0s 27ms/step - loss: 0.4002 - accuracy: 0.8526 - val_loss: 0.2749 - val_accuracy: 0.9722\n",
            "WARNING:tensorflow:Can save best model only with val_acc available, skipping.\n"
          ],
          "name": "stdout"
        },
        {
          "output_type": "stream",
          "text": [
            "WARNING:tensorflow:Can save best model only with val_acc available, skipping.\n"
          ],
          "name": "stderr"
        },
        {
          "output_type": "stream",
          "text": [
            "Epoch 96/200\n",
            "2/2 [==============================] - 0s 30ms/step - loss: 0.4200 - accuracy: 0.8526 - val_loss: 0.2247 - val_accuracy: 0.9722\n",
            "WARNING:tensorflow:Can save best model only with val_acc available, skipping.\n"
          ],
          "name": "stdout"
        },
        {
          "output_type": "stream",
          "text": [
            "WARNING:tensorflow:Can save best model only with val_acc available, skipping.\n"
          ],
          "name": "stderr"
        },
        {
          "output_type": "stream",
          "text": [
            "Epoch 97/200\n",
            "2/2 [==============================] - 0s 31ms/step - loss: 0.4048 - accuracy: 0.8462 - val_loss: 0.1419 - val_accuracy: 1.0000\n",
            "WARNING:tensorflow:Can save best model only with val_acc available, skipping.\n"
          ],
          "name": "stdout"
        },
        {
          "output_type": "stream",
          "text": [
            "WARNING:tensorflow:Can save best model only with val_acc available, skipping.\n"
          ],
          "name": "stderr"
        },
        {
          "output_type": "stream",
          "text": [
            "Epoch 98/200\n",
            "2/2 [==============================] - 0s 31ms/step - loss: 0.4004 - accuracy: 0.8526 - val_loss: 0.1099 - val_accuracy: 1.0000\n",
            "WARNING:tensorflow:Can save best model only with val_acc available, skipping.\n"
          ],
          "name": "stdout"
        },
        {
          "output_type": "stream",
          "text": [
            "WARNING:tensorflow:Can save best model only with val_acc available, skipping.\n"
          ],
          "name": "stderr"
        },
        {
          "output_type": "stream",
          "text": [
            "Epoch 99/200\n",
            "2/2 [==============================] - 0s 27ms/step - loss: 0.4105 - accuracy: 0.8526 - val_loss: 0.1278 - val_accuracy: 1.0000\n",
            "WARNING:tensorflow:Can save best model only with val_acc available, skipping.\n"
          ],
          "name": "stdout"
        },
        {
          "output_type": "stream",
          "text": [
            "WARNING:tensorflow:Can save best model only with val_acc available, skipping.\n"
          ],
          "name": "stderr"
        },
        {
          "output_type": "stream",
          "text": [
            "Epoch 100/200\n",
            "2/2 [==============================] - 0s 25ms/step - loss: 0.4021 - accuracy: 0.8526 - val_loss: 0.1994 - val_accuracy: 0.9722\n",
            "WARNING:tensorflow:Can save best model only with val_acc available, skipping.\n"
          ],
          "name": "stdout"
        },
        {
          "output_type": "stream",
          "text": [
            "WARNING:tensorflow:Can save best model only with val_acc available, skipping.\n"
          ],
          "name": "stderr"
        },
        {
          "output_type": "stream",
          "text": [
            "Epoch 101/200\n",
            "2/2 [==============================] - 0s 26ms/step - loss: 0.4029 - accuracy: 0.8526 - val_loss: 0.2334 - val_accuracy: 0.9722\n",
            "WARNING:tensorflow:Can save best model only with val_acc available, skipping.\n"
          ],
          "name": "stdout"
        },
        {
          "output_type": "stream",
          "text": [
            "WARNING:tensorflow:Can save best model only with val_acc available, skipping.\n"
          ],
          "name": "stderr"
        },
        {
          "output_type": "stream",
          "text": [
            "Epoch 102/200\n",
            "2/2 [==============================] - 0s 29ms/step - loss: 0.4078 - accuracy: 0.8462 - val_loss: 0.1859 - val_accuracy: 0.9722\n",
            "WARNING:tensorflow:Can save best model only with val_acc available, skipping.\n"
          ],
          "name": "stdout"
        },
        {
          "output_type": "stream",
          "text": [
            "WARNING:tensorflow:Can save best model only with val_acc available, skipping.\n"
          ],
          "name": "stderr"
        },
        {
          "output_type": "stream",
          "text": [
            "Epoch 103/200\n",
            "2/2 [==============================] - 0s 26ms/step - loss: 0.3980 - accuracy: 0.8526 - val_loss: 0.1390 - val_accuracy: 1.0000\n",
            "WARNING:tensorflow:Can save best model only with val_acc available, skipping.\n"
          ],
          "name": "stdout"
        },
        {
          "output_type": "stream",
          "text": [
            "WARNING:tensorflow:Can save best model only with val_acc available, skipping.\n"
          ],
          "name": "stderr"
        },
        {
          "output_type": "stream",
          "text": [
            "Epoch 104/200\n",
            "2/2 [==============================] - 0s 25ms/step - loss: 0.4016 - accuracy: 0.8526 - val_loss: 0.1175 - val_accuracy: 1.0000\n",
            "WARNING:tensorflow:Can save best model only with val_acc available, skipping.\n"
          ],
          "name": "stdout"
        },
        {
          "output_type": "stream",
          "text": [
            "WARNING:tensorflow:Can save best model only with val_acc available, skipping.\n"
          ],
          "name": "stderr"
        },
        {
          "output_type": "stream",
          "text": [
            "Epoch 105/200\n",
            "2/2 [==============================] - 0s 26ms/step - loss: 0.4066 - accuracy: 0.8526 - val_loss: 0.1410 - val_accuracy: 1.0000\n",
            "WARNING:tensorflow:Can save best model only with val_acc available, skipping.\n"
          ],
          "name": "stdout"
        },
        {
          "output_type": "stream",
          "text": [
            "WARNING:tensorflow:Can save best model only with val_acc available, skipping.\n"
          ],
          "name": "stderr"
        },
        {
          "output_type": "stream",
          "text": [
            "Epoch 106/200\n",
            "2/2 [==============================] - 0s 27ms/step - loss: 0.4046 - accuracy: 0.8526 - val_loss: 0.1635 - val_accuracy: 0.9722\n",
            "WARNING:tensorflow:Can save best model only with val_acc available, skipping.\n"
          ],
          "name": "stdout"
        },
        {
          "output_type": "stream",
          "text": [
            "WARNING:tensorflow:Can save best model only with val_acc available, skipping.\n"
          ],
          "name": "stderr"
        },
        {
          "output_type": "stream",
          "text": [
            "Epoch 107/200\n",
            "2/2 [==============================] - 0s 31ms/step - loss: 0.3982 - accuracy: 0.8526 - val_loss: 0.1457 - val_accuracy: 0.9722\n",
            "WARNING:tensorflow:Can save best model only with val_acc available, skipping.\n"
          ],
          "name": "stdout"
        },
        {
          "output_type": "stream",
          "text": [
            "WARNING:tensorflow:Can save best model only with val_acc available, skipping.\n"
          ],
          "name": "stderr"
        },
        {
          "output_type": "stream",
          "text": [
            "Epoch 108/200\n",
            "2/2 [==============================] - 0s 26ms/step - loss: 0.4008 - accuracy: 0.8526 - val_loss: 0.1547 - val_accuracy: 0.9722\n",
            "WARNING:tensorflow:Can save best model only with val_acc available, skipping.\n"
          ],
          "name": "stdout"
        },
        {
          "output_type": "stream",
          "text": [
            "WARNING:tensorflow:Can save best model only with val_acc available, skipping.\n"
          ],
          "name": "stderr"
        },
        {
          "output_type": "stream",
          "text": [
            "Epoch 109/200\n",
            "2/2 [==============================] - 0s 27ms/step - loss: 0.4002 - accuracy: 0.8526 - val_loss: 0.1841 - val_accuracy: 0.9722\n",
            "WARNING:tensorflow:Can save best model only with val_acc available, skipping.\n"
          ],
          "name": "stdout"
        },
        {
          "output_type": "stream",
          "text": [
            "WARNING:tensorflow:Can save best model only with val_acc available, skipping.\n"
          ],
          "name": "stderr"
        },
        {
          "output_type": "stream",
          "text": [
            "Epoch 110/200\n",
            "2/2 [==============================] - 0s 28ms/step - loss: 0.3989 - accuracy: 0.8526 - val_loss: 0.1764 - val_accuracy: 0.9722\n",
            "WARNING:tensorflow:Can save best model only with val_acc available, skipping.\n"
          ],
          "name": "stdout"
        },
        {
          "output_type": "stream",
          "text": [
            "WARNING:tensorflow:Can save best model only with val_acc available, skipping.\n"
          ],
          "name": "stderr"
        },
        {
          "output_type": "stream",
          "text": [
            "Epoch 111/200\n",
            "2/2 [==============================] - 0s 30ms/step - loss: 0.3983 - accuracy: 0.8526 - val_loss: 0.1528 - val_accuracy: 0.9722\n",
            "WARNING:tensorflow:Can save best model only with val_acc available, skipping.\n"
          ],
          "name": "stdout"
        },
        {
          "output_type": "stream",
          "text": [
            "WARNING:tensorflow:Can save best model only with val_acc available, skipping.\n"
          ],
          "name": "stderr"
        },
        {
          "output_type": "stream",
          "text": [
            "Epoch 112/200\n",
            "2/2 [==============================] - 0s 28ms/step - loss: 0.3987 - accuracy: 0.8526 - val_loss: 0.1305 - val_accuracy: 1.0000\n",
            "WARNING:tensorflow:Can save best model only with val_acc available, skipping.\n"
          ],
          "name": "stdout"
        },
        {
          "output_type": "stream",
          "text": [
            "WARNING:tensorflow:Can save best model only with val_acc available, skipping.\n"
          ],
          "name": "stderr"
        },
        {
          "output_type": "stream",
          "text": [
            "Epoch 113/200\n",
            "2/2 [==============================] - 0s 25ms/step - loss: 0.4029 - accuracy: 0.8526 - val_loss: 0.1243 - val_accuracy: 1.0000\n",
            "WARNING:tensorflow:Can save best model only with val_acc available, skipping.\n"
          ],
          "name": "stdout"
        },
        {
          "output_type": "stream",
          "text": [
            "WARNING:tensorflow:Can save best model only with val_acc available, skipping.\n"
          ],
          "name": "stderr"
        },
        {
          "output_type": "stream",
          "text": [
            "Epoch 114/200\n",
            "2/2 [==============================] - 0s 27ms/step - loss: 0.4045 - accuracy: 0.8526 - val_loss: 0.1297 - val_accuracy: 1.0000\n",
            "WARNING:tensorflow:Can save best model only with val_acc available, skipping.\n"
          ],
          "name": "stdout"
        },
        {
          "output_type": "stream",
          "text": [
            "WARNING:tensorflow:Can save best model only with val_acc available, skipping.\n"
          ],
          "name": "stderr"
        },
        {
          "output_type": "stream",
          "text": [
            "Epoch 115/200\n",
            "2/2 [==============================] - 0s 29ms/step - loss: 0.4037 - accuracy: 0.8526 - val_loss: 0.1455 - val_accuracy: 0.9722\n",
            "WARNING:tensorflow:Can save best model only with val_acc available, skipping.\n"
          ],
          "name": "stdout"
        },
        {
          "output_type": "stream",
          "text": [
            "WARNING:tensorflow:Can save best model only with val_acc available, skipping.\n"
          ],
          "name": "stderr"
        },
        {
          "output_type": "stream",
          "text": [
            "Epoch 116/200\n",
            "2/2 [==============================] - 0s 26ms/step - loss: 0.3996 - accuracy: 0.8526 - val_loss: 0.1618 - val_accuracy: 0.9722\n",
            "WARNING:tensorflow:Can save best model only with val_acc available, skipping.\n"
          ],
          "name": "stdout"
        },
        {
          "output_type": "stream",
          "text": [
            "WARNING:tensorflow:Can save best model only with val_acc available, skipping.\n"
          ],
          "name": "stderr"
        },
        {
          "output_type": "stream",
          "text": [
            "Epoch 117/200\n",
            "2/2 [==============================] - 0s 29ms/step - loss: 0.3988 - accuracy: 0.8526 - val_loss: 0.1742 - val_accuracy: 0.9722\n",
            "WARNING:tensorflow:Can save best model only with val_acc available, skipping.\n"
          ],
          "name": "stdout"
        },
        {
          "output_type": "stream",
          "text": [
            "WARNING:tensorflow:Can save best model only with val_acc available, skipping.\n"
          ],
          "name": "stderr"
        },
        {
          "output_type": "stream",
          "text": [
            "Epoch 118/200\n",
            "2/2 [==============================] - 0s 26ms/step - loss: 0.3984 - accuracy: 0.8526 - val_loss: 0.1749 - val_accuracy: 0.9722\n",
            "WARNING:tensorflow:Can save best model only with val_acc available, skipping.\n"
          ],
          "name": "stdout"
        },
        {
          "output_type": "stream",
          "text": [
            "WARNING:tensorflow:Can save best model only with val_acc available, skipping.\n"
          ],
          "name": "stderr"
        },
        {
          "output_type": "stream",
          "text": [
            "Epoch 119/200\n",
            "2/2 [==============================] - 0s 27ms/step - loss: 0.3983 - accuracy: 0.8526 - val_loss: 0.1814 - val_accuracy: 0.9722\n",
            "WARNING:tensorflow:Can save best model only with val_acc available, skipping.\n"
          ],
          "name": "stdout"
        },
        {
          "output_type": "stream",
          "text": [
            "WARNING:tensorflow:Can save best model only with val_acc available, skipping.\n"
          ],
          "name": "stderr"
        },
        {
          "output_type": "stream",
          "text": [
            "Epoch 120/200\n",
            "2/2 [==============================] - 0s 27ms/step - loss: 0.3990 - accuracy: 0.8526 - val_loss: 0.1937 - val_accuracy: 0.9722\n",
            "WARNING:tensorflow:Can save best model only with val_acc available, skipping.\n"
          ],
          "name": "stdout"
        },
        {
          "output_type": "stream",
          "text": [
            "WARNING:tensorflow:Can save best model only with val_acc available, skipping.\n"
          ],
          "name": "stderr"
        },
        {
          "output_type": "stream",
          "text": [
            "Epoch 121/200\n",
            "2/2 [==============================] - 0s 27ms/step - loss: 0.4002 - accuracy: 0.8526 - val_loss: 0.2341 - val_accuracy: 0.9722\n",
            "WARNING:tensorflow:Can save best model only with val_acc available, skipping.\n"
          ],
          "name": "stdout"
        },
        {
          "output_type": "stream",
          "text": [
            "WARNING:tensorflow:Can save best model only with val_acc available, skipping.\n"
          ],
          "name": "stderr"
        },
        {
          "output_type": "stream",
          "text": [
            "Epoch 122/200\n",
            "2/2 [==============================] - 0s 25ms/step - loss: 0.4094 - accuracy: 0.8462 - val_loss: 0.2215 - val_accuracy: 0.9722\n",
            "WARNING:tensorflow:Can save best model only with val_acc available, skipping.\n"
          ],
          "name": "stdout"
        },
        {
          "output_type": "stream",
          "text": [
            "WARNING:tensorflow:Can save best model only with val_acc available, skipping.\n"
          ],
          "name": "stderr"
        },
        {
          "output_type": "stream",
          "text": [
            "Epoch 123/200\n",
            "2/2 [==============================] - 0s 27ms/step - loss: 0.4009 - accuracy: 0.8462 - val_loss: 0.1284 - val_accuracy: 1.0000\n",
            "WARNING:tensorflow:Can save best model only with val_acc available, skipping.\n"
          ],
          "name": "stdout"
        },
        {
          "output_type": "stream",
          "text": [
            "WARNING:tensorflow:Can save best model only with val_acc available, skipping.\n"
          ],
          "name": "stderr"
        },
        {
          "output_type": "stream",
          "text": [
            "Epoch 124/200\n",
            "2/2 [==============================] - 0s 26ms/step - loss: 0.4108 - accuracy: 0.8526 - val_loss: 0.1023 - val_accuracy: 1.0000\n",
            "WARNING:tensorflow:Can save best model only with val_acc available, skipping.\n"
          ],
          "name": "stdout"
        },
        {
          "output_type": "stream",
          "text": [
            "WARNING:tensorflow:Can save best model only with val_acc available, skipping.\n"
          ],
          "name": "stderr"
        },
        {
          "output_type": "stream",
          "text": [
            "Epoch 125/200\n",
            "2/2 [==============================] - 0s 26ms/step - loss: 0.4140 - accuracy: 0.8526 - val_loss: 0.1487 - val_accuracy: 0.9722\n",
            "WARNING:tensorflow:Can save best model only with val_acc available, skipping.\n"
          ],
          "name": "stdout"
        },
        {
          "output_type": "stream",
          "text": [
            "WARNING:tensorflow:Can save best model only with val_acc available, skipping.\n"
          ],
          "name": "stderr"
        },
        {
          "output_type": "stream",
          "text": [
            "Epoch 126/200\n",
            "2/2 [==============================] - 0s 28ms/step - loss: 0.3988 - accuracy: 0.8526 - val_loss: 0.2088 - val_accuracy: 0.9722\n",
            "WARNING:tensorflow:Can save best model only with val_acc available, skipping.\n"
          ],
          "name": "stdout"
        },
        {
          "output_type": "stream",
          "text": [
            "WARNING:tensorflow:Can save best model only with val_acc available, skipping.\n"
          ],
          "name": "stderr"
        },
        {
          "output_type": "stream",
          "text": [
            "Epoch 127/200\n",
            "2/2 [==============================] - 0s 29ms/step - loss: 0.4017 - accuracy: 0.8526 - val_loss: 0.2433 - val_accuracy: 0.9722\n",
            "WARNING:tensorflow:Can save best model only with val_acc available, skipping.\n"
          ],
          "name": "stdout"
        },
        {
          "output_type": "stream",
          "text": [
            "WARNING:tensorflow:Can save best model only with val_acc available, skipping.\n"
          ],
          "name": "stderr"
        },
        {
          "output_type": "stream",
          "text": [
            "Epoch 128/200\n",
            "2/2 [==============================] - 0s 42ms/step - loss: 0.4099 - accuracy: 0.8462 - val_loss: 0.2042 - val_accuracy: 0.9722\n",
            "WARNING:tensorflow:Can save best model only with val_acc available, skipping.\n"
          ],
          "name": "stdout"
        },
        {
          "output_type": "stream",
          "text": [
            "WARNING:tensorflow:Can save best model only with val_acc available, skipping.\n"
          ],
          "name": "stderr"
        },
        {
          "output_type": "stream",
          "text": [
            "Epoch 129/200\n",
            "2/2 [==============================] - 0s 27ms/step - loss: 0.4047 - accuracy: 0.8526 - val_loss: 0.1518 - val_accuracy: 0.9722\n",
            "WARNING:tensorflow:Can save best model only with val_acc available, skipping.\n"
          ],
          "name": "stdout"
        },
        {
          "output_type": "stream",
          "text": [
            "WARNING:tensorflow:Can save best model only with val_acc available, skipping.\n"
          ],
          "name": "stderr"
        },
        {
          "output_type": "stream",
          "text": [
            "Epoch 130/200\n",
            "2/2 [==============================] - 0s 26ms/step - loss: 0.3988 - accuracy: 0.8526 - val_loss: 0.1522 - val_accuracy: 0.9722\n",
            "WARNING:tensorflow:Can save best model only with val_acc available, skipping.\n"
          ],
          "name": "stdout"
        },
        {
          "output_type": "stream",
          "text": [
            "WARNING:tensorflow:Can save best model only with val_acc available, skipping.\n"
          ],
          "name": "stderr"
        },
        {
          "output_type": "stream",
          "text": [
            "Epoch 131/200\n",
            "2/2 [==============================] - 0s 29ms/step - loss: 0.3990 - accuracy: 0.8526 - val_loss: 0.1593 - val_accuracy: 0.9722\n",
            "WARNING:tensorflow:Can save best model only with val_acc available, skipping.\n"
          ],
          "name": "stdout"
        },
        {
          "output_type": "stream",
          "text": [
            "WARNING:tensorflow:Can save best model only with val_acc available, skipping.\n"
          ],
          "name": "stderr"
        },
        {
          "output_type": "stream",
          "text": [
            "Epoch 132/200\n",
            "2/2 [==============================] - 0s 27ms/step - loss: 0.3991 - accuracy: 0.8526 - val_loss: 0.1891 - val_accuracy: 0.9722\n",
            "WARNING:tensorflow:Can save best model only with val_acc available, skipping.\n"
          ],
          "name": "stdout"
        },
        {
          "output_type": "stream",
          "text": [
            "WARNING:tensorflow:Can save best model only with val_acc available, skipping.\n"
          ],
          "name": "stderr"
        },
        {
          "output_type": "stream",
          "text": [
            "Epoch 133/200\n",
            "2/2 [==============================] - 0s 28ms/step - loss: 0.4023 - accuracy: 0.8526 - val_loss: 0.2119 - val_accuracy: 0.9722\n",
            "WARNING:tensorflow:Can save best model only with val_acc available, skipping.\n"
          ],
          "name": "stdout"
        },
        {
          "output_type": "stream",
          "text": [
            "WARNING:tensorflow:Can save best model only with val_acc available, skipping.\n"
          ],
          "name": "stderr"
        },
        {
          "output_type": "stream",
          "text": [
            "Epoch 134/200\n",
            "2/2 [==============================] - 0s 31ms/step - loss: 0.4028 - accuracy: 0.8526 - val_loss: 0.1671 - val_accuracy: 0.9722\n",
            "WARNING:tensorflow:Can save best model only with val_acc available, skipping.\n"
          ],
          "name": "stdout"
        },
        {
          "output_type": "stream",
          "text": [
            "WARNING:tensorflow:Can save best model only with val_acc available, skipping.\n"
          ],
          "name": "stderr"
        },
        {
          "output_type": "stream",
          "text": [
            "Epoch 135/200\n",
            "2/2 [==============================] - 0s 26ms/step - loss: 0.3980 - accuracy: 0.8526 - val_loss: 0.1452 - val_accuracy: 0.9722\n",
            "WARNING:tensorflow:Can save best model only with val_acc available, skipping.\n"
          ],
          "name": "stdout"
        },
        {
          "output_type": "stream",
          "text": [
            "WARNING:tensorflow:Can save best model only with val_acc available, skipping.\n"
          ],
          "name": "stderr"
        },
        {
          "output_type": "stream",
          "text": [
            "Epoch 136/200\n",
            "2/2 [==============================] - 0s 29ms/step - loss: 0.3998 - accuracy: 0.8526 - val_loss: 0.1520 - val_accuracy: 0.9722\n",
            "WARNING:tensorflow:Can save best model only with val_acc available, skipping.\n"
          ],
          "name": "stdout"
        },
        {
          "output_type": "stream",
          "text": [
            "WARNING:tensorflow:Can save best model only with val_acc available, skipping.\n"
          ],
          "name": "stderr"
        },
        {
          "output_type": "stream",
          "text": [
            "Epoch 137/200\n",
            "2/2 [==============================] - 0s 29ms/step - loss: 0.3991 - accuracy: 0.8526 - val_loss: 0.1766 - val_accuracy: 0.9722\n",
            "WARNING:tensorflow:Can save best model only with val_acc available, skipping.\n"
          ],
          "name": "stdout"
        },
        {
          "output_type": "stream",
          "text": [
            "WARNING:tensorflow:Can save best model only with val_acc available, skipping.\n"
          ],
          "name": "stderr"
        },
        {
          "output_type": "stream",
          "text": [
            "Epoch 138/200\n",
            "2/2 [==============================] - 0s 26ms/step - loss: 0.3982 - accuracy: 0.8526 - val_loss: 0.1829 - val_accuracy: 0.9722\n",
            "WARNING:tensorflow:Can save best model only with val_acc available, skipping.\n"
          ],
          "name": "stdout"
        },
        {
          "output_type": "stream",
          "text": [
            "WARNING:tensorflow:Can save best model only with val_acc available, skipping.\n"
          ],
          "name": "stderr"
        },
        {
          "output_type": "stream",
          "text": [
            "Epoch 139/200\n",
            "2/2 [==============================] - 0s 28ms/step - loss: 0.3990 - accuracy: 0.8526 - val_loss: 0.1897 - val_accuracy: 0.9722\n",
            "WARNING:tensorflow:Can save best model only with val_acc available, skipping.\n"
          ],
          "name": "stdout"
        },
        {
          "output_type": "stream",
          "text": [
            "WARNING:tensorflow:Can save best model only with val_acc available, skipping.\n"
          ],
          "name": "stderr"
        },
        {
          "output_type": "stream",
          "text": [
            "Epoch 140/200\n",
            "2/2 [==============================] - 0s 28ms/step - loss: 0.3992 - accuracy: 0.8526 - val_loss: 0.1969 - val_accuracy: 0.9722\n",
            "WARNING:tensorflow:Can save best model only with val_acc available, skipping.\n"
          ],
          "name": "stdout"
        },
        {
          "output_type": "stream",
          "text": [
            "WARNING:tensorflow:Can save best model only with val_acc available, skipping.\n"
          ],
          "name": "stderr"
        },
        {
          "output_type": "stream",
          "text": [
            "Epoch 141/200\n",
            "2/2 [==============================] - 0s 28ms/step - loss: 0.4011 - accuracy: 0.8526 - val_loss: 0.1969 - val_accuracy: 0.9722\n",
            "WARNING:tensorflow:Can save best model only with val_acc available, skipping.\n"
          ],
          "name": "stdout"
        },
        {
          "output_type": "stream",
          "text": [
            "WARNING:tensorflow:Can save best model only with val_acc available, skipping.\n"
          ],
          "name": "stderr"
        },
        {
          "output_type": "stream",
          "text": [
            "Epoch 142/200\n",
            "2/2 [==============================] - 0s 26ms/step - loss: 0.4000 - accuracy: 0.8462 - val_loss: 0.2080 - val_accuracy: 0.9722\n",
            "WARNING:tensorflow:Can save best model only with val_acc available, skipping.\n"
          ],
          "name": "stdout"
        },
        {
          "output_type": "stream",
          "text": [
            "WARNING:tensorflow:Can save best model only with val_acc available, skipping.\n"
          ],
          "name": "stderr"
        },
        {
          "output_type": "stream",
          "text": [
            "Epoch 143/200\n",
            "2/2 [==============================] - 0s 33ms/step - loss: 0.4021 - accuracy: 0.8462 - val_loss: 0.2073 - val_accuracy: 0.9722\n",
            "WARNING:tensorflow:Can save best model only with val_acc available, skipping.\n"
          ],
          "name": "stdout"
        },
        {
          "output_type": "stream",
          "text": [
            "WARNING:tensorflow:Can save best model only with val_acc available, skipping.\n"
          ],
          "name": "stderr"
        },
        {
          "output_type": "stream",
          "text": [
            "Epoch 144/200\n",
            "2/2 [==============================] - 0s 30ms/step - loss: 0.4014 - accuracy: 0.8462 - val_loss: 0.1828 - val_accuracy: 0.9722\n",
            "WARNING:tensorflow:Can save best model only with val_acc available, skipping.\n"
          ],
          "name": "stdout"
        },
        {
          "output_type": "stream",
          "text": [
            "WARNING:tensorflow:Can save best model only with val_acc available, skipping.\n"
          ],
          "name": "stderr"
        },
        {
          "output_type": "stream",
          "text": [
            "Epoch 145/200\n",
            "2/2 [==============================] - 0s 27ms/step - loss: 0.3977 - accuracy: 0.8526 - val_loss: 0.1391 - val_accuracy: 0.9722\n",
            "WARNING:tensorflow:Can save best model only with val_acc available, skipping.\n"
          ],
          "name": "stdout"
        },
        {
          "output_type": "stream",
          "text": [
            "WARNING:tensorflow:Can save best model only with val_acc available, skipping.\n"
          ],
          "name": "stderr"
        },
        {
          "output_type": "stream",
          "text": [
            "Epoch 146/200\n",
            "2/2 [==============================] - 0s 26ms/step - loss: 0.4006 - accuracy: 0.8526 - val_loss: 0.1199 - val_accuracy: 1.0000\n",
            "WARNING:tensorflow:Can save best model only with val_acc available, skipping.\n"
          ],
          "name": "stdout"
        },
        {
          "output_type": "stream",
          "text": [
            "WARNING:tensorflow:Can save best model only with val_acc available, skipping.\n"
          ],
          "name": "stderr"
        },
        {
          "output_type": "stream",
          "text": [
            "Epoch 147/200\n",
            "2/2 [==============================] - 0s 25ms/step - loss: 0.4057 - accuracy: 0.8526 - val_loss: 0.1452 - val_accuracy: 0.9722\n",
            "WARNING:tensorflow:Can save best model only with val_acc available, skipping.\n"
          ],
          "name": "stdout"
        },
        {
          "output_type": "stream",
          "text": [
            "WARNING:tensorflow:Can save best model only with val_acc available, skipping.\n"
          ],
          "name": "stderr"
        },
        {
          "output_type": "stream",
          "text": [
            "Epoch 148/200\n",
            "2/2 [==============================] - 0s 25ms/step - loss: 0.4010 - accuracy: 0.8526 - val_loss: 0.1979 - val_accuracy: 0.9722\n",
            "WARNING:tensorflow:Can save best model only with val_acc available, skipping.\n"
          ],
          "name": "stdout"
        },
        {
          "output_type": "stream",
          "text": [
            "WARNING:tensorflow:Can save best model only with val_acc available, skipping.\n"
          ],
          "name": "stderr"
        },
        {
          "output_type": "stream",
          "text": [
            "Epoch 149/200\n",
            "2/2 [==============================] - 0s 31ms/step - loss: 0.4003 - accuracy: 0.8462 - val_loss: 0.1927 - val_accuracy: 0.9722\n",
            "WARNING:tensorflow:Can save best model only with val_acc available, skipping.\n"
          ],
          "name": "stdout"
        },
        {
          "output_type": "stream",
          "text": [
            "WARNING:tensorflow:Can save best model only with val_acc available, skipping.\n"
          ],
          "name": "stderr"
        },
        {
          "output_type": "stream",
          "text": [
            "Epoch 150/200\n",
            "2/2 [==============================] - 0s 36ms/step - loss: 0.3982 - accuracy: 0.8526 - val_loss: 0.1388 - val_accuracy: 0.9722\n",
            "WARNING:tensorflow:Can save best model only with val_acc available, skipping.\n"
          ],
          "name": "stdout"
        },
        {
          "output_type": "stream",
          "text": [
            "WARNING:tensorflow:Can save best model only with val_acc available, skipping.\n"
          ],
          "name": "stderr"
        },
        {
          "output_type": "stream",
          "text": [
            "Epoch 151/200\n",
            "2/2 [==============================] - 0s 28ms/step - loss: 0.4018 - accuracy: 0.8526 - val_loss: 0.1062 - val_accuracy: 1.0000\n",
            "WARNING:tensorflow:Can save best model only with val_acc available, skipping.\n"
          ],
          "name": "stdout"
        },
        {
          "output_type": "stream",
          "text": [
            "WARNING:tensorflow:Can save best model only with val_acc available, skipping.\n"
          ],
          "name": "stderr"
        },
        {
          "output_type": "stream",
          "text": [
            "Epoch 152/200\n",
            "2/2 [==============================] - 0s 28ms/step - loss: 0.4116 - accuracy: 0.8526 - val_loss: 0.1302 - val_accuracy: 0.9722\n",
            "WARNING:tensorflow:Can save best model only with val_acc available, skipping.\n"
          ],
          "name": "stdout"
        },
        {
          "output_type": "stream",
          "text": [
            "WARNING:tensorflow:Can save best model only with val_acc available, skipping.\n"
          ],
          "name": "stderr"
        },
        {
          "output_type": "stream",
          "text": [
            "Epoch 153/200\n",
            "2/2 [==============================] - 0s 28ms/step - loss: 0.4007 - accuracy: 0.8526 - val_loss: 0.2034 - val_accuracy: 0.9722\n",
            "WARNING:tensorflow:Can save best model only with val_acc available, skipping.\n"
          ],
          "name": "stdout"
        },
        {
          "output_type": "stream",
          "text": [
            "WARNING:tensorflow:Can save best model only with val_acc available, skipping.\n"
          ],
          "name": "stderr"
        },
        {
          "output_type": "stream",
          "text": [
            "Epoch 154/200\n",
            "2/2 [==============================] - 0s 29ms/step - loss: 0.4053 - accuracy: 0.8397 - val_loss: 0.2215 - val_accuracy: 0.9722\n",
            "WARNING:tensorflow:Can save best model only with val_acc available, skipping.\n"
          ],
          "name": "stdout"
        },
        {
          "output_type": "stream",
          "text": [
            "WARNING:tensorflow:Can save best model only with val_acc available, skipping.\n"
          ],
          "name": "stderr"
        },
        {
          "output_type": "stream",
          "text": [
            "Epoch 155/200\n",
            "2/2 [==============================] - 0s 28ms/step - loss: 0.4011 - accuracy: 0.8462 - val_loss: 0.1352 - val_accuracy: 0.9722\n",
            "WARNING:tensorflow:Can save best model only with val_acc available, skipping.\n"
          ],
          "name": "stdout"
        },
        {
          "output_type": "stream",
          "text": [
            "WARNING:tensorflow:Can save best model only with val_acc available, skipping.\n"
          ],
          "name": "stderr"
        },
        {
          "output_type": "stream",
          "text": [
            "Epoch 156/200\n",
            "2/2 [==============================] - 0s 28ms/step - loss: 0.4009 - accuracy: 0.8526 - val_loss: 0.0893 - val_accuracy: 1.0000\n",
            "WARNING:tensorflow:Can save best model only with val_acc available, skipping.\n"
          ],
          "name": "stdout"
        },
        {
          "output_type": "stream",
          "text": [
            "WARNING:tensorflow:Can save best model only with val_acc available, skipping.\n"
          ],
          "name": "stderr"
        },
        {
          "output_type": "stream",
          "text": [
            "Epoch 157/200\n",
            "2/2 [==============================] - 0s 33ms/step - loss: 0.4270 - accuracy: 0.8526 - val_loss: 0.1226 - val_accuracy: 1.0000\n",
            "WARNING:tensorflow:Can save best model only with val_acc available, skipping.\n"
          ],
          "name": "stdout"
        },
        {
          "output_type": "stream",
          "text": [
            "WARNING:tensorflow:Can save best model only with val_acc available, skipping.\n"
          ],
          "name": "stderr"
        },
        {
          "output_type": "stream",
          "text": [
            "Epoch 158/200\n",
            "2/2 [==============================] - 0s 32ms/step - loss: 0.4088 - accuracy: 0.8526 - val_loss: 0.2493 - val_accuracy: 0.9722\n",
            "WARNING:tensorflow:Can save best model only with val_acc available, skipping.\n"
          ],
          "name": "stdout"
        },
        {
          "output_type": "stream",
          "text": [
            "WARNING:tensorflow:Can save best model only with val_acc available, skipping.\n"
          ],
          "name": "stderr"
        },
        {
          "output_type": "stream",
          "text": [
            "Epoch 159/200\n",
            "2/2 [==============================] - 0s 29ms/step - loss: 0.4155 - accuracy: 0.8462 - val_loss: 0.2176 - val_accuracy: 0.9722\n",
            "WARNING:tensorflow:Can save best model only with val_acc available, skipping.\n"
          ],
          "name": "stdout"
        },
        {
          "output_type": "stream",
          "text": [
            "WARNING:tensorflow:Can save best model only with val_acc available, skipping.\n"
          ],
          "name": "stderr"
        },
        {
          "output_type": "stream",
          "text": [
            "Epoch 160/200\n",
            "2/2 [==============================] - 0s 26ms/step - loss: 0.4037 - accuracy: 0.8462 - val_loss: 0.1231 - val_accuracy: 1.0000\n",
            "WARNING:tensorflow:Can save best model only with val_acc available, skipping.\n"
          ],
          "name": "stdout"
        },
        {
          "output_type": "stream",
          "text": [
            "WARNING:tensorflow:Can save best model only with val_acc available, skipping.\n"
          ],
          "name": "stderr"
        },
        {
          "output_type": "stream",
          "text": [
            "Epoch 161/200\n",
            "2/2 [==============================] - 0s 33ms/step - loss: 0.4104 - accuracy: 0.8526 - val_loss: 0.1255 - val_accuracy: 1.0000\n",
            "WARNING:tensorflow:Can save best model only with val_acc available, skipping.\n"
          ],
          "name": "stdout"
        },
        {
          "output_type": "stream",
          "text": [
            "WARNING:tensorflow:Can save best model only with val_acc available, skipping.\n"
          ],
          "name": "stderr"
        },
        {
          "output_type": "stream",
          "text": [
            "Epoch 162/200\n",
            "2/2 [==============================] - 0s 27ms/step - loss: 0.4053 - accuracy: 0.8526 - val_loss: 0.1945 - val_accuracy: 0.9722\n",
            "WARNING:tensorflow:Can save best model only with val_acc available, skipping.\n"
          ],
          "name": "stdout"
        },
        {
          "output_type": "stream",
          "text": [
            "WARNING:tensorflow:Can save best model only with val_acc available, skipping.\n"
          ],
          "name": "stderr"
        },
        {
          "output_type": "stream",
          "text": [
            "Epoch 163/200\n",
            "2/2 [==============================] - 0s 27ms/step - loss: 0.4017 - accuracy: 0.8462 - val_loss: 0.1975 - val_accuracy: 0.9722\n",
            "WARNING:tensorflow:Can save best model only with val_acc available, skipping.\n"
          ],
          "name": "stdout"
        },
        {
          "output_type": "stream",
          "text": [
            "WARNING:tensorflow:Can save best model only with val_acc available, skipping.\n"
          ],
          "name": "stderr"
        },
        {
          "output_type": "stream",
          "text": [
            "Epoch 164/200\n",
            "2/2 [==============================] - 0s 29ms/step - loss: 0.3999 - accuracy: 0.8526 - val_loss: 0.1509 - val_accuracy: 0.9722\n",
            "WARNING:tensorflow:Can save best model only with val_acc available, skipping.\n"
          ],
          "name": "stdout"
        },
        {
          "output_type": "stream",
          "text": [
            "WARNING:tensorflow:Can save best model only with val_acc available, skipping.\n"
          ],
          "name": "stderr"
        },
        {
          "output_type": "stream",
          "text": [
            "Epoch 165/200\n",
            "2/2 [==============================] - 0s 32ms/step - loss: 0.4007 - accuracy: 0.8526 - val_loss: 0.1540 - val_accuracy: 0.9722\n",
            "WARNING:tensorflow:Can save best model only with val_acc available, skipping.\n"
          ],
          "name": "stdout"
        },
        {
          "output_type": "stream",
          "text": [
            "WARNING:tensorflow:Can save best model only with val_acc available, skipping.\n"
          ],
          "name": "stderr"
        },
        {
          "output_type": "stream",
          "text": [
            "Epoch 166/200\n",
            "2/2 [==============================] - 0s 30ms/step - loss: 0.4012 - accuracy: 0.8526 - val_loss: 0.1766 - val_accuracy: 0.9722\n",
            "WARNING:tensorflow:Can save best model only with val_acc available, skipping.\n"
          ],
          "name": "stdout"
        },
        {
          "output_type": "stream",
          "text": [
            "WARNING:tensorflow:Can save best model only with val_acc available, skipping.\n"
          ],
          "name": "stderr"
        },
        {
          "output_type": "stream",
          "text": [
            "Epoch 167/200\n",
            "2/2 [==============================] - 0s 35ms/step - loss: 0.3977 - accuracy: 0.8526 - val_loss: 0.1453 - val_accuracy: 0.9722\n",
            "WARNING:tensorflow:Can save best model only with val_acc available, skipping.\n"
          ],
          "name": "stdout"
        },
        {
          "output_type": "stream",
          "text": [
            "WARNING:tensorflow:Can save best model only with val_acc available, skipping.\n"
          ],
          "name": "stderr"
        },
        {
          "output_type": "stream",
          "text": [
            "Epoch 168/200\n",
            "2/2 [==============================] - 0s 32ms/step - loss: 0.3992 - accuracy: 0.8526 - val_loss: 0.1185 - val_accuracy: 1.0000\n",
            "WARNING:tensorflow:Can save best model only with val_acc available, skipping.\n"
          ],
          "name": "stdout"
        },
        {
          "output_type": "stream",
          "text": [
            "WARNING:tensorflow:Can save best model only with val_acc available, skipping.\n"
          ],
          "name": "stderr"
        },
        {
          "output_type": "stream",
          "text": [
            "Epoch 169/200\n",
            "2/2 [==============================] - 0s 31ms/step - loss: 0.4063 - accuracy: 0.8526 - val_loss: 0.1209 - val_accuracy: 1.0000\n",
            "WARNING:tensorflow:Can save best model only with val_acc available, skipping.\n"
          ],
          "name": "stdout"
        },
        {
          "output_type": "stream",
          "text": [
            "WARNING:tensorflow:Can save best model only with val_acc available, skipping.\n"
          ],
          "name": "stderr"
        },
        {
          "output_type": "stream",
          "text": [
            "Epoch 170/200\n",
            "2/2 [==============================] - 0s 29ms/step - loss: 0.4044 - accuracy: 0.8526 - val_loss: 0.1649 - val_accuracy: 0.9722\n",
            "WARNING:tensorflow:Can save best model only with val_acc available, skipping.\n"
          ],
          "name": "stdout"
        },
        {
          "output_type": "stream",
          "text": [
            "WARNING:tensorflow:Can save best model only with val_acc available, skipping.\n"
          ],
          "name": "stderr"
        },
        {
          "output_type": "stream",
          "text": [
            "Epoch 171/200\n",
            "2/2 [==============================] - 0s 31ms/step - loss: 0.3947 - accuracy: 0.8526 - val_loss: 0.2704 - val_accuracy: 0.9722\n",
            "WARNING:tensorflow:Can save best model only with val_acc available, skipping.\n"
          ],
          "name": "stdout"
        },
        {
          "output_type": "stream",
          "text": [
            "WARNING:tensorflow:Can save best model only with val_acc available, skipping.\n"
          ],
          "name": "stderr"
        },
        {
          "output_type": "stream",
          "text": [
            "Epoch 172/200\n",
            "2/2 [==============================] - 0s 26ms/step - loss: 0.4189 - accuracy: 0.8462 - val_loss: 0.2797 - val_accuracy: 0.9722\n",
            "WARNING:tensorflow:Can save best model only with val_acc available, skipping.\n"
          ],
          "name": "stdout"
        },
        {
          "output_type": "stream",
          "text": [
            "WARNING:tensorflow:Can save best model only with val_acc available, skipping.\n"
          ],
          "name": "stderr"
        },
        {
          "output_type": "stream",
          "text": [
            "Epoch 173/200\n",
            "2/2 [==============================] - 0s 33ms/step - loss: 0.4157 - accuracy: 0.8397 - val_loss: 0.1486 - val_accuracy: 0.9722\n",
            "WARNING:tensorflow:Can save best model only with val_acc available, skipping.\n"
          ],
          "name": "stdout"
        },
        {
          "output_type": "stream",
          "text": [
            "WARNING:tensorflow:Can save best model only with val_acc available, skipping.\n"
          ],
          "name": "stderr"
        },
        {
          "output_type": "stream",
          "text": [
            "Epoch 174/200\n",
            "2/2 [==============================] - 0s 27ms/step - loss: 0.4073 - accuracy: 0.8526 - val_loss: 0.0910 - val_accuracy: 1.0000\n",
            "WARNING:tensorflow:Can save best model only with val_acc available, skipping.\n"
          ],
          "name": "stdout"
        },
        {
          "output_type": "stream",
          "text": [
            "WARNING:tensorflow:Can save best model only with val_acc available, skipping.\n"
          ],
          "name": "stderr"
        },
        {
          "output_type": "stream",
          "text": [
            "Epoch 175/200\n",
            "2/2 [==============================] - 0s 34ms/step - loss: 0.4206 - accuracy: 0.8526 - val_loss: 0.1291 - val_accuracy: 1.0000\n",
            "WARNING:tensorflow:Can save best model only with val_acc available, skipping.\n"
          ],
          "name": "stdout"
        },
        {
          "output_type": "stream",
          "text": [
            "WARNING:tensorflow:Can save best model only with val_acc available, skipping.\n"
          ],
          "name": "stderr"
        },
        {
          "output_type": "stream",
          "text": [
            "Epoch 176/200\n",
            "2/2 [==============================] - 0s 29ms/step - loss: 0.3976 - accuracy: 0.8526 - val_loss: 0.2623 - val_accuracy: 0.9722\n",
            "WARNING:tensorflow:Can save best model only with val_acc available, skipping.\n"
          ],
          "name": "stdout"
        },
        {
          "output_type": "stream",
          "text": [
            "WARNING:tensorflow:Can save best model only with val_acc available, skipping.\n"
          ],
          "name": "stderr"
        },
        {
          "output_type": "stream",
          "text": [
            "Epoch 177/200\n",
            "2/2 [==============================] - 0s 27ms/step - loss: 0.4212 - accuracy: 0.8462 - val_loss: 0.2897 - val_accuracy: 0.9722\n",
            "WARNING:tensorflow:Can save best model only with val_acc available, skipping.\n"
          ],
          "name": "stdout"
        },
        {
          "output_type": "stream",
          "text": [
            "WARNING:tensorflow:Can save best model only with val_acc available, skipping.\n"
          ],
          "name": "stderr"
        },
        {
          "output_type": "stream",
          "text": [
            "Epoch 178/200\n",
            "2/2 [==============================] - 0s 29ms/step - loss: 0.4222 - accuracy: 0.8462 - val_loss: 0.1549 - val_accuracy: 0.9722\n",
            "WARNING:tensorflow:Can save best model only with val_acc available, skipping.\n"
          ],
          "name": "stdout"
        },
        {
          "output_type": "stream",
          "text": [
            "WARNING:tensorflow:Can save best model only with val_acc available, skipping.\n"
          ],
          "name": "stderr"
        },
        {
          "output_type": "stream",
          "text": [
            "Epoch 179/200\n",
            "2/2 [==============================] - 0s 27ms/step - loss: 0.4001 - accuracy: 0.8526 - val_loss: 0.1028 - val_accuracy: 1.0000\n",
            "WARNING:tensorflow:Can save best model only with val_acc available, skipping.\n"
          ],
          "name": "stdout"
        },
        {
          "output_type": "stream",
          "text": [
            "WARNING:tensorflow:Can save best model only with val_acc available, skipping.\n"
          ],
          "name": "stderr"
        },
        {
          "output_type": "stream",
          "text": [
            "Epoch 180/200\n",
            "2/2 [==============================] - 0s 31ms/step - loss: 0.4137 - accuracy: 0.8526 - val_loss: 0.1168 - val_accuracy: 1.0000\n",
            "WARNING:tensorflow:Can save best model only with val_acc available, skipping.\n"
          ],
          "name": "stdout"
        },
        {
          "output_type": "stream",
          "text": [
            "WARNING:tensorflow:Can save best model only with val_acc available, skipping.\n"
          ],
          "name": "stderr"
        },
        {
          "output_type": "stream",
          "text": [
            "Epoch 181/200\n",
            "2/2 [==============================] - 0s 26ms/step - loss: 0.4018 - accuracy: 0.8526 - val_loss: 0.2213 - val_accuracy: 0.9722\n",
            "WARNING:tensorflow:Can save best model only with val_acc available, skipping.\n"
          ],
          "name": "stdout"
        },
        {
          "output_type": "stream",
          "text": [
            "WARNING:tensorflow:Can save best model only with val_acc available, skipping.\n"
          ],
          "name": "stderr"
        },
        {
          "output_type": "stream",
          "text": [
            "Epoch 182/200\n",
            "2/2 [==============================] - 0s 28ms/step - loss: 0.4058 - accuracy: 0.8526 - val_loss: 0.3594 - val_accuracy: 0.9722\n",
            "WARNING:tensorflow:Can save best model only with val_acc available, skipping.\n"
          ],
          "name": "stdout"
        },
        {
          "output_type": "stream",
          "text": [
            "WARNING:tensorflow:Can save best model only with val_acc available, skipping.\n"
          ],
          "name": "stderr"
        },
        {
          "output_type": "stream",
          "text": [
            "Epoch 183/200\n",
            "2/2 [==============================] - 0s 28ms/step - loss: 0.4510 - accuracy: 0.8269 - val_loss: 0.2093 - val_accuracy: 0.9722\n",
            "WARNING:tensorflow:Can save best model only with val_acc available, skipping.\n"
          ],
          "name": "stdout"
        },
        {
          "output_type": "stream",
          "text": [
            "WARNING:tensorflow:Can save best model only with val_acc available, skipping.\n"
          ],
          "name": "stderr"
        },
        {
          "output_type": "stream",
          "text": [
            "Epoch 184/200\n",
            "2/2 [==============================] - 0s 35ms/step - loss: 0.3968 - accuracy: 0.8462 - val_loss: 0.0850 - val_accuracy: 1.0000\n",
            "WARNING:tensorflow:Can save best model only with val_acc available, skipping.\n"
          ],
          "name": "stdout"
        },
        {
          "output_type": "stream",
          "text": [
            "WARNING:tensorflow:Can save best model only with val_acc available, skipping.\n"
          ],
          "name": "stderr"
        },
        {
          "output_type": "stream",
          "text": [
            "Epoch 185/200\n",
            "2/2 [==============================] - 0s 31ms/step - loss: 0.4382 - accuracy: 0.8526 - val_loss: 0.0729 - val_accuracy: 1.0000\n",
            "WARNING:tensorflow:Can save best model only with val_acc available, skipping.\n"
          ],
          "name": "stdout"
        },
        {
          "output_type": "stream",
          "text": [
            "WARNING:tensorflow:Can save best model only with val_acc available, skipping.\n"
          ],
          "name": "stderr"
        },
        {
          "output_type": "stream",
          "text": [
            "Epoch 186/200\n",
            "2/2 [==============================] - 0s 30ms/step - loss: 0.4332 - accuracy: 0.8526 - val_loss: 0.1590 - val_accuracy: 0.9722\n",
            "WARNING:tensorflow:Can save best model only with val_acc available, skipping.\n"
          ],
          "name": "stdout"
        },
        {
          "output_type": "stream",
          "text": [
            "WARNING:tensorflow:Can save best model only with val_acc available, skipping.\n"
          ],
          "name": "stderr"
        },
        {
          "output_type": "stream",
          "text": [
            "Epoch 187/200\n",
            "2/2 [==============================] - 0s 26ms/step - loss: 0.3878 - accuracy: 0.8526 - val_loss: 0.3797 - val_accuracy: 0.9722\n",
            "WARNING:tensorflow:Can save best model only with val_acc available, skipping.\n"
          ],
          "name": "stdout"
        },
        {
          "output_type": "stream",
          "text": [
            "WARNING:tensorflow:Can save best model only with val_acc available, skipping.\n"
          ],
          "name": "stderr"
        },
        {
          "output_type": "stream",
          "text": [
            "Epoch 188/200\n",
            "2/2 [==============================] - 0s 29ms/step - loss: 0.4697 - accuracy: 0.8333 - val_loss: 0.3673 - val_accuracy: 0.9722\n",
            "WARNING:tensorflow:Can save best model only with val_acc available, skipping.\n"
          ],
          "name": "stdout"
        },
        {
          "output_type": "stream",
          "text": [
            "WARNING:tensorflow:Can save best model only with val_acc available, skipping.\n"
          ],
          "name": "stderr"
        },
        {
          "output_type": "stream",
          "text": [
            "Epoch 189/200\n",
            "2/2 [==============================] - 0s 29ms/step - loss: 0.4596 - accuracy: 0.8141 - val_loss: 0.1579 - val_accuracy: 0.9722\n",
            "WARNING:tensorflow:Can save best model only with val_acc available, skipping.\n"
          ],
          "name": "stdout"
        },
        {
          "output_type": "stream",
          "text": [
            "WARNING:tensorflow:Can save best model only with val_acc available, skipping.\n"
          ],
          "name": "stderr"
        },
        {
          "output_type": "stream",
          "text": [
            "Epoch 190/200\n",
            "2/2 [==============================] - 0s 29ms/step - loss: 0.4064 - accuracy: 0.8526 - val_loss: 0.1089 - val_accuracy: 1.0000\n",
            "WARNING:tensorflow:Can save best model only with val_acc available, skipping.\n"
          ],
          "name": "stdout"
        },
        {
          "output_type": "stream",
          "text": [
            "WARNING:tensorflow:Can save best model only with val_acc available, skipping.\n"
          ],
          "name": "stderr"
        },
        {
          "output_type": "stream",
          "text": [
            "Epoch 191/200\n",
            "2/2 [==============================] - 0s 29ms/step - loss: 0.4105 - accuracy: 0.8526 - val_loss: 0.1782 - val_accuracy: 0.9722\n",
            "WARNING:tensorflow:Can save best model only with val_acc available, skipping.\n"
          ],
          "name": "stdout"
        },
        {
          "output_type": "stream",
          "text": [
            "WARNING:tensorflow:Can save best model only with val_acc available, skipping.\n"
          ],
          "name": "stderr"
        },
        {
          "output_type": "stream",
          "text": [
            "Epoch 192/200\n",
            "2/2 [==============================] - 0s 29ms/step - loss: 0.4079 - accuracy: 0.8462 - val_loss: 0.3045 - val_accuracy: 0.9722\n",
            "WARNING:tensorflow:Can save best model only with val_acc available, skipping.\n"
          ],
          "name": "stdout"
        },
        {
          "output_type": "stream",
          "text": [
            "WARNING:tensorflow:Can save best model only with val_acc available, skipping.\n"
          ],
          "name": "stderr"
        },
        {
          "output_type": "stream",
          "text": [
            "Epoch 193/200\n",
            "2/2 [==============================] - 0s 28ms/step - loss: 0.4306 - accuracy: 0.8462 - val_loss: 0.2378 - val_accuracy: 0.9722\n",
            "WARNING:tensorflow:Can save best model only with val_acc available, skipping.\n"
          ],
          "name": "stdout"
        },
        {
          "output_type": "stream",
          "text": [
            "WARNING:tensorflow:Can save best model only with val_acc available, skipping.\n"
          ],
          "name": "stderr"
        },
        {
          "output_type": "stream",
          "text": [
            "Epoch 194/200\n",
            "2/2 [==============================] - 0s 31ms/step - loss: 0.4069 - accuracy: 0.8462 - val_loss: 0.1596 - val_accuracy: 0.9722\n",
            "WARNING:tensorflow:Can save best model only with val_acc available, skipping.\n"
          ],
          "name": "stdout"
        },
        {
          "output_type": "stream",
          "text": [
            "WARNING:tensorflow:Can save best model only with val_acc available, skipping.\n"
          ],
          "name": "stderr"
        },
        {
          "output_type": "stream",
          "text": [
            "Epoch 195/200\n",
            "2/2 [==============================] - 0s 30ms/step - loss: 0.3973 - accuracy: 0.8526 - val_loss: 0.1181 - val_accuracy: 1.0000\n",
            "WARNING:tensorflow:Can save best model only with val_acc available, skipping.\n"
          ],
          "name": "stdout"
        },
        {
          "output_type": "stream",
          "text": [
            "WARNING:tensorflow:Can save best model only with val_acc available, skipping.\n"
          ],
          "name": "stderr"
        },
        {
          "output_type": "stream",
          "text": [
            "Epoch 196/200\n",
            "2/2 [==============================] - 0s 31ms/step - loss: 0.4068 - accuracy: 0.8526 - val_loss: 0.1157 - val_accuracy: 1.0000\n",
            "WARNING:tensorflow:Can save best model only with val_acc available, skipping.\n"
          ],
          "name": "stdout"
        },
        {
          "output_type": "stream",
          "text": [
            "WARNING:tensorflow:Can save best model only with val_acc available, skipping.\n"
          ],
          "name": "stderr"
        },
        {
          "output_type": "stream",
          "text": [
            "Epoch 197/200\n",
            "2/2 [==============================] - 0s 26ms/step - loss: 0.4069 - accuracy: 0.8526 - val_loss: 0.1517 - val_accuracy: 0.9722\n",
            "WARNING:tensorflow:Can save best model only with val_acc available, skipping.\n"
          ],
          "name": "stdout"
        },
        {
          "output_type": "stream",
          "text": [
            "WARNING:tensorflow:Can save best model only with val_acc available, skipping.\n"
          ],
          "name": "stderr"
        },
        {
          "output_type": "stream",
          "text": [
            "Epoch 198/200\n",
            "2/2 [==============================] - 0s 31ms/step - loss: 0.3975 - accuracy: 0.8526 - val_loss: 0.2110 - val_accuracy: 0.9722\n",
            "WARNING:tensorflow:Can save best model only with val_acc available, skipping.\n"
          ],
          "name": "stdout"
        },
        {
          "output_type": "stream",
          "text": [
            "WARNING:tensorflow:Can save best model only with val_acc available, skipping.\n"
          ],
          "name": "stderr"
        },
        {
          "output_type": "stream",
          "text": [
            "Epoch 199/200\n",
            "2/2 [==============================] - 0s 28ms/step - loss: 0.4054 - accuracy: 0.8462 - val_loss: 0.2019 - val_accuracy: 0.9722\n",
            "WARNING:tensorflow:Can save best model only with val_acc available, skipping.\n"
          ],
          "name": "stdout"
        },
        {
          "output_type": "stream",
          "text": [
            "WARNING:tensorflow:Can save best model only with val_acc available, skipping.\n"
          ],
          "name": "stderr"
        },
        {
          "output_type": "stream",
          "text": [
            "Epoch 200/200\n",
            "2/2 [==============================] - 0s 40ms/step - loss: 0.3982 - accuracy: 0.8526 - val_loss: 0.1287 - val_accuracy: 0.9722\n",
            "WARNING:tensorflow:Can save best model only with val_acc available, skipping.\n"
          ],
          "name": "stdout"
        },
        {
          "output_type": "stream",
          "text": [
            "WARNING:tensorflow:Can save best model only with val_acc available, skipping.\n"
          ],
          "name": "stderr"
        }
      ]
    },
    {
      "cell_type": "code",
      "metadata": {
        "colab": {
          "base_uri": "https://localhost:8080/"
        },
        "id": "Ue4QwAute3lR",
        "outputId": "8fc8eaf1-05ee-48f4-f4f8-d3ab2811fea1"
      },
      "source": [
        "eval = hypmodel.evaluate(test,test_target)\n",
        "print(eval[0])"
      ],
      "id": "Ue4QwAute3lR",
      "execution_count": 337,
      "outputs": [
        {
          "output_type": "stream",
          "text": [
            "2/2 [==============================] - 0s 6ms/step - loss: 0.1572 - accuracy: 1.0000\n",
            "0.15715722739696503\n"
          ],
          "name": "stdout"
        }
      ]
    },
    {
      "cell_type": "code",
      "metadata": {
        "colab": {
          "base_uri": "https://localhost:8080/",
          "height": 142
        },
        "id": "6sTDaVA4bT8f",
        "outputId": "438add70-16f5-4c59-c367-e1f6027552d9"
      },
      "source": [
        "whole_column = {}\n",
        "tmp = {}\n",
        "tmp['l'] = eval[0]\n",
        "tmp['a'] = eval[1]\n",
        "tmp['accuracy'] = history.history['accuracy']\n",
        "tmp['val_accuracy'] = history.history['val_accuracy']\n",
        "tmp['loss'] = history.history['loss']\n",
        "tmp['val_loss'] = history.history['val_loss']\n",
        "whole_column['all_features_entire_lane'] = tmp\n",
        "#whole_column['part_features_entire_lane'] = tmp\n",
        "#whole_column['all_features_l1'] = tmp\n",
        "\n",
        "\"\"\"\n",
        "whole_column['all_features_l1'] = tmp\n",
        "\n",
        "whole_column['all_features_l2'] = tmp\n",
        "\n",
        "whole_column['all_features_l3'] = tmp\n",
        "\n",
        "whole_column['all_features_l4'] = tmp\n",
        "\n",
        "whole_column['all_features_l5'] = tmp\n",
        "\n",
        "whole_column['all_features_l6'] = tmp\n",
        "\n",
        "\n",
        "whole_column['part_features_l1'] = tmp\n",
        "\n",
        "whole_column['part_features_l2'] = tmp\n",
        "\n",
        "whole_column['part_features_l3'] = tmp\n",
        "\n",
        "whole_column['part_features_l4'] = tmp\n",
        "\n",
        "whole_column['part_features_l5'] = tmp\n",
        "\n",
        "whole_column['part_features_l6'] = tmp\"\"\""
      ],
      "id": "6sTDaVA4bT8f",
      "execution_count": 333,
      "outputs": [
        {
          "output_type": "execute_result",
          "data": {
            "application/vnd.google.colaboratory.intrinsic+json": {
              "type": "string"
            },
            "text/plain": [
              "\"\\nwhole_column['all_features_l1'] = tmp\\n\\nwhole_column['all_features_l2'] = tmp\\n\\nwhole_column['all_features_l3'] = tmp\\n\\nwhole_column['all_features_l4'] = tmp\\n\\nwhole_column['all_features_l5'] = tmp\\n\\nwhole_column['all_features_l6'] = tmp\\n\\n\\nwhole_column['part_features_l1'] = tmp\\n\\nwhole_column['part_features_l2'] = tmp\\n\\nwhole_column['part_features_l3'] = tmp\\n\\nwhole_column['part_features_l4'] = tmp\\n\\nwhole_column['part_features_l5'] = tmp\\n\\nwhole_column['part_features_l6'] = tmp\""
            ]
          },
          "metadata": {
            "tags": []
          },
          "execution_count": 333
        }
      ]
    },
    {
      "cell_type": "code",
      "metadata": {
        "id": "GHJ8UOIggQTM"
      },
      "source": [
        "import pickle\n",
        "a_file = open(\"all_lane_all.pkl\", \"wb\")\n",
        "pickle.dump(whole_column, a_file)\n",
        "a_file.close()"
      ],
      "id": "GHJ8UOIggQTM",
      "execution_count": 334,
      "outputs": []
    },
    {
      "cell_type": "code",
      "metadata": {
        "colab": {
          "base_uri": "https://localhost:8080/",
          "height": 573
        },
        "id": "RMqDE9NCvBW8",
        "outputId": "3cf786e5-68be-4f34-ce4d-eccb3b800f76"
      },
      "source": [
        "from matplotlib import pyplot as plt\n",
        "\n",
        "plt.plot(history.history['accuracy'])\n",
        "plt.plot(history.history['val_accuracy'])\n",
        "plt.title('Model Accuracy')\n",
        "plt.ylabel('Accuracy')\n",
        "plt.xlabel('Epoch')\n",
        "plt.legend(['Train', 'Val'], loc='upper left')\n",
        "plt.show()\n",
        "\n",
        "plt.plot(history.history['loss'])\n",
        "plt.plot(history.history['val_loss'])\n",
        "plt.title('Model loss')\n",
        "plt.ylabel('Loss')\n",
        "plt.xlabel('Epoch')\n",
        "plt.legend(['Train', 'Val'], loc='upper left')\n",
        "plt.show()"
      ],
      "id": "RMqDE9NCvBW8",
      "execution_count": 338,
      "outputs": [
        {
          "output_type": "display_data",
          "data": {
            "image/png": "[encoded data removed]",
            "text/plain": [
              "<Figure size 432x288 with 1 Axes>"
            ]
          },
          "metadata": {
            "tags": [],
            "needs_background": "light"
          }
        },
        {
          "output_type": "display_data",
          "data": {
            "image/png": "[encoded data removed]",
            "text/plain": [
              "<Figure size 432x288 with 1 Axes>"
            ]
          },
          "metadata": {
            "tags": [],
            "needs_background": "light"
          }
        }
      ]
    },
    {
      "cell_type": "code",
      "metadata": {
        "colab": {
          "base_uri": "https://localhost:8080/",
          "height": 168
        },
        "id": "BN3s0zlq1H9W",
        "outputId": "6bd47842-c498-4b61-c456-cb6b42b2616a"
      },
      "source": [
        "print(whole_column['part_features_l6'])"
      ],
      "id": "BN3s0zlq1H9W",
      "execution_count": 313,
      "outputs": [
        {
          "output_type": "error",
          "ename": "KeyError",
          "evalue": "ignored",
          "traceback": [
            "\u001b[0;31m---------------------------------------------------------------------------\u001b[0m",
            "\u001b[0;31mKeyError\u001b[0m                                  Traceback (most recent call last)",
            "\u001b[0;32m<ipython-input-313-cf96cac9a0f1>\u001b[0m in \u001b[0;36m<module>\u001b[0;34m()\u001b[0m\n\u001b[0;32m----> 1\u001b[0;31m \u001b[0mprint\u001b[0m\u001b[0;34m(\u001b[0m\u001b[0mwhole_column\u001b[0m\u001b[0;34m[\u001b[0m\u001b[0;34m'part_features_l6'\u001b[0m\u001b[0;34m]\u001b[0m\u001b[0;34m)\u001b[0m\u001b[0;34m\u001b[0m\u001b[0;34m\u001b[0m\u001b[0m\n\u001b[0m",
            "\u001b[0;31mKeyError\u001b[0m: 'part_features_l6'"
          ]
        }
      ]
    },
    {
      "cell_type": "code",
      "metadata": {
        "id": "SqlH9wO5e3iS",
        "colab": {
          "base_uri": "https://localhost:8080/"
        },
        "outputId": "3cd24ed8-8d85-4623-ce5f-50cb5635ca55"
      },
      "source": [
        "name = ['all_lane_1.pkl', 'all_lane_2.pkl', 'all_lane_3.pkl', 'all_lane_4.pkl', \n",
        "        'all_lane_5.pkl','all_lane_6.pkl','part_lane_1.pkl', 'part_lane_2.pkl',\n",
        "        'part_lane_3.pkl', 'part_lane_4.pkl', 'part_lane_5.pkl', 'all_lane_all.pkl',\n",
        "        'part_lane_all.pkl']\n",
        "\n",
        "for i in name:\n",
        "  f = open(i, \"rb\")\n",
        "  output = pickle.load(f)\n",
        "  for k, v in output.items():\n",
        "    print(v['a'])"
      ],
      "id": "SqlH9wO5e3iS",
      "execution_count": 321,
      "outputs": [
        {
          "output_type": "stream",
          "text": [
            "1.0\n",
            "1.0\n",
            "0.8333333134651184\n",
            "1.0\n",
            "1.0\n",
            "1.0\n",
            "0.8333333134651184\n",
            "0.1666666716337204\n",
            "0.6666666865348816\n",
            "0.5\n",
            "0.5\n",
            "0.6388888955116272\n"
          ],
          "name": "stdout"
        }
      ]
    },
    {
      "cell_type": "code",
      "metadata": {
        "id": "C0lxfd-W1BPa"
      },
      "source": [
        ""
      ],
      "id": "C0lxfd-W1BPa",
      "execution_count": null,
      "outputs": []
    }
  ]
}