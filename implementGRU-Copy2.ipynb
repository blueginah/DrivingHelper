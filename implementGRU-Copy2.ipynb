{
 "cells": [
  {
   "cell_type": "markdown",
   "metadata": {},
   "source": [
    "# Make each level to each Curve CSV FILE"
   ]
  },
  {
   "cell_type": "code",
   "execution_count": 1,
   "metadata": {},
   "outputs": [],
   "source": [
    "%reset -f"
   ]
  },
  {
   "cell_type": "code",
   "execution_count": 2,
   "metadata": {},
   "outputs": [],
   "source": [
    "import pandas as pd\n",
    "import numpy as np"
   ]
  },
  {
   "cell_type": "code",
   "execution_count": 3,
   "metadata": {},
   "outputs": [],
   "source": [
    "df_begin = []\n",
    "num_row = []\n",
    "start = 1\n",
    "number_of_corner = 2\n",
    "f_1 = 'beginner_expert_processedData/beginner/beginner_'\n",
    "f_3 = '.csv'\n",
    "num_begin = 19\n",
    "curveList = [[103.9, 209.3], [316.6, 399.6], [425.3, 517.9], [590.5, 756.9], [1048.7, 1110.5], [1212.3, 1437.1]]\n",
    "\n",
    "df_concat = pd.DataFrame()\n",
    "\n",
    "for curve_num in range(start,number_of_corner):\n",
    "#     print(num_row)\n",
    "    for idx in range(1, num_begin+1):\n",
    "        tmp_file = f_1+str(idx)+'_new2'+f_3\n",
    "        df = pd.read_csv(tmp_file)\n",
    "        df = df.dropna()\n",
    "        \n",
    "        tmp = df.astype(float)\n",
    "        tmp['level'] =0\n",
    "        \n",
    "        tmpcorner = tmp[(tmp['Distance'] >= curveList[curve_num][0]) & (tmp['Distance'] <= curveList[curve_num][1])]\n",
    "        num_row.append(np.size(tmpcorner,0)) \n",
    "        \n",
    "        df_begin.append(tmpcorner)\n",
    "        df_concat = pd.concat([df_concat,df_begin[idx-1]])      \n",
    "        \n",
    "#     df_concat.to_csv('cornerData/corner_'+str(curve_num+1)+'_begin'+'.csv')\n",
    "    df_concat = pd.DataFrame()\n",
    "    df_begin = []\n",
    "    \n"
   ]
  },
  {
   "cell_type": "code",
   "execution_count": 4,
   "metadata": {},
   "outputs": [],
   "source": [
    "df_exp = []\n",
    "f_1 = 'beginner_expert_processedData/expert/expert_'\n",
    "f_3 = '.csv'\n",
    "num_exp = 19\n",
    "\n",
    "df_concat = pd.DataFrame()\n",
    "\n",
    "for curve_num in range(start,number_of_corner):\n",
    "    for idx in range(1, num_exp+1):\n",
    "        tmp_file = f_1+str(idx)+'_new2'+f_3\n",
    "        df = pd.read_csv(tmp_file)\n",
    "        df = df.dropna()\n",
    "\n",
    "        tmp = df.astype(float)\n",
    "        tmp['level'] =1\n",
    "\n",
    "        tmpcorner = tmp[(tmp['Distance'] >= curveList[curve_num][0]) & (tmp['Distance'] <= curveList[curve_num][1])]\n",
    "        num_row.append(np.size(tmpcorner,0)) \n",
    "\n",
    "        df_exp.append(tmpcorner)\n",
    "        df_concat = pd.concat([df_concat,df_exp[idx-1]])\n",
    "    \n",
    "#     df_concat.to_csv('cornerData/corner_'+str(curve_num+1)+'_expert'+'.csv')\n",
    "#     df_concat = pd.DataFrame()\n",
    "    df_exp = []"
   ]
  },
  {
   "cell_type": "code",
   "execution_count": 5,
   "metadata": {},
   "outputs": [
    {
     "name": "stdout",
     "output_type": "stream",
     "text": [
      "[46, 57, 49, 43, 50, 54, 61, 58, 50, 51, 59, 68, 50, 48, 69, 59, 60, 48, 52, 51, 45, 46, 50, 53, 48, 47, 46, 44, 45, 52, 47, 45, 46, 47, 47, 43, 44, 43]\n"
     ]
    }
   ],
   "source": [
    "print(num_row)"
   ]
  },
  {
   "cell_type": "code",
   "execution_count": 14,
   "metadata": {},
   "outputs": [
    {
     "name": "stdout",
     "output_type": "stream",
     "text": [
      "[ 5 12 16 17  6 35 24 27 32 26  9 36  4 14 31  2 28 30 18 11  1 21 10 19\n",
      " 20  7  0 33 34 13 23 37 29 25  3 22  8 15]\n",
      "Loss: 0.3730\n",
      "Loss: 0.0750\n",
      "Loss: 0.0230\n",
      "Loss: 0.0152\n",
      "Loss: 0.0109\n",
      "Loss: 0.0084\n",
      "Loss: 0.0067\n",
      "Loss: 0.0056\n",
      "Loss: 0.0047\n",
      "Loss: 0.0040\n",
      "Loss: 0.0035\n",
      "Loss: 0.0031\n",
      "Loss: 0.0027\n",
      "Loss: 0.0025\n",
      "Loss: 0.0022\n",
      "Loss: 0.0020\n",
      "Loss: 0.0018\n",
      "Loss: 0.0017\n",
      "Loss: 0.0016\n",
      "Loss: 0.0014\n",
      "Loss: 0.0013\n",
      "Loss: 0.0012\n",
      "Loss: 0.0012\n",
      "Loss: 0.0011\n",
      "Loss: 0.0010\n",
      "Loss: 0.0010\n",
      "Loss: 0.0009\n",
      "Loss: 0.0008\n",
      "Loss: 0.0008\n",
      "Loss: 0.0008\n",
      "Loss: 0.0007\n",
      "Loss: 0.0007\n",
      "Loss: 0.0006\n",
      "Loss: 0.0006\n",
      "Loss: 0.0006\n",
      "Loss: 0.0006\n",
      "Loss: 0.0005\n",
      "Loss: 0.0005\n",
      "Loss: 0.0005\n",
      "Loss: 0.0005\n",
      "Loss: 0.0005\n",
      "Loss: 0.0004\n",
      "Loss: 0.0004\n",
      "Loss: 0.0004\n",
      "Loss: 0.0004\n",
      "Loss: 0.0004\n",
      "Loss: 0.0004\n",
      "Loss: 0.0003\n",
      "Loss: 0.0003\n",
      "Loss: 0.0003\n",
      "30\n",
      "tensor([0]) tensor([0])\n",
      "31\n",
      "tensor([0]) tensor([0])\n",
      "32\n",
      "tensor([0]) tensor([0])\n",
      "33\n",
      "tensor([0]) tensor([0])\n",
      "34\n",
      "tensor([0]) tensor([0])\n",
      "35\n",
      "tensor([0]) tensor([0])\n",
      "36\n",
      "tensor([0]) tensor([0])\n",
      "37\n",
      "tensor([0]) tensor([0])\n",
      "Accuracy of the network on the 8 test images: 100.0 %\n"
     ]
    }
   ],
   "source": [
    "import torch\n",
    "import torch.nn as nn \n",
    "import matplotlib.pyplot as plt \n",
    "from sklearn.model_selection import train_test_split\n",
    "import random\n",
    "from sklearn.preprocessing import StandardScaler\n",
    "\n",
    "\n",
    "left_column = [\n",
    "#'Time',\n",
    "    'Distance','GPS Latitude','GPS Longitude','Damper Velocity (Calc) FL','Damper Velocity (Calc) FR','Damper Velocity (Calc) RL',\n",
    "'Damper Velocity (Calc) RR','Corr Dist','Corr Dist (Unstretched)','Corr Speed','Brake Pos',\n",
    "'CG Accel Lateral','CG Accel Longitudinal','CG Accel Vertical','CG Height','Camber FL','Camber FR','Camber RL','Camber RR','Car Coord X',\n",
    "'Car Coord Y','Car Coord Z','Car Pos Norm','Chassis Pitch Angle','Chassis Pitch Rate','Chassis Roll Angle','Chassis Roll Rate',\n",
    "'Chassis Velocity X','Chassis Velocity Y','Chassis Velocity Z','Chassis Yaw Rate','Drive Train Speed','Engine RPM','Ground Speed',\n",
    "'Ride Height FL','Ride Height FR','Ride Height RL','Ride Height RR','Road Temp','Self Align Torque FL','Self Align Torque FR',\n",
    "'Self Align Torque RL','Self Align Torque RR','Session Time Left','Steering Angle','Suspension Travel FL','Suspension Travel FR',\n",
    "'Suspension Travel RL','Suspension Travel RR','Tire Load FL','Tire Load FR','Tire Load RL','Tire Load RR','Tire Loaded Radius FL',\n",
    "'Tire Loaded Radius FR','Tire Loaded Radius RL','Tire Loaded Radius RR','Tire Pressure FL','Tire Pressure FR','Tire Pressure RL','Tire Pressure RR',\n",
    "'Tire Rubber Grip FL','Tire Rubber Grip FR','Tire Rubber Grip RL','Tire Rubber Grip RR','Tire Slip Angle FL','Tire Slip Angle FR',\n",
    "'Tire Slip Angle RL','Tire Slip Angle RR','Tire Slip Ratio FL','Tire Slip Ratio FR','Tire Slip Ratio RL','Tire Slip Ratio RR',\n",
    "'Tire Temp Core FL','Tire Temp Core FR','Tire Temp Core RL','Tire Temp Core RR','Tire Temp Inner FL','Tire Temp Inner FR',\n",
    "'Tire Temp Inner RL','Tire Temp Inner RR','Tire Temp Middle FL','Tire Temp Middle FR','Tire Temp Middle RL',\n",
    "'Tire Temp Middle RR','Tire Temp Outer FL','Tire Temp Outer FR','Tire Temp Outer RL','Tire Temp Outer RR','Toe In FL',\n",
    "'Toe In FR','Toe In RL','Toe In RR','Wheel Angular Speed FL','Wheel Angular Speed FR','Wheel Angular Speed RL','Wheel Angular Speed RR',\n",
    "'CG Distance','Lateral Velocity','Longitudinal Velocity','Lateral Acceleration','Longitudinal Acceleration','level']\n",
    "\n",
    "\n",
    "#Hyper-parameters\n",
    "num_epochs = 50\n",
    "batches = 1\n",
    "learning_rate = 0.003\n",
    "input_size = len(left_column)-1 # left column except 'level'\n",
    "output_size = 2 # Expert and Beginner\n",
    "hidden_size = 10 # ?\n",
    "num_layers = 1 \n",
    "num_begin_train = 15*(number_of_corner-start)\n",
    "num_exp_train = 15*(number_of_corner-start)\n",
    "num_begin_test = num_begin*(number_of_corner-start) - num_begin_train\n",
    "num_exp_test = num_exp*(number_of_corner-start) - num_exp_train\n",
    "\n",
    "## Define GRU, Loss func and Optimizer\n",
    "class GRU(nn.Module):\n",
    "    def __init__(self, input_size, hidden_size, num_layer, output_size):\n",
    "        super(GRU, self).__init__()\n",
    "        self.num_layers = num_layers\n",
    "        self.hidden_size = hidden_size\n",
    "        self.lstm = nn.LSTM(input_size, hidden_size, num_layers, batch_first=True)\n",
    "        self.fc = nn.Linear(hidden_size, output_size)\n",
    "        \n",
    "    def forward(self, x):\n",
    "        h0 = torch.zeros(self.num_layers, x.size(0), self.hidden_size)\n",
    "        c0 = torch.zeros(self.num_layers, x.size(0), self.hidden_size)\n",
    "#         out, _ = self.gru(x, h0)\n",
    "        out, _ = self.lstm(x, (h0,c0)) \n",
    "        out = out[:, -1, :]\n",
    "        out = self.fc(out)\n",
    "        return out\n",
    "\n",
    "gru = GRU(input_size, hidden_size, num_layers, output_size)\n",
    "criterion = nn.CrossEntropyLoss()\n",
    "optimizer = torch.optim.Adam(gru.parameters(), lr=learning_rate)  \n",
    "\n",
    "# gru.fc.weight.data.fill_(1)\n",
    "# gru.fc.bias.data.fill_(1)\n",
    "\n",
    "## Data Processing\n",
    "array_x = []\n",
    "array_y = []\n",
    "input_x = []\n",
    "input_y = []\n",
    "n_row = []\n",
    "\n",
    "df_tmp_begin = pd.DataFrame() \n",
    "df_tmp_exp = pd.DataFrame() \n",
    "for curve_num in range(start,number_of_corner):\n",
    "    df_tmp_begin = pd.concat([df_tmp_begin,pd.read_csv('cornerData/corner_'+str(curve_num+1)+'_begin.csv')])\n",
    "    df_tmp_exp   = pd.concat([df_tmp_exp,pd.read_csv('cornerData/corner_'+str(curve_num+1)+'_expert.csv')])    \n",
    "df_curve1 = pd.concat([df_tmp_begin, df_tmp_exp], ignore_index=True) \n",
    "df_curve1 = df_curve1.loc[:,left_column]\n",
    "df_curve1_saved = df_curve1.loc[:,left_column] # data backup\n",
    "df_curve1.to_csv('cornerData/corner_'+'_dfcurve1'+'.csv')\n",
    "\n",
    "\n",
    "\n",
    "# scaler = StandardScaler()\n",
    "# scaler.fit(x)\n",
    "# scaler.mean_\n",
    "# x = scaler.transform(x)\n",
    "# print(x_normal)\n",
    "# # print(x)\n",
    "# # print(x['Distance'])\n",
    "# print(type(x))\n",
    "# print(type(x_normal))\n",
    "\n",
    "for i in range(0,num_begin*(number_of_corner-start) + num_exp*(number_of_corner-start)):\n",
    "#     x = df_curve1_saved.loc[0:num_row[i]-1]\n",
    "    x_original = df_curve1_saved.loc[0:num_row[i]-1]\n",
    "    scaler = StandardScaler()\n",
    "    scaler.fit(x_original)\n",
    "    scaler.mean_\n",
    "    x_normal = scaler.transform(x_original)\n",
    "    x = pd.DataFrame(x_normal,columns=left_column)\n",
    "\n",
    "    df_curve1_saved.drop(range(0,num_row[i]),inplace=True)\n",
    "    df_curve1_saved.reset_index(drop=True, inplace=True)\n",
    "    y = x.pop('level')\n",
    "    array_x.append(x)\n",
    "    array_y.append(y)\n",
    "\n",
    "    \n",
    "## Randomize sequence \n",
    "sequence = np.arange(num_begin*(number_of_corner-start) + num_exp*(number_of_corner-start))\n",
    "np.random.shuffle(sequence)\n",
    "# sequence = [0,1,2,15,4,5,6,7,8,9,18,11,12,13,14,19,20,21,34,23,24,25,26,27,28,37,30,31,32,33,3,16,17,10,22,35,36,29]\n",
    "print(sequence)\n",
    "\n",
    "for i in sequence:\n",
    "    input_x.append(array_x[i])\n",
    "    input_y.append(array_y[i])\n",
    "    n_row.append(num_row[i])\n",
    "\n",
    "\n",
    "\n",
    "## Train \n",
    "loss_list = []\n",
    "iteration_list = []\n",
    "accuracy_list = []\n",
    "test_list=[]\n",
    "count = 0\n",
    "for epoch in range(num_epochs):\n",
    "    for i in range(0,num_begin_train + num_exp_train):\n",
    "\n",
    "        # array type (numpy)\n",
    "        X = np.array(input_x[i])\n",
    "        X = X.reshape(-1,n_row[i],input_size)\n",
    "        Y = np.array(input_y[i])   \n",
    "        \n",
    "        # tensor type (pytorch)\n",
    "        X = torch.from_numpy(X)\n",
    "        X = X.float()\n",
    "        Y = torch.tensor([Y[0]])\n",
    "        Y = Y.type(torch.LongTensor)\n",
    "#         Y = Y.float()\n",
    "        \n",
    "        optimizer.zero_grad()\n",
    "        output = gru(X)\n",
    "        loss = criterion(output, Y)\n",
    "        \n",
    "        # Backward and optimize\n",
    "#         optimizer.zero_grad()\n",
    "        loss.backward()\n",
    "        optimizer.step()\n",
    "#         count += 1\n",
    "#         loss_list.append(loss.data)\n",
    "#         iteration_list.append(count)\n",
    "#         accuracy_list.append(accuracy)\n",
    "#         print (f'Loss: {loss.item():.4f}')\n",
    "    count += 1\n",
    "    loss_list.append(loss.data)\n",
    "    iteration_list.append(count)\n",
    "    print (f'Loss: {loss.item():.4f}')\n",
    "## Test\n",
    "with torch.no_grad():\n",
    "    n_correct = 0\n",
    "    n_samples = 0\n",
    "    \n",
    "    for i in range(num_begin_train + num_exp_train, num_begin*(number_of_corner-start) + num_exp*(number_of_corner-start)):\n",
    "        \n",
    "        # array type (numpy)\n",
    "        print(i)\n",
    "        X = np.array(input_x[i])\n",
    "        X = X.reshape(-1,n_row[i],input_size)\n",
    "        Y = np.array(input_y[i])   \n",
    "\n",
    "        # tensor type (pytorch)\n",
    "        X = torch.from_numpy(X)\n",
    "        X = X.float()\n",
    "        Y = torch.tensor([Y[0]])\n",
    "        Y = Y.type(torch.LongTensor)\n",
    "#         Y = Y.float()\n",
    "        output = gru(X)\n",
    "        _, predicted = torch.max(output.data, 1)\n",
    "        n_samples += Y.size(0)\n",
    "        n_correct += (predicted == Y).sum().item()\n",
    "        print(Y, predicted)\n",
    "        \n",
    "\n",
    "\n",
    "    acc = 100.0 * n_correct / n_samples\n",
    "    print(f'Accuracy of the network on the {num_begin_test + num_exp_test} test images: {acc} %')\n",
    "\n"
   ]
  },
  {
   "cell_type": "code",
   "execution_count": 7,
   "metadata": {},
   "outputs": [
    {
     "data": {
      "image/png": "[encoded data removed]",
      "text/plain": [
       "<Figure size 432x288 with 1 Axes>"
      ]
     },
     "metadata": {
      "needs_background": "light"
     },
     "output_type": "display_data"
    },
    {
     "name": "stdout",
     "output_type": "stream",
     "text": [
      "Accuracy of the network on the 8 test images: 100.0 %\n",
      "tensor([0]) tensor([0]) tensor([[ 5.8444, -1.7973]])\n"
     ]
    }
   ],
   "source": [
    "plt.plot(iteration_list,loss_list)\n",
    "plt.xlabel(\"Number of iteration\")\n",
    "plt.ylabel(\"Loss\")\n",
    "plt.title(\"RNN: Loss vs Number of iteration\")\n",
    "plt.show()\n",
    "print(f'Accuracy of the network on the {num_begin_test + num_exp_test} test images: {acc} %')\n",
    "print(predicted, Y, output)\n",
    "# print(iteration_list)\n",
    "# # visualization accuracy \n",
    "# plt.plot(iteration_list,accuracy_list,color = \"red\")\n",
    "# plt.xlabel(\"Number of iteration\")\n",
    "# plt.ylabel(\"Accuracy\")\n",
    "# plt.title(\"RNN: Accuracy vs Number of iteration\")\n",
    "# plt.savefig('graph.png')\n",
    "# plt.show()"
   ]
  },
  {
   "cell_type": "code",
   "execution_count": 8,
   "metadata": {},
   "outputs": [
    {
     "name": "stdout",
     "output_type": "stream",
     "text": [
      "123\n",
      "<class 'int'>\n"
     ]
    }
   ],
   "source": [
    "food = 'bread'\n",
    "vars()['cat'] = 123\n",
    "print(cat)\n",
    "print(type(cat))"
   ]
  },
  {
   "cell_type": "code",
   "execution_count": 9,
   "metadata": {},
   "outputs": [
    {
     "name": "stdout",
     "output_type": "stream",
     "text": [
      "Empty DataFrame\n",
      "Columns: []\n",
      "Index: []\n"
     ]
    }
   ],
   "source": [
    "a = pd.DataFrame() \n",
    "print(a)"
   ]
  },
  {
   "cell_type": "code",
   "execution_count": 10,
   "metadata": {},
   "outputs": [
    {
     "data": {
      "text/plain": [
       "0     0.0\n",
       "1     1.0\n",
       "2     5.5\n",
       "3    10.0\n",
       "dtype: float64"
      ]
     },
     "execution_count": 10,
     "metadata": {},
     "output_type": "execute_result"
    }
   ],
   "source": [
    "s = pd.Series([0, 1, np.nan, 10])\n",
    "s.interpolate()"
   ]
  },
  {
   "cell_type": "code",
   "execution_count": null,
   "metadata": {},
   "outputs": [],
   "source": []
  },
  {
   "cell_type": "code",
   "execution_count": 11,
   "metadata": {},
   "outputs": [
    {
     "name": "stdout",
     "output_type": "stream",
     "text": [
      "bread\n"
     ]
    }
   ],
   "source": [
    "print(food)"
   ]
  },
  {
   "cell_type": "code",
   "execution_count": null,
   "metadata": {},
   "outputs": [],
   "source": []
  },
  {
   "cell_type": "code",
   "execution_count": 12,
   "metadata": {},
   "outputs": [
    {
     "ename": "NameError",
     "evalue": "name 'nan' is not defined",
     "output_type": "error",
     "traceback": [
      "\u001b[1;31m---------------------------------------------------------------------------\u001b[0m",
      "\u001b[1;31mNameError\u001b[0m                                 Traceback (most recent call last)",
      "\u001b[1;32m<ipython-input-12-2cfccdf8cd0c>\u001b[0m in \u001b[0;36m<module>\u001b[1;34m\u001b[0m\n\u001b[0;32m      1\u001b[0m \u001b[1;31m# print(x)\u001b[0m\u001b[1;33m\u001b[0m\u001b[1;33m\u001b[0m\u001b[1;33m\u001b[0m\u001b[0m\n\u001b[0;32m      2\u001b[0m \u001b[0mx\u001b[0m\u001b[1;33m.\u001b[0m\u001b[0mshape\u001b[0m\u001b[1;33m\u001b[0m\u001b[1;33m\u001b[0m\u001b[0m\n\u001b[1;32m----> 3\u001b[1;33m \u001b[0mnana\u001b[0m \u001b[1;33m=\u001b[0m \u001b[0mpd\u001b[0m\u001b[1;33m.\u001b[0m\u001b[0mDataFrame\u001b[0m\u001b[1;33m(\u001b[0m\u001b[0mnan\u001b[0m\u001b[1;33m,\u001b[0m\u001b[0mindex\u001b[0m\u001b[1;33m=\u001b[0m\u001b[0mrange\u001b[0m\u001b[1;33m(\u001b[0m\u001b[0mx\u001b[0m\u001b[1;33m.\u001b[0m\u001b[0mshape\u001b[0m\u001b[1;33m[\u001b[0m\u001b[1;36m1\u001b[0m\u001b[1;33m]\u001b[0m\u001b[1;33m)\u001b[0m\u001b[1;33m,\u001b[0m\u001b[0mcolumns\u001b[0m\u001b[1;33m=\u001b[0m\u001b[0mrange\u001b[0m\u001b[1;33m(\u001b[0m\u001b[0mx\u001b[0m\u001b[1;33m.\u001b[0m\u001b[0mshape\u001b[0m\u001b[1;33m[\u001b[0m\u001b[1;36m0\u001b[0m\u001b[1;33m]\u001b[0m\u001b[1;33m)\u001b[0m\u001b[1;33m)\u001b[0m\u001b[1;33m\u001b[0m\u001b[1;33m\u001b[0m\u001b[0m\n\u001b[0m\u001b[0;32m      4\u001b[0m \u001b[0mprint\u001b[0m\u001b[1;33m(\u001b[0m\u001b[0mx\u001b[0m\u001b[1;33m.\u001b[0m\u001b[0mshape\u001b[0m\u001b[1;33m)\u001b[0m\u001b[1;33m\u001b[0m\u001b[1;33m\u001b[0m\u001b[0m\n\u001b[0;32m      5\u001b[0m \u001b[0mprint\u001b[0m\u001b[1;33m(\u001b[0m\u001b[0mnan\u001b[0m\u001b[1;33m)\u001b[0m\u001b[1;33m\u001b[0m\u001b[1;33m\u001b[0m\u001b[0m\n",
      "\u001b[1;31mNameError\u001b[0m: name 'nan' is not defined"
     ]
    }
   ],
   "source": [
    "# print(x)\n",
    "x.shape\n",
    "nana = pd.DataFrame(nan,index=range(x.shape[1]),columns=range(x.shape[0]))\n",
    "print(x.shape)\n",
    "print(nan)"
   ]
  },
  {
   "cell_type": "code",
   "execution_count": null,
   "metadata": {},
   "outputs": [],
   "source": [
    "from sklearn.preprocessing import StandardScaler\n",
    "print(x['Distance'])\n",
    "scaler = StandardScaler()\n",
    "print(scaler.fit(x))\n",
    "print(scaler.mean_)\n",
    "# print(scaler.transform(x))\n",
    "x_normal = scaler.transform(x)\n",
    "print(x_normal)\n",
    "# print(x)\n",
    "# print(x['Distance'])\n",
    "print(type(x))\n",
    "print(type(x_normal))"
   ]
  },
  {
   "cell_type": "code",
   "execution_count": null,
   "metadata": {},
   "outputs": [],
   "source": [
    "# %reset -f\n",
    "print(gru.fc.weight,gru.fc.bias)"
   ]
  }
 ],
 "metadata": {
  "kernelspec": {
   "display_name": "Python 3",
   "language": "python",
   "name": "python3"
  },
  "language_info": {
   "codemirror_mode": {
    "name": "ipython",
    "version": 3
   },
   "file_extension": ".py",
   "mimetype": "text/x-python",
   "name": "python",
   "nbconvert_exporter": "python",
   "pygments_lexer": "ipython3",
   "version": "3.9.5"
  }
 },
 "nbformat": 4,
 "nbformat_minor": 4
}
