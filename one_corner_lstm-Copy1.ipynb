{
 "cells": [
  {
   "cell_type": "code",
   "execution_count": 1,
   "id": "93d24e5e",
   "metadata": {},
   "outputs": [],
   "source": [
    "import pandas as pd\n",
    "import numpy as np\n",
    "%matplotlib inline\n",
    "import matplotlib.pyplot as plt\n",
    "from os import listdir\n",
    "\n",
    "import tensorflow as tf\n",
    "\n",
    "from tensorflow.keras.preprocessing import sequence\n",
    "from tensorflow.keras.models import Sequential\n",
    "from tensorflow.keras.layers import Dense\n",
    "from tensorflow.keras.layers import LSTM\n",
    "from tensorflow.keras.layers import Dropout\n",
    "\n",
    "from tensorflow.keras.optimizers import Adam\n",
    "from tensorflow.keras.models import load_model\n",
    "from tensorflow.keras.callbacks import ModelCheckpoint"
   ]
  },
  {
   "cell_type": "code",
   "execution_count": null,
   "id": "7a422b68",
   "metadata": {},
   "outputs": [],
   "source": []
  },
  {
   "cell_type": "code",
   "execution_count": null,
   "id": "8d0fb720",
   "metadata": {},
   "outputs": [],
   "source": []
  },
  {
   "cell_type": "code",
   "execution_count": 2,
   "id": "0a28965d",
   "metadata": {},
   "outputs": [
    {
     "name": "stdout",
     "output_type": "stream",
     "text": [
      "beginner_expert_processedData/beginner/beginner_1_new2.csv\n",
      "beginner_expert_processedData/beginner/beginner_2_new2.csv\n",
      "beginner_expert_processedData/beginner/beginner_3_new2.csv\n",
      "beginner_expert_processedData/beginner/beginner_4_new2.csv\n",
      "beginner_expert_processedData/beginner/beginner_5_new2.csv\n",
      "beginner_expert_processedData/beginner/beginner_6_new2.csv\n",
      "beginner_expert_processedData/beginner/beginner_7_new2.csv\n",
      "beginner_expert_processedData/beginner/beginner_8_new2.csv\n",
      "beginner_expert_processedData/beginner/beginner_9_new2.csv\n",
      "beginner_expert_processedData/beginner/beginner_10_new2.csv\n",
      "beginner_expert_processedData/beginner/beginner_11_new2.csv\n",
      "beginner_expert_processedData/beginner/beginner_12_new2.csv\n",
      "beginner_expert_processedData/beginner/beginner_13_new2.csv\n",
      "beginner_expert_processedData/beginner/beginner_14_new2.csv\n",
      "beginner_expert_processedData/beginner/beginner_15_new2.csv\n",
      "beginner_expert_processedData/beginner/beginner_16_new2.csv\n",
      "beginner_expert_processedData/beginner/beginner_17_new2.csv\n",
      "beginner_expert_processedData/beginner/beginner_18_new2.csv\n",
      "beginner_expert_processedData/beginner/beginner_19_new2.csv\n",
      "beginner_expert_processedData/expert/expert_1_new2.csv\n",
      "beginner_expert_processedData/expert/expert_2_new2.csv\n",
      "beginner_expert_processedData/expert/expert_3_new2.csv\n",
      "beginner_expert_processedData/expert/expert_4_new2.csv\n",
      "beginner_expert_processedData/expert/expert_5_new2.csv\n",
      "beginner_expert_processedData/expert/expert_6_new2.csv\n",
      "beginner_expert_processedData/expert/expert_7_new2.csv\n",
      "beginner_expert_processedData/expert/expert_8_new2.csv\n",
      "beginner_expert_processedData/expert/expert_9_new2.csv\n",
      "beginner_expert_processedData/expert/expert_10_new2.csv\n",
      "beginner_expert_processedData/expert/expert_11_new2.csv\n",
      "beginner_expert_processedData/expert/expert_12_new2.csv\n",
      "beginner_expert_processedData/expert/expert_13_new2.csv\n",
      "beginner_expert_processedData/expert/expert_14_new2.csv\n",
      "beginner_expert_processedData/expert/expert_15_new2.csv\n",
      "beginner_expert_processedData/expert/expert_16_new2.csv\n",
      "beginner_expert_processedData/expert/expert_17_new2.csv\n",
      "beginner_expert_processedData/expert/expert_18_new2.csv\n",
      "beginner_expert_processedData/expert/expert_19_new2.csv\n"
     ]
    }
   ],
   "source": [
    "beginner_path = 'beginner_expert_processedData/beginner/beginner_'\n",
    "expert_path = 'beginner_expert_processedData/expert/expert_'\n",
    "left_column = [\n",
    "#'Time',\n",
    "    'Distance','GPS Latitude','GPS Longitude','Damper Velocity (Calc) FL','Damper Velocity (Calc) FR','Damper Velocity (Calc) RL',\n",
    "'Damper Velocity (Calc) RR','Corr Dist','Corr Dist (Unstretched)','Corr Speed','Brake Pos',\n",
    "'CG Accel Lateral','CG Accel Longitudinal','CG Accel Vertical','CG Height','Camber FL','Camber FR','Camber RL','Camber RR','Car Coord X',\n",
    "'Car Coord Y','Car Coord Z','Car Pos Norm','Chassis Pitch Angle','Chassis Pitch Rate','Chassis Roll Angle','Chassis Roll Rate',\n",
    "'Chassis Velocity X','Chassis Velocity Y','Chassis Velocity Z','Chassis Yaw Rate','Drive Train Speed','Engine RPM','Ground Speed',\n",
    "'Ride Height FL','Ride Height FR','Ride Height RL','Ride Height RR','Road Temp','Self Align Torque FL','Self Align Torque FR',\n",
    "'Self Align Torque RL','Self Align Torque RR','Session Time Left','Steering Angle','Suspension Travel FL','Suspension Travel FR',\n",
    "'Suspension Travel RL','Suspension Travel RR','Tire Load FL','Tire Load FR','Tire Load RL','Tire Load RR','Tire Loaded Radius FL',\n",
    "'Tire Loaded Radius FR','Tire Loaded Radius RL','Tire Loaded Radius RR','Tire Pressure FL','Tire Pressure FR','Tire Pressure RL','Tire Pressure RR',\n",
    "'Tire Rubber Grip FL','Tire Rubber Grip FR','Tire Rubber Grip RL','Tire Rubber Grip RR','Tire Slip Angle FL','Tire Slip Angle FR',\n",
    "'Tire Slip Angle RL','Tire Slip Angle RR','Tire Slip Ratio FL','Tire Slip Ratio FR','Tire Slip Ratio RL','Tire Slip Ratio RR',\n",
    "'Tire Temp Core FL','Tire Temp Core FR','Tire Temp Core RL','Tire Temp Core RR','Tire Temp Inner FL','Tire Temp Inner FR',\n",
    "'Tire Temp Inner RL','Tire Temp Inner RR','Tire Temp Middle FL','Tire Temp Middle FR','Tire Temp Middle RL',\n",
    "'Tire Temp Middle RR','Tire Temp Outer FL','Tire Temp Outer FR','Tire Temp Outer RL','Tire Temp Outer RR','Toe In FL',\n",
    "'Toe In FR','Toe In RL','Toe In RR','Wheel Angular Speed FL','Wheel Angular Speed FR','Wheel Angular Speed RL','Wheel Angular Speed RR',\n",
    "'CG Distance','Lateral Velocity','Longitudinal Velocity','Lateral Acceleration','Longitudinal Acceleration']\n",
    "\n",
    "curveList = [[103.9, 209.3], [316.6, 399.6], [425.3, 517.9], [590.5, 756.9], [1048.7, 1110.5], [1212.3, 1437.1]]\n",
    "curve_num = 0\n",
    "sequences = list()\n",
    "for i in range(1,20):\n",
    "    file_path = beginner_path + str(i) + '_new2.csv'\n",
    "    print(file_path)\n",
    "    df = pd.read_csv(file_path, header=0)\n",
    "    df = df.dropna()\n",
    "    df = df.astype(float)\n",
    "    df = df[(df['Distance'] >= curveList[curve_num][0]) & (df['Distance'] <= curveList[curve_num][1])]\n",
    "    df = df.loc[:,left_column]\n",
    "\n",
    "    values = df.values\n",
    "    sequences.append(values)\n",
    "    \n",
    "for i in range(1,20):\n",
    "    file_path = expert_path + str(i) + '_new2.csv'\n",
    "    print(file_path)\n",
    "    df = pd.read_csv(file_path, header=0)\n",
    "    df = df.dropna()\n",
    "    df = df.astype(float)\n",
    "    df = df[(df['Distance'] >= curveList[curve_num][0]) & (df['Distance'] <= curveList[curve_num][1])]\n",
    "    df = df.loc[:,left_column]\n",
    "\n",
    "    values = df.values\n",
    "    sequences.append(values)\n",
    "    "
   ]
  },
  {
   "cell_type": "code",
   "execution_count": 3,
   "id": "dfdb91bb",
   "metadata": {},
   "outputs": [
    {
     "name": "stdout",
     "output_type": "stream",
     "text": [
      "38\n",
      "(72, 102)\n"
     ]
    }
   ],
   "source": [
    "print(len(sequences))\n",
    "print(sequences[0].shape)"
   ]
  },
  {
   "cell_type": "code",
   "execution_count": 4,
   "id": "8a955ce4",
   "metadata": {},
   "outputs": [],
   "source": [
    "targets = pd.read_csv('target_19.csv')\n",
    "targets = targets.values[:,1]"
   ]
  },
  {
   "cell_type": "code",
   "execution_count": 5,
   "id": "6eee5c8b",
   "metadata": {},
   "outputs": [
    {
     "name": "stdout",
     "output_type": "stream",
     "text": [
      "[72, 71, 78, 91, 68, 69, 75, 84, 76, 79, 97, 102, 101, 89, 63, 74, 80, 69, 78, 68, 64, 64, 71, 68, 65, 66, 66, 67, 66, 72, 66, 67, 70, 68, 62, 68, 66, 72]\n"
     ]
    },
    {
     "data": {
      "text/plain": [
       "count     38.000000\n",
       "mean      73.473684\n",
       "std       10.376004\n",
       "min       62.000000\n",
       "25%       66.250000\n",
       "50%       69.500000\n",
       "75%       77.500000\n",
       "max      102.000000\n",
       "dtype: float64"
      ]
     },
     "execution_count": 5,
     "metadata": {},
     "output_type": "execute_result"
    }
   ],
   "source": [
    "len_sequences = []\n",
    "for one_seq in sequences:\n",
    "    len_sequences.append(len(one_seq))\n",
    "    \n",
    "print(len_sequences)\n",
    "pd.Series(len_sequences).describe()"
   ]
  },
  {
   "cell_type": "code",
   "execution_count": 6,
   "id": "8eb17bd2",
   "metadata": {},
   "outputs": [],
   "source": [
    "#Padding the sequence with the values in last row to max length\n",
    "to_pad = 120\n",
    "new_seq = []\n",
    "for one_seq in sequences:\n",
    "    len_one_seq = len(one_seq)\n",
    "    last_val = one_seq[-1]\n",
    "    n = to_pad - len_one_seq\n",
    "   \n",
    "    to_concat = np.repeat(one_seq[-1], n).reshape(102, n).transpose()\n",
    "    new_one_seq = np.concatenate([one_seq, to_concat])\n",
    "    new_seq.append(new_one_seq)\n",
    "final_seq = np.stack(new_seq)\n",
    "\n",
    "#truncate the sequence to length 60\n",
    "from tensorflow.keras.preprocessing import sequence\n",
    "seq_len = 60\n",
    "final_seq=sequence.pad_sequences(final_seq, maxlen=seq_len, padding='post', dtype='float', truncating='post')\n"
   ]
  },
  {
   "cell_type": "code",
   "execution_count": 7,
   "id": "3b2c57e7",
   "metadata": {},
   "outputs": [],
   "source": [
    "groups = pd.read_csv('group_19.csv', header=0)\n",
    "groups = groups.values[:,1]"
   ]
  },
  {
   "cell_type": "code",
   "execution_count": 8,
   "id": "48f10629",
   "metadata": {},
   "outputs": [
    {
     "data": {
      "text/plain": [
       "[array([[105.        ,  44.05372833, -78.6817109 , ...,  21.60610265,\n",
       "          -7.20203456,  46.81322263],\n",
       "        [106.7       ,  44.05371304, -78.68170802, ...,  23.0465095 ,\n",
       "         -10.80305098,  46.81322263],\n",
       "        [108.4       ,  44.05369866, -78.68170515, ...,  26.28742491,\n",
       "          18.00508554,  61.2172906 ],\n",
       "        ...,\n",
       "        [192.3       ,  44.05317426, -78.68121915, ..., 101.54868247,\n",
       "         -39.61118835,  25.20711953],\n",
       "        [193.7       ,  44.05317183, -78.68120611, ...,  98.66786876,\n",
       "         -54.01525661, -90.02542769],\n",
       "        [195.        ,  44.05316994, -78.68119451, ...,  92.5461397 ,\n",
       "         -50.41423934, -36.01017108]]),\n",
       " array([[105.3       ,  44.05371098, -78.68168095, ...,  35.65006938,\n",
       "         -90.02542797, -46.81322206],\n",
       "        [107.1       ,  44.05369551, -78.68167673, ...,  33.84956082,\n",
       "         -10.80305127, -21.60610253],\n",
       "        [108.9       ,  44.05367932, -78.6816725 , ...,  33.48945912,\n",
       "         -14.40406854, -14.40406854],\n",
       "        ...,\n",
       "        [178.1       ,  44.05324765, -78.68129856, ...,  94.70674995,\n",
       "         -50.41423934,  -7.20203399],\n",
       "        [179.4       ,  44.05324675, -78.68128669, ...,  92.9062414 ,\n",
       "         -50.41423934,  -3.60101699],\n",
       "        [180.7       ,  44.05324621, -78.68127536, ...,  94.34664825,\n",
       "         -43.21220563,  25.20712009]]),\n",
       " array([[104.3       ,  44.05374254, -78.68165595, ...,  33.84956082,\n",
       "          10.80305127,  -3.60101642],\n",
       "        [106.3       ,  44.05372411, -78.68165164, ...,  34.20966258,\n",
       "         -36.01017136,  -7.20203399],\n",
       "        [108.4       ,  44.05370594, -78.68164741, ...,  33.12935742,\n",
       "         -90.02542741, -10.80305212],\n",
       "        ...,\n",
       "        [176.4       ,  44.05323919, -78.68130738, ...,  61.57739253,\n",
       "         -43.21220506,  21.6061031 ],\n",
       "        [177.2       ,  44.05323883, -78.68129901, ...,  63.37790114,\n",
       "         -25.20711981, -14.40406798],\n",
       "        [178.1       ,  44.05323883, -78.68129155, ...,  60.13698573,\n",
       "          21.60610253, -10.80305155]]),\n",
       " array([[105.7       ,  44.05372896, -78.68166791, ...,  36.73037453,\n",
       "           3.60101699,  10.80305041],\n",
       "        [107.7       ,  44.05371251, -78.68166342, ...,  38.89098473,\n",
       "          79.22237614,  43.21220506],\n",
       "        [109.6       ,  44.05369407, -78.6816582 , ...,  41.05159504,\n",
       "         -79.22237671,  -7.20203342],\n",
       "        ...,\n",
       "        [203.2       ,  44.0531721 , -78.68111897, ...,  82.82339348,\n",
       "          32.40915408, -28.80813766],\n",
       "        [204.4       ,  44.05317408, -78.68110863, ...,  84.98400373,\n",
       "          54.0152569 ,  39.61118864],\n",
       "        [205.6       ,  44.05317642, -78.68109774, ...,  86.78451234,\n",
       "          50.41423934, -14.40406798]]),\n",
       " array([[105.3       ,  44.05370297, -78.68169831, ...,  52.21474806,\n",
       "          36.01017079,  39.61118864],\n",
       "        [107.4       ,  44.05368526, -78.68169157, ...,  54.01525667,\n",
       "         -46.81322234,  10.80305155],\n",
       "        [109.4       ,  44.0536679 , -78.68168482, ...,  53.29505322,\n",
       "         -82.82339342,   7.20203342],\n",
       "        ...,\n",
       "        [200.8       ,  44.0531632 , -78.68110962, ...,  99.38807216,\n",
       "          50.41423962,  -3.60101756],\n",
       "        [202.2       ,  44.05316617, -78.68109684, ...,  93.6264448 ,\n",
       "          25.20711953, -61.21729003],\n",
       "        [203.5       ,  44.05316878, -78.68108623, ...,  93.26634316,\n",
       "          54.01525661,  14.40406911]]),\n",
       " array([[ 1.05500000e+02,  4.40537151e+01, -7.86817105e+01, ...,\n",
       "          4.82536293e+01, -6.12172909e+01,  3.60101699e+00],\n",
       "        [ 1.07600000e+02,  4.40536975e+01, -7.86817046e+01, ...,\n",
       "          4.86137310e+01, -2.52071198e+01,  2.16061025e+01],\n",
       "        [ 1.09700000e+02,  4.40536792e+01, -7.86816983e+01, ...,\n",
       "          5.04142395e+01, -6.84193249e+01,  7.20203456e+00],\n",
       "        ...,\n",
       "        [ 2.00400000e+02,  4.40531612e+01, -7.86811413e+01, ...,\n",
       "          9.00254277e+01,  1.80050858e+01, -6.84193252e+01],\n",
       "        [ 2.01700000e+02,  4.40531616e+01, -7.86811309e+01, ...,\n",
       "          8.75047157e+01,  7.92223764e+01, -5.69023513e-07],\n",
       "        [ 2.03000000e+02,  4.40531625e+01, -7.86811194e+01, ...,\n",
       "          9.00254277e+01,  9.72274620e+01, -3.60101711e+01]]),\n",
       " array([[ 1.05000000e+02,  4.40537157e+01, -7.86817110e+01, ...,\n",
       "          4.46526121e+01, -9.36264453e+01, -5.69023584e-07],\n",
       "        [ 1.07000000e+02,  4.40536990e+01, -7.86817056e+01, ...,\n",
       "          4.53728155e+01, -1.44040683e+01,  3.60101711e+01],\n",
       "        [ 1.09000000e+02,  4.40536817e+01, -7.86816997e+01, ...,\n",
       "          4.82536293e+01, -6.12172906e+01,  2.52071201e+01],\n",
       "        ...,\n",
       "        [ 1.97400000e+02,  4.40531771e+01, -7.86811477e+01, ...,\n",
       "          1.06230005e+02, -4.68132223e+01, -1.80050855e+01],\n",
       "        [ 1.98800000e+02,  4.40531766e+01, -7.86811344e+01, ...,\n",
       "          1.03349191e+02, -4.32122053e+01, -2.88081371e+01],\n",
       "        [ 2.00300000e+02,  4.40531763e+01, -7.86811219e+01, ...,\n",
       "          1.03349191e+02, -1.80050855e+01,  3.60101699e+00]]),\n",
       " array([[105.9       ,  44.05370414, -78.6817073 , ...,  51.85464642,\n",
       "         -61.2172906 ,   7.20203456],\n",
       "        [108.1       ,  44.05368535, -78.68170083, ...,  51.13444296,\n",
       "         -72.02034215,  21.60610196],\n",
       "        [110.2       ,  44.05366817, -78.68169453, ...,  54.01525661,\n",
       "          14.40406826,  50.41423905],\n",
       "        ...,\n",
       "        [196.2       ,  44.05315627, -78.68116546, ...,  90.02542775,\n",
       "         -10.80305127, -18.00508497],\n",
       "        [197.4       ,  44.05315618, -78.68115422, ...,  86.06430894,\n",
       "          97.22746196, -36.01017165],\n",
       "        [198.6       ,  44.05315708, -78.68114397, ...,  86.42441058,\n",
       "         115.23254722,  -3.60101756]])]"
      ]
     },
     "execution_count": 8,
     "metadata": {},
     "output_type": "execute_result"
    }
   ],
   "source": [
    "train = [final_seq[i] for i in range(len(groups)) if (groups[i]==1)]\n",
    "validation = [final_seq[i] for i in range(len(groups)) if groups[i]==2]\n",
    "test = [final_seq[i] for i in range(len(groups)) if groups[i]==3]\n",
    "\n",
    "train_target = [targets[i] for i in range(len(groups)) if (groups[i]==1)]\n",
    "validation_target = [targets[i] for i in range(len(groups)) if groups[i]==2]\n",
    "test_target = [targets[i] for i in range(len(groups)) if groups[i]==3]\n",
    "\n",
    "# train\n",
    "test_target\n",
    "test"
   ]
  },
  {
   "cell_type": "code",
   "execution_count": 9,
   "id": "071529f1",
   "metadata": {},
   "outputs": [
    {
     "name": "stdout",
     "output_type": "stream",
     "text": [
      "(30, 60, 102)\n",
      "(30,)\n"
     ]
    }
   ],
   "source": [
    "train = np.array(train)\n",
    "validation = np.array(validation)\n",
    "test = np.array(test)\n",
    "\n",
    "train_target = np.array(train_target)\n",
    "validation_target = np.array(validation_target)\n",
    "test_target = np.array(test_target)\n",
    "\n",
    "print(train.shape)\n",
    "print(train_target.shape)"
   ]
  },
  {
   "cell_type": "code",
   "execution_count": 10,
   "id": "182c53c0",
   "metadata": {},
   "outputs": [],
   "source": [
    "model = Sequential()\n",
    "model.add(LSTM(256, input_shape=(seq_len, 102)))\n",
    "model.add(Dense(1, activation='sigmoid'))"
   ]
  },
  {
   "cell_type": "code",
   "execution_count": 11,
   "id": "3bc0d07d",
   "metadata": {},
   "outputs": [
    {
     "name": "stdout",
     "output_type": "stream",
     "text": [
      "Model: \"sequential\"\n",
      "_________________________________________________________________\n",
      "Layer (type)                 Output Shape              Param #   \n",
      "=================================================================\n",
      "lstm (LSTM)                  (None, 256)               367616    \n",
      "_________________________________________________________________\n",
      "dense (Dense)                (None, 1)                 257       \n",
      "=================================================================\n",
      "Total params: 367,873\n",
      "Trainable params: 367,873\n",
      "Non-trainable params: 0\n",
      "_________________________________________________________________\n"
     ]
    }
   ],
   "source": [
    "model.summary()"
   ]
  },
  {
   "cell_type": "code",
   "execution_count": 12,
   "id": "75ccc449",
   "metadata": {},
   "outputs": [
    {
     "name": "stdout",
     "output_type": "stream",
     "text": [
      "Epoch 1/50\n"
     ]
    },
    {
     "name": "stderr",
     "output_type": "stream",
     "text": [
      "c:\\users\\ssdkms\\appdata\\local\\programs\\python\\python39\\lib\\site-packages\\tensorflow\\python\\keras\\optimizer_v2\\optimizer_v2.py:374: UserWarning: The `lr` argument is deprecated, use `learning_rate` instead.\n",
      "  warnings.warn(\n"
     ]
    },
    {
     "name": "stdout",
     "output_type": "stream",
     "text": [
      "1/1 [==============================] - 1s 1s/step - loss: 0.8778 - accuracy: 0.3000\n",
      "WARNING:tensorflow:Can save best model only with val_acc available, skipping.\n",
      "Epoch 2/50\n",
      "1/1 [==============================] - 0s 97ms/step - loss: 0.7760 - accuracy: 0.4000\n",
      "WARNING:tensorflow:Can save best model only with val_acc available, skipping.\n",
      "Epoch 3/50\n",
      "1/1 [==============================] - 0s 97ms/step - loss: 0.6929 - accuracy: 0.6333\n",
      "WARNING:tensorflow:Can save best model only with val_acc available, skipping.\n",
      "Epoch 4/50\n",
      "1/1 [==============================] - 0s 95ms/step - loss: 0.6329 - accuracy: 0.7000\n",
      "WARNING:tensorflow:Can save best model only with val_acc available, skipping.\n",
      "Epoch 5/50\n",
      "1/1 [==============================] - 0s 95ms/step - loss: 0.6050 - accuracy: 0.7000\n",
      "WARNING:tensorflow:Can save best model only with val_acc available, skipping.\n",
      "Epoch 6/50\n",
      "1/1 [==============================] - 0s 93ms/step - loss: 0.5735 - accuracy: 0.8333\n",
      "WARNING:tensorflow:Can save best model only with val_acc available, skipping.\n",
      "Epoch 7/50\n",
      "1/1 [==============================] - 0s 93ms/step - loss: 0.5479 - accuracy: 0.8667\n",
      "WARNING:tensorflow:Can save best model only with val_acc available, skipping.\n",
      "Epoch 8/50\n",
      "1/1 [==============================] - 0s 96ms/step - loss: 0.5079 - accuracy: 0.8667\n",
      "WARNING:tensorflow:Can save best model only with val_acc available, skipping.\n",
      "Epoch 9/50\n",
      "1/1 [==============================] - 0s 97ms/step - loss: 0.4901 - accuracy: 0.8667\n",
      "WARNING:tensorflow:Can save best model only with val_acc available, skipping.\n",
      "Epoch 10/50\n",
      "1/1 [==============================] - 0s 95ms/step - loss: 0.4701 - accuracy: 0.8333\n",
      "WARNING:tensorflow:Can save best model only with val_acc available, skipping.\n",
      "Epoch 11/50\n",
      "1/1 [==============================] - 0s 93ms/step - loss: 0.4654 - accuracy: 0.8000\n",
      "WARNING:tensorflow:Can save best model only with val_acc available, skipping.\n",
      "Epoch 12/50\n",
      "1/1 [==============================] - 0s 93ms/step - loss: 0.4535 - accuracy: 0.8333\n",
      "WARNING:tensorflow:Can save best model only with val_acc available, skipping.\n",
      "Epoch 13/50\n",
      "1/1 [==============================] - 0s 96ms/step - loss: 0.4365 - accuracy: 0.8333\n",
      "WARNING:tensorflow:Can save best model only with val_acc available, skipping.\n",
      "Epoch 14/50\n",
      "1/1 [==============================] - 0s 96ms/step - loss: 0.4222 - accuracy: 0.8333\n",
      "WARNING:tensorflow:Can save best model only with val_acc available, skipping.\n",
      "Epoch 15/50\n",
      "1/1 [==============================] - 0s 95ms/step - loss: 0.4110 - accuracy: 0.8667\n",
      "WARNING:tensorflow:Can save best model only with val_acc available, skipping.\n",
      "Epoch 16/50\n",
      "1/1 [==============================] - 0s 96ms/step - loss: 0.3992 - accuracy: 0.9333\n",
      "WARNING:tensorflow:Can save best model only with val_acc available, skipping.\n",
      "Epoch 17/50\n",
      "1/1 [==============================] - 0s 93ms/step - loss: 0.3913 - accuracy: 0.9333\n",
      "WARNING:tensorflow:Can save best model only with val_acc available, skipping.\n",
      "Epoch 18/50\n",
      "1/1 [==============================] - 0s 94ms/step - loss: 0.3792 - accuracy: 0.9333\n",
      "WARNING:tensorflow:Can save best model only with val_acc available, skipping.\n",
      "Epoch 19/50\n",
      "1/1 [==============================] - 0s 96ms/step - loss: 0.3717 - accuracy: 0.9333\n",
      "WARNING:tensorflow:Can save best model only with val_acc available, skipping.\n",
      "Epoch 20/50\n",
      "1/1 [==============================] - 0s 94ms/step - loss: 0.3524 - accuracy: 0.9667\n",
      "WARNING:tensorflow:Can save best model only with val_acc available, skipping.\n",
      "Epoch 21/50\n",
      "1/1 [==============================] - 0s 94ms/step - loss: 0.3483 - accuracy: 0.9667\n",
      "WARNING:tensorflow:Can save best model only with val_acc available, skipping.\n",
      "Epoch 22/50\n",
      "1/1 [==============================] - 0s 95ms/step - loss: 0.3431 - accuracy: 0.9667\n",
      "WARNING:tensorflow:Can save best model only with val_acc available, skipping.\n",
      "Epoch 23/50\n",
      "1/1 [==============================] - 0s 95ms/step - loss: 0.3375 - accuracy: 0.9667\n",
      "WARNING:tensorflow:Can save best model only with val_acc available, skipping.\n",
      "Epoch 24/50\n",
      "1/1 [==============================] - 0s 95ms/step - loss: 0.3309 - accuracy: 0.9667\n",
      "WARNING:tensorflow:Can save best model only with val_acc available, skipping.\n",
      "Epoch 25/50\n",
      "1/1 [==============================] - 0s 95ms/step - loss: 0.3248 - accuracy: 0.9667\n",
      "WARNING:tensorflow:Can save best model only with val_acc available, skipping.\n",
      "Epoch 26/50\n",
      "1/1 [==============================] - 0s 96ms/step - loss: 0.3265 - accuracy: 0.9667\n",
      "WARNING:tensorflow:Can save best model only with val_acc available, skipping.\n",
      "Epoch 27/50\n",
      "1/1 [==============================] - 0s 95ms/step - loss: 0.3206 - accuracy: 0.9667\n",
      "WARNING:tensorflow:Can save best model only with val_acc available, skipping.\n",
      "Epoch 28/50\n",
      "1/1 [==============================] - 0s 93ms/step - loss: 0.3120 - accuracy: 0.9667\n",
      "WARNING:tensorflow:Can save best model only with val_acc available, skipping.\n",
      "Epoch 29/50\n",
      "1/1 [==============================] - 0s 95ms/step - loss: 0.3099 - accuracy: 0.9667\n",
      "WARNING:tensorflow:Can save best model only with val_acc available, skipping.\n",
      "Epoch 30/50\n",
      "1/1 [==============================] - 0s 93ms/step - loss: 0.3058 - accuracy: 0.9667\n",
      "WARNING:tensorflow:Can save best model only with val_acc available, skipping.\n",
      "Epoch 31/50\n",
      "1/1 [==============================] - 0s 94ms/step - loss: 0.2974 - accuracy: 0.9333\n",
      "WARNING:tensorflow:Can save best model only with val_acc available, skipping.\n",
      "Epoch 32/50\n",
      "1/1 [==============================] - 0s 96ms/step - loss: 0.2961 - accuracy: 0.9333\n",
      "WARNING:tensorflow:Can save best model only with val_acc available, skipping.\n",
      "Epoch 33/50\n",
      "1/1 [==============================] - 0s 97ms/step - loss: 0.2873 - accuracy: 0.9333\n",
      "WARNING:tensorflow:Can save best model only with val_acc available, skipping.\n",
      "Epoch 34/50\n",
      "1/1 [==============================] - 0s 98ms/step - loss: 0.2812 - accuracy: 0.9333\n",
      "WARNING:tensorflow:Can save best model only with val_acc available, skipping.\n",
      "Epoch 35/50\n",
      "1/1 [==============================] - 0s 95ms/step - loss: 0.2785 - accuracy: 0.9333\n",
      "WARNING:tensorflow:Can save best model only with val_acc available, skipping.\n",
      "Epoch 36/50\n",
      "1/1 [==============================] - 0s 96ms/step - loss: 0.2729 - accuracy: 0.9333\n",
      "WARNING:tensorflow:Can save best model only with val_acc available, skipping.\n",
      "Epoch 37/50\n",
      "1/1 [==============================] - 0s 96ms/step - loss: 0.2707 - accuracy: 0.9333\n",
      "WARNING:tensorflow:Can save best model only with val_acc available, skipping.\n",
      "Epoch 38/50\n",
      "1/1 [==============================] - 0s 95ms/step - loss: 0.2699 - accuracy: 0.9333\n",
      "WARNING:tensorflow:Can save best model only with val_acc available, skipping.\n",
      "Epoch 39/50\n",
      "1/1 [==============================] - 0s 95ms/step - loss: 0.2674 - accuracy: 0.9333\n",
      "WARNING:tensorflow:Can save best model only with val_acc available, skipping.\n",
      "Epoch 40/50\n",
      "1/1 [==============================] - 0s 93ms/step - loss: 0.2674 - accuracy: 0.9333\n",
      "WARNING:tensorflow:Can save best model only with val_acc available, skipping.\n",
      "Epoch 41/50\n",
      "1/1 [==============================] - 0s 96ms/step - loss: 0.2622 - accuracy: 0.9333\n",
      "WARNING:tensorflow:Can save best model only with val_acc available, skipping.\n",
      "Epoch 42/50\n",
      "1/1 [==============================] - 0s 94ms/step - loss: 0.2589 - accuracy: 0.9333\n",
      "WARNING:tensorflow:Can save best model only with val_acc available, skipping.\n",
      "Epoch 43/50\n",
      "1/1 [==============================] - 0s 96ms/step - loss: 0.2581 - accuracy: 0.9333\n",
      "WARNING:tensorflow:Can save best model only with val_acc available, skipping.\n",
      "Epoch 44/50\n",
      "1/1 [==============================] - 0s 95ms/step - loss: 0.2526 - accuracy: 0.9333\n",
      "WARNING:tensorflow:Can save best model only with val_acc available, skipping.\n",
      "Epoch 45/50\n",
      "1/1 [==============================] - 0s 95ms/step - loss: 0.2493 - accuracy: 0.9333\n",
      "WARNING:tensorflow:Can save best model only with val_acc available, skipping.\n",
      "Epoch 46/50\n",
      "1/1 [==============================] - 0s 95ms/step - loss: 0.2442 - accuracy: 0.9333\n",
      "WARNING:tensorflow:Can save best model only with val_acc available, skipping.\n",
      "Epoch 47/50\n",
      "1/1 [==============================] - 0s 94ms/step - loss: 0.2432 - accuracy: 0.9333\n",
      "WARNING:tensorflow:Can save best model only with val_acc available, skipping.\n"
     ]
    },
    {
     "name": "stdout",
     "output_type": "stream",
     "text": [
      "Epoch 48/50\n",
      "1/1 [==============================] - 0s 93ms/step - loss: 0.2344 - accuracy: 0.9667\n",
      "WARNING:tensorflow:Can save best model only with val_acc available, skipping.\n",
      "Epoch 49/50\n",
      "1/1 [==============================] - 0s 94ms/step - loss: 0.2329 - accuracy: 0.9667\n",
      "WARNING:tensorflow:Can save best model only with val_acc available, skipping.\n",
      "Epoch 50/50\n",
      "1/1 [==============================] - 0s 94ms/step - loss: 0.2296 - accuracy: 0.9667\n",
      "WARNING:tensorflow:Can save best model only with val_acc available, skipping.\n"
     ]
    },
    {
     "data": {
      "text/plain": [
       "<tensorflow.python.keras.callbacks.History at 0x1dcf2caca90>"
      ]
     },
     "execution_count": 12,
     "metadata": {},
     "output_type": "execute_result"
    }
   ],
   "source": [
    "adam = Adam(lr=0.001)\n",
    "chk = ModelCheckpoint('best_model.pkl', monitor='val_acc', save_best_only=True, mode='max', verbose=1)\n",
    "model.compile(loss='binary_crossentropy', optimizer=adam, metrics=['accuracy'])\n",
    "model.fit(train, train_target, epochs=50, batch_size=256, callbacks=[chk], validation_data=(validation,validation_target))"
   ]
  },
  {
   "cell_type": "code",
   "execution_count": 13,
   "id": "2355d39e",
   "metadata": {},
   "outputs": [
    {
     "name": "stdout",
     "output_type": "stream",
     "text": [
      "1/1 [==============================] - 0s 447ms/step - loss: 0.3998 - accuracy: 0.7500\n"
     ]
    },
    {
     "data": {
      "text/plain": [
       "[0.39976686239242554, 0.75]"
      ]
     },
     "execution_count": 13,
     "metadata": {},
     "output_type": "execute_result"
    }
   ],
   "source": [
    "model.evaluate(test,test_target)"
   ]
  }
 ],
 "metadata": {
  "kernelspec": {
   "display_name": "Python 3",
   "language": "python",
   "name": "python3"
  },
  "language_info": {
   "codemirror_mode": {
    "name": "ipython",
    "version": 3
   },
   "file_extension": ".py",
   "mimetype": "text/x-python",
   "name": "python",
   "nbconvert_exporter": "python",
   "pygments_lexer": "ipython3",
   "version": "3.9.5"
  }
 },
 "nbformat": 4,
 "nbformat_minor": 5
}
